{
 "cells": [
  {
   "cell_type": "markdown",
   "metadata": {},
   "source": [
    "# $$H=-\\underbrace{\\sum^{N-1}_{i}\\sum^{N}_{j>i} J_{ij}\\sigma^{z}_{i}\\sigma^{z}_{j}}_{H1}-\\underbrace{\\sum^{N}_{i}h_{i}\\sigma^{x}_{i}}_{H2}$$\n"
   ]
  },
  {
   "cell_type": "code",
   "execution_count": 3,
   "metadata": {},
   "outputs": [],
   "source": [
    "from matplotlib import pyplot as plt\n",
    "from qiskit.visualization import plot_histogram\n",
    "from matplotlib.patches import Rectangle\n",
    "import numpy as np\n",
    "import pandas as pd\n",
    "from qiskit import *\n",
    "from itertools import product\n",
    "import random\n",
    "from IPython.display import Image"
   ]
  },
  {
   "cell_type": "code",
   "execution_count": 4,
   "metadata": {},
   "outputs": [
    {
     "name": "stdout",
     "output_type": "stream",
     "text": [
      "h= [1, 1, 1, 1, 1, 1] \n",
      "J= [0.5, 0.5, 0.5, 0.5, 0.5, 0.5]\n"
     ]
    }
   ],
   "source": [
    "def couplings(N):\n",
    "    h , J = [], []\n",
    "    for i in range(N):\n",
    "        h.append(random.choice(range(1,2,2)))\n",
    "    for j in range(N):\n",
    "        J.append(random.choice(range(1,2,2))*0.5)\n",
    "    return h,J\n",
    "\n",
    "print(\"h=\",couplings(6)[0],\"\\nJ=\",couplings(6)[1])"
   ]
  },
  {
   "cell_type": "code",
   "execution_count": 5,
   "metadata": {
    "scrolled": true
   },
   "outputs": [
    {
     "name": "stdout",
     "output_type": "stream",
     "text": [
      "array([5.08084342, 3.84364422, 1.79510696, 0.86880722, 5.51228894,\n",
      "       5.35524914, 2.88233491, 1.7433246 , 4.21211053])\n"
     ]
    }
   ],
   "source": [
    "def param_trial(N):\n",
    "    return(2*np.pi*np.random.rand(N*3))\n",
    "print(repr(param_trial(3)))"
   ]
  },
  {
   "cell_type": "code",
   "execution_count": 6,
   "metadata": {},
   "outputs": [
    {
     "name": "stdout",
     "output_type": "stream",
     "text": [
      "param=[0.331147254481702, 4.878570158122327, 4.557537874402517, 0.331147254481702, 4.878570158122327, 4.557537874402517, 0.331147254481702, 4.878570158122327, 4.557537874402517, 1.9579623480729509, 3.4558253930469145, 5.954071829227232, 1.9579623480729509, 3.4558253930469145, 5.954071829227232, 1.9579623480729509, 3.4558253930469145, 5.954071829227232]\n",
      "\n"
     ]
    }
   ],
   "source": [
    "#If we want translational symmetry to be respected we have to apply the same angles \n",
    "#for every qubit\n",
    "def param_trial_new(N,layers):\n",
    "    param = []\n",
    "    for i in range(layers):\n",
    "        param1 = param_trial(1)\n",
    "        for j in range(N):\n",
    "            for k in range(len(param1)):\n",
    "                param.append(param1[k]) \n",
    "    return(param)\n",
    "print(\"param={}\\n\".format(param_trial_new(3,2)))"
   ]
  },
  {
   "cell_type": "code",
   "execution_count": 7,
   "metadata": {},
   "outputs": [],
   "source": [
    "def conv_qubitbook(counts):\n",
    "    N = len(str(list(counts.items())[0][0]))\n",
    "    #I did that so that I wont have to include another input to the function\n",
    "    qubitbook = counts\n",
    "    for i in qubit_list(N):\n",
    "        if i not in qubitbook.keys():\n",
    "            qubitbook[i] = 0\n",
    "    return qubitbook"
   ]
  },
  {
   "cell_type": "code",
   "execution_count": 8,
   "metadata": {},
   "outputs": [
    {
     "name": "stdout",
     "output_type": "stream",
     "text": [
      "['000', '001', '010', '011', '100', '101', '110', '111']\n"
     ]
    }
   ],
   "source": [
    "def qubit_list(Nqubit):\n",
    "    li = ['0', '1']\n",
    "    combs = [''.join(comb) for comb in product(li, repeat = Nqubit)]\n",
    "    return combs\n",
    "print(qubit_list(3))"
   ]
  },
  {
   "cell_type": "markdown",
   "metadata": {},
   "source": [
    "#  <center> <font color ='#4d4dff' size=\"10\"> Respecting traslation Symmetry"
   ]
  },
  {
   "cell_type": "code",
   "execution_count": 9,
   "metadata": {},
   "outputs": [],
   "source": [
    "# For Periodic Boundary Conditions:\n",
    "def circuit_PBC(N,param,layers):\n",
    "    qr = QuantumRegister(N)\n",
    "    cr = ClassicalRegister(N)\n",
    "    qc = QuantumCircuit(qr, cr)\n",
    "    #param4\n",
    "#   Momentum eigenstate\n",
    "#     qc.x(qr[0])\n",
    "#     [qc.cx(qr[i],qr[i+1]) for i in range(N-1)]\n",
    "#     qc.barrier()\n",
    "    for l in range(layers):\n",
    "        for i in range(N):\n",
    "            qc.rx(param[3*i+3*N*l],qr[i])\n",
    "            qc.ry(param[3*i+3*N*l+1],qr[i])\n",
    "            qc.rz(param[3*i+3*N*l+2],qr[i])\n",
    "        [qc.rzz(np.pi/3,qr[i],qr[i+1]) for i in range(N-1)]\n",
    "        if N!=1:\n",
    "            qc.rzz(np.pi/3,qr[N-1],qr[0])\n",
    "        qc.barrier()\n",
    "    qc.unitary\n",
    "    [qc.measure(qr[i], cr[i]) for i in range(N)]\n",
    "    return qc"
   ]
  },
  {
   "cell_type": "code",
   "execution_count": 10,
   "metadata": {},
   "outputs": [
    {
     "name": "stdout",
     "output_type": "stream",
     "text": [
      "param2=[2.1898214735695793, 4.29062674016246, 4.4583847425275245, 2.1898214735695793, 4.29062674016246, 4.4583847425275245]\n"
     ]
    },
    {
     "data": {
      "image/png": "[encoded data removed]",
      "text/plain": [
       "<Figure size 670.628x204.68 with 1 Axes>"
      ]
     },
     "execution_count": 10,
     "metadata": {},
     "output_type": "execute_result"
    }
   ],
   "source": [
    "N=2\n",
    "layers =1\n",
    "param1 = param_trial_new(N,layers)\n",
    "# param2 = [2.9, 6.09, 6.07,2.9, 6.09, 6.07, 2.9, 6.09, 6.07]\n",
    "qc_PBC = circuit_PBC(N,param1,layers)\n",
    "print(\"param2={}\".format(repr(param1)))\n",
    "qc_PBC.draw(output=\"mpl\")"
   ]
  },
  {
   "cell_type": "code",
   "execution_count": 11,
   "metadata": {},
   "outputs": [
    {
     "name": "stdout",
     "output_type": "stream",
     "text": [
      "counts: {'00': 33, '10': 29, '11': 9, '01': 29}\n",
      "new_counts: {'00': 33, '01': 29, '10': 29, '11': 9}\n",
      "qubit list: ['00', '01', '10', '11']\n"
     ]
    },
    {
     "data": {
      "image/png": "[encoded data removed]",
      "text/plain": [
       "<Figure size 504x360 with 1 Axes>"
      ]
     },
     "execution_count": 11,
     "metadata": {},
     "output_type": "execute_result"
    }
   ],
   "source": [
    "counts = execute(qc_PBC,Aer.get_backend('qasm_simulator'),shots = 100).result().get_counts()\n",
    "print(\"counts:\",counts)\n",
    "counts = conv_qubitbook(counts)\n",
    "counts = dict(sorted(counts.items()))\n",
    "print(\"new_counts:\",counts)\n",
    "print(\"qubit list:\",qubit_list(N))\n",
    "plot_histogram(conv_qubitbook(counts))"
   ]
  },
  {
   "cell_type": "code",
   "execution_count": 12,
   "metadata": {},
   "outputs": [],
   "source": [
    "# For Periodic Boundary Conditions:\n",
    "def compute_H1_PBC(N,NUM_SHOTS,param,J,layers):\n",
    "    H1=0\n",
    "    a=[]\n",
    "    qc = circuit_PBC(N,param,layers)\n",
    "    job = execute(qc,Aer.get_backend('qasm_simulator'),shots=NUM_SHOTS)\n",
    "    result = job.result()\n",
    "    counts = result.get_counts()\n",
    "    counts = conv_qubitbook(counts) \n",
    "    #adds the non-measured states to the list to complete the set of possible 2**N configurations\n",
    "    counts = dict(sorted(counts.items())) #sorts the dictionary of counts according to their key\n",
    "    [a.append([int(d) for d in str(list(counts)[i])]) for i in range(len(list(counts)))]\n",
    "    #now for the periodic boundary condition:\n",
    "    a.append(a[0])\n",
    "    #print(\"len(a):\",len(a))\n",
    "    shots = sum(counts.values())\n",
    "    P1 = [(i, c/shots) for i, c in counts.items()]\n",
    "    #print(\"probs:\",P1)\n",
    "    for i in range(N-1): #runs over the N-1 pairs of consecutive qubits\n",
    "        for j in range(2**N): #runs over the set of 2**N states\n",
    "            if a[j][i]==a[j][i+1]:\n",
    "                H1 += J[i]*P1[j][1]\n",
    "            if a[j][i]!=a[j][i+1]:\n",
    "                H1 -= J[i]*P1[j][1]\n",
    "            if i==N-2:\n",
    "                if a[j][N-2]==a[j][0]:\n",
    "                    H1 += J[i]*P1[j][1]\n",
    "                if a[j][N-2]!=a[j][0]:\n",
    "                    H1 -= J[i]*P1[j][1]\n",
    "#             print(\"state:'{}' (qubits:{} and {}) H1={}\".format(P[j][0],i,i+1,H1))\n",
    "    #print(\"H1 =\",H1)\n",
    "    return H1"
   ]
  },
  {
   "cell_type": "code",
   "execution_count": 13,
   "metadata": {},
   "outputs": [
    {
     "data": {
      "text/plain": [
       "-0.27779999999999994"
      ]
     },
     "execution_count": 13,
     "metadata": {},
     "output_type": "execute_result"
    }
   ],
   "source": [
    "NUM_SHOTS = 10000\n",
    "N=3\n",
    "layers = 2\n",
    "param = param_trial(N*layers)\n",
    "J = couplings(N)[1]\n",
    "compute_H1_PBC(N,NUM_SHOTS,param,J,layers)"
   ]
  },
  {
   "cell_type": "code",
   "execution_count": 14,
   "metadata": {},
   "outputs": [],
   "source": [
    "# For Periodic Boundary Conditions:\n",
    "def circuit2_PBC(N,param,layers):\n",
    "    qr = QuantumRegister(N)\n",
    "    cr = ClassicalRegister(N)\n",
    "    qc = QuantumCircuit(qr, cr)\n",
    "#   Momentum eigenstate\n",
    "#     qc.x(qr[0])\n",
    "#     [qc.cx(qr[i],qr[i+1]) for i in range(N-1)]\n",
    "#     qc.barrier()\n",
    "    for l in range(layers):\n",
    "        for i in range(N):\n",
    "            qc.rx(param[3*i+3*N*l],qr[i])\n",
    "            qc.ry(param[3*i+3*N*l+1],qr[i])\n",
    "            qc.rz(param[3*i+3*N*l+2],qr[i])\n",
    "        [qc.rzz(np.pi/3,qr[i],qr[i+1]) for i in range(N-1)]\n",
    "        if N!=1:\n",
    "            qc.rzz(np.pi/3,qr[N-1],qr[0])\n",
    "        qc.barrier()\n",
    "    [qc.h(qr[i]) for i in range(N)]\n",
    "    qc.barrier()\n",
    "    #qc.x(qr[1])\n",
    "    #qc.x(qr[2])\n",
    "    #qc.unitary\n",
    "    [qc.measure(qr[i], cr[i]) for i in range(N)]\n",
    "    return qc"
   ]
  },
  {
   "cell_type": "code",
   "execution_count": 15,
   "metadata": {
    "scrolled": true
   },
   "outputs": [
    {
     "data": {
      "image/png": "[encoded data removed]",
      "text/plain": [
       "<Figure size 911.428x264.88 with 1 Axes>"
      ]
     },
     "execution_count": 15,
     "metadata": {},
     "output_type": "execute_result"
    }
   ],
   "source": [
    "N=3\n",
    "layers=1\n",
    "param = param_trial(N*layers)\n",
    "qc2 = circuit2_PBC(N,param,layers)\n",
    "qc2.draw(output=\"mpl\")"
   ]
  },
  {
   "cell_type": "code",
   "execution_count": 16,
   "metadata": {},
   "outputs": [],
   "source": [
    "def compute_H2_PBC(N,NUM_SHOTS,param,h,layers):\n",
    "    a2 = []\n",
    "    H2 = 0\n",
    "    qc2 = circuit2_PBC(N,param,layers)\n",
    "    job2 = execute(qc2,Aer.get_backend('qasm_simulator'),shots=NUM_SHOTS)\n",
    "    result2 = job2.result()\n",
    "    counts2 = result2.get_counts()\n",
    "    counts2 = conv_qubitbook(counts2)\n",
    "    counts2 = dict(sorted(counts2.items())) #sorts the dictionary of counts according to their key\n",
    "    [a2.append([int(d) for d in str(list(counts2)[i])]) for i in range(len(list(counts2)))]\n",
    "    #print(\"counts after sorting:\",counts)\n",
    "    #split dictionary \"count\" keys into array elements\n",
    "    #To account for the case where a register gives only one qubit with probability 1 after all shots\n",
    "    shots2 = sum(counts2.values())\n",
    "    P2 = [(i, c/shots2) for i, c in counts2.items()]\n",
    "    #print(\"register[{}] a2={}\".format(register,a2))\n",
    "    #print(\"register[{}] P={}\".format(register,P2))\n",
    "    for i in range(N): #runs over the N qubits\n",
    "        for j in range(2**N): #runs over the set of 2**N states\n",
    "            if a2[j][i]==0:\n",
    "                H2 += h[i]*P2[j][1]\n",
    "            if a2[j][i]==1:\n",
    "                H2 -= h[i]*P2[j][1]\n",
    "    #print(\"H2 (i={},j={}):{}\".format(i,j,H2))\n",
    "    #print(\"H2 =\",H2)\n",
    "    return H2"
   ]
  },
  {
   "cell_type": "code",
   "execution_count": 17,
   "metadata": {},
   "outputs": [
    {
     "data": {
      "text/plain": [
       "-0.29151999999999756"
      ]
     },
     "execution_count": 17,
     "metadata": {},
     "output_type": "execute_result"
    }
   ],
   "source": [
    "NUM_SHOTS = 100000\n",
    "N=10\n",
    "layers = 2\n",
    "param = param_trial(N*layers)\n",
    "h = couplings(N)[0]\n",
    "compute_H2_PBC(N,NUM_SHOTS,param,h,layers)"
   ]
  },
  {
   "cell_type": "markdown",
   "metadata": {},
   "source": [
    "## <center> <font color ='#4d4d33' size=\"7\"> Noisy Case"
   ]
  },
  {
   "cell_type": "code",
   "execution_count": 18,
   "metadata": {},
   "outputs": [],
   "source": [
    "from qiskit.providers.aer.noise import NoiseModel\n",
    "from qiskit.providers.aer.noise.errors import pauli_error, depolarizing_error\n",
    "# a simple noise model, which randomly flips each bit in an output with probability 𝑝.\n",
    "def get_noise(p):\n",
    "    error_meas = pauli_error([('X',p), ('I', 1 - p)])\n",
    "    noise_model = NoiseModel()\n",
    "    noise_model.add_all_qubit_quantum_error(error_meas, \"measure\") # measurement error is applied to measurements\n",
    "    return noise_model"
   ]
  },
  {
   "cell_type": "markdown",
   "metadata": {},
   "source": [
    "# Lets try it:"
   ]
  },
  {
   "cell_type": "code",
   "execution_count": 19,
   "metadata": {},
   "outputs": [
    {
     "name": "stdout",
     "output_type": "stream",
     "text": [
      "         ┌─┐   \n",
      "q4_0: |0>┤M├───\n",
      "         └╥┘┌─┐\n",
      "q4_1: |0>─╫─┤M├\n",
      "          ║ └╥┘\n",
      " c4_0: 0 ═╩══╬═\n",
      "             ║ \n",
      " c4_1: 0 ════╩═\n",
      "               \n",
      "shorted_mitigated_counts:{'00': 10000, '01': 0, '10': 0, '11': 0}\n",
      "shorted_noisy_counts:{'00': 2454, '01': 2532, '10': 2484, '11': 2530}\n"
     ]
    },
    {
     "data": {
      "image/png": "[encoded data removed]",
      "text/plain": [
       "<Figure size 504x360 with 1 Axes>"
      ]
     },
     "execution_count": 19,
     "metadata": {},
     "output_type": "execute_result"
    }
   ],
   "source": [
    "def simple_circuit(N):\n",
    "    qr = QuantumRegister(N)\n",
    "    cr = ClassicalRegister(N)\n",
    "    qc = QuantumCircuit(qr, cr)\n",
    "    [qc.measure(qr[i], cr[i]) for i in range(N)]\n",
    "    return qc\n",
    "N=2\n",
    "qc = simple_circuit(N)\n",
    "print(qc)\n",
    "noise_model = get_noise(0.5)\n",
    "from qiskit.ignis.mitigation.measurement import (complete_meas_cal,CompleteMeasFitter)\n",
    "mitigated_counts = execute(qc,Aer.get_backend('qasm_simulator'),shots = 10000).result().get_counts()\n",
    "noisy_counts = execute(qc,Aer.get_backend('qasm_simulator'),shots = 10000, noise_model=noise_model).result().get_counts()\n",
    "mitigated_counts = conv_qubitbook(mitigated_counts)\n",
    "mitigated_counts = dict(sorted(mitigated_counts.items()))\n",
    "noisy_counts = conv_qubitbook(noisy_counts)\n",
    "noisy_counts = dict(sorted(noisy_counts.items()))\n",
    "print(\"shorted_mitigated_counts:{}\\nshorted_noisy_counts:{}\".format(mitigated_counts,noisy_counts))\n",
    "plot_histogram([noisy_counts, mitigated_counts], legend=['noisy', 'mitigated'])"
   ]
  },
  {
   "cell_type": "markdown",
   "metadata": {},
   "source": [
    "# And for the circuit of interest:"
   ]
  },
  {
   "cell_type": "code",
   "execution_count": 35,
   "metadata": {
    "scrolled": true
   },
   "outputs": [
    {
     "name": "stdout",
     "output_type": "stream",
     "text": [
      "         ┌─────────┐┌──────────┐┌──────────┐                       ░ ┌─┐   \n",
      "q5_0: |0>┤ Rx(2.9) ├┤ Ry(6.09) ├┤ Rz(6.07) ├─■──────────■──────────░─┤M├───\n",
      "         ├─────────┤├──────────┤├──────────┤ │zz(pi/3)  │zz(pi/3)  ░ └╥┘┌─┐\n",
      "q5_1: |0>┤ Rx(2.9) ├┤ Ry(6.09) ├┤ Rz(6.07) ├─■──────────■──────────░──╫─┤M├\n",
      "         └─────────┘└──────────┘└──────────┘                       ░  ║ └╥┘\n",
      " c5_0: 0 ═════════════════════════════════════════════════════════════╩══╬═\n",
      "                                                                         ║ \n",
      " c5_1: 0 ════════════════════════════════════════════════════════════════╩═\n",
      "                                                                           \n",
      "shorted_mitigated_counts:{'00': 6, '01': 232, '10': 224, '11': 9538}\n",
      "shorted_noisy_counts:{'00': 2431, '01': 2493, '10': 2555, '11': 2521}\n"
     ]
    },
    {
     "data": {
      "image/png": "[encoded data removed]",
      "text/plain": [
       "<Figure size 504x360 with 1 Axes>"
      ]
     },
     "execution_count": 35,
     "metadata": {},
     "output_type": "execute_result"
    }
   ],
   "source": [
    "def trial_circuit(N,param,layers):\n",
    "    qr = QuantumRegister(N)\n",
    "    cr = ClassicalRegister(N)\n",
    "    qc = QuantumCircuit(qr, cr)\n",
    "    #   Momentum eigenstate\n",
    "    # qc.x(qr[0])\n",
    "    # [qc.cx(qr[i],qr[i+1]) for i in range(N-1)]\n",
    "    #qc.barrier()\n",
    "    for l in range(layers):\n",
    "        for i in range(N):\n",
    "            qc.rx(param[3*i+3*N*l],qr[i])\n",
    "            qc.ry(param[3*i+3*N*l+1],qr[i])\n",
    "            qc.rz(param[3*i+3*N*l+2],qr[i])    \n",
    "        [qc.rzz(np.pi/3,qr[i],qr[i+1]) for i in range(N-1)]\n",
    "        if N!=1:\n",
    "            qc.rzz(np.pi/3,qr[N-1],qr[0])\n",
    "        qc.barrier()\n",
    "        [qc.measure(qr[i], cr[i]) for i in range(N)]\n",
    "    return qc\n",
    "\n",
    "# qc.barrier()\n",
    "#qc.x(qr[1])\n",
    "#qc.x(qr[2])\n",
    "#qc.unitary\n",
    "\n",
    "N=2\n",
    "layers = 1\n",
    "# param = param_trial_new(N,layers)\n",
    "param = [2.9, 6.09, 6.07,2.9, 6.09, 6.07, 2.9, 6.09, 6.07]\n",
    "qc = trial_circuit(N,param,layers)\n",
    "print(qc)\n",
    "\n",
    "from qiskit.ignis.mitigation.measurement import (complete_meas_cal,CompleteMeasFitter)\n",
    "\n",
    "mitigated_counts = execute(qc,Aer.get_backend('qasm_simulator'),shots = 10000).result().get_counts()\n",
    "noisy_counts = execute(qc,Aer.get_backend('qasm_simulator'),shots = 10000, noise_model=noise_model).result().get_counts()\n",
    "mitigated_counts = conv_qubitbook(mitigated_counts)\n",
    "mitigated_counts = dict(sorted(mitigated_counts.items()))\n",
    "noisy_counts = conv_qubitbook(noisy_counts)\n",
    "noisy_counts = dict(sorted(noisy_counts.items()))\n",
    "print(\"shorted_mitigated_counts:{}\\nshorted_noisy_counts:{}\".format(mitigated_counts,noisy_counts))\n",
    "plot_histogram([noisy_counts, mitigated_counts], legend=['noisy', 'mitigated'])"
   ]
  },
  {
   "cell_type": "code",
   "execution_count": 36,
   "metadata": {},
   "outputs": [],
   "source": [
    "# For Periodic Boundary Conditions:\n",
    "def compute_H1_PBC_noisy(N,NUM_SHOTS,param,J,layers):\n",
    "    H1=0\n",
    "    a=[]\n",
    "    qc = circuit_PBC(N,param,layers)\n",
    "    job = execute(qc,Aer.get_backend('qasm_simulator'),shots=NUM_SHOTS)\n",
    "    job_noisy = execute(qc,Aer.get_backend('qasm_simulator'),shots=NUM_SHOTS, noise_model=noise_model)\n",
    "    noisy_results = job.result()\n",
    "    noisy_counts = noisy_results.get_counts()\n",
    "    noisy_counts = conv_qubitbook(noisy_counts) \n",
    "    #adds the non-measured states to the list to complete the set of possible 2**N configurations\n",
    "    noisy_counts = dict(sorted(noisy_counts.items())) #sorts the dictionary of counts according to their key\n",
    "    [a.append([int(d) for d in str(list(noisy_counts)[i])]) for i in range(len(list(noisy_counts)))]\n",
    "    #now for the periodic boundary condition:\n",
    "    a.append(a[0])\n",
    "    #print(\"len(a):\",len(a))\n",
    "    shots = sum(noisy_counts.values())\n",
    "    P1 = [(i, c/shots) for i, c in noisy_counts.items()]\n",
    "    #print(\"probs:\",P1)\n",
    "    for i in range(N-1): #runs over the N-1 pairs of consecutive qubits\n",
    "        for j in range(2**N): #runs over the set of 2**N states\n",
    "            if a[j][i]==a[j][i+1]:\n",
    "                H1 += J[i]*P1[j][1]\n",
    "            if a[j][i]!=a[j][i+1]:\n",
    "                H1 -= J[i]*P1[j][1]\n",
    "            if i==N-2:\n",
    "                if a[j][N-2]==a[j][0]:\n",
    "                    H1 += J[i]*P1[j][1]\n",
    "                if a[j][N-2]!=a[j][0]:\n",
    "                    H1 -= J[i]*P1[j][1]\n",
    "#             print(\"state:'{}' (qubits:{} and {}) H1={}\".format(P[j][0],i,i+1,H1))\n",
    "    #print(\"H1 =\",H1)\n",
    "    return H1"
   ]
  },
  {
   "cell_type": "code",
   "execution_count": 37,
   "metadata": {},
   "outputs": [],
   "source": [
    "def compute_H2_PBC_noisy(N,NUM_SHOTS,param,h,layers):\n",
    "    a2 = []\n",
    "    H2 = 0\n",
    "    qc2 = circuit2_PBC(N,param,layers)#,param4\n",
    "    job2 = execute(qc2,Aer.get_backend('qasm_simulator'),shots=NUM_SHOTS,noise_model=noise_model)\n",
    "    noisy_result2 = job2.result()\n",
    "    noisy_counts2 = noisy_result2.get_counts()\n",
    "    noisy_counts2 = conv_qubitbook(noisy_counts2)\n",
    "    noisy_counts2 = dict(sorted(noisy_counts2.items())) #sorts the dictionary of counts according to their key\n",
    "    [a2.append([int(d) for d in str(list(noisy_counts2)[i])]) for i in range(len(list(noisy_counts2)))]\n",
    "    #print(\"counts after sorting:\",counts)\n",
    "    #split dictionary \"count\" keys into array elements\n",
    "    #To account for the case where a register gives only one qubit with probability 1 after all shots\n",
    "    shots2 = sum(noisy_counts2.values())\n",
    "    P2 = [(i, c/shots2) for i, c in noisy_counts2.items()]\n",
    "    #print(\"register[{}] a2={}\".format(register,a2))\n",
    "    #print(\"register[{}] P={}\".format(register,P2))\n",
    "    for i in range(N): #runs over the N qubits\n",
    "        for j in range(2**N): #runs over the set of 2**N states\n",
    "            if a2[j][i]==0:\n",
    "                H2 += h[i]*P2[j][1]\n",
    "            if a2[j][i]==1:\n",
    "                H2 -= h[i]*P2[j][1]\n",
    "    #print(\"H2 (i={},j={}):{}\".format(i,j,H2))\n",
    "    #print(\"H2 =\",H2)\n",
    "    return H2"
   ]
  },
  {
   "cell_type": "markdown",
   "metadata": {},
   "source": [
    "#  <center> <font color ='#4d4d33' size=\"7\"> Lets combine these, to compute the expectation value $<\\psi|H|\\psi>$"
   ]
  },
  {
   "cell_type": "code",
   "execution_count": 38,
   "metadata": {},
   "outputs": [],
   "source": [
    "noise_model = get_noise(0.5)"
   ]
  },
  {
   "cell_type": "code",
   "execution_count": 84,
   "metadata": {},
   "outputs": [],
   "source": [
    "def expval_ising_PBC(param):\n",
    "    NUM_SHOTS = 10000\n",
    "    energy = 0\n",
    "    H1 = 0\n",
    "    H2 = 0\n",
    "    a  = []\n",
    "    a2 = []\n",
    "    N  = 10\n",
    "    layers = 1\n",
    "    h  = couplings(N)[0]\n",
    "    J  = couplings(N)[1]\n",
    "    H1 = compute_H1_PBC(N,NUM_SHOTS,param,J,layers)\n",
    "    H2 = compute_H2_PBC(N,NUM_SHOTS,param,h,layers)\n",
    "    energy = -H1-H2\n",
    "    print(\"H  = -H1-H2 = \",energy)\n",
    "    return energy"
   ]
  },
  {
   "cell_type": "code",
   "execution_count": 89,
   "metadata": {},
   "outputs": [
    {
     "name": "stdout",
     "output_type": "stream",
     "text": [
      "param=[3.8665749882921077, 5.633220442084248, 2.5365228383128464, 3.8665749882921077, 5.633220442084248, 2.5365228383128464, 3.8665749882921077, 5.633220442084248, 2.5365228383128464, 3.8665749882921077, 5.633220442084248, 2.5365228383128464, 3.8665749882921077, 5.633220442084248, 2.5365228383128464, 3.8665749882921077, 5.633220442084248, 2.5365228383128464, 3.8665749882921077, 5.633220442084248, 2.5365228383128464, 3.8665749882921077, 5.633220442084248, 2.5365228383128464, 3.8665749882921077, 5.633220442084248, 2.5365228383128464, 3.8665749882921077, 5.633220442084248, 2.5365228383128464]\n"
     ]
    }
   ],
   "source": [
    "N=10\n",
    "layers=1\n",
    "random.seed()\n",
    "param = param_trial_new(N,layers)\n",
    "# param = \n",
    "print(\"param={}\".format(param))"
   ]
  },
  {
   "cell_type": "code",
   "execution_count": 90,
   "metadata": {
    "scrolled": true
   },
   "outputs": [
    {
     "name": "stdout",
     "output_type": "stream",
     "text": [
      "H  = -H1-H2 =  -0.40139999999998643\n",
      "H  = -H1-H2 =  0.3794000000000093\n",
      "H  = -H1-H2 =  -0.17119999999998803\n",
      "H  = -H1-H2 =  -0.14499999999998736\n",
      "H  = -H1-H2 =  0.8839000000000012\n",
      "H  = -H1-H2 =  -0.32529999999998194\n",
      "H  = -H1-H2 =  -0.14479999999998938\n",
      "H  = -H1-H2 =  0.7343000000000053\n",
      "H  = -H1-H2 =  -0.29049999999999465\n",
      "H  = -H1-H2 =  -0.21249999999999902\n",
      "H  = -H1-H2 =  0.6217999999999999\n",
      "H  = -H1-H2 =  -0.294399999999984\n",
      "H  = -H1-H2 =  -0.1823999999999879\n",
      "H  = -H1-H2 =  0.7057000000000075\n",
      "H  = -H1-H2 =  -0.36209999999998654\n",
      "H  = -H1-H2 =  -0.19029999999997882\n",
      "H  = -H1-H2 =  0.5484000000000091\n",
      "H  = -H1-H2 =  -0.301499999999985\n",
      "H  = -H1-H2 =  -0.19009999999998328\n",
      "H  = -H1-H2 =  0.5366000000000197\n",
      "H  = -H1-H2 =  -0.2928999999999955\n",
      "H  = -H1-H2 =  -0.20089999999997787\n",
      "H  = -H1-H2 =  0.6595000000000164\n",
      "H  = -H1-H2 =  -0.36499999999998467\n",
      "H  = -H1-H2 =  -0.16519999999998536\n",
      "H  = -H1-H2 =  0.6725000000000128\n",
      "H  = -H1-H2 =  -0.2863999999999818\n",
      "H  = -H1-H2 =  -0.18379999999999308\n",
      "H  = -H1-H2 =  0.7120000000000117\n",
      "H  = -H1-H2 =  -0.284399999999988\n",
      "H  = -H1-H2 =  -0.1351999999999829\n",
      "H  = -H1-H2 =  -3.6011999999999924\n",
      "H  = -H1-H2 =  -6.1037999999999775\n",
      "H  = -H1-H2 =  -6.310199999999969\n",
      "H  = -H1-H2 =  -6.02069999999999\n",
      "H  = -H1-H2 =  -5.71679999999996\n",
      "H  = -H1-H2 =  -6.084499999999968\n",
      "H  = -H1-H2 =  -5.564799999999975\n",
      "H  = -H1-H2 =  -6.116699999999957\n",
      "H  = -H1-H2 =  -5.4450999999999805\n",
      "H  = -H1-H2 =  -6.047899999999968\n",
      "H  = -H1-H2 =  -5.3136999999999635\n",
      "H  = -H1-H2 =  -6.092999999999961\n",
      "H  = -H1-H2 =  -5.655199999999974\n",
      "H  = -H1-H2 =  -6.498899999999971\n",
      "H  = -H1-H2 =  -6.20089999999998\n",
      "H  = -H1-H2 =  -6.163599999999976\n",
      "H  = -H1-H2 =  -6.364899999999991\n",
      "H  = -H1-H2 =  -6.37309999999998\n",
      "H  = -H1-H2 =  -6.091399999999966\n",
      "H  = -H1-H2 =  -6.311599999999981\n",
      "H  = -H1-H2 =  -6.04369999999996\n",
      "H  = -H1-H2 =  -6.34389999999995\n",
      "H  = -H1-H2 =  -5.932499999999971\n",
      "H  = -H1-H2 =  -6.297899999999979\n",
      "H  = -H1-H2 =  -6.226699999999976\n",
      "H  = -H1-H2 =  -6.2541999999999796\n",
      "H  = -H1-H2 =  -6.661799999999994\n",
      "H  = -H1-H2 =  -6.475699999999961\n",
      "H  = -H1-H2 =  -6.556999999999988\n",
      "H  = -H1-H2 =  -6.385499999999977\n",
      "H  = -H1-H2 =  -6.937899999999974\n",
      "H  = -H1-H2 =  -7.011599999999982\n",
      "H  = -H1-H2 =  -5.477199999999999\n",
      "H  = -H1-H2 =  -6.877699999999976\n",
      "H  = -H1-H2 =  -6.366099999999982\n",
      "H  = -H1-H2 =  -6.825199999999968\n",
      "H  = -H1-H2 =  -6.6700999999999855\n",
      "H  = -H1-H2 =  -6.898599999999972\n",
      "H  = -H1-H2 =  -6.948099999999995\n",
      "H  = -H1-H2 =  -6.803599999999982\n",
      "H  = -H1-H2 =  -6.895499999999972\n",
      "H  = -H1-H2 =  -7.195999999999982\n",
      "H  = -H1-H2 =  -7.158299999999967\n",
      "H  = -H1-H2 =  -7.1280999999999635\n",
      "H  = -H1-H2 =  -6.948099999999975\n",
      "H  = -H1-H2 =  -7.327199999999964\n",
      "H  = -H1-H2 =  -7.263899999999973\n",
      "H  = -H1-H2 =  -7.004099999999975\n",
      "H  = -H1-H2 =  -7.309999999999977\n",
      "H  = -H1-H2 =  -7.346199999999964\n",
      "H  = -H1-H2 =  -7.212999999999995\n",
      "H  = -H1-H2 =  -7.245099999999987\n",
      "H  = -H1-H2 =  -7.212199999999976\n",
      "H  = -H1-H2 =  -7.34909999999996\n",
      "H  = -H1-H2 =  -7.423999999999971\n",
      "H  = -H1-H2 =  -7.467299999999973\n",
      "H  = -H1-H2 =  -7.44349999999997\n",
      "H  = -H1-H2 =  -7.50019999999999\n",
      "H  = -H1-H2 =  -7.504999999999984\n",
      "H  = -H1-H2 =  -7.544199999999957\n",
      "H  = -H1-H2 =  -7.552499999999968\n",
      "H  = -H1-H2 =  -7.249799999999963\n",
      "H  = -H1-H2 =  -7.34939999999998\n",
      "H  = -H1-H2 =  -7.622999999999994\n",
      "H  = -H1-H2 =  -7.591499999999963\n",
      "H  = -H1-H2 =  -7.333399999999976\n",
      "H  = -H1-H2 =  -7.65399999999998\n",
      "H  = -H1-H2 =  -7.562499999999989\n",
      "H  = -H1-H2 =  -7.598199999999975\n",
      "H  = -H1-H2 =  -7.421099999999976\n",
      "H  = -H1-H2 =  -7.524399999999982\n",
      "H  = -H1-H2 =  -7.5260999999999685\n",
      "H  = -H1-H2 =  -7.621599999999982\n",
      "H  = -H1-H2 =  -7.590899999999978\n",
      "H  = -H1-H2 =  -7.617099999999985\n",
      "H  = -H1-H2 =  -7.6428999999999645\n",
      "H  = -H1-H2 =  -7.6319999999999855\n",
      "H  = -H1-H2 =  -7.554599999999969\n",
      "H  = -H1-H2 =  -7.6020999999999646\n",
      "H  = -H1-H2 =  -7.511399999999988\n",
      "H  = -H1-H2 =  -7.627899999999994\n",
      "H  = -H1-H2 =  -7.602899999999973\n",
      "H  = -H1-H2 =  -7.652999999999975\n",
      "H  = -H1-H2 =  -7.663900000000005\n",
      "H  = -H1-H2 =  -7.656699999999997\n",
      "H  = -H1-H2 =  -7.577599999999974\n",
      "H  = -H1-H2 =  -7.672899999999983\n",
      "H  = -H1-H2 =  -7.6913999999999945\n",
      "H  = -H1-H2 =  -7.6372999999999855\n",
      "H  = -H1-H2 =  -7.458799999999977\n",
      "H  = -H1-H2 =  -7.637899999999987\n",
      "H  = -H1-H2 =  -7.4484999999999735\n",
      "H  = -H1-H2 =  -7.566099999999976\n",
      "H  = -H1-H2 =  -7.436499999999992\n",
      "H  = -H1-H2 =  -7.631699999999979\n",
      "H  = -H1-H2 =  -7.547299999999998\n",
      "H  = -H1-H2 =  -7.7182999999999895\n",
      "H  = -H1-H2 =  -7.640699999999997\n",
      "H  = -H1-H2 =  -7.67929999999998\n",
      "H  = -H1-H2 =  -7.686599999999988\n",
      "H  = -H1-H2 =  -7.686999999999989\n",
      "H  = -H1-H2 =  -7.6577999999999795\n",
      "H  = -H1-H2 =  -7.602900000000009\n",
      "H  = -H1-H2 =  -7.680599999999989\n",
      "H  = -H1-H2 =  -7.703599999999978\n",
      "H  = -H1-H2 =  -7.658599999999976\n",
      "H  = -H1-H2 =  -7.680599999999977\n",
      "H  = -H1-H2 =  -7.707199999999988\n",
      "H  = -H1-H2 =  -7.653699999999985\n",
      "H  = -H1-H2 =  -7.666799999999981\n",
      "H  = -H1-H2 =  -7.6399999999999775\n",
      "H  = -H1-H2 =  -7.683399999999989\n",
      "H  = -H1-H2 =  -7.589199999999981\n",
      "H  = -H1-H2 =  -7.625199999999976\n",
      "H  = -H1-H2 =  -7.663499999999971\n",
      "H  = -H1-H2 =  -7.697099999999981\n",
      "H  = -H1-H2 =  -7.706299999999991\n",
      "H  = -H1-H2 =  -7.668699999999982\n",
      "H  = -H1-H2 =  -7.642599999999989\n",
      "H  = -H1-H2 =  -7.639299999999972\n",
      "H  = -H1-H2 =  -7.668299999999988\n",
      "H  = -H1-H2 =  -7.683699999999975\n",
      "H  = -H1-H2 =  -7.668999999999984\n",
      "H  = -H1-H2 =  -7.647899999999987\n",
      "H  = -H1-H2 =  -7.621799999999975\n",
      "H  = -H1-H2 =  -7.675599999999979\n",
      "H  = -H1-H2 =  -7.713799999999974\n",
      "H  = -H1-H2 =  -7.7189999999999825\n",
      "H  = -H1-H2 =  -7.6839999999999815\n",
      "H  = -H1-H2 =  -7.675699999999983\n",
      "H  = -H1-H2 =  -7.644499999999969\n",
      "H  = -H1-H2 =  -7.707499999999993\n",
      "H  = -H1-H2 =  -7.675099999999979\n",
      "H  = -H1-H2 =  -7.71439999999998\n",
      "H  = -H1-H2 =  -7.651099999999974\n",
      "H  = -H1-H2 =  -7.726899999999998\n",
      "H  = -H1-H2 =  -7.7304999999999815\n",
      "H  = -H1-H2 =  -7.686799999999998\n",
      "H  = -H1-H2 =  -7.686799999999968\n",
      "H  = -H1-H2 =  -7.672499999999975\n",
      "H  = -H1-H2 =  -7.724799999999979\n",
      "H  = -H1-H2 =  -7.660099999999989\n",
      "H  = -H1-H2 =  -7.743199999999982\n",
      "H  = -H1-H2 =  -7.689399999999995\n",
      "H  = -H1-H2 =  -7.672699999999978\n",
      "H  = -H1-H2 =  -7.688899999999996\n",
      "H  = -H1-H2 =  -7.706399999999985\n",
      "H  = -H1-H2 =  -7.7167999999999894\n",
      "H  = -H1-H2 =  -7.667699999999993\n",
      "H  = -H1-H2 =  -7.704999999999995\n",
      "H  = -H1-H2 =  -7.684899999999975\n",
      "H  = -H1-H2 =  -7.684299999999972\n",
      "H  = -H1-H2 =  -7.6731999999999925\n",
      "H  = -H1-H2 =  -7.690799999999973\n",
      "H  = -H1-H2 =  -7.651299999999974\n",
      "H  = -H1-H2 =  -7.753399999999996\n",
      "H  = -H1-H2 =  -7.723999999999982\n",
      "H  = -H1-H2 =  -7.6508999999999805\n",
      "H  = -H1-H2 =  -7.668199999999988\n",
      "H  = -H1-H2 =  -7.7318\n",
      "H  = -H1-H2 =  -7.719300000000012\n",
      "H  = -H1-H2 =  -7.6729999999999885\n",
      "H  = -H1-H2 =  -7.600199999999997\n",
      "H  = -H1-H2 =  -7.688099999999988\n",
      "H  = -H1-H2 =  -7.694099999999996\n",
      "H  = -H1-H2 =  -7.6600999999999875\n",
      "H  = -H1-H2 =  -7.699799999999977\n",
      "H  = -H1-H2 =  -7.643999999999982\n",
      "H  = -H1-H2 =  -7.670499999999974\n",
      "H  = -H1-H2 =  -7.6396999999999835\n",
      "H  = -H1-H2 =  -7.73229999999996\n",
      "H  = -H1-H2 =  -7.721799999999993\n",
      "H  = -H1-H2 =  -7.6662999999999855\n",
      "H  = -H1-H2 =  -7.6727999999999845\n",
      "H  = -H1-H2 =  -7.671499999999991\n",
      "H  = -H1-H2 =  -7.743999999999987\n",
      "H  = -H1-H2 =  -7.702899999999964\n",
      "H  = -H1-H2 =  -7.662299999999984\n",
      "H  = -H1-H2 =  -7.656399999999982\n",
      "H  = -H1-H2 =  -7.639099999999985\n",
      "H  = -H1-H2 =  -7.754299999999985\n",
      "H  = -H1-H2 =  -7.720599999999981\n",
      "H  = -H1-H2 =  -7.611599999999971\n",
      "H  = -H1-H2 =  -7.707699999999998\n",
      "H  = -H1-H2 =  -7.711999999999989\n",
      "H  = -H1-H2 =  -7.6752999999999805\n",
      "H  = -H1-H2 =  -7.687999999999986\n",
      "H  = -H1-H2 =  -7.648099999999978\n",
      "H  = -H1-H2 =  -7.6984999999999975\n",
      "H  = -H1-H2 =  -7.709299999999985\n",
      "H  = -H1-H2 =  -7.673199999999987\n",
      "H  = -H1-H2 =  -7.7218000000000035\n",
      "H  = -H1-H2 =  -7.648399999999966\n",
      "H  = -H1-H2 =  -7.6947999999999865\n",
      "H  = -H1-H2 =  -7.748299999999993\n",
      "H  = -H1-H2 =  -7.6679999999999975\n",
      "H  = -H1-H2 =  -7.679599999999997\n",
      "H  = -H1-H2 =  -7.676699999999963\n",
      "H  = -H1-H2 =  -7.653899999999992\n",
      "H  = -H1-H2 =  -7.695499999999987\n",
      "H  = -H1-H2 =  -7.716899999999985\n",
      "H  = -H1-H2 =  -7.722299999999985\n",
      "H  = -H1-H2 =  -7.682099999999976\n",
      "H  = -H1-H2 =  -7.678699999999976\n",
      "H  = -H1-H2 =  -7.697399999999974\n",
      "H  = -H1-H2 =  -7.6456999999999855\n",
      "H  = -H1-H2 =  -7.69789999999998\n",
      "H  = -H1-H2 =  -7.695699999999988\n",
      "H  = -H1-H2 =  -7.7005999999999775\n"
     ]
    },
    {
     "name": "stdout",
     "output_type": "stream",
     "text": [
      "H  = -H1-H2 =  -7.669499999999985\n",
      "H  = -H1-H2 =  -7.733299999999992\n",
      "H  = -H1-H2 =  -7.722099999999987\n",
      "H  = -H1-H2 =  -7.654299999999987\n",
      "H  = -H1-H2 =  -7.674699999999967\n",
      "H  = -H1-H2 =  -7.651899999999997\n",
      "H  = -H1-H2 =  -7.70789999999998\n",
      "H  = -H1-H2 =  -7.69829999999998\n",
      "H  = -H1-H2 =  -7.6693999999999765\n",
      "H  = -H1-H2 =  -7.666900000000006\n",
      "H  = -H1-H2 =  -7.626399999999997\n",
      "H  = -H1-H2 =  -7.686299999999987\n",
      "H  = -H1-H2 =  -7.730599999999996\n",
      "H  = -H1-H2 =  -7.619299999999972\n",
      "H  = -H1-H2 =  -7.678199999999977\n",
      "H  = -H1-H2 =  -7.711799999999977\n",
      "H  = -H1-H2 =  -7.657199999999989\n",
      "H  = -H1-H2 =  -7.665699999999989\n",
      "H  = -H1-H2 =  -7.672299999999982\n",
      "H  = -H1-H2 =  -7.701499999999994\n",
      "H  = -H1-H2 =  -7.683499999999966\n",
      "H  = -H1-H2 =  -7.654299999999989\n",
      "H  = -H1-H2 =  -7.736099999999975\n",
      "H  = -H1-H2 =  -7.672799999999997\n",
      "H  = -H1-H2 =  -7.658799999999985\n",
      "H  = -H1-H2 =  -7.674499999999993\n",
      "H  = -H1-H2 =  -7.733599999999989\n",
      "H  = -H1-H2 =  -7.706199999999986\n",
      "H  = -H1-H2 =  -7.680499999999976\n",
      "H  = -H1-H2 =  -7.684999999999989\n",
      "H  = -H1-H2 =  -7.706399999999988\n",
      "H  = -H1-H2 =  -7.695199999999975\n",
      "H  = -H1-H2 =  -7.66009999999998\n",
      "H  = -H1-H2 =  -7.703899999999984\n",
      "H  = -H1-H2 =  -7.738899999999985\n",
      "H  = -H1-H2 =  -7.7010999999999985\n",
      "H  = -H1-H2 =  -7.6504999999999805\n",
      "H  = -H1-H2 =  -7.650299999999983\n",
      "H  = -H1-H2 =  -7.680099999999989\n",
      "H  = -H1-H2 =  -7.692499999999988\n",
      "H  = -H1-H2 =  -7.72969999999998\n",
      "H  = -H1-H2 =  -7.7180999999999695\n",
      "H  = -H1-H2 =  -7.656499999999986\n",
      "H  = -H1-H2 =  -7.749199999999976\n",
      "H  = -H1-H2 =  -7.670299999999997\n",
      "H  = -H1-H2 =  -7.615999999999991\n",
      "H  = -H1-H2 =  -7.666799999999997\n",
      "H  = -H1-H2 =  -7.699600000000002\n",
      "H  = -H1-H2 =  -7.6717999999999975\n",
      "H  = -H1-H2 =  -7.613999999999981\n",
      "H  = -H1-H2 =  -7.686099999999999\n",
      "H  = -H1-H2 =  -7.672099999999992\n",
      "ret[0]:array([2.94317535, 5.27387288, 2.23293316, 2.94608741, 6.23251221,\n",
      "       2.76680671, 2.7171339 , 5.89466692, 2.73102785, 3.20684668,\n",
      "       5.81172296, 2.3845357 , 2.80911009, 5.76439512, 2.65377622,\n",
      "       3.18255875, 5.68614789, 2.16347797, 2.74559632, 5.97609674,\n",
      "       3.05698309, 2.59747265, 5.95321526, 2.79434428, 2.82062433,\n",
      "       5.78927652, 2.5120404 , 3.00906292, 6.02964693, 2.40708776])\n",
      "\n",
      "H  = -H1-H2 =  -7.711399999999997\n",
      "Minimal Energy: -7.711399999999997\n",
      "CPU times: user 1min 51s, sys: 324 ms, total: 1min 52s\n",
      "Wall time: 1min 52s\n"
     ]
    }
   ],
   "source": [
    "%%time\n",
    "from qiskit import Aer, execute\n",
    "     #Backend represent either a simulator or a real quantum computer\n",
    "backend = Aer.get_backend(\"qasm_simulator\") #runs the quantum circuit\n",
    "# NUM_SHOTS = 10\n",
    "from qiskit.aqua.components.optimizers import COBYLA, NELDER_MEAD, SLSQP, SPSA, ADAM, CG, L_BFGS_B,TNC\n",
    "#this is a numerical optimization method for constrained problems \n",
    "#where the derivative of the objective function (in this case 'cost') is not known\n",
    "#Initialize the COBYLA optimizer\n",
    "optimizer = COBYLA(maxiter=10000, tol=0.001)\n",
    "# optimizer = NELDER_MEAD(maxiter=1000, tol=0.0001)\n",
    "# optimizer = SLSQP(maxiter=1000, tol=0.001)\n",
    "# optimizer = SPSA(max_trials=1000,  save_steps=1)\n",
    "# optimizer = ADAM(maxiter=1000,tol=1e-06, lr=0.001)\n",
    "# optimizer = CG(maxiter=1000)\n",
    "# optimizer = L_BFGS_B(maxfun=1000, maxiter=1000)\n",
    "# optimizer = TNC(maxiter=1000)\n",
    "\n",
    "ret = optimizer.optimize(num_vars=len(param), objective_function=expval_ising_PBC, initial_point=param)\n",
    "     #the definition: optimize(num_vars, objective_function, gradient_function=None, variable_bounds=None, initial_point=None)\n",
    "print(\"ret[0]:{}\\n\".format(repr(ret[0])))\n",
    "     # Obtain the output distribution using the final parameters\n",
    "print(\"Minimal Energy:\",expval_ising_PBC(ret[0]))"
   ]
  },
  {
   "cell_type": "markdown",
   "metadata": {},
   "source": [
    "# h=[1,1,...,1] J=[1,1,...,1] <font color ='#ff8000'> 1 Layer</font> <font color ='#009900'> ZERO STATE</font> COBYLA PBC"
   ]
  },
  {
   "cell_type": "code",
   "execution_count": 4,
   "metadata": {},
   "outputs": [],
   "source": [
    "#All the runs where done with  maxiter=10k, tol=0.001 and NUM_SHOTS = 10k\n",
    "N =[1,2,3,4,5,6,7,8,9,10]\n",
    "COB_E1_h1j1_zero_PBC =[-0.99994,  -2.66162/2 , -3.62734/3,  -4.83464/4,  -6.005319999999999/5 , -7.215420000000002/6, -8.363340000000004/7 , -9.582580000000014/8  , -10.228760000000003/9  , -11.968780000000011/10]\n",
    "\n",
    "time_COB_E1_h1j1_zero_PBC = [10.5, 34.4,  55.8, 108 , 80 , 165 , 154 , 232,  286 ,342]"
   ]
  },
  {
   "cell_type": "markdown",
   "metadata": {},
   "source": [
    "# h=[1,1,...,1] J=[1,1,...,1] <font color ='#ff8000'> 2 Layers</font> <font color ='#009900'> ZERO STATE</font> COBYLA PBC"
   ]
  },
  {
   "cell_type": "code",
   "execution_count": 5,
   "metadata": {},
   "outputs": [],
   "source": [
    "#All the runs where done with  maxiter=10k, tol=0.001 and NUM_SHOTS = 10k\n",
    "N =[1,2,3,4,5,6,7,8,9,10]\n",
    "COB_E1_h1j1_zero_l2_PBC =[-1.0,  -3.20608/2 , -3.9111399999999996/3,  -4.97288/4,  -6.1088000000000005/5 , -7.368319999999997/6, -8.50802/7 , -9.719060000000017/8  , -10.883240000000015/9  , -12.168220000000009/10]\n",
    "\n",
    "time_COB_E1_h1j1_zero_l2_PBC = [17.4, 44.2, 99 , 137, 222, 238 , 480 , 511 , 871  , 1027]"
   ]
  },
  {
   "cell_type": "markdown",
   "metadata": {},
   "source": [
    "# h=[1,1,...,1] J=[1,1,...,1] <font color ='#ff8000'> 1 Layer</font> <font color ='#009900'> MOMENTUM STATE</font> COBYLA PBC"
   ]
  },
  {
   "cell_type": "code",
   "execution_count": 6,
   "metadata": {},
   "outputs": [],
   "source": [
    "#All the runs where done with  maxiter=10k, tol=0.001 and NUM_SHOTS = 10k\n",
    "N =[1,2,3,4,5,6,7,8,9,10]\n",
    "COB_E1_h1j1_momentum_PBC =[-0.99814,  -2.65296/2 , -3.6251799999999994/3,  -4.846539999999999/4,  -6.015960000000001/5 , -7.191379999999999/6, -8.336299999999998/7 , -9.596459999999997/8  , -10.763579999999989/9  , -11.927539999999976/10]\n",
    "\n",
    "time_COB_E1_h1j1_momentum_PBC = [ 13, 23.1 , 41.8 , 58.5 , 89 , 125 , 173 , 210 , 235  ,254]"
   ]
  },
  {
   "cell_type": "markdown",
   "metadata": {},
   "source": [
    "# h=[1,1,...,1] J=[1,1,...,1] <font color ='#ff8000'> 2 Layers</font> <font color ='#009900'> MOMENTUM STATE</font> COBYLA PBC"
   ]
  },
  {
   "cell_type": "code",
   "execution_count": 7,
   "metadata": {},
   "outputs": [],
   "source": [
    "#All the runs where done with  maxiter=10k, tol=0.001 and NUM_SHOTS = 10k\n",
    "N =[1,2,3,4,5,6,7,8,9,10]\n",
    "COB_E1_h1j1_momentum_l2_PBC =[-1.0,  -3.19956/2 , -3.79374/3,  -4.9968200000000005 /4,  -6.14158/5 , -7.470720000000002/6, -8.471460000000006/7 , -9.714719999999987/8  , -10.851240000000004/9  , -12.418340000000025/10]\n",
    "\n",
    "time_COB_E1_h1j1_momentum_l2_PBC = [16.3, 44 , 114 , 179 , 283 , 305 , 460 , 460,  914 ,818]"
   ]
  },
  {
   "cell_type": "markdown",
   "metadata": {},
   "source": [
    "# h=[0,0,...,0] J=[1,1,...,1] <font color ='#ff8000'> 1 Layer</font> <font color ='#009900'> ZERO STATE</font> COBYLA PBC"
   ]
  },
  {
   "cell_type": "code",
   "execution_count": 8,
   "metadata": {},
   "outputs": [],
   "source": [
    "#All the runs where done with  maxiter=10k, tol=0.001 and NUM_SHOTS = 10k\n",
    "N =[1,2,3,4,5,6,7,8,9,10]\n",
    "COB_E1_h0j1_zero_PBC =[0.0,  -1.99992/2 , -2.9972199999999996/3,  -3.9997200000000004/4,  -4.99976/5 , -5.999420000000001/6, -6.999559999999999/7 , -7.99834/8  , -8.998980000000001/9  , -9.996880000000003/10]\n",
    "\n",
    "time_COB_E1_h0j1_zero_PBC = [3.68,28.5 , 38.5 , 94 , 105 , 151 , 257 , 284 ,  357 ,487]"
   ]
  },
  {
   "cell_type": "markdown",
   "metadata": {},
   "source": [
    "# h=[0,0,...,0] J=[1,1,...,1] <font color ='#ff8000'> 2 Layers</font> <font color ='#009900'> ZERO STATE</font> COBYLA PBC"
   ]
  },
  {
   "cell_type": "code",
   "execution_count": 9,
   "metadata": {},
   "outputs": [],
   "source": [
    "#All the runs where done with  maxiter=10k, tol=0.001 and NUM_SHOTS = 10k\n",
    "N =[1,2,3,4,5,6,7,8,9,10]\n",
    "COB_E1_h0j1_zero_l2_PBC =[0.0,  -1.99992/2 , -2.801020000000001/3,  -3.94094/4,  -4.9974/5 , -5.98886/6, -6.982299999999999/7 , -7.97754/8  , -8.997819999999994/9  , -9.96202/10]\n",
    "\n",
    "time_COB_E1_h0j1_zero_l2_PBC = [7.78, 55.5 , 73 , 188 , 476 , 414 , 490 , 761 ,  1803 , 1187]"
   ]
  },
  {
   "cell_type": "markdown",
   "metadata": {},
   "source": [
    "# h=[0,0,...,0] J=[1,1,...,1] <font color ='#ff8000'> 1 Layer</font> </font> <font color ='#009900'> MOMENTUM STATE</font> COBYLA PBC"
   ]
  },
  {
   "cell_type": "code",
   "execution_count": 10,
   "metadata": {},
   "outputs": [],
   "source": [
    "#All the runs where done with  maxiter=10k, tol=0.001 and NUM_SHOTS = 10k\n",
    "N =[1,2,3,4,5,6,7,8,9,10]\n",
    "COB_E1_h0j1_momentum_PBC =[0.0,  -1.99962/2 , -2.99988/3,  -3.9972199999999996/4,  -4.9984399999999996/5 , -5.999160000000001/6, -6.998240000000003/7 , -7.996860000000001/8  , -8.993439999999998/9  , -9.996520000000002/10]\n",
    "\n",
    "time_COB_E1_h0j1_momentum_PBC = [4.34, 24.2 , 47.7 , 70 , 111 , 149 , 234 , 247 , 349  ,536]"
   ]
  },
  {
   "cell_type": "markdown",
   "metadata": {},
   "source": [
    "# h=[0,0,...,0] J=[1,1,...,1] <font color ='#ff8000'> 2 Layers</font> </font> <font color ='#009900'> MOMENTUM STATE</font> PBC"
   ]
  },
  {
   "cell_type": "code",
   "execution_count": 11,
   "metadata": {},
   "outputs": [],
   "source": [
    "#All the runs where done with  maxiter=10k, tol=0.001 and NUM_SHOTS = 10k\n",
    "N =[1,2,3,4,5,6,7,8,9,10]\n",
    "COB_E1_h0j1_momentum_l2_PBC =[0.0,  -2.0/2 , -2.8254400000000004/3,  -3.99402/4,  -4.990220000000001/5 , -5.998540000000002/6, -6.960720000000001/7 , -7.96982/8  , -8.980379999999998/9  , -9.972299999999994/10]\n",
    "time_COB_E1_h0j1_momentum_l2_PBC = [7.75, 43.2, 109 , 205 , 206, 494 , 425 , 606 , 1195  ,1365]"
   ]
  },
  {
   "cell_type": "markdown",
   "metadata": {},
   "source": [
    "# h=[1,1,...,1] J=[0,0,...,0] <font color ='#ff8000'> 1 Layer</font> </font> <font color ='#009900'> ZERO STATE</font> COBYLA PBC"
   ]
  },
  {
   "cell_type": "code",
   "execution_count": null,
   "metadata": {},
   "outputs": [],
   "source": [
    "#All the runs where done with  maxiter=10k, tol=0.001 and NUM_SHOTS = 10k\n",
    "N =[1,2,3,4,5,6,7,8,9,10]\n",
    "COB_E1_h1j0_zero_PBC =[,  /2 , /3,  /4,  /5 , /6, /7 , /8  , /9  , /10]\n",
    "\n",
    "time_COB_E1_h1j0_zero_PBC = [, ,  , , ,  ,  , ,   ,]"
   ]
  },
  {
   "cell_type": "markdown",
   "metadata": {},
   "source": [
    "# h=[1,1,...,1] J=[0,0,...,0] <font color ='#ff8000'> 2 Layers</font> </font> <font color ='#009900'> ZERO STATE</font> COBYLA PBC"
   ]
  },
  {
   "cell_type": "code",
   "execution_count": null,
   "metadata": {},
   "outputs": [],
   "source": [
    "#All the runs where done with  maxiter=10k, tol=0.001 and NUM_SHOTS = 10k\n",
    "N =[1,2,3,4,5,6,7,8,9,10]\n",
    "COB_E1_h1j0_zero_l2_PBC =[,  /2 , /3,  /4,  /5 , /6, /7 , /8  , /9  , /10]\n",
    "\n",
    "time_COB_E1_h1j0_zero_l2_PBC = [, ,  , , ,  ,  , ,   ,]"
   ]
  },
  {
   "cell_type": "markdown",
   "metadata": {},
   "source": [
    "# h=[1,1,...,1] J=[0,0,...,0] <font color ='#ff8000'> 1 Layer</font> </font> <font color ='#009900'> MOMENTUM STATE</font> PBC"
   ]
  },
  {
   "cell_type": "code",
   "execution_count": null,
   "metadata": {},
   "outputs": [],
   "source": [
    "#All the runs where done with  maxiter=10k, tol=0.001 and NUM_SHOTS = 10k\n",
    "N =[1,2,3,4,5,6,7,8,9,10]\n",
    "COB_E1_h1j0_momentum_PBC =[,  /2 , /3,  /4,  /5 , /6, /7 , /8  , /9  , /10]\n",
    "\n",
    "time_COB_E1_h1j0_momentum_PBC = [, ,  , , ,  ,  , ,   ,]"
   ]
  },
  {
   "cell_type": "markdown",
   "metadata": {},
   "source": [
    "# h=[1,1,...,1] J=[0,0,...,0] <font color ='#ff8000'> 2 Layers</font> </font> <font color ='#009900'> MOMENTUM STATE</font> PBC"
   ]
  },
  {
   "cell_type": "code",
   "execution_count": null,
   "metadata": {},
   "outputs": [],
   "source": [
    "#All the runs where done with  maxiter=10k, tol=0.001 and NUM_SHOTS = 10k\n",
    "N =[1,2,3,4,5,6,7,8,9,10]\n",
    "COB_E1_h1j0_momentum_l2_PBC =[,  /2 , /3,  /4,  /5 , /6, /7 , /8  , /9  , /10]\n",
    "\n",
    "time_COB_E1_h1j0_momentum_l2_PBC = [, ,  , , ,  ,  , ,   ,]"
   ]
  },
  {
   "cell_type": "markdown",
   "metadata": {},
   "source": [
    "# h=[1,1,...,1] J=[0.5,0.5,...,0.5] <font color ='#ff8000'> 1 Layer</font> </font> <font color ='#009900'> ZERO STATE</font> COBYLA PBC"
   ]
  },
  {
   "cell_type": "code",
   "execution_count": null,
   "metadata": {},
   "outputs": [],
   "source": [
    "#All the runs where done with  maxiter=10k, tol=0.001 and NUM_SHOTS = 10k\n",
    "N =[1,2,3,4,5,6,7,8,9,10]\n",
    "COB_E1_h1j05_zero_PBC =[,  /2 , /3,  /4,  /5 , /6, /7 , /8  , /9  , /10]\n",
    "\n",
    "time_COB_E1_h1j05_zero_PBC = [, ,  , , ,  ,  , ,   ,]"
   ]
  },
  {
   "cell_type": "markdown",
   "metadata": {},
   "source": [
    "# h=[1,1,...,1] J=[0.5,0.5,...,0.5] <font color ='#ff8000'> 2 Layers</font> </font> <font color ='#009900'> ZERO STATE</font> COBYLA PBC"
   ]
  },
  {
   "cell_type": "code",
   "execution_count": null,
   "metadata": {},
   "outputs": [],
   "source": [
    "#All the runs where done with  maxiter=10k, tol=0.001 and NUM_SHOTS = 10k\n",
    "N =[1,2,3,4,5,6,7,8,9,10]\n",
    "COB_E1_h1j05_zero_l2_PBC =[,  /2 , /3,  /4,  /5 , /6, /7 , /8  , /9  , /10]\n",
    "\n",
    "time_COB_E1_h1j05_zero_l2_PBC = [, ,  , , ,  ,  , ,   ,]"
   ]
  },
  {
   "cell_type": "markdown",
   "metadata": {},
   "source": [
    "# h=[1,1,...,1] J=[0.5,0.5,...,0.5] <font color ='#ff8000'> 1 Layer</font> </font> <font color ='#009900'> MOMENTUM STATE</font> PBC"
   ]
  },
  {
   "cell_type": "code",
   "execution_count": null,
   "metadata": {},
   "outputs": [],
   "source": [
    "#All the runs where done with  maxiter=10k, tol=0.001 and NUM_SHOTS = 10k\n",
    "N =[1,2,3,4,5,6,7,8,9,10]\n",
    "COB_E1_h1j05_momentum_PBC =[-0.9999800000000001,  -1.8618000000000001/2 , -2.3789399999999996/3,  -3.1695000000000007/4,  -3.91002/5 , -4.66522/6, -5.508810000000001/7 , /8  , /9  , /10]\n",
    "\n",
    "time_COB_E1_h1j05_momentum_PBC = [8.1,24.3 , 39.4 , 62 , 86 , 164 , 164 , ,   ,]"
   ]
  },
  {
   "cell_type": "markdown",
   "metadata": {},
   "source": [
    "# h=[1,1,...,1] J=[0.5,0.5,...,0.5] <font color ='#ff8000'> 2 Layers</font> </font> <font color ='#009900'> MOMENTUM STATE</font> PBC"
   ]
  },
  {
   "cell_type": "code",
   "execution_count": null,
   "metadata": {},
   "outputs": [],
   "source": [
    "#All the runs where done with  maxiter=10k, tol=0.001 and NUM_SHOTS = 10k\n",
    "N =[1,2,3,4,5,6,7,8,9,10]\n",
    "COB_E1_h1j05_momentum_l2_PBC =[,  /2 , /3,  /4,  /5 , /6, /7 , /8  , /9  , /10]\n",
    "\n",
    "time_COB_E1_h1j05_momentum_l2_PBC = [, ,  , , ,  ,  , ,   ,]"
   ]
  },
  {
   "cell_type": "markdown",
   "metadata": {},
   "source": [
    "# h=[0.5,0.5,...,0.5] J=[1,1,...,1] <font color ='#ff8000'> 1 Layer</font> </font> <font color ='#009900'> ZERO STATE</font> COBYLA PBC"
   ]
  },
  {
   "cell_type": "code",
   "execution_count": null,
   "metadata": {},
   "outputs": [],
   "source": [
    "#All the runs where done with  maxiter=10k, tol=0.001 and NUM_SHOTS = 10k\n",
    "N =[1,2,3,4,5,6,7,8,9,10]\n",
    "COB_E1_h05j1_zero_PBC =[,  /2 , /3,  /4,  /5 , /6, /7 , /8  , /9  , /10]\n",
    "\n",
    "time_COB_E1_h05j1_zero_PBC = [, ,  , , ,  ,  , ,   ,]"
   ]
  },
  {
   "cell_type": "markdown",
   "metadata": {},
   "source": [
    "# h=[0.5,0.5,...,0.5] J=[1,1,...,1] <font color ='#ff8000'> 2 Layer</font> </font> <font color ='#009900'> ZERO STATE</font> COBYLA PBC"
   ]
  },
  {
   "cell_type": "code",
   "execution_count": null,
   "metadata": {},
   "outputs": [],
   "source": [
    "#All the runs where done with  maxiter=10k, tol=0.001 and NUM_SHOTS = 10k\n",
    "N =[1,2,3,4,5,6,7,8,9,10]\n",
    "COB_E1_h05j1_zero_l2_PBC =[,  /2 , /3,  /4,  /5 , /6, /7 , /8  , /9  , /10]\n",
    "\n",
    "time_COB_E1_h05j1_zero_l2_PBC = [, ,  , , ,  ,  , ,   ,]"
   ]
  },
  {
   "cell_type": "markdown",
   "metadata": {},
   "source": [
    "# h=[0.5,0.5,...,0.5] J=[1,1,...,1] <font color ='#ff8000'> 1 Layer</font> </font> <font color ='#009900'> MOMENTUM STATE</font> COBYLA PBC"
   ]
  },
  {
   "cell_type": "code",
   "execution_count": null,
   "metadata": {},
   "outputs": [],
   "source": [
    "#All the runs where done with  maxiter=10k, tol=0.001 and NUM_SHOTS = 10k\n",
    "N =[1,2,3,4,5,6,7,8,9,10]\n",
    "COB_E1_h05j1_momentum_PBC =[,  /2 , /3,  /4,  /5 , /6, /7 , /8  , /9  , /10]\n",
    "\n",
    "time_COB_E1_h05j1_momentum_PBC = [, ,  , , ,  ,  , ,   ,]"
   ]
  },
  {
   "cell_type": "markdown",
   "metadata": {},
   "source": [
    "# h=[0.5,0.5,...,0.5] J=[1,1,...,1] <font color ='#ff8000'> 2 Layer</font> </font> <font color ='#009900'> MOMENTUM STATE</font> COBYLA PBC"
   ]
  },
  {
   "cell_type": "code",
   "execution_count": null,
   "metadata": {},
   "outputs": [],
   "source": [
    "#All the runs where done with  maxiter=10k, tol=0.001 and NUM_SHOTS = 10k\n",
    "N =[1,2,3,4,5,6,7,8,9,10]\n",
    "COB_E1_h05j1_momentum_l2_PBC =[,  /2 , /3,  /4,  /5 , /6, /7 , /8  , /9  , /10]\n",
    "\n",
    "time_COB_E1_h05j1_momentum_l2_PBC = [, ,  , , ,  ,  , ,   ,]"
   ]
  },
  {
   "cell_type": "markdown",
   "metadata": {},
   "source": [
    "#  <center> <font color ='#4d4d33' size=\"7\"> Plots"
   ]
  },
  {
   "cell_type": "code",
   "execution_count": 12,
   "metadata": {},
   "outputs": [
    {
     "ename": "NameError",
     "evalue": "name 'COB_E1_h1j05_zero_PBC' is not defined",
     "output_type": "error",
     "traceback": [
      "\u001b[0;31m---------------------------------------------------------------------------\u001b[0m",
      "\u001b[0;31mNameError\u001b[0m                                 Traceback (most recent call last)",
      "\u001b[0;32m<ipython-input-12-9e9177002e9c>\u001b[0m in \u001b[0;36m<module>\u001b[0;34m\u001b[0m\n\u001b[1;32m     89\u001b[0m \u001b[0maxs\u001b[0m\u001b[0;34m[\u001b[0m\u001b[0;36m1\u001b[0m\u001b[0;34m,\u001b[0m\u001b[0;36m0\u001b[0m\u001b[0;34m]\u001b[0m\u001b[0;34m.\u001b[0m\u001b[0mtitle\u001b[0m\u001b[0;34m.\u001b[0m\u001b[0mset_text\u001b[0m\u001b[0;34m(\u001b[0m\u001b[0;34m\"h=1 J=0.5\"\u001b[0m\u001b[0;34m)\u001b[0m\u001b[0;34m\u001b[0m\u001b[0;34m\u001b[0m\u001b[0m\n\u001b[1;32m     90\u001b[0m \u001b[0maxs\u001b[0m\u001b[0;34m[\u001b[0m\u001b[0;36m1\u001b[0m\u001b[0;34m,\u001b[0m\u001b[0;36m0\u001b[0m\u001b[0;34m]\u001b[0m\u001b[0;34m.\u001b[0m\u001b[0mtitle\u001b[0m\u001b[0;34m.\u001b[0m\u001b[0mset_size\u001b[0m\u001b[0;34m(\u001b[0m\u001b[0;36m20\u001b[0m\u001b[0;34m)\u001b[0m\u001b[0;34m\u001b[0m\u001b[0;34m\u001b[0m\u001b[0m\n\u001b[0;32m---> 91\u001b[0;31m \u001b[0my_h1j05_zero\u001b[0m \u001b[0;34m=\u001b[0m \u001b[0mpd\u001b[0m\u001b[0;34m.\u001b[0m\u001b[0mSeries\u001b[0m\u001b[0;34m(\u001b[0m\u001b[0mnp\u001b[0m\u001b[0;34m.\u001b[0m\u001b[0marray\u001b[0m\u001b[0;34m(\u001b[0m\u001b[0mCOB_E1_h1j05_zero_PBC\u001b[0m\u001b[0;34m)\u001b[0m\u001b[0;34m)\u001b[0m\u001b[0;34m\u001b[0m\u001b[0;34m\u001b[0m\u001b[0m\n\u001b[0m\u001b[1;32m     92\u001b[0m \u001b[0my_h1j05_mome\u001b[0m \u001b[0;34m=\u001b[0m \u001b[0mpd\u001b[0m\u001b[0;34m.\u001b[0m\u001b[0mSeries\u001b[0m\u001b[0;34m(\u001b[0m\u001b[0mnp\u001b[0m\u001b[0;34m.\u001b[0m\u001b[0marray\u001b[0m\u001b[0;34m(\u001b[0m\u001b[0mCOB_E1_h1j05_zero_PBC\u001b[0m\u001b[0;34m)\u001b[0m\u001b[0;34m)\u001b[0m\u001b[0;34m\u001b[0m\u001b[0;34m\u001b[0m\u001b[0m\n\u001b[1;32m     93\u001b[0m \u001b[0;31m# y3_h1j05 = pd.Series(np.array(COB_E1_h1j05_zero_PBC))\u001b[0m\u001b[0;34m\u001b[0m\u001b[0;34m\u001b[0m\u001b[0;34m\u001b[0m\u001b[0m\n",
      "\u001b[0;31mNameError\u001b[0m: name 'COB_E1_h1j05_zero_PBC' is not defined"
     ]
    },
    {
     "data": {
      "image/png": "[encoded data removed]",
      "text/plain": [
       "<Figure size 1440x1440 with 4 Axes>"
      ]
     },
     "metadata": {
      "needs_background": "light"
     },
     "output_type": "display_data"
    }
   ],
   "source": [
    "from matplotlib.ticker import MaxNLocator\n",
    "import matplotlib.pyplot\n",
    "fig, axs = plt.subplots(nrows=2,ncols=2, figsize=(20, 20))\n",
    "plt.subplots_adjust(hspace=0.5, wspace=0.35)\n",
    "#fig.title('COBYLA')\n",
    "fig.suptitle('COBYLA (layer 1) PERIODIC BC\\nZERO & MOMENTUM State\\nEnergy/N vs N',fontsize=20)\n",
    "x = np.linspace(1, 10, 10)\n",
    "\n",
    "axs[0,0].title.set_text(\"h=1 J=1\")\n",
    "axs[0,0].title.set_size(20)\n",
    "y_h1j1_zero = pd.Series(np.array(COB_E1_h1j1_zero_PBC))\n",
    "y_h1j1_mome = pd.Series(np.array(COB_E1_h1j1_momentum_PBC))\n",
    "# y3 = pd.Series(np.array(COB_E3_h1j1_zero_PBC))\n",
    "# y4 = pd.Series(np.array(COB_E4_h1j1_zero_PBC))\n",
    "# y5 = pd.Series(np.array(COB_E5_h1j1_zero_PBC))\n",
    "\n",
    "axs[0,0].scatter(x,y_h1j1_zero ,marker='o',color=['#ff0000','#ff6600','#ffff00','#80ff00','#009900','#00ffcc','#0099ff','#0000ff','#ff00ff','#ff0055'], label = 'ZERO state')\n",
    "axs[0,0].scatter(x,y_h1j1_mome ,marker='v',color=['#ff0000','#ff6600','#ffff00','#80ff00','#009900','#00ffcc','#0099ff','#0000ff','#ff00ff','#ff0055'],label = 'MOMENTUM state')\n",
    "# axs[0,0].scatter(x,y3,marker='^',color=['#ff0000','#ff6600','#ffff00','#80ff00','#009900','#00ffcc','#0099ff','#0000ff','#ff00ff','#ff0055'])\n",
    "# axs[0,0].scatter(x,y4,marker='8',color=['#ff0000','#ff6600','#ffff00','#80ff00','#009900','#00ffcc','#0099ff','#0000ff','#ff00ff','#ff0055'])\n",
    "# axs[0,0].scatter(x,y5,marker='X',color=['#ff0000','#ff6600','#ffff00','#80ff00','#009900','#00ffcc','#0099ff','#0000ff','#ff00ff','#ff0055'])\n",
    "\n",
    "l1d_1=axs[0,0].axhline(y=-1, color='#ff0000', linestyle='--',label = 'N=1')\n",
    "l2d_1=axs[0,0].axhline(y=-2.82842712/2, color='#ff6600', linestyle='--',label = 'N=2')\n",
    "l3d_1=axs[0,0].axhline(y=-4/3, color='#ffff00', linestyle='--',label = 'N=3')\n",
    "l4d_1=axs[0,0].axhline(y=-5.22625186/4, color='#80ff00', linestyle='--',label = 'N=4 ')\n",
    "l5d_1=axs[0,0].axhline(y=-6.47213595/5, color='#009900', linestyle='--',label = 'N=5')\n",
    "l6d_1=axs[0,0].axhline(y=-7.72740661/6, color='#00ffcc', linestyle='--',label = 'N=6')\n",
    "l7d_1=axs[0,0].axhline(y=-8.98791841/7, color='#0099ff', linestyle='--',label = 'N=7')\n",
    "l8d_1=axs[0,0].axhline(y=-10.2516618/8, color='#0000ff', linestyle='--',label = 'N=8')\n",
    "l9d_1=axs[0,0].axhline(y=-11.517541/9, color='#ff00ff', linestyle='--',label = 'N=9')\n",
    "l10d_1=axs[0,0].axhline(y=-12.78490644/10, color='#ff0055', linestyle='--',label = 'N=10')\n",
    "axs[0,0].legend(shadow=False, title=\"Theoretical minima of E/N\", framealpha=0.3, ncol=3,fancybox=True)\n",
    "\n",
    "\n",
    "axs[0,1].title.set_text(\"h=0 J=1\")\n",
    "axs[0,1].title.set_size(20)\n",
    "y_h0j1_zero = pd.Series(np.array(COB_E1_h0j1_zero_PBC))\n",
    "y_h0j1_mome = pd.Series(np.array(COB_E1_h0j1_momentum_PBC))\n",
    "# y3_h0j1 = pd.Series(np.array(COB_E3_h0j1_zero_PBC))\n",
    "# y4_h0j1 = pd.Series(np.array(COB_E4_h0j1_zero_PBC))\n",
    "# y5_h0j1 = pd.Series(np.array(COB_E5_h0j1_zero_PBC))\n",
    "\n",
    "axs[0,1].scatter(x,y_h0j1_zero ,marker='o',color=['#ff0000','#ff6600','#ffff00','#80ff00','#009900','#00ffcc','#0099ff','#0000ff','#ff00ff','#ff0055'], label = 'ZERO state')\n",
    "axs[0,1].scatter(x,y_h0j1_mome ,marker='v',color=['#ff0000','#ff6600','#ffff00','#80ff00','#009900','#00ffcc','#0099ff','#0000ff','#ff00ff','#ff0055'],label = 'MOMENTUM state')\n",
    "# axs[0,1].scatter(x,y3_h0j1,marker='^',color=['#ff0000','#ff6600','#ffff00','#80ff00','#009900','#00ffcc','#0099ff','#0000ff','#ff00ff','#ff0055'])\n",
    "# axs[0,1].scatter(x,y4_h0j1,marker='8',color=['#ff0000','#ff6600','#ffff00','#80ff00','#009900','#00ffcc','#0099ff','#0000ff','#ff00ff','#ff0055'])\n",
    "# axs[0,1].scatter(x,y5_h0j1,marker='X',color=['#ff0000','#ff6600','#ffff00','#80ff00','#009900','#00ffcc','#0099ff','#0000ff','#ff00ff','#ff0055'])\n",
    "\n",
    "l1d_2=axs[0,1].axhline(y=0, color='#ff0000', linestyle='--',label = 'N=1')\n",
    "l2d_2=axs[0,1].axhline(y=-2/2, color='#ff6600', linestyle='--',label = 'N=2')\n",
    "l3d_2=axs[0,1].axhline(y=-3/3, color='#ffff00', linestyle='--',label = 'N=3')\n",
    "l4d_2=axs[0,1].axhline(y=-4/4, color='#80ff00', linestyle='--',label = 'N=4')\n",
    "l5d_2=axs[0,1].axhline(y=-5/5, color='#009900', linestyle='--',label = 'N=5')\n",
    "l6d_2=axs[0,1].axhline(y=-6/6, color='#00ffcc', linestyle='--',label = 'N=6')\n",
    "l7d_2=axs[0,1].axhline(y=-7/7, color='#0099ff', linestyle='--',label = 'N=7')\n",
    "l8d_2=axs[0,1].axhline(y=-8/8, color='#0000ff', linestyle='--',label = 'N=8')\n",
    "l9d_2=axs[0,1].axhline(y=-9/9, color='#ff00ff', linestyle='--',label = 'N=9')\n",
    "l10d_2=axs[0,1].axhline(y=-10/10, color='#ff0055', linestyle='--',label = 'N=10')\n",
    "axs[0,1].legend(shadow=False, title=\"Theoretical minima of E/N\", framealpha=0.3, ncol=3,fancybox=True)\n",
    "\n",
    "\n",
    "# axs[1,0].title.set_text(\"h=1 J=0\")\n",
    "# axs[1,0].title.set_size(20)\n",
    "# y_h1j0_zero = pd.Series(np.array(COB_E1_h1j0_zero_PBC))\n",
    "# y_h1j0_mome = pd.Series(np.array(COB_E1_h1j0_momentum_PBC))\n",
    "# # y3_h1j0 = pd.Series(np.array(COB_E3_h1j0_zero_PBC))\n",
    "# # y4_h1j0 = pd.Series(np.array(COB_E4_h1j0_zero_PBC))\n",
    "# # y5_h1j0 = pd.Series(np.array(COB_E5_h1j0_zero_PBC))\n",
    "# axs[1,0].scatter(x,y_h1j0_zero,marker='o',color=['#ff0000','#ff6600','#ffff00','#80ff00','#009900','#00ffcc','#0099ff','#0000ff','#ff00ff','#ff0055'], label = 'ZERO state')\n",
    "# axs[1,0].scatter(x,y_h1j0_mome,marker='v',color=['#ff0000','#ff6600','#ffff00','#80ff00','#009900','#00ffcc','#0099ff','#0000ff','#ff00ff','#ff0055'],label = 'MOMENTUM state')\n",
    "# # axs[1,0].scatter(x,y3_h1,marker='^',color=['#ff0000','#ff6600','#ffff00','#80ff00','#009900','#00ffcc','#0099ff','#0000ff','#ff00ff','#ff0055'])\n",
    "# # axs[1,0].scatter(x,y4_h1,marker='8',color=['#ff0000','#ff6600','#ffff00','#80ff00','#009900','#00ffcc','#0099ff','#0000ff','#ff00ff','#ff0055'])\n",
    "# # axs[1,0].scatter(x,y5_h1,marker='X',color=['#ff0000','#ff6600','#ffff00','#80ff00','#009900','#00ffcc','#0099ff','#0000ff','#ff00ff','#ff0055'])\n",
    "\n",
    "# l1d_3=axs[1,0].axhline(y=-1, color='#ff0000', linestyle='--',label = 'N=1')\n",
    "# l2d_3=axs[1,0].axhline(y=-2/2, color='#ff8000', linestyle='--',label = 'N=2')\n",
    "# l3d_3=axs[1,0].axhline(y=-3/3, color='#ffff00', linestyle='--',label = 'N=3')\n",
    "# l4d_3=axs[1,0].axhline(y=-4/4, color='#80ff00', linestyle='--',label = 'N=4')\n",
    "# l5d_3=axs[1,0].axhline(y=-5/5, color='#009900', linestyle='--',label = 'N=5')\n",
    "# l6d_3=axs[1,0].axhline(y=-6/6, color='#00ffcc', linestyle='--',label = 'N=6')\n",
    "# l7d_3=axs[1,0].axhline(y=-7/7, color='#0099ff', linestyle='--',label = 'N=7')\n",
    "# l8d_3=axs[1,0].axhline(y=-8/8, color='#0000ff', linestyle='--',label = 'N=8')\n",
    "# l9d_3=axs[1,0].axhline(y=-9/9, color='#ff00ff', linestyle='--',label = 'N=9')\n",
    "# l10d_3=axs[1,0].axhline(y=-10/10, color='#ff0055', linestyle='--',label = 'N=10')\n",
    "# axs[1,0].legend(shadow=False, title=\"Theoretical minima of E/N\", framealpha=0.3, ncol=3,fancybox=True)\n",
    "\n",
    "\n",
    "axs[1,0].title.set_text(\"h=1 J=0.5\")\n",
    "axs[1,0].title.set_size(20)\n",
    "y_h1j05_zero = pd.Series(np.array(COB_E1_h1j05_zero_PBC))\n",
    "y_h1j05_mome = pd.Series(np.array(COB_E1_h1j05_zero_PBC))\n",
    "# y3_h1j05 = pd.Series(np.array(COB_E1_h1j05_zero_PBC))\n",
    "# y4_h1j05 = pd.Series(np.array(COB_E1_h1j05_zero_PBC))\n",
    "# y5_h1j05 = pd.Series(np.array(COB_E1_h1j05_zero_PBC))\n",
    "axs[1,0].scatter(x,y_h1j05_zero,marker='o',color=['#ff0000','#ff6600','#ffff00','#80ff00','#009900','#00ffcc','#0099ff','#0000ff','#ff00ff','#ff0055'], label = 'ZERO state')\n",
    "axs[1,0].scatter(x,y_h1j05_mome,marker='v',color=['#ff0000','#ff6600','#ffff00','#80ff00','#009900','#00ffcc','#0099ff','#0000ff','#ff00ff','#ff0055'],label = 'MOMENTUM state')\n",
    "# axs[1,1].scatter(x,y3_h1j05,marker='^',color=['#ff0000','#ff6600','#ffff00','#80ff00','#009900','#00ffcc','#0099ff','#0000ff','#ff00ff','#ff0055'])\n",
    "# axs[1,1].scatter(x,y4_h1j05,marker='8',color=['#ff0000','#ff6600','#ffff00','#80ff00','#009900','#00ffcc','#0099ff','#0000ff','#ff00ff','#ff0055'])\n",
    "# axs[1,1].scatter(x,y5_h1j05,marker='X',color=['#ff0000','#ff6600','#ffff00','#80ff00','#009900','#00ffcc','#0099ff','#0000ff','#ff00ff','#ff0055'])\n",
    "\n",
    "l1d_4=axs[1,0].axhline(y=-1, color='#ff0000', linestyle='--',label = 'N=1')\n",
    "l2d_4=axs[1,0].axhline(y=-2.23606798/2, color='#ff8000', linestyle='--',label = 'N=2')\n",
    "l3d_4=axs[1,0].axhline(y=-3.23205081/3, color='#ffff00', linestyle='--',label = 'N=3')\n",
    "l4d_4=axs[1,0].axhline(y=-4.27155841/4, color='#80ff00', linestyle='--',label = 'N=4')\n",
    "l5d_4=axs[1,0].axhline(y=-5.32534307/5, color='#009900', linestyle='--',label = 'N=5')\n",
    "l6d_4=axs[1,0].axhline(y=-6.38469456/6, color='#00ffcc', linestyle='--',label = 'N=6')\n",
    "l7d_4=axs[1,0].axhline(y=-7.44637965/7, color='#0099ff', linestyle='--',label = 'N=7')\n",
    "l8d_4=axs[1,0].axhline(y=-8.50908224/8, color='#0000ff', linestyle='--',label = 'N=8')\n",
    "l9d_4=axs[1,0].axhline(y=-9.57223979/9, color='#ff00ff', linestyle='--',label = 'N=9')\n",
    "l10d_4=axs[1,0].axhline(y=-10.635660441/10, color='#ff0055', linestyle='--',label = 'N=10')\n",
    "axs[1,1].legend(shadow=False, title=\"Theoretical minima of E/N\", framealpha=0.3, ncol=3,fancybox=True)\n",
    "\n",
    "# axs[2,0].title.set_text(\"h=0.5 J=1\")\n",
    "# axs[2,0].title.set_size(20)\n",
    "# y_h05j1_zero = pd.Series(np.array(COB_E1_h05j1_zero_PBC))\n",
    "# y_h05j1_mome = pd.Series(np.array(COB_E1_h05j1_zero_PBC))\n",
    "# # y3_h05j1 = pd.Series(np.array(COB_E3_h05j1_zero_PBC))\n",
    "# # y4_h05j1 = pd.Series(np.array(COB_E4_h05j1_zero_PBC))\n",
    "# # y5_h05j1 = pd.Series(np.array(COB_E5_h05j1_zero_PBC))\n",
    "# axs[2,0].scatter(x,y_h05j1_zero,marker='o',color=['#ff0000','#ff6600','#ffff00','#80ff00','#009900','#00ffcc','#0099ff','#0000ff','#ff00ff','#ff0055'], label = 'ZERO state')\n",
    "# axs[2,0].scatter(x,y_h05j1_mome,marker='v',color=['#ff0000','#ff6600','#ffff00','#80ff00','#009900','#00ffcc','#0099ff','#0000ff','#ff00ff','#ff0055'],label = 'MOMENTUM state')\n",
    "# # axs[2,0].scatter(x,y3_h05j1,marker='^',color=['#ff0000','#ff6600','#ffff00','#80ff00','#009900','#00ffcc','#0099ff','#0000ff','#ff00ff','#ff0055'])\n",
    "# # axs[2,0].scatter(x,y4_h05j1,marker='8',color=['#ff0000','#ff6600','#ffff00','#80ff00','#009900','#00ffcc','#0099ff','#0000ff','#ff00ff','#ff0055'])\n",
    "# # axs[2,0].scatter(x,y5_h05j1,marker='X',color=['#ff0000','#ff6600','#ffff00','#80ff00','#009900','#00ffcc','#0099ff','#0000ff','#ff00ff','#ff0055'])\n",
    "\n",
    "# l1d_5=axs[2,0].axhline(y=-0.5, color='#ff0000', linestyle='--',label = 'N=1')\n",
    "# l2d_5=axs[2,0].axhline(y=-2.23606798/2, color='#ff8000', linestyle='--',label = 'N=2')\n",
    "# l3d_5=axs[2,0].axhline(y=-3.23205081/3, color='#ffff00', linestyle='--',label = 'N=3')\n",
    "# l4d_5=axs[2,0].axhline(y=-4.27155841/4, color='#80ff00', linestyle='--',label = 'N=4')\n",
    "# l5d_5=axs[2,0].axhline(y=-5.32534307/5, color='#009900', linestyle='--',label = 'N=5')\n",
    "# l6d_5=axs[2,0].axhline(y=-6.38469456/6, color='#00ffcc', linestyle='--',label = 'N=6')\n",
    "# l7d_5=axs[2,0].axhline(y=-7.44637965/7, color='#0099ff', linestyle='--',label = 'N=7')\n",
    "# l8d_5=axs[2,0].axhline(y=-8.50908224/8, color='#0000ff', linestyle='--',label = 'N=8')\n",
    "# l9d_5=axs[2,0].axhline(y=-9.57223979/9, color='#ff00ff', linestyle='--',label = 'N=9')\n",
    "# l10d_5=axs[2,0].axhline(y=-10.63560441/10, color='#ff0055', linestyle='--',label = 'N=10')\n",
    "# axs[2,0].legend(shadow=False, title=\"Theoretical minima of E/N\", framealpha=0.3, ncol=3,fancybox=True)\n",
    "\n",
    "for ax in axs.flat:\n",
    "#     ax.xaxis.set_major_locator(MaxNLocator(integer=True))\n",
    "    ax.set(xlabel='N qubits', ylabel='Energy/N')\n",
    "    ax.yaxis.label.set_size(15)\n",
    "    ax.xaxis.label.set_size(15)"
   ]
  },
  {
   "cell_type": "code",
   "execution_count": null,
   "metadata": {},
   "outputs": [],
   "source": []
  }
 ],
 "metadata": {
  "kernelspec": {
   "display_name": "Python 3",
   "language": "python",
   "name": "python3"
  },
  "language_info": {
   "codemirror_mode": {
    "name": "ipython",
    "version": 3
   },
   "file_extension": ".py",
   "mimetype": "text/x-python",
   "name": "python",
   "nbconvert_exporter": "python",
   "pygments_lexer": "ipython3",
   "version": "3.8.1"
  }
 },
 "nbformat": 4,
 "nbformat_minor": 2
}
