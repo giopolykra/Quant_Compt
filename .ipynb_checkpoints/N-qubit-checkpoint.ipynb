{
 "cells": [
  {
   "cell_type": "markdown",
   "metadata": {},
   "source": [
    "# <center>Attempts to Minimize the 1d Ising Hamiltonian with Qiskit (Classical & Quantum case)"
   ]
  },
  {
   "cell_type": "markdown",
   "metadata": {},
   "source": [
    "## <center>We correspond each spin of the N-chain 1d-Ising model with a qubit of a circuit  "
   ]
  },
  {
   "cell_type": "markdown",
   "metadata": {},
   "source": [
    "# $1^{st}$ Solution:"
   ]
  },
  {
   "cell_type": "code",
   "execution_count": 23,
   "metadata": {},
   "outputs": [],
   "source": [
    "from matplotlib import pyplot as plt\n",
    "from qiskit.visualization import plot_histogram\n",
    "from matplotlib.patches import Rectangle\n",
    "import numpy as np\n",
    "from qiskit import *\n",
    "from itertools import product\n",
    "import random\n",
    "from IPython.display import Image"
   ]
  },
  {
   "cell_type": "code",
   "execution_count": 24,
   "metadata": {},
   "outputs": [
    {
     "name": "stdout",
     "output_type": "stream",
     "text": [
      "['000', '001', '010', '011', '100', '101', '110', '111']\n"
     ]
    }
   ],
   "source": [
    "#We will need this function when we try to see all the possible 2^N states of the N qubit system basis\n",
    "def qubit_list(Nqubit):\n",
    "    li = ['0', '1']\n",
    "    #for comb in product(li, repeat=3):\n",
    "    #print(''.join(comb))\n",
    "    combs = [''.join(comb) for comb in product(li, repeat = Nqubit)]\n",
    "    return combs\n",
    "print(qubit_list(3))"
   ]
  },
  {
   "cell_type": "code",
   "execution_count": 25,
   "metadata": {},
   "outputs": [],
   "source": [
    "#We will need this function when we try to create a list for the counts including the states that where not observed\n",
    "def conv_qubitbook(counts):\n",
    "    N = len(str(list(counts.items())[0][0]))\n",
    "    #I did that so that I wont have to include another input to the function\n",
    "    qubitbook = counts\n",
    "    for i in qubit_list(N):\n",
    "        if i not in qubitbook.keys():\n",
    "            qubitbook[i] = 0\n",
    "    return qubitbook"
   ]
  },
  {
   "cell_type": "markdown",
   "metadata": {},
   "source": [
    "For simplicity we will define all the couplings to be 1. Also we will not consider periodic bc just yet"
   ]
  },
  {
   "cell_type": "markdown",
   "metadata": {},
   "source": [
    "<center> The classical Ising model Hamiltonian:\n",
    "$$H = -\\sum^{N-1}_{i}J_{i}\\sigma_{i}\\sigma_{i+1}-\\sum^{N}_{i}h_{i}\\sigma_{i}$$\n",
    "where each spin can be in the $+1$ or $-1$ spin state and $J_{i}$ are the nearest-neighbour coupling strengths."
   ]
  },
  {
   "cell_type": "code",
   "execution_count": 27,
   "metadata": {},
   "outputs": [
    {
     "name": "stdout",
     "output_type": "stream",
     "text": [
      "h= [1, 1, 1] \n",
      "J= [1, 1]\n"
     ]
    }
   ],
   "source": [
    "def couplings(N):\n",
    "    h = []\n",
    "    J = [] \n",
    "    for i in range(N):\n",
    "        h.append(random.choice(range(1,2,2)))\n",
    "    for j in range(N-1):\n",
    "        J.append(random.choice(range(1,2,2)))\n",
    "    return h,J\n",
    "\n",
    "print(\"h=\",couplings(3)[0],\"\\nJ=\",couplings(3)[1])"
   ]
  },
  {
   "cell_type": "markdown",
   "metadata": {},
   "source": [
    "We define our randomly initialized parameter vector"
   ]
  },
  {
   "cell_type": "code",
   "execution_count": 28,
   "metadata": {},
   "outputs": [
    {
     "name": "stdout",
     "output_type": "stream",
     "text": [
      "[[1.84118634 2.28047089 5.77944396]\n",
      " [2.50130533 1.08588656 3.47216067]\n",
      " [4.83657684 1.013246   0.50426994]\n",
      " [4.7580115  2.38429535 2.38489347]]\n"
     ]
    }
   ],
   "source": [
    "def rand_rot_vec(N):\n",
    "    p = (N,3)\n",
    "    p = np.zeros(p)\n",
    "    for i in range(N):\n",
    "        p[i][0] = np.pi * np.random.uniform(0, 2)\n",
    "        p[i][1] = np.pi * np.random.uniform(0, 2)\n",
    "        p[i][2] = np.pi * np.random.uniform(0, 2)\n",
    "    return p\n",
    "print(rand_rot_vec(4))"
   ]
  },
  {
   "cell_type": "code",
   "execution_count": 29,
   "metadata": {
    "scrolled": false
   },
   "outputs": [
    {
     "data": {
      "image/png": "[encoded data removed]",
      "text/plain": [
       "<Figure size 418.992x325.08 with 1 Axes>"
      ]
     },
     "execution_count": 29,
     "metadata": {},
     "output_type": "execute_result"
    }
   ],
   "source": [
    "#I decited that in order to perform expectation values it would be easier to take the output measurement \n",
    "#of each registed seperately\n",
    "def circuit(N,param,register):\n",
    "    qr = QuantumRegister(N)\n",
    "    cr = ClassicalRegister(1)\n",
    "    qc = QuantumCircuit(qr, cr)\n",
    "    for j in range(1,N):\n",
    "        qc.u3(param[j][0],param[j][1],param[j][2],qr[j])\n",
    "    qc.h(qr[0])\n",
    "    qc.x(qr[1])\n",
    "    #qc.x(qr[2])\n",
    "    qc.unitary\n",
    "    qc.measure(qr[register], cr[0])\n",
    "    #[qc.measure(qr[i], cr[0]) for i in range(N)]\n",
    "    return qc\n",
    "param = rand_rot_vec(4)\n",
    "qc = circuit(4,param,0)\n",
    "qc.draw(output = 'mpl')"
   ]
  },
  {
   "cell_type": "markdown",
   "metadata": {},
   "source": [
    "We define a function that returns the expectation value of the PauliZ matrix. \n",
    "For the ith-register at the end of the circuit we can have a state of the form \n",
    "$$|\\psi>_{i}=\\alpha|0>+\\beta|1>$$\n",
    "The probability to measure $|0>$ or $|1>$ are\n",
    "$P_{0}=|<0|\\psi>|^2$ and $P_{1}=|<1|\\psi>|^2$.\n",
    "\n",
    "Now for the expectation value of the PauliZ matrix $\\begin{pmatrix}\n",
    "1 & 0\\\\\n",
    "0 & -1\n",
    "\\end{pmatrix}$ \n",
    "we see that \n",
    "$$\n",
    "\\begin{align}\n",
    "<\\psi|Z|\\psi>=&<\\psi|\\left(|0><0|-|1><1|\\right)|\\psi>\\\\\n",
    "=&<\\psi|0><0|\\psi>-<\\psi|1><1|\\psi>\\\\\n",
    "=&P_{0}-P_{1}\\\\\n",
    "=&\\frac{counts_{|0>}}{\\text{total counts}}-\\frac{counts_{|1>}}{\\text{total counts}}\n",
    "\\end{align}\n",
    "$$\n",
    "In the above we assume a normalized state\n",
    " "
   ]
  },
  {
   "cell_type": "markdown",
   "metadata": {},
   "source": [
    "We will simulate the circuit for each register seperatelly in order to distinguish the expextation value of the PauliZ matrix for each one. For example for the 1st register we will get:"
   ]
  },
  {
   "cell_type": "markdown",
   "metadata": {},
   "source": [
    "\n",
    "Now for the expectation value of the Pauli Z matrix:\n",
    "\n",
    "$\\begin{pmatrix}\n",
    "1 & 0\\\\\n",
    "0 & -1\n",
    "\\end{pmatrix}$ \n",
    "we see that \n",
    "$$\n",
    "\\begin{align}\n",
    "<\\psi|Z|\\psi>=&<\\psi|\\left(|0><0|-|1><1|\\right)|\\psi>\\\\\n",
    "=&<\\psi|0><0|\\psi>-<\\psi|1><1|\\psi>\\\\\n",
    "=&P_{0}-P_{1}\\\\\n",
    "=&\\frac{counts_{|0>}}{\\text{total counts}}-\\frac{counts_{|1>}}{\\text{total counts}}\n",
    "\\end{align}\n",
    "$$"
   ]
  },
  {
   "cell_type": "code",
   "execution_count": 30,
   "metadata": {
    "scrolled": true
   },
   "outputs": [
    {
     "data": {
      "image/png": "[encoded data removed]",
      "text/plain": [
       "<Figure size 504x360 with 1 Axes>"
      ]
     },
     "execution_count": 30,
     "metadata": {},
     "output_type": "execute_result"
    }
   ],
   "source": [
    "#The counts of a simulation when we only measure the outpun of the 1st register\n",
    "counts = execute(circuit(4,param,0),Aer.get_backend('qasm_simulator'),shots=1).result().get_counts()\n",
    "plot_histogram(conv_qubitbook(counts),title = \"Register 1\")"
   ]
  },
  {
   "cell_type": "markdown",
   "metadata": {},
   "source": [
    "And for the 3rd:"
   ]
  },
  {
   "cell_type": "code",
   "execution_count": 31,
   "metadata": {},
   "outputs": [
    {
     "data": {
      "image/png": "[encoded data removed]",
      "text/plain": [
       "<Figure size 504x360 with 1 Axes>"
      ]
     },
     "execution_count": 31,
     "metadata": {},
     "output_type": "execute_result"
    }
   ],
   "source": [
    "counts = execute(circuit(4,param,2),Aer.get_backend('qasm_simulator')).result().get_counts()\n",
    "plot_histogram(conv_qubitbook(counts),title = \"Register 3\")"
   ]
  },
  {
   "cell_type": "markdown",
   "metadata": {},
   "source": [
    "### Now lets loop over all registers and compute the outut distribution $<\\psi|Z|\\psi>$ from each register "
   ]
  },
  {
   "cell_type": "code",
   "execution_count": 32,
   "metadata": {},
   "outputs": [],
   "source": [
    "def expval_pauli_z(N, param ,shots=1000, p = False):\n",
    "    expval = []\n",
    "    for j in range(N):\n",
    "        qc = circuit(N,param,j)\n",
    "        job = execute(qc,Aer.get_backend('qasm_simulator'),shots=1000)\n",
    "        result = job.result()\n",
    "        counts = result.get_counts(qc)\n",
    "        counts = conv_qubitbook(counts)\n",
    "        #print(\"counts:\",counts)\n",
    "        probs = [(i, c/shots) for i, c in counts.items()]\n",
    "        probs = sorted(probs)\n",
    "        if p == False:\n",
    "            print(\"probabilities register {}:{}\".format(j,probs))\n",
    "        P = np.float64(np.array(probs)[:, 1])\n",
    "        #print(\"P:\",P)\n",
    "        expval.append(P[0]-P[1])\n",
    "    return expval"
   ]
  },
  {
   "cell_type": "code",
   "execution_count": 33,
   "metadata": {},
   "outputs": [
    {
     "name": "stdout",
     "output_type": "stream",
     "text": [
      "probabilities register 0:[('0', 0.499), ('1', 0.501)]\n",
      "probabilities register 1:[('0', 0.214), ('1', 0.786)]\n",
      "probabilities register 2:[('0', 0.986), ('1', 0.014)]\n"
     ]
    },
    {
     "data": {
      "text/plain": [
       "[-0.0020000000000000018, -0.5720000000000001, 0.972]"
      ]
     },
     "execution_count": 33,
     "metadata": {},
     "output_type": "execute_result"
    }
   ],
   "source": [
    "expval_pauli_z(3,rand_rot_vec(3))"
   ]
  },
  {
   "cell_type": "code",
   "execution_count": 34,
   "metadata": {},
   "outputs": [
    {
     "name": "stdout",
     "output_type": "stream",
     "text": [
      "0.14168799999999993\n"
     ]
    }
   ],
   "source": [
    "def cost(N,param):\n",
    "    # the circuit function returns a numpy array of Pauli-Z expectation values\n",
    "    spins = expval_pauli_z(N,param,p = True)\n",
    "    # the expectation value of Pauli-Z is +1 for spin up and -1 for spin down\n",
    "    h = couplings(N)[0]\n",
    "    J = couplings(N)[1]\n",
    "    energy=-h[N-1] * spins[N-1];\n",
    "    for i in range(N-1):\n",
    "        energy = energy -(J[i] * spins[i] * spins[i+1] + h[i] * spins[i])\n",
    "    return energy\n",
    "print(cost(3,rand_rot_vec(3)))"
   ]
  },
  {
   "cell_type": "code",
   "execution_count": 35,
   "metadata": {},
   "outputs": [
    {
     "name": "stdout",
     "output_type": "stream",
     "text": [
      "Energy for [-0.04600000000000004, -0.8859999999999999, -0.998] spin configuration is: -1.113216\n"
     ]
    }
   ],
   "source": [
    "print(\"Energy for\", expval_pauli_z(3,rand_rot_vec(3),p = True), \"spin configuration is:\", cost(3,rand_rot_vec(3)))"
   ]
  },
  {
   "cell_type": "code",
   "execution_count": 36,
   "metadata": {
    "scrolled": true
   },
   "outputs": [
    {
     "name": "stdout",
     "output_type": "stream",
     "text": [
      "Randomly initialized angles of our 3 qubit circuit:\n",
      " [[2.85484636 6.03728424 4.18847616]\n",
      " [5.46757288 3.41495645 5.21281608]\n",
      " [0.62781812 5.28132453 3.77643915]]\n",
      "The corresponding cost:\n",
      " 0.8861199999999998\n"
     ]
    }
   ],
   "source": [
    "print(\"Randomly initialized angles of our 3 qubit circuit:\\n\",rand_rot_vec(3))\n",
    "print(\"The corresponding cost:\\n\",cost(3,rand_rot_vec(3)))"
   ]
  },
  {
   "cell_type": "code",
   "execution_count": 37,
   "metadata": {
    "scrolled": true
   },
   "outputs": [
    {
     "name": "stdout",
     "output_type": "stream",
     "text": [
      "counts: [{'1': 519, '0': 505}, {'1': 837, '0': 187}, {'1': 306, '0': 718}]\n",
      "labels: ['register 1', 'register 2', 'register 3']\n"
     ]
    },
    {
     "data": {
      "image/png": "[encoded data removed]",
      "text/plain": [
       "<Figure size 504x360 with 1 Axes>"
      ]
     },
     "execution_count": 37,
     "metadata": {},
     "output_type": "execute_result"
    }
   ],
   "source": [
    "def counts_print(N):\n",
    "    counts_book = []\n",
    "    labels = []\n",
    "    for i in range(N):\n",
    "        counts = execute(circuit(3,rand_rot_vec(3),i),Aer.get_backend('qasm_simulator')).result().get_counts()\n",
    "        counts_book.append(counts)\n",
    "        labels.append(\"register %d\" % (i+1))\n",
    "    return counts_book,labels\n",
    "\n",
    "print(\"counts:\",counts_print(3)[0])\n",
    "print(\"labels:\",counts_print(3)[1])\n",
    "plot_histogram(counts_print(3)[0],legend = counts_print(3)[1], title = \"Probabilities \")"
   ]
  },
  {
   "cell_type": "markdown",
   "metadata": {},
   "source": [
    "### In the above we have to run the circuit every time we want to measure a different register. It would be more efficient if we took the whole state from all the register as an array and then separate the items to compute any expectation value."
   ]
  },
  {
   "cell_type": "markdown",
   "metadata": {},
   "source": [
    "## Idea (not realized):\n",
    "### Measure all registers at once for each shot. Compute the exp_value of the Pauli Z. Create an array of dictionaries that will keep the measurements for all registers itterativle for each shot i.e:$$exp\\_z=[\\underbrace{\\{\"0\": 0.3,\"1\":0.7\\}}_{\\text{register 1}},\\underbrace{\\{\"0\": 0.95,\"1\":0.05\\}}_{\\text{register 2}},\\underbrace{\\{\"0\": 0,\"1\":1\\}}_{\\text{register 3}},...]$$\n",
    "## Then use this to compute objects like \n",
    "$$<\\psi|ZZ|\\psi>=\\sum^{N-1}_{i=1}<\\psi_{i}|Z_{i}|\\psi_{i}><\\psi_{i+1}|Z_{i+1}|\\psi_{i+1}>\n",
    "=\\sum^{N-1}_{i=1}H[i],\\quad H[i]=\n",
    "\\begin{cases}\n",
    "  +1 & \\text{for }exp\\_z(i)=exp\\_z(i+1)\\\\    \n",
    "  -1 & \\text{for }exp\\_z(i)\\neq exp\\_z(i+1)\\\\        \n",
    "\\end{cases}$$ \n",
    "\n",
    "and \n",
    "$$<\\psi|X|\\psi>$$"
   ]
  },
  {
   "cell_type": "markdown",
   "metadata": {},
   "source": [
    "## Idea2 (not realized):\n",
    "\n",
    "### Say we have 3 qubits. The list of possible output states that can arrise from one measurement is $['000', '001', '010', '011', '100', '101', '110', '111']$. We can define two arrays of the subset states for which the registers [i] and [i+1] give parallel or antiparallel states i.e:\n",
    "### paral[1]=['000','100','011','111']  antiparal[1]=['001','010','101','110']\n",
    "### paral[2]=['000','110','001','111']  antiparal[2]=['010','100','011','101']\n",
    "\n",
    "### (remember that in qiskit the states are defined in a reverse notation that is for the '001' state the '1' corresponds to the 1st measurement in the circuit)"
   ]
  },
  {
   "cell_type": "markdown",
   "metadata": {},
   "source": [
    "## Then use this to compute objects like \n",
    "$$<\\psi|ZZ|\\psi>=\\sum^{N-1}_{i=1}<\\psi_{i}|Z_{i}|\\psi_{i}><\\psi_{i+1}|Z_{i+1}|\\psi_{i+1}>\n",
    "=\\sum^{N-1}_{i=1}H[i],\\quad H[i]=\n",
    "\\begin{cases}\n",
    "  +1 & \\text{for } state\\in paral[i]\\\\    \n",
    "  -1 & \\text{for } state\\in anti-paral[i]\\\\        \n",
    "\\end{cases}$$ \n",
    "\n",
    "and \n",
    "$$<\\psi|X|\\psi>$$"
   ]
  },
  {
   "cell_type": "code",
   "execution_count": 38,
   "metadata": {},
   "outputs": [
    {
     "name": "stdout",
     "output_type": "stream",
     "text": [
      "{'100': 6, '111': 167, '010': 142, '110': 56, '101': 21, '001': 62, '011': 554, '000': 16}\n",
      "{'100': 6, '111': 167, '010': 142, '110': 56, '101': 21, '001': 62, '011': 554, '000': 16}\n",
      "[('000', 16), ('001', 62), ('010', 142), ('011', 554), ('100', 6), ('101', 21), ('110', 56), ('111', 167)]\n",
      "['000', '001', '010', '011', '100', '101', '110', '111']\n"
     ]
    },
    {
     "data": {
      "image/png": "[encoded data removed]",
      "text/plain": [
       "<Figure size 504x360 with 1 Axes>"
      ]
     },
     "execution_count": 38,
     "metadata": {},
     "output_type": "execute_result"
    }
   ],
   "source": [
    "import operator\n",
    "def circuit_measure_all(N,param):\n",
    "    qr = QuantumRegister(N)\n",
    "    cr = ClassicalRegister(N)\n",
    "    qc = QuantumCircuit(qr, cr)\n",
    "    for j in range(N):\n",
    "        qc.u3(param[j][0],param[j][1],param[j][2],qr[j])\n",
    "    qc.x(qr[0])\n",
    "    #qc.x(qr[1])\n",
    "    #qc.x(qr[2])\n",
    "    qc.unitary\n",
    "    [qc.measure(qr[i], cr[i]) for i in range(N)]\n",
    "    return qc\n",
    "N=3\n",
    "qc = circuit_measure_all(N,rand_rot_vec(N))\n",
    "counts = execute(qc,Aer.get_backend('qasm_simulator')).result().get_counts()\n",
    "print(counts)\n",
    "new_dict = conv_qubitbook(counts)\n",
    "print(new_dict)\n",
    "sorted_dict = sorted(new_dict.items(), key=operator.itemgetter(0))\n",
    "print(sorted_dict)\n",
    "print(qubit_list(N))\n",
    "plot_histogram(conv_qubitbook(counts))\n",
    "#qc.draw(output = 'mpl')"
   ]
  },
  {
   "cell_type": "markdown",
   "metadata": {},
   "source": [
    "## So far the observable was the Pauli matrix Z. Lets try the case where the observable is the <font color=' #16a085 '> Quantum Ising Hamiltonian </font>"
   ]
  },
  {
   "cell_type": "markdown",
   "metadata": {},
   "source": [
    "<center> The quantum Ising Hamiltonian:\n",
    "$$H=-\\sum^{N-1}_{i}\\sum^{N}_{j>i} J_{ij}\\sigma^{z}_{i}\\sigma^{z}_{j}-\\sum^{N}_{i}h_{i}\\sigma^{x}_{i}$$\n",
    "\n",
    "and in the 1-d case: \n",
    "$$H=-\\sum^{N-1}_{i} J_{i}\\sigma^{z}_{i}\\sigma^{z}_{i+1}-\\sum^{N}_{i}h_{i}\\sigma^{x}_{i}$$\n",
    "Where $\\sigma^{\\gamma=x,y,z}_{i}$ are the Pauli matrices. Sometimes it is called \"Ising model in a transverse field\" because of the presence of the $\\sigma^{x}$ term.\n",
    "\n",
    "As for the expectation value:\n",
    "$$<\\psi|H|\\psi>=-\\sum^{N-1}_{i=1}J_{i}<\\psi_{i}|\\sigma^{z}_{i}|\\psi_{i}><\\psi_{i+1}|\\sigma^{z}_{i+1}|\\psi_{i+1}>-\\sum^{N}_{i=1}h_{i}<\\psi_{i}|\\sigma^{x}_{i}|\\psi_{i}>$$\n",
    "Where $|\\psi_{i}>$ is the state at the i-th register. Now each $|\\psi_{i}>$ is of the form $|\\psi_{i}>=a_{i}|0>+b_{i}|1>$. Therefore since:\n",
    "$$<\\psi_{i}|\\sigma^{z}_{i}|\\psi_{i}>=a_{i}-b_{i}\\quad\\text{and}\\quad <\\psi_{i}|\\sigma^{x}_{i}|\\psi_{i}>=2a_{i}b_{i}$$\n",
    "we have that\n",
    "$$<\\psi_{i}|\\sigma^{z}_{i}|\\psi_{i}>=P_{i}(0)-P_{i}(1)\\quad\\text{and}\\quad <\\psi_{i}|\\sigma^{x}_{i}|\\psi_{i}>=2P_{i}(0)P_{i}(1)$$\n",
    "So \n",
    "$$<\\psi|H|\\psi>=\\underbrace{-\\sum^{N-1}_{i=1}J_{i}(P_{i}(0)-P_{i}(1))(P_{i+1}(0)-P_{i+1}(1))}_{H1}\\underbrace{-2\\sum^{N}_{i=1}h_{i}P_{i}(0)P_{i}(1)}_{H2}$$\n",
    "\n",
    "\n",
    "Where $P_{i}(0)$ and $P_{i}(1)$ are the probabilities the i-th register to give a qubit $|0>$ or $|1>$ respectively.\n",
    "(The quantum hamiltonian does not depend on the boundary condition in the x direction)"
   ]
  },
  {
   "cell_type": "markdown",
   "metadata": {},
   "source": [
    "### Stefan's suggestion (didnt see how to incorporate it computationaly but I will look into it):\n",
    "\n",
    "Now if we wanted we could go to the basis where the Pauli $\\sigma^{x}$ matrix is diagonal, $S^{-1}\\sigma^{X}S=D=\\begin{pmatrix}\n",
    "1 & 0\\\\\n",
    "0 & -1\n",
    "\\end{pmatrix}$ \n",
    "with $S=S^{-1}=\\frac{1}{\\sqrt{2}}\\begin{pmatrix}\n",
    "1 & 1\\\\\n",
    "1 & -1\n",
    "\\end{pmatrix}$.\n",
    "\n",
    "So: $$<\\psi_{i}|\\sigma^{X}|\\psi_{i}>=<\\psi_{i}|SDS^{-1}|\\psi_{i}>=<\\psi'_{i}|D|\\psi'_{i}> \\quad\\text{with} \\quad|\\psi'_{i}>=S^{-1}|\\psi_{i}>$$"
   ]
  },
  {
   "cell_type": "code",
   "execution_count": 39,
   "metadata": {},
   "outputs": [
    {
     "name": "stdout",
     "output_type": "stream",
     "text": [
      "[{'0': 0.49806, '1': 0.50194}, {'0': 0.29217, '1': 0.70783}, {'0': 0.00546, '1': 0.99454}]\n"
     ]
    }
   ],
   "source": [
    "#Convert counts into probabilities\n",
    "shots=100000\n",
    "a = []\n",
    "counts = [{'0': 49806, '1': 50194}, {'0': 29217, '1': 70783}, {'0': 546, '1': 99454}]\n",
    "[a.append({k: v / shots for total in (sum(counts[i].values()),) for k, v in counts[i].items()}) for i in range(len(counts))]\n",
    "print(a)"
   ]
  },
  {
   "cell_type": "code",
   "execution_count": 40,
   "metadata": {},
   "outputs": [],
   "source": [
    "def expval_ising(N, param, h, J ,shots):\n",
    "    part1 = []\n",
    "    part2 = []\n",
    "    counts_array = []\n",
    "    probs_array = []\n",
    "    labels = []\n",
    "    H1 = 0\n",
    "    H2 = 0\n",
    "    for register in range(N):\n",
    "        qc = circuit(N,param,register)\n",
    "        job = execute(qc,Aer.get_backend('qasm_simulator'),shots=100000)\n",
    "        result = job.result()\n",
    "        counts = result.get_counts(qc)\n",
    "        #To account for the case where a register gives only one qubit with probability 1 after all shots\n",
    "        counts = conv_qubitbook(counts)\n",
    "        print(\"counts after qubitbook:\",counts)\n",
    "        counts_array.append(counts)\n",
    "        probs = [(i, c/shots) for i, c in counts.items()]\n",
    "        print(\"probs:\",probs)\n",
    "        probs_array.append(probs)\n",
    "        P = [probs[0][1],probs[1][1]]\n",
    "        print(\"P:\",P)\n",
    "        part1.append(P[0]-P[1])\n",
    "        #print(\"part1:\",part1)\n",
    "        part2.append(P[0]*P[1])\n",
    "        #print(\"part2:\",part2) \n",
    "        H2 = H2 -2*h[register]*part2[register]\n",
    "        labels.append(\"register %d\" % (register+1))\n",
    "    for i in range(N-1):\n",
    "        H1 = H1 - J[i]*part1[i]*part1[i+1]\n",
    "    exp_hamilt_ising = H1+H2\n",
    "    print(\"counts:\",counts_array)\n",
    "    print(\"probs_array:\",probs_array)\n",
    "    print(\"labels:\",labels)\n",
    "    print(\"exp_hamilt_ising:\",exp_hamilt_ising)\n",
    "    return exp_hamilt_ising\n",
    "    #return labels, counts_array, probs_array, exp_hamilt_ising"
   ]
  },
  {
   "cell_type": "code",
   "execution_count": 22,
   "metadata": {
    "scrolled": true
   },
   "outputs": [
    {
     "name": "stdout",
     "output_type": "stream",
     "text": [
      "counts after qubitbook: {'1': 50078, '0': 49922}\n",
      "probs: [('1', 0.50078), ('0', 0.49922)]\n",
      "P: [0.50078, 0.49922]\n",
      "counts after qubitbook: {'1': 67911, '0': 32089}\n",
      "probs: [('1', 0.67911), ('0', 0.32089)]\n",
      "P: [0.67911, 0.32089]\n",
      "counts after qubitbook: {'1': 94456, '0': 5544}\n",
      "probs: [('1', 0.94456), ('0', 0.05544)]\n",
      "P: [0.94456, 0.05544]\n",
      "counts: [{'1': 50078, '0': 49922}, {'1': 67911, '0': 32089}, {'1': 94456, '0': 5544}]\n",
      "probs_array: [[('1', 0.50078), ('0', 0.49922)], [('1', 0.67911), ('0', 0.32089)], [('1', 0.94456), ('0', 0.05544)]]\n",
      "labels: ['register 1', 'register 2', 'register 3']\n",
      "exp_hamilt_ising: -1.3596302014000001\n",
      "<\\psi|H|\\psi>(param)= -1.3596302014000001\n"
     ]
    }
   ],
   "source": [
    "N=3\n",
    "shots = 100000\n",
    "h = couplings(N)[0]\n",
    "J = couplings(N)[1]\n",
    "param = rand_rot_vec(4)\n",
    "print(\"<\\psi|H|\\psi>(param)=\",expval_ising(N, param, h, J ,shots))\n",
    "#labels, counts_array, probs_array, exp_hamilt_ising = expval_ising(N, param , h, J,shots)\n",
    "#plot_histogram(exp_hamilt_ising,legend = labels)"
   ]
  },
  {
   "cell_type": "markdown",
   "metadata": {},
   "source": [
    "### We just found $<\\psi|H|\\psi>$ but for a specific (random) choice of parameters {$\\vec{\\theta}$}. Now we have to optimize over those in order to find the minimum"
   ]
  },
  {
   "cell_type": "markdown",
   "metadata": {},
   "source": [
    "I had to move most of the parameters of the optimized functions inside and leave  only the ones that are going to be optimized as an input"
   ]
  },
  {
   "cell_type": "code",
   "execution_count": 67,
   "metadata": {},
   "outputs": [
    {
     "name": "stdout",
     "output_type": "stream",
     "text": [
      "[0.08614623 0.08159375 0.20068961 0.02265475 0.18206198 0.18340118\n",
      " 0.05619902 0.1872535 ] 0.9999999999999999\n"
     ]
    }
   ],
   "source": [
    "import numpy as np\n",
    "np.random.seed(999999)\n",
    "N=3\n",
    "target_distr = np.random.rand(2**N)\n",
    "#we define 9 parameters because we know we are going to end up with 4 states after measurement\n",
    "# We now convert the random vector into a valid probability vector\n",
    "target_distr /= sum(target_distr)\n",
    "print(target_distr ,sum(target_distr))"
   ]
  },
  {
   "cell_type": "markdown",
   "metadata": {},
   "source": [
    "I also arranged the $\\vec{\\theta}$ parameters in a single array for the convenience  of COBYLA"
   ]
  },
  {
   "cell_type": "code",
   "execution_count": 68,
   "metadata": {},
   "outputs": [
    {
     "name": "stdout",
     "output_type": "stream",
     "text": [
      "[3.26372132 4.07545528 4.01529403 0.89047913 0.59180376 5.73772399\n",
      " 1.10634507 0.10605541 0.74697552]\n"
     ]
    }
   ],
   "source": [
    "param_trial = 2*np.pi*np.random.rand(N*3)\n",
    "print(param_trial)"
   ]
  },
  {
   "cell_type": "code",
   "execution_count": 69,
   "metadata": {},
   "outputs": [],
   "source": [
    "def circ(Nqubits,param, register):\n",
    "    qr = QuantumRegister(Nqubits)\n",
    "    cr = ClassicalRegister(1)\n",
    "    qc = QuantumCircuit(qr, cr)\n",
    "    for i in range(Nqubits):\n",
    "        qc.u3(param[i],param[i+1],param[i+2],qr[i])\n",
    "    qc.barrier()\n",
    "    qc.measure(qr[register], cr[0])\n",
    "    return qc"
   ]
  },
  {
   "cell_type": "code",
   "execution_count": 70,
   "metadata": {},
   "outputs": [],
   "source": [
    "def circ_measure_all(Nqubits,param):\n",
    "    qr = QuantumRegister(Nqubits)\n",
    "    cr = ClassicalRegister(Nqubits)\n",
    "    qc = QuantumCircuit(qr, cr)\n",
    "    for i in range(Nqubits):\n",
    "        qc.x(qr[i])\n",
    "        qc.u3(param[i],param[i+1],param[i+2],qr[i])\n",
    "    #for j in range(Nqubits-1):\n",
    "    #    qc.cx(qr[j],qr[j+1])\n",
    "    qc.barrier()\n",
    "    [qc.measure(qr[register], cr[register]) for register in range(Nqubits)]\n",
    "    return qc"
   ]
  },
  {
   "cell_type": "code",
   "execution_count": 71,
   "metadata": {},
   "outputs": [],
   "source": [
    "def get_probability_distribution(counts):\n",
    "    #output_distr = [v / NUM_SHOTS for v in counts.values()]\n",
    "    output_distr = [(i, c/NUM_SHOTS) for i, c in counts.items()]\n",
    "    if len(output_distr) == 1:\n",
    "        output_distr.append(0)\n",
    "    return output_distr"
   ]
  },
  {
   "cell_type": "code",
   "execution_count": 72,
   "metadata": {},
   "outputs": [],
   "source": [
    "def expval_ising(param):\n",
    "    part1 = []\n",
    "    part2 = []\n",
    "    counts_array = []\n",
    "    probs_array = []\n",
    "    labels = []\n",
    "    H1 = 0\n",
    "    H2 = 0\n",
    "    N=3\n",
    "    h = couplings(N)[0]\n",
    "    J = couplings(N)[1]\n",
    "    shots = 100000\n",
    "    for register in range(N):\n",
    "        qc = circ(N,param,register)\n",
    "        job = execute(qc,Aer.get_backend('qasm_simulator'),shots=100000)\n",
    "        result = job.result()\n",
    "        counts = result.get_counts(qc)\n",
    "        #To account for the case where a register gives only one qubit with probability 1 after all shots\n",
    "        counts = conv_qubitbook(counts)\n",
    "        print(\"register[{}] counts after qubitbook:{}\".format(register,counts))\n",
    "        counts_array.append(counts)\n",
    "        probs = [(i, c/shots) for i, c in counts.items()]\n",
    "        print(\"register[{}] probs:{}\".format(register,probs))\n",
    "        probs_array.append(probs)\n",
    "        P = [probs[0][1],probs[1][1]]\n",
    "        print(\"register[{}] P:{}\".format(register,P))\n",
    "        part1.append(P[0]-P[1])\n",
    "        #print(\"part1:\",part1)\n",
    "        part2.append(P[0]*P[1])\n",
    "        #print(\"part2:\",part2) \n",
    "        H2 = H2 -2*h[register]*part2[register]\n",
    "        labels.append(\"register %d\" % (register+1))\n",
    "    for i in range(N-1):\n",
    "        H1 = H1 - J[i]*part1[i]*part1[i+1]\n",
    "    exp_hamilt_ising = H1+H2\n",
    "    print(\"counts:\",counts_array)\n",
    "    print(\"probs_array:\",probs_array)\n",
    "    print(\"labels:\",labels)\n",
    "    print(\"exp_hamilt_ising:\",exp_hamilt_ising)\n",
    "    return exp_hamilt_ising\n",
    "    #return labels, counts_array, probs_array, exp_hamilt_ising"
   ]
  },
  {
   "cell_type": "code",
   "execution_count": 74,
   "metadata": {
    "scrolled": false
   },
   "outputs": [
    {
     "name": "stdout",
     "output_type": "stream",
     "text": [
      "register[0] counts after qubitbook:{'1': 99665, '0': 335}\n",
      "register[0] probs:[('1', 0.99665), ('0', 0.00335)]\n",
      "register[0] P:[0.99665, 0.00335]\n",
      "register[1] counts after qubitbook:{'1': 79721, '0': 20279}\n",
      "register[1] probs:[('1', 0.79721), ('0', 0.20279)]\n",
      "register[1] P:[0.79721, 0.20279]\n",
      "register[2] counts after qubitbook:{'1': 82255, '0': 17745}\n",
      "register[2] probs:[('1', 0.82255), ('0', 0.17745)]\n",
      "register[2] P:[0.82255, 0.17745]\n",
      "counts: [{'1': 99665, '0': 335}, {'1': 79721, '0': 20279}, {'1': 82255, '0': 17745}]\n",
      "probs_array: [[('1', 0.99665), ('0', 0.00335)], [('1', 0.79721), ('0', 0.20279)], [('1', 0.82255), ('0', 0.17745)]]\n",
      "labels: ['register 1', 'register 2', 'register 3']\n",
      "exp_hamilt_ising: -1.5958307098\n",
      "register[0] counts after qubitbook:{'1': 71694, '0': 28306}\n",
      "register[0] probs:[('1', 0.71694), ('0', 0.28306)]\n",
      "register[0] P:[0.71694, 0.28306]\n",
      "register[1] counts after qubitbook:{'1': 79691, '0': 20309}\n",
      "register[1] probs:[('1', 0.79691), ('0', 0.20309)]\n",
      "register[1] P:[0.79691, 0.20309]\n",
      "register[2] counts after qubitbook:{'1': 82176, '0': 17824}\n",
      "register[2] probs:[('1', 0.82176), ('0', 0.17824)]\n",
      "register[2] P:[0.82176, 0.17824]\n",
      "counts: [{'1': 71694, '0': 28306}, {'1': 79691, '0': 20309}, {'1': 82176, '0': 17824}]\n",
      "probs_array: [[('1', 0.71694), ('0', 0.28306)], [('1', 0.79691), ('0', 0.20309)], [('1', 0.82176), ('0', 0.17824)]]\n",
      "labels: ['register 1', 'register 2', 'register 3']\n",
      "exp_hamilt_ising: -1.6622856494000002\n",
      "register[0] counts after qubitbook:{'1': 71391, '0': 28609}\n",
      "register[0] probs:[('1', 0.71391), ('0', 0.28609)]\n",
      "register[0] P:[0.71391, 0.28609]\n",
      "register[1] counts after qubitbook:{'1': 32452, '0': 67548}\n",
      "register[1] probs:[('1', 0.32452), ('0', 0.67548)]\n",
      "register[1] P:[0.32452, 0.67548]\n",
      "register[2] counts after qubitbook:{'1': 81990, '0': 18010}\n",
      "register[2] probs:[('1', 0.8199), ('0', 0.1801)]\n",
      "register[2] P:[0.8199, 0.1801]\n",
      "counts: [{'1': 71391, '0': 28609}, {'1': 32452, '0': 67548}, {'1': 81990, '0': 18010}]\n",
      "probs_array: [[('1', 0.71391), ('0', 0.28609)], [('1', 0.32452), ('0', 0.67548)], [('1', 0.8199), ('0', 0.1801)]]\n",
      "labels: ['register 1', 'register 2', 'register 3']\n",
      "exp_hamilt_ising: -0.7675346278\n",
      "register[0] counts after qubitbook:{'1': 71660, '0': 28340}\n",
      "register[0] probs:[('1', 0.7166), ('0', 0.2834)]\n",
      "register[0] P:[0.7166, 0.2834]\n",
      "register[1] counts after qubitbook:{'1': 79632, '0': 20368}\n",
      "register[1] probs:[('1', 0.79632), ('0', 0.20368)]\n",
      "register[1] P:[0.79632, 0.20368]\n",
      "register[2] counts after qubitbook:{'1': 35178, '0': 64822}\n",
      "register[2] probs:[('1', 0.35178), ('0', 0.64822)]\n",
      "register[2] P:[0.35178, 0.64822]\n",
      "counts: [{'1': 71660, '0': 28340}, {'1': 79632, '0': 20368}, {'1': 35178, '0': 64822}]\n",
      "probs_array: [[('1', 0.7166), ('0', 0.2834)], [('1', 0.79632), ('0', 0.20368)], [('1', 0.35178), ('0', 0.64822)]]\n",
      "labels: ['register 1', 'register 2', 'register 3']\n",
      "exp_hamilt_ising: -1.2676689048\n",
      "register[0] counts after qubitbook:{'1': 71503, '0': 28497}\n",
      "register[0] probs:[('1', 0.71503), ('0', 0.28497)]\n",
      "register[0] P:[0.71503, 0.28497]\n",
      "register[1] counts after qubitbook:{'1': 79760, '0': 20240}\n",
      "register[1] probs:[('1', 0.7976), ('0', 0.2024)]\n",
      "register[1] P:[0.7976, 0.2024]\n",
      "register[2] counts after qubitbook:{'1': 81989, '0': 18011}\n",
      "register[2] probs:[('1', 0.81989), ('0', 0.18011)]\n",
      "register[2] P:[0.81989, 0.18011]\n",
      "counts: [{'1': 71503, '0': 28497}, {'1': 79760, '0': 20240}, {'1': 81989, '0': 18011}]\n",
      "probs_array: [[('1', 0.71503), ('0', 0.28497)], [('1', 0.7976), ('0', 0.2024)], [('1', 0.81989), ('0', 0.18011)]]\n",
      "labels: ['register 1', 'register 2', 'register 3']\n",
      "exp_hamilt_ising: -1.662502222\n",
      "ret[0]:[4.26372132 4.07545528 4.01529403 1.89047913 0.59180376 5.73772399\n",
      " 1.10634507 0.10605541 0.74697552]\n",
      "\n",
      "counts: {'000': 46816, '001': 18584, '010': 11860, '011': 4694, '100': 10283, '101': 4068, '110': 2628, '111': 1067} \n",
      "\n",
      "Prob. Distribution: [('100', 0.10283), ('111', 0.01067), ('010', 0.1186), ('110', 0.02628), ('101', 0.04068), ('001', 0.18584), ('011', 0.04694), ('000', 0.46816)] \n",
      "\n",
      "Target Distribution: [0.08614623 0.08159375 0.20068961 0.02265475 0.18206198 0.18340118\n",
      " 0.05619902 0.1872535 ] \n",
      "\n",
      "Obtained Distribution: [0.10283, 0.01067, 0.1186] \n",
      "\n",
      "Output Error (Manhattan Distance): -1.662502222 \n",
      "\n",
      "Parameters Found: [4.26372132 4.07545528 4.01529403 1.89047913 0.59180376 5.73772399\n",
      " 1.10634507 0.10605541 0.74697552] \n",
      "\n",
      "(array([4.26372132, 4.07545528, 4.01529403, 1.89047913, 0.59180376,\n",
      "       5.73772399, 1.10634507, 0.10605541, 0.74697552]), -1.662502222, 5)\n"
     ]
    }
   ],
   "source": [
    "from qiskit import Aer, execute\n",
    "#Backend represent either a simulator or a real quantum computer\n",
    "backend = Aer.get_backend(\"qasm_simulator\") #runs the quantum circuit\n",
    "NUM_SHOTS = 100000\n",
    "\n",
    "from qiskit.aqua.components.optimizers import COBYLA\n",
    "#this is a numerical optimization method for constrained problems \n",
    "#where the derivative of the objective function (in this case 'cost') is not known\n",
    "# Initialize the COBYLA optimizer\n",
    "optimizer = COBYLA(maxiter=5, tol=1)\n",
    "ret = optimizer.optimize(num_vars=len(param_trial), objective_function=expval_ising, initial_point=param_trial)\n",
    "#the definition: optimize(num_vars, objective_function, gradient_function=None, variable_bounds=None, initial_point=None)\n",
    "print(\"ret[0]:{}\\n\".format(ret[0]))\n",
    "# Obtain the output distribution using the final parameters\n",
    "qc = circuit_measure_all(N,ret[0])\n",
    "counts = execute(qc, backend, shots=NUM_SHOTS).result().get_counts(qc)\n",
    "output_distr = get_probability_distribution(counts)\n",
    "\n",
    "print(\"counts:\",dict(sorted(conv_qubitbook(counts).items())),\"\\n\")\n",
    "print(\"Prob. Distribution:\",get_probability_distribution(counts),\"\\n\")\n",
    "print(\"Target Distribution:\", target_distr,\"\\n\")\n",
    "b = []\n",
    "[b.append(output_distr[i][1]) for i in range(len(a))]\n",
    "print(\"Obtained Distribution:\", b,\"\\n\")\n",
    "print(\"Output Error (Manhattan Distance):\", ret[1],\"\\n\")\n",
    "print(\"Parameters Found:\", ret[0],\"\\n\")\n",
    "print(ret)"
   ]
  },
  {
   "cell_type": "markdown",
   "metadata": {},
   "source": [
    "## Now we could just increse the itterations of the optimizer to increase the accuracy"
   ]
  },
  {
   "cell_type": "markdown",
   "metadata": {},
   "source": [
    "# $2^{nd}$ Solution: Brute force approach for the <font color=' #16a085 '>Classical Ising Model</font>"
   ]
  },
  {
   "cell_type": "code",
   "execution_count": 77,
   "metadata": {},
   "outputs": [],
   "source": [
    "from qiskit.aqua.translators.ising import max_cut, tsp\n",
    "from qiskit.aqua.input import EnergyInput\n",
    "from qiskit.aqua.operator import Operator"
   ]
  },
  {
   "cell_type": "code",
   "execution_count": 78,
   "metadata": {},
   "outputs": [
    {
     "name": "stdout",
     "output_type": "stream",
     "text": [
      "h= [1. 1. 1. 1.] \n",
      "J= [[0. 1. 0. 0.]\n",
      " [1. 0. 1. 0.]\n",
      " [0. 1. 0. 1.]\n",
      " [0. 0. 1. 0.]] \n",
      "\n"
     ]
    }
   ],
   "source": [
    "# Creating the weight matrix\n",
    "\n",
    "def random_instance(N):\n",
    "    h = np.zeros(N)\n",
    "    J = np.zeros([N,N])\n",
    "    for i in range(N):\n",
    "        h[i] = random.choice(range(1,2,1))\n",
    "        for j in range(i,N):\n",
    "            # impose non-periodic bc\n",
    "            if j-i>1 or i==j:\n",
    "                J[i][j] = J[j][i]= 0\n",
    "            else:\n",
    "                J[i][j] = J[j][i] = random.choice(range(1,2,1))\n",
    "    return h,J\n",
    "\n",
    "print(\"h=\",random_instance(4)[0],\"\\nJ=\",random_instance(4)[1],\"\\n\") "
   ]
  },
  {
   "cell_type": "markdown",
   "metadata": {},
   "source": [
    "Try all possible 2𝑛 combinations. For 𝑛=4, as in this example, one deals with only 16 combinations, but for n = 1000, one has 1.071509e+30 combinations, which is impractical to deal with by using a brute force approach. "
   ]
  },
  {
   "cell_type": "code",
   "execution_count": 79,
   "metadata": {
    "scrolled": true
   },
   "outputs": [
    {
     "name": "stdout",
     "output_type": "stream",
     "text": [
      "[0, 0]\n",
      "[1, 0]\n",
      "[0, 1]\n",
      "[1, 1]\n"
     ]
    }
   ],
   "source": [
    "n=2\n",
    "for b in range(2**n):\n",
    "    s = [int(t) for t in reversed(list(bin(b)[2:].zfill(n)))]\n",
    "    print(s)"
   ]
  },
  {
   "cell_type": "code",
   "execution_count": 80,
   "metadata": {
    "scrolled": true
   },
   "outputs": [
    {
     "name": "stdout",
     "output_type": "stream",
     "text": [
      "[(-1, -1), (-1, 1), (1, -1), (1, 1)]\n",
      "[-1, -1]\n",
      "[-1, 1]\n",
      "[1, -1]\n",
      "[1, 1]\n"
     ]
    }
   ],
   "source": [
    "from sympy.utilities.iterables import variations\n",
    "n=2\n",
    "l6 = list(sorted(variations([1,-1],n,repetition = True)))\n",
    "print(l6)\n",
    "for i in range(2**n):\n",
    "    s = list(l6[i])\n",
    "    print(s)"
   ]
  },
  {
   "cell_type": "code",
   "execution_count": 81,
   "metadata": {},
   "outputs": [
    {
     "name": "stdout",
     "output_type": "stream",
     "text": [
      "[-1, -1]\n",
      "[1, -1]\n",
      "[-1, 1]\n",
      "[1, 1]\n"
     ]
    }
   ],
   "source": [
    "l6 = list(sorted(variations([1,-1],n,repetition = True)))\n",
    "for b in range(2**n):\n",
    "    s = [int(t) for t in reversed(l6[b])]\n",
    "    print(s)"
   ]
  },
  {
   "cell_type": "markdown",
   "metadata": {},
   "source": [
    "### <center> Special case (no external field): $\\quad$ $H =-\\sum^{N-1}_{i}J_{i}\\sigma_{i}\\sigma_{i+1}$"
   ]
  },
  {
   "cell_type": "code",
   "execution_count": 82,
   "metadata": {},
   "outputs": [
    {
     "name": "stdout",
     "output_type": "stream",
     "text": [
      "case = [-1, -1, -1] cost = -2.0      \n",
      "case = [-1, -1, 1] cost = 0.0       \n",
      "case = [-1, 1, -1] cost = 2.0       \n",
      "case = [-1, 1, 1] cost = 0.0       \n",
      "case = [1, -1, -1] cost = 0.0       \n",
      "case = [1, -1, 1] cost = 2.0       \n",
      "case = [1, 1, -1] cost = 0.0       \n",
      "case = [1, 1, 1]  cost = -2.0      \n",
      "\n",
      "Best solution = [-1, 1, -1] cost = 2.0\n"
     ]
    }
   ],
   "source": [
    "n=3\n",
    "J = random_instance(n)[1]\n",
    "\n",
    "#We define the possible spin combinations\n",
    "l6 = list(sorted(variations(['1','-1'],n,repetition = True)))\n",
    "special_spins = [''.join(tups) for tups in l6] \n",
    "\n",
    "best_cost_brute = 0\n",
    "cost_special_array = []\n",
    "\n",
    "\n",
    "for b in range(2**n):\n",
    "    s = [int(t) for t in l6[b]]\n",
    "    cost = 0\n",
    "    for k in range(n-1):   \n",
    "        cost = cost - J[k,k+1]*s[k]*s[k+1]\n",
    "    if best_cost_brute < cost:\n",
    "        best_cost_brute = cost\n",
    "        sbest_brute = s \n",
    "    cost_special_array.append(cost)\n",
    "    print('case = {:<10} cost = {:<10}'.format(str(s), str(cost)))\n",
    "print('\\nBest solution = ' + str(sbest_brute) + ' cost = ' + str(best_cost_brute))  "
   ]
  },
  {
   "cell_type": "code",
   "execution_count": 83,
   "metadata": {},
   "outputs": [
    {
     "data": {
      "image/png": "[encoded data removed]",
      "text/plain": [
       "<Figure size 432x288 with 1 Axes>"
      ]
     },
     "metadata": {
      "needs_background": "light"
     },
     "output_type": "display_data"
    }
   ],
   "source": [
    "import matplotlib.pyplot as plt\n",
    "\n",
    "plt.plot(special_spins, cost_special_array, label=\"Exact Energy\")\n",
    "plt.xlabel('Spin State')\n",
    "plt.xticks(rotation=45)\n",
    "plt.ylabel('Energy')\n",
    "plt.legend()\n",
    "plt.show()"
   ]
  },
  {
   "cell_type": "markdown",
   "metadata": {},
   "source": [
    "### <center> General case: $\\quad$ $H =-\\sum^{N-1}_{i}J_{i}\\sigma_{i}\\sigma_{i+1}-\\sum^{N}_{i}h_i s_i$"
   ]
  },
  {
   "cell_type": "code",
   "execution_count": 84,
   "metadata": {
    "scrolled": false
   },
   "outputs": [
    {
     "name": "stdout",
     "output_type": "stream",
     "text": [
      "case = [-1, -1, -1] cost = 1.0       \n",
      "case = [1, -1, -1] cost = 1.0       \n",
      "case = [-1, 1, -1] cost = 3.0       \n",
      "case = [1, 1, -1] cost = -1.0      \n",
      "case = [-1, -1, 1] cost = 1.0       \n",
      "case = [1, -1, 1] cost = 1.0       \n",
      "case = [-1, 1, 1] cost = -1.0      \n",
      "case = [1, 1, 1]  cost = -5.0      \n",
      "\n",
      "Best solution = [1, 1, 1] cost = -5.0\n",
      "[1.0, 1.0, 3.0, -1.0, 1.0, 1.0, -1.0, -5.0]\n"
     ]
    }
   ],
   "source": [
    "n=3\n",
    "h = random_instance(n)[0]\n",
    "J = random_instance(n)[1]\n",
    "\n",
    "#We define the possible spin combinations\n",
    "l6 = list(sorted(variations(['1','-1'],n,repetition = True)))\n",
    "general_spins = [''.join(tups) for tups in l6] \n",
    "\n",
    "best_cost_brute = 0\n",
    "cost_general_array = []\n",
    "\n",
    "for b in range(2**n):\n",
    "    s = [int(t) for t in reversed(l6[b])]\n",
    "    cost = - h[n-1]*s[n-1]\n",
    "    for k in range(n-1):   \n",
    "        cost = cost - J[k,k+1]*s[k]*s[k+1] - h[k]*s[k]\n",
    "    if best_cost_brute > cost:\n",
    "        best_cost_brute = cost\n",
    "        sbest_brute = s \n",
    "    cost_general_array.append(cost)\n",
    "    print('case = {:<10} cost = {:<10}'.format(str(s), str(cost)))\n",
    "print('\\nBest solution = ' + str(sbest_brute) + ' cost = ' + str(best_cost_brute))   \n",
    "print(cost_general_array)"
   ]
  },
  {
   "cell_type": "code",
   "execution_count": 85,
   "metadata": {},
   "outputs": [
    {
     "data": {
      "image/png": "[encoded data removed]",
      "text/plain": [
       "<Figure size 432x288 with 1 Axes>"
      ]
     },
     "metadata": {
      "needs_background": "light"
     },
     "output_type": "display_data"
    }
   ],
   "source": [
    "import matplotlib.pyplot as plt\n",
    "\n",
    "plt.plot(general_spins, cost_general_array, label=\"Exact Energy\")\n",
    "plt.xlabel('Spin State')\n",
    "plt.xticks(rotation=45)\n",
    "plt.ylabel('Energy')\n",
    "plt.legend()\n",
    "plt.show()"
   ]
  },
  {
   "cell_type": "markdown",
   "metadata": {},
   "source": [
    "# $3^{rd}$ Solution: Using the max_cut and Docplex translation modules of Aqua to map our problem to the ising model"
   ]
  },
  {
   "cell_type": "markdown",
   "metadata": {},
   "source": [
    "## <center> A' case: Max_cut module"
   ]
  },
  {
   "cell_type": "markdown",
   "metadata": {},
   "source": [
    "### Issue: max_cut can be used for the optimization of the ising model but [without](https://github.com/Qiskit/qiskit-iqx-tutorials/blob/master/qiskit/advanced/aqua/optimization/max_cut_and_tsp.ipynb) the addition of an external field term. So here we will deal here with the $$H = \\sum^{N-1}_{i}J_{i}\\sigma_{i}\\sigma_{i+1}$$\n",
    "##### <center> Using [max_cut](https://qiskit-staging.mybluemix.net/documentation/autodoc/qiskit.aqua.translators.ising.max_cut.html?highlight=generate%20hamiltonian) to map our problem to the Ising model.  There is no problem with doing that since the couplings in the case of the Max Cut problem and the Ising Model are the same"
   ]
  },
  {
   "cell_type": "code",
   "execution_count": 86,
   "metadata": {},
   "outputs": [
    {
     "name": "stdout",
     "output_type": "stream",
     "text": [
      "(<qiskit.aqua.operators.weighted_pauli_operator.WeightedPauliOperator object at 0x7f5a60e31910>, -0.5) \n",
      "\n",
      "Representation: paulis, qubits: 2, size: 1 \n",
      " -0.5\n",
      "partial energy: -0.5\n",
      "constant: -0.5\n",
      "min energy (exact): -1.0\n",
      "solution: [0. 1.]\n",
      "solution objective (max_cut module): 1.0\n",
      "Minimal energy configuration (binary variable x): [1. 0.]\n",
      "Minimal energy configuration (spin s): [-1, 1]\n"
     ]
    }
   ],
   "source": [
    "from qiskit.aqua.algorithms import ExactEigensolver                                                                                 \n",
    "n=2\n",
    "J = random_instance(n)[1]\n",
    "qubitOp, offset = max_cut.get_max_cut_qubitops(J)\n",
    "#qubitOp takes the value of the Hamiltonian operator of the Ising model in the Pauli representation\n",
    "#offset is just a constant shift for the obj function (that is the hamiltonian)\n",
    "algo_input = EnergyInput(qubitOp)\n",
    "\n",
    "ee = ExactEigensolver(qubitOp, k=1)\n",
    "result = ee.run()\n",
    "\n",
    "#The get_max_cut_qubitops(J) is used to Generate the Hamiltonian of the max_cut problem\n",
    "\n",
    "print(max_cut.get_max_cut_qubitops(J), \"\\n\")\n",
    "print(qubitOp, \"\\n\", offset)\n",
    "\n",
    "x = max_cut.sample_most_likely(result['eigvecs'][0])\n",
    "print('partial energy:', result['energy'])\n",
    "print('constant:',offset)\n",
    "print('min energy (exact):', result['energy'] + offset)\n",
    "print('solution:', max_cut.get_graph_solution(x))\n",
    "print('solution objective (max_cut module):', max_cut.max_cut_value(x, J))\n",
    "print('Minimal energy configuration (binary variable x):',x)\n",
    "print('Minimal energy configuration (spin s):', [int(1-2*i) for i in x])    "
   ]
  },
  {
   "cell_type": "markdown",
   "metadata": {},
   "source": [
    "#### <font color='#A52A2A'>We see that this energy (exact min energy) is the same as the one we found above in the special case Hamiltonian. The inverse sign in the energy is just due to the inverse definition of the hamiltonian in the max_cut module</font>"
   ]
  },
  {
   "cell_type": "markdown",
   "metadata": {},
   "source": [
    "## <center> Running on quantum computer\n",
    "We run the optimization routine using a feedback loop with a quantum computer that uses trial functions built with Y single-qubit rotations, $U_\\mathrm{single}(\\theta) = \\prod_{i=1}^n Y(\\theta_{i})$, and entangler steps $U_\\mathrm{entangler}$.  \n",
    "We will use the [SPSA](https://en.wikipedia.org/wiki/Simultaneous_perturbation_stochastic_approximation) stochastic approximation algorithm"
   ]
  },
  {
   "cell_type": "code",
   "execution_count": 87,
   "metadata": {
    "scrolled": true
   },
   "outputs": [
    {
     "name": "stdout",
     "output_type": "stream",
     "text": [
      "energy: -0.49999826250764084\n",
      "time: 39.69158482551575\n",
      "max-cut objective: -0.9999982625076409\n",
      "solution (max_cut binary variables): [0. 1.]\n",
      "Minimal energy configuration (spin s): [-1, 1]\n",
      "solution objective: 1.0\n"
     ]
    }
   ],
   "source": [
    "from qiskit.aqua.components.optimizers import SPSA\n",
    "from qiskit.aqua.components.variational_forms import RY\n",
    "from qiskit.aqua.algorithms import VQE\n",
    "from qiskit.aqua import QuantumInstance\n",
    "\n",
    "seed = 10598\n",
    "optimizer = SPSA(max_trials=300)\n",
    "\"\"\"\n",
    "The variational forms we can choose from are ry, ryrz, swaprz and variational_form modules\n",
    "Lets try RY for now applied 5 times on each qubit\n",
    "### I would like to be able to add more complicated forms like a general u3 transformation.\n",
    "\n",
    "class RY(num_qubits, depth=3, entangler_map=None, entanglement='full',\n",
    "         initial_state=None, entanglement_gate='cz', skip_unentangled_qubits=False)\n",
    "\"\"\"\n",
    "ry = RY(qubitOp.num_qubits, depth=5, entanglement='linear')\n",
    "\"\"\"\n",
    "class VQE(operator, var_form, optimizer, operator_mode=None, \n",
    "          initial_point=None, max_evals_grouped=1, aux_operators=None, \n",
    "          callback=None, auto_conversion=True)\n",
    "\"\"\"\n",
    "vqe = VQE(qubitOp, ry, optimizer)\n",
    "\n",
    "backend = BasicAer.get_backend('statevector_simulator')\n",
    "quantum_instance = QuantumInstance(backend, seed_simulator=seed, seed_transpiler=seed)\n",
    "\n",
    "result = vqe.run(quantum_instance)\n",
    "\n",
    "x = max_cut.sample_most_likely(result['eigvecs'][0])\n",
    "print('energy:', result['energy'])\n",
    "print('time:', result['eval_time'])\n",
    "print('max-cut objective:', result['energy'] + offset)\n",
    "print('solution (max_cut binary variables):', max_cut.get_graph_solution(x))\n",
    "print('Minimal energy configuration (spin s):', [int(1-2*i) for i in x]) \n",
    "print('solution objective:', max_cut.max_cut_value(x, J))"
   ]
  },
  {
   "cell_type": "code",
   "execution_count": 88,
   "metadata": {},
   "outputs": [
    {
     "name": "stdout",
     "output_type": "stream",
     "text": [
      "energy: -0.5\n",
      "time: 39.527175426483154\n",
      "max-cut objective: -1.0\n",
      "solution: [0 1]\n",
      "solution objective: 1.0\n"
     ]
    },
    {
     "data": {
      "image/png": "[encoded data removed]",
      "text/plain": [
       "<Figure size 504x360 with 1 Axes>"
      ]
     },
     "execution_count": 88,
     "metadata": {},
     "output_type": "execute_result"
    }
   ],
   "source": [
    "# run quantum algorithm with shots\n",
    "seed = 10598\n",
    "\n",
    "spsa = SPSA(max_trials=300)\n",
    "ry = RY(qubitOp.num_qubits, depth=5, entanglement='linear')\n",
    "vqe = VQE(qubitOp, ry, spsa)\n",
    "\n",
    "backend = BasicAer.get_backend('qasm_simulator')\n",
    "quantum_instance = QuantumInstance(backend, shots=1024, seed_simulator=seed, seed_transpiler=seed)\n",
    "\n",
    "result = vqe.run(quantum_instance)\n",
    "\n",
    "\"\"\"declarative approach, update the param from the previous cell.\n",
    "params['backend']['provider'] = 'qiskit.BasicAer'\n",
    "params['backend']['name'] = 'qasm_simulator'\n",
    "params['backend']['shots'] = 1024\n",
    "result = run_algorithm(params, algo_input)\n",
    "\"\"\"\n",
    "\n",
    "x = max_cut.sample_most_likely(result['eigvecs'][0])\n",
    "print('energy:', result['energy'])\n",
    "print('time:', result['eval_time'])\n",
    "print('max-cut objective:', result['energy'] + offset)\n",
    "print('solution:', max_cut.get_graph_solution(x))\n",
    "print('solution objective:', max_cut.max_cut_value(x, J))\n",
    "plot_histogram(result['eigvecs'][0])"
   ]
  },
  {
   "cell_type": "markdown",
   "metadata": {},
   "source": [
    "## <center> B' case: Docplex module [1](https://github.com/Qiskit/qiskit-aqua/issues/554) [2](https://quantum-computing.ibm.com/jupyter/tutorial/advanced/aqua/optimization/max_cut_and_tsp.ipynb) [3](https://qiskit-staging.mybluemix.net/documentation/autodoc/qiskit.aqua.translators.ising.docplex.html?highlight=generate%20hamiltonian).\n",
    "### <center> We insert the exact model by hand so here we can study the full Ising hamiltonian $$H =-\\sum^{N-1}_{i}J_{i}\\sigma_{i}\\sigma_{i+1}-\\sum^{N}_{i}h_i s_i$$"
   ]
  },
  {
   "cell_type": "code",
   "execution_count": 94,
   "metadata": {
    "scrolled": true
   },
   "outputs": [
    {
     "name": "stdout",
     "output_type": "stream",
     "text": [
      "J: [[0. 1. 0.]\n",
      " [1. 0. 1.]\n",
      " [0. 1. 0.]] \n",
      "h: [1. 1. 1.]\n",
      "H =  -4x_0*x_1-4x_1*x_2+4x_0+6x_1+4x_2-5\n",
      "model: <docplex.mp.model.Model object at 0x7f5a60eb6c90>\n",
      "Binary variable x: {0: docplex.mp.Var(type=B,name='x_0'), 1: docplex.mp.Var(type=B,name='x_1'), 2: docplex.mp.Var(type=B,name='x_2')}\n",
      "Representation: paulis, qubits: 3, size: 5\n",
      "energy: 0.0\n",
      "QubitOps solution: [1, -1, -3]\n"
     ]
    }
   ],
   "source": [
    "from docplex.mp.model import Model\n",
    "from qiskit.aqua.translators.ising import docplex\n",
    "from qiskit.aqua.algorithms import ExactEigensolver                                                                                 \n",
    "\n",
    "n=3\n",
    "# Create an instance of a model and variables.\n",
    "def ising_docplex(J,h,n):\n",
    "    mdl = Model(name='ising')\n",
    "    x = {i: mdl.binary_var(name='x_{0}'.format(i)) for i in range(n)}\n",
    "    \"\"\"\n",
    "    Since this variable takes binary values we have to perform a tranformation and replace \n",
    "    the spins of the ising model x[i] = (1-s[i])/2 or s[i]=1-2x[i]\n",
    "    \"\"\"\n",
    "    #print(x,'\\n')\n",
    "    # Object function\n",
    "    interactions = mdl.sum(-J[i,j]* (1-2*x[i]) * (1-2*x[j])/2 for i in range(n) for j in range(n))\n",
    "    external_field = mdl.sum(-h[i]*(1-2*x[i]) for i in range(n))\n",
    "    hamiltonian = interactions + external_field\n",
    "    mdl.minimize(hamiltonian)\n",
    "    return hamiltonian, mdl , x\n",
    "\n",
    "J = random_instance(n)[1]\n",
    "h = random_instance(n)[0]\n",
    "print(\"J:\",J,\"\\nh:\",h)\n",
    "print(\"H = \",ising_docplex(J,h,n)[0])\n",
    "print(\"model:\",ising_docplex(J,h,n)[1])\n",
    "print(\"Binary variable x:\",ising_docplex(J,h,n)[2])\n",
    "\n",
    "#Now lets find the minimal \n",
    "qubitOp_docplex, offset_docplex = docplex.get_qubitops(ising_docplex(J,h,n)[1])                                                                    \n",
    "\n",
    "print(qubitOp_docplex)\n",
    "print('energy:',offset_docplex)\n",
    "print('QubitOps solution:', [int(1-2*i) for i in ising_docplex(J,h,n)[2]])    "
   ]
  },
  {
   "cell_type": "markdown",
   "metadata": {},
   "source": [
    "## Another similar way to do it:"
   ]
  },
  {
   "cell_type": "code",
   "execution_count": 96,
   "metadata": {},
   "outputs": [
    {
     "name": "stdout",
     "output_type": "stream",
     "text": [
      "J: [[0. 1. 0.]\n",
      " [1. 0. 1.]\n",
      " [0. 1. 0.]] \n",
      "h: [1. 1. 1.]\n",
      "x: {0: docplex.mp.Var(type=B,name='x_0'), 1: docplex.mp.Var(type=B,name='x_1'), 2: docplex.mp.Var(type=B,name='x_2')} \n",
      "\n",
      "H = -4x_0*x_1-4x_1*x_2+4x_0+6x_1+4x_2-5\n",
      "Minimal energy: -5.0\n",
      "QubitOps objective: -5.0\n",
      "Minimal energy configuration (binary variable x): [0. 0. 0.]\n",
      "Minimal energy configuration (spin s): [1, 1, 1]\n"
     ]
    }
   ],
   "source": [
    "import numpy as np                                                                                                                      \n",
    "from docplex.mp.constants import ComparisonType                                                                                         \n",
    "from docplex.mp.model import Model                                                                                                                                                                             \n",
    "from qiskit.aqua.translators.ising import docplex as docplex_aqua  \n",
    "from qiskit.aqua.algorithms import ExactEigensolver     \n",
    "\n",
    "def solve_ising(B, C, n):                                                                                                               \n",
    "    \"\"\"                                                                                                                                 \n",
    "    Ising model: \\sum_{i,j ; j>i ; j-i=1} -B_ij s_i s_j - \\sum_i C_i s_i \n",
    "                 \\sum_{i,j ; j>i ; j-i=1} -B_ij (1-2x_i)*(1-2x_j) - \\sum_i C_i (1-2x_i)\n",
    "    \"\"\"                                                                                                                                 \n",
    "    mdl = Model(name = 'ising')                                                                                                                       \n",
    "    #n = B.shape[0]                        \n",
    "    x = {i: mdl.binary_var(name='x_{0}'.format(i)) for i in range(n)}\n",
    "    print(\"x:\",x,\"\\n\")\n",
    "    interactions = mdl.sum(-B[i,j]* (1-2*x[i]) * (1-2*x[j])/2 for i in range(n) for j in range(n))\n",
    "    # I endered a factor of 2 in order to correct the mapping to the Ising Model\n",
    "    external_field = mdl.sum(-C[i]*(1-2*x[i]) for i in range(n))\n",
    "    ising_func = interactions + external_field\n",
    "    # formulate a model                                                                                          \n",
    "    mdl.minimize(ising_func)\n",
    "    print(\"H =\",ising_func)\n",
    "\n",
    "    ## solve using CPLEX                                                                                                            \n",
    "    #solution = mdl.solve()                                                                                                              \n",
    "    #cplex_solution = solution.get_all_values()                                                                                          \n",
    "    #print('CPLEX solution: ', [int(1-2*i) for i in cplex_solution])                                                                     \n",
    "    \n",
    "    # solve using Docplex translator + ExactEigensolver \n",
    "    \n",
    "    #This is supposed to give us the operator for the Hamiltonian\n",
    "    qubitOp_docplex, offset_docplex = docplex_aqua.get_qubitops(mdl)                                                                    \n",
    "    #We give as input the matrix form of the hamiltonian in the Pauli matrix basis\n",
    "    #this is what aqua does for us when we input a hamiltonian\n",
    "    #and ExactEigensolver computes the eigenvalue\n",
    "    ee = ExactEigensolver(qubitOp_docplex, k=1)                                                                                         \n",
    "    result = ee.run()                                                                                                                                                                                                                                                           \n",
    "                                                                                                                                        \n",
    "    x = docplex_aqua.sample_most_likely(result['eigvecs'][0]) \n",
    "    print('Minimal energy:', result['energy'])            \n",
    "    #offset_docplex is just a constant shift for the obj function.\n",
    "    print('QubitOps objective:', result['energy'] + offset_docplex)  \n",
    "    print('Minimal energy configuration (binary variable x):',x)\n",
    "    print('Minimal energy configuration (spin s):', [int(1-2*i) for i in x])    \n",
    "                                                                                                                                        \n",
    "if __name__ == '__main__':        \n",
    "    n=3 # Number of nodes in the qubit chain                                                                                                                                                                                                                                                                                                                                            \n",
    "    J = random_instance(n)[1]\n",
    "    h = random_instance(n)[0]\n",
    "    print('J:',J,'\\nh:',h)\n",
    "    solve_ising(J, h, n)"
   ]
  },
  {
   "cell_type": "code",
   "execution_count": 97,
   "metadata": {},
   "outputs": [
    {
     "name": "stdout",
     "output_type": "stream",
     "text": [
      "energy: -5.0\n",
      "max-cut objective: -5.0\n",
      "solution (docplex binary variables): [0, 0, 0]\n",
      "Minimal energy configuration (spin s): [1, 1, 1]\n"
     ]
    }
   ],
   "source": [
    "#Making the Hamiltonian in its full form and getting the lowest eigenvalue and eigenvector\n",
    "ee = ExactEigensolver(qubitOp_docplex, k=1)\n",
    "result = ee.run()\n",
    "\n",
    "x = docplex_aqua.sample_most_likely(result['eigvecs'][0])\n",
    "print('energy:', result['energy'])\n",
    "print('max-cut objective:', result['energy'] + offset_docplex)\n",
    "print('solution (docplex binary variables):', [int(i) for i in x])\n",
    "print('Minimal energy configuration (spin s):', [int(1-2*i) for i in x]) \n",
    "#print('solution objective:', docplex_aqua.max_cut_value(x, J))"
   ]
  },
  {
   "cell_type": "markdown",
   "metadata": {},
   "source": [
    "## <center> Running on quantum computer\n"
   ]
  },
  {
   "cell_type": "code",
   "execution_count": 98,
   "metadata": {},
   "outputs": [
    {
     "name": "stdout",
     "output_type": "stream",
     "text": [
      "energy: -4.999900615690582\n",
      "Constant of Hamiltonian: -0.5\n",
      "time: 47.942302227020264\n",
      "max-cut objective: -5.499900615690582\n",
      "solution (docplex binary variables): [0, 0, 0]\n",
      "Minimal energy configuration (spin s): [1, 1, 1]\n"
     ]
    }
   ],
   "source": [
    "from qiskit.aqua.components.optimizers import SPSA\n",
    "from qiskit.aqua.components.variational_forms import RY\n",
    "from qiskit.aqua.algorithms import VQE\n",
    "from qiskit.aqua import QuantumInstance\n",
    "from qiskit.aqua.translators.ising import docplex as docplex_aqua  \n",
    "\n",
    "\n",
    "seed = 10598\n",
    "\n",
    "optimizer = SPSA(max_trials=300)\n",
    "\"\"\"\n",
    "The variational forms we can choose from are ry, ryrz, swaprz and variational_form modules\n",
    "Lets try RY for now applied 5 times on each qubit\n",
    "### I would to be able to add more complicated forms like a general u3 transformation.\n",
    "\"\"\"\n",
    "ry = RY(qubitOp_docplex.num_qubits, depth=5, entanglement='linear')\n",
    "\"\"\"\n",
    "class VQE(operator, var_form, optimizer, operator_mode=None, \n",
    "          initial_point=None, max_evals_grouped=1, aux_operators=None, \n",
    "          callback=None, auto_conversion=True)\n",
    "\"\"\"\n",
    "vqe = VQE(qubitOp_docplex, ry, optimizer)\n",
    "\n",
    "backend = BasicAer.get_backend('statevector_simulator')\n",
    "quantum_instance = QuantumInstance(backend, seed_simulator=seed, seed_transpiler=seed)\n",
    "\n",
    "result = vqe.run(quantum_instance)\n",
    "\n",
    "x = docplex_aqua.sample_most_likely(result['eigvecs'][0])\n",
    "print('energy:', result['energy'])\n",
    "print('Constant of Hamiltonian:',offset)\n",
    "print('time:', result['eval_time'])\n",
    "print('max-cut objective:', result['energy'] + offset)\n",
    "print('solution (docplex binary variables):', [int(i) for i in x])\n",
    "print('Minimal energy configuration (spin s):', [int(1-2*i) for i in x]) \n",
    "#print('solution objective:', docplex_aqua.max_cut_value(x, J))"
   ]
  },
  {
   "cell_type": "markdown",
   "metadata": {},
   "source": [
    "# Adding Noise to the Simulation (Soon?)"
   ]
  },
  {
   "cell_type": "markdown",
   "metadata": {},
   "source": [
    "<center> $\\cdots$"
   ]
  },
  {
   "cell_type": "code",
   "execution_count": null,
   "metadata": {},
   "outputs": [],
   "source": []
  }
 ],
 "metadata": {
  "kernelspec": {
   "display_name": "Python 3",
   "language": "python",
   "name": "python3"
  },
  "language_info": {
   "codemirror_mode": {
    "name": "ipython",
    "version": 3
   },
   "file_extension": ".py",
   "mimetype": "text/x-python",
   "name": "python",
   "nbconvert_exporter": "python",
   "pygments_lexer": "ipython3",
   "version": "3.7.4"
  }
 },
 "nbformat": 4,
 "nbformat_minor": 2
}
