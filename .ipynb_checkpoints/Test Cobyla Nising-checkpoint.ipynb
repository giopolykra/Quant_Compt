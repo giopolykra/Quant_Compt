{
 "cells": [
  {
   "cell_type": "code",
   "execution_count": 93,
   "metadata": {},
   "outputs": [],
   "source": [
    "import numpy as np\n",
    "from qiskit import *\n",
    "\n",
    "def rand_rot_vec(N):\n",
    "    p = (N,3)\n",
    "    p = np.zeros(p)\n",
    "    for i in range(N):\n",
    "        p[i][0] = np.pi * np.random.uniform(0, 2)\n",
    "        p[i][1] = np.pi * np.random.uniform(0, 2)\n",
    "        p[i][2] = np.pi * np.random.uniform(0, 2)\n",
    "    return p"
   ]
  },
  {
   "cell_type": "code",
   "execution_count": 167,
   "metadata": {},
   "outputs": [
    {
     "name": "stdout",
     "output_type": "stream",
     "text": [
      "[0.08614623 0.08159375 0.20068961 0.02265475 0.18206198 0.18340118\n",
      " 0.05619902 0.1872535 ] 0.9999999999999999\n"
     ]
    }
   ],
   "source": [
    "import numpy as np\n",
    "np.random.seed(999999)\n",
    "N=3\n",
    "target_distr = np.random.rand(2**N)\n",
    "#we define 9 parameters because we know we are going to end up with 4 states after measurement\n",
    "# We now convert the random vector into a valid probability vector\n",
    "target_distr /= sum(target_distr)\n",
    "print(target_distr ,sum(target_distr))"
   ]
  },
  {
   "cell_type": "code",
   "execution_count": 168,
   "metadata": {},
   "outputs": [
    {
     "name": "stdout",
     "output_type": "stream",
     "text": [
      "['000', '001', '010', '011', '100', '101', '110', '111']\n"
     ]
    }
   ],
   "source": [
    "from itertools import product\n",
    "\n",
    "def qubit_list(Nqubit):\n",
    "    li = ['0', '1']\n",
    "    #for comb in product(li, repeat=3):\n",
    "    #print(''.join(comb))\n",
    "    combs = [''.join(comb) for comb in product(li, repeat = Nqubit)]\n",
    "    return combs\n",
    "print(qubit_list(3))"
   ]
  },
  {
   "cell_type": "code",
   "execution_count": 169,
   "metadata": {},
   "outputs": [],
   "source": [
    "#We will need this function when we try to create a list for the counts including the states that where not observed\n",
    "def conv_qubitbook(counts):\n",
    "    N = len(str(list(counts.items())[0][0]))\n",
    "    #I did that so that I wont have to include another input to the function\n",
    "    qubitbook = counts\n",
    "    for i in qubit_list(N):\n",
    "        if i not in qubitbook.keys():\n",
    "            qubitbook[i] = 0\n",
    "    return qubitbook"
   ]
  },
  {
   "cell_type": "code",
   "execution_count": 170,
   "metadata": {},
   "outputs": [],
   "source": [
    "def ghz_var2(Nqubits,param, register):\n",
    "    qr = QuantumRegister(Nqubits)\n",
    "    cr = ClassicalRegister(Nqubits)\n",
    "    qc = QuantumCircuit(qr, cr)\n",
    "    for i in range(Nqubits):\n",
    "        qc.u3(param[i],param[i+1],param[i+2],qr[i])\n",
    "    qc.barrier()\n",
    "    qc.measure(qr[register], cr[register])\n",
    "    return qc"
   ]
  },
  {
   "cell_type": "code",
   "execution_count": 171,
   "metadata": {},
   "outputs": [
    {
     "name": "stdout",
     "output_type": "stream",
     "text": [
      "[0.51943738 0.64862885 0.63905389 0.14172416 0.09418849 0.91318713\n",
      " 0.17608029 0.01687924 0.11888485]\n"
     ]
    },
    {
     "data": {
      "image/png": "[encoded data removed]",
      "text/plain": [
       "<Figure size 429.828x264.88 with 1 Axes>"
      ]
     },
     "execution_count": 171,
     "metadata": {},
     "output_type": "execute_result"
    }
   ],
   "source": [
    "N = 3\n",
    "param_trial = np.random.rand(N*3)\n",
    "print(param_trial)\n",
    "qc = ghz_var2(N,param_trial,0)\n",
    "qc.draw(output='mpl')"
   ]
  },
  {
   "cell_type": "code",
   "execution_count": 172,
   "metadata": {},
   "outputs": [],
   "source": [
    "from qiskit import Aer, execute\n",
    "#Backend represent either a simulator or a real quantum computer\n",
    "backend = Aer.get_backend(\"qasm_simulator\") #runs the quantum circuit\n",
    "NUM_SHOTS = 100000\n",
    "\n",
    "def get_probability_distribution(counts):\n",
    "    output_distr = [v / NUM_SHOTS for v in counts.values()]\n",
    "    if len(output_distr) == 1:\n",
    "        output_distr.append(0)\n",
    "    return output_distr\n",
    "\n",
    "def obj_function(param):\n",
    "    # Obtain the quantum circuit from the random paramters\n",
    "    for register in range(N):\n",
    "        qc = ghz_var2(N,param,register)\n",
    "        # Execute the quantum circuit to obtain the probability distribution associated with the current parameters\n",
    "        result = 0\n",
    "        result = execute(qc, backend, shots=NUM_SHOTS).result()\n",
    "        counts = result.get_counts(qc)\n",
    "        counts = conv_qubitbook(counts)\n",
    "        counts = dict(sorted(counts.items()))\n",
    "        print(\"register[{}]counts:{}\".format(register,counts))\n",
    "        #Obtain the counts for each measured state, and convert those counts into a probability vector\n",
    "        output_distr = get_probability_distribution(counts)\n",
    "        print(\"register[{}]output_distr:{}\".format(register,output_distr))\n",
    "        print(\"register[{}]target_distr:{}\".format(register,target_distr))\n",
    "        #Calculate the cost as the distance between the output distribution and the target distribution\n",
    "        cost = sum([np.abs(output_distr[i] - target_distr[i]) for i in range(N)])\n",
    "    return cost"
   ]
  },
  {
   "cell_type": "code",
   "execution_count": 173,
   "metadata": {},
   "outputs": [
    {
     "name": "stdout",
     "output_type": "stream",
     "text": [
      "register[0]counts:{'000': 93332, '001': 6668, '010': 0, '011': 0, '100': 0, '101': 0, '110': 0, '111': 0}\n",
      "register[0]output_distr:[0.93332, 0.06668, 0.0, 0.0, 0.0, 0.0, 0.0, 0.0]\n",
      "register[0]target_distr:[0.08614623 0.08159375 0.20068961 0.02265475 0.18206198 0.18340118\n",
      " 0.05619902 0.1872535 ]\n",
      "register[1]counts:{'000': 89875, '001': 0, '010': 10125, '011': 0, '100': 0, '101': 0, '110': 0, '111': 0}\n",
      "register[1]output_distr:[0.89875, 0.0, 0.10125, 0.0, 0.0, 0.0, 0.0, 0.0]\n",
      "register[1]target_distr:[0.08614623 0.08159375 0.20068961 0.02265475 0.18206198 0.18340118\n",
      " 0.05619902 0.1872535 ]\n",
      "register[2]counts:{'000': 90151, '001': 0, '010': 0, '011': 0, '100': 9849, '101': 0, '110': 0, '111': 0}\n",
      "register[2]output_distr:[0.90151, 0.0, 0.0, 0.0, 0.09849, 0.0, 0.0, 0.0]\n",
      "register[2]target_distr:[0.08614623 0.08159375 0.20068961 0.02265475 0.18206198 0.18340118\n",
      " 0.05619902 0.1872535 ]\n"
     ]
    },
    {
     "data": {
      "text/plain": [
       "1.097647124866966"
      ]
     },
     "execution_count": 173,
     "metadata": {},
     "output_type": "execute_result"
    }
   ],
   "source": [
    "obj_function(param_trial)"
   ]
  },
  {
   "cell_type": "code",
   "execution_count": 159,
   "metadata": {},
   "outputs": [
    {
     "name": "stdout",
     "output_type": "stream",
     "text": [
      "{'000': 99993, '001': 7, '010': 0, '011': 0, '100': 0, '101': 0, '110': 0, '111': 0}\n"
     ]
    }
   ],
   "source": [
    "counts = {'001': 7, '000': 99993, '010': 0, '011': 0, '100': 0, '101': 0, '110': 0, '111': 0}\n",
    "print(dict(sorted(counts.items())))"
   ]
  },
  {
   "cell_type": "code",
   "execution_count": 111,
   "metadata": {},
   "outputs": [
    {
     "name": "stdout",
     "output_type": "stream",
     "text": [
      "{'001': 22065, '111': 1, '010': 6594, '100': 22, '011': 2150, '101': 7, '000': 69159, '110': 2} \n",
      "\n",
      "[0.22065, 1e-05, 0.06594, 0.00022, 0.0215, 7e-05, 0.69159, 2e-05] \n",
      "\n",
      "Target Distribution: [0.23382006 0.22146361 0.54471633] \n",
      "\n",
      "Obtained Distribution: [0.22065, 1e-05, 0.06594, 0.00022, 0.0215, 7e-05, 0.69159, 2e-05] \n",
      "\n",
      "Output Error (Manhattan Distance): 0.21386645297413334 \n",
      "\n",
      "Parameters Found: [ 1.03137429  0.59765017  0.03031789 -0.09253037  0.28667432 -0.04354523\n",
      "  0.6266477   0.16329902  0.97451804] \n",
      "\n",
      "(array([ 1.03137429,  0.59765017,  0.03031789, -0.09253037,  0.28667432,\n",
      "       -0.04354523,  0.6266477 ,  0.16329902,  0.97451804]), 0.21386645297413334, 116)\n"
     ]
    }
   ],
   "source": [
    "from qiskit.aqua.components.optimizers import COBYLA\n",
    "#this is a numerical optimization method for constrained problems \n",
    "#where the derivative of the objective function (in this case 'cost') is not known\n",
    "# Initialize the COBYLA optimizer\n",
    "optimizer = COBYLA(maxiter=500, tol=0.0001)\n",
    "\n",
    "ret = optimizer.optimize(num_vars=len(param_trial), objective_function=obj_function, initial_point=param_trial)\n",
    "#the definition: optimize(num_vars, objective_function, gradient_function=None, variable_bounds=None, initial_point=None)\n",
    "\n",
    "# Obtain the output distribution using the final parameters\n",
    "qc = ghz_var2(N,ret[0])\n",
    "counts = execute(qc, backend, shots=NUM_SHOTS).result().get_counts(qc)\n",
    "output_distr = get_probability_distribution(counts)\n",
    "\n",
    "print(counts,\"\\n\")\n",
    "print(get_probability_distribution(counts),\"\\n\")\n",
    "print(\"Target Distribution:\", target_distr,\"\\n\")\n",
    "print(\"Obtained Distribution:\", output_distr,\"\\n\")\n",
    "print(\"Output Error (Manhattan Distance):\", ret[1],\"\\n\")\n",
    "print(\"Parameters Found:\", ret[0],\"\\n\")\n",
    "print(ret)"
   ]
  },
  {
   "cell_type": "code",
   "execution_count": null,
   "metadata": {},
   "outputs": [],
   "source": []
  }
 ],
 "metadata": {
  "kernelspec": {
   "display_name": "Python 3",
   "language": "python",
   "name": "python3"
  },
  "language_info": {
   "codemirror_mode": {
    "name": "ipython",
    "version": 3
   },
   "file_extension": ".py",
   "mimetype": "text/x-python",
   "name": "python",
   "nbconvert_exporter": "python",
   "pygments_lexer": "ipython3",
   "version": "3.7.4"
  }
 },
 "nbformat": 4,
 "nbformat_minor": 2
}
