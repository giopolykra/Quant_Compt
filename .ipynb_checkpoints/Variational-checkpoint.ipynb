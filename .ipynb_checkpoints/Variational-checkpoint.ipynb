{
 "cells": [
  {
   "cell_type": "markdown",
   "metadata": {},
   "source": [
    "# This part ended up not be usefull after all "
   ]
  },
  {
   "cell_type": "markdown",
   "metadata": {},
   "source": [
    "A Function for the deffinition of states as a composition of $\\left|0\\right\\rangle$ and $\\left|1\\right\\rangle$. (The $.kron$ operation bellow is the direct product between matrices)\n",
    "\n",
    "$$\\left|0\\right\\rangle\\otimes\\left|1\\right\\rangle=\n",
    "\\begin{pmatrix}\n",
    "1  \\\\\n",
    "0\n",
    "\\end{pmatrix}\n",
    "\\otimes\n",
    "\\begin{pmatrix}\n",
    "0 \\\\\n",
    "1\n",
    "\\end{pmatrix}\n",
    "=\n",
    "\\begin{pmatrix}\n",
    "1 \\otimes \n",
    "\\begin{pmatrix}\n",
    "0 \\\\\n",
    "1\n",
    "\\end{pmatrix}\n",
    "\\\\\n",
    "0 \\otimes\n",
    "\\begin{pmatrix}\n",
    "0 \\\\\n",
    "1\n",
    "\\end{pmatrix}\n",
    "\\end{pmatrix}\n",
    "=\n",
    "\\begin{pmatrix}\n",
    "0 \\\\\n",
    "1 \\\\\n",
    "0 \\\\\n",
    "0\n",
    "\\end{pmatrix}\n",
    "$$"
   ]
  },
  {
   "cell_type": "code",
   "execution_count": 71,
   "metadata": {},
   "outputs": [],
   "source": [
    "import numpy as np\n",
    "state_0 = np.array([[1.0],[0.0]])\n",
    "state_1 = np.array([[0.0],[1.0]])\n",
    "def multi_kron(*args):\n",
    "    ret = np.array([1.0])\n",
    "    for q in args:\n",
    "        ret = np.kron(ret,q)\n",
    "    return ret"
   ]
  },
  {
   "cell_type": "markdown",
   "metadata": {},
   "source": [
    "So for example the state $\\left|001011\\right\\rangle=\\left|0\\right\\rangle\\otimes\\left|0\\right\\rangle\\otimes\\left|1\\right\\rangle\\otimes\\left|0\\right\\rangle\\otimes\\left|1\\right\\rangle\\otimes\\left|1\\right\\rangle$ can be defined as:"
   ]
  },
  {
   "cell_type": "code",
   "execution_count": 72,
   "metadata": {},
   "outputs": [],
   "source": [
    "multi_kron(state_0,state_0,state_1,state_0,state_1,state_1);"
   ]
  },
  {
   "cell_type": "markdown",
   "metadata": {},
   "source": [
    "#  Working with the Cirq library"
   ]
  },
  {
   "cell_type": "markdown",
   "metadata": {},
   "source": [
    "## 1. Gates"
   ]
  },
  {
   "cell_type": "markdown",
   "metadata": {},
   "source": [
    "### 1.1 Single Qubit Unitary Gates"
   ]
  },
  {
   "cell_type": "markdown",
   "metadata": {},
   "source": [
    "### The Hadamard gate"
   ]
  },
  {
   "cell_type": "markdown",
   "metadata": {},
   "source": [
    "$$H=\\frac{1}{\\sqrt{2}}\\begin{pmatrix}\n",
    "1 & 1 \\\\\n",
    "1 & -1\n",
    "\\end{pmatrix}$$\n",
    "\n",
    "$$\\left| 0 \\right\\rangle \\rightarrow \\frac{1}{\\sqrt{2}}\\big(\\left| 0 \\right\\rangle + \\left| 1 \\right\\rangle\\big)$$\n",
    "\n",
    "$$\\left| 1 \\right\\rangle \\rightarrow \\frac{1}{\\sqrt{2}}\\big(\\left| 0 \\right\\rangle - \\left| 1 \\right\\rangle\\big)$$"
   ]
  },
  {
   "cell_type": "code",
   "execution_count": 107,
   "metadata": {},
   "outputs": [
    {
     "name": "stdout",
     "output_type": "stream",
     "text": [
      "(0, 0): ───H───\n"
     ]
    }
   ],
   "source": [
    "from cirq.ops import H\n",
    "q0, q1 = [cirq.GridQubit(i,0) for i in range(2)]\n",
    "circuit = cirq.Circuit()\n",
    "circuit.append(H(q0))\n",
    "print(circuit)"
   ]
  },
  {
   "cell_type": "markdown",
   "metadata": {},
   "source": [
    "A more general definition is given in the Cirq code with the $\\text{HPowGate(exponent=t)}=e^{i\\frac{\\pi t}{2}}\\begin{pmatrix}\n",
    "\\cos\\frac{\\pi t}{2}-i\\frac{1}{\\sqrt{2}}\\sin\\frac{\\pi t}{2} & -i\\frac{1}{\\sqrt{2}}\\sin\\frac{\\pi t}{2} \\\\\n",
    "-i\\frac{1}{\\sqrt{2}}\\sin\\frac{\\pi t}{2} & \\cos\\frac{\\pi t}{2}+i\\frac{1}{\\sqrt{2}}\\sin\\frac{\\pi t}{2}\n",
    "\\end{pmatrix}$\n",
    "where the Hadamard gate is just the special case for $t=1$"
   ]
  },
  {
   "cell_type": "markdown",
   "metadata": {},
   "source": [
    "### The $NOT$ gate"
   ]
  },
  {
   "cell_type": "markdown",
   "metadata": {},
   "source": [
    "$$NOT=\\sqrt{X}=\\frac{1}{2}\\begin{pmatrix}\n",
    "1+i & 1-i \\\\\n",
    "1-i & 1+i\n",
    "\\end{pmatrix}$$\n",
    "\n",
    "$$\\left| 0 \\right\\rangle \\rightarrow \\frac{1}{2}\\big((1+i)\\left| 0 \\right\\rangle + (1-i)\\left| 1 \\right\\rangle\\big)$$\n",
    "\n",
    "$$\\left|1\\right\\rangle \\rightarrow \\frac{1}{2}\\big(       (1-i)\\left|0\\right\\rangle + (1+i)\\left|1\\right\\rangle\\big)$$"
   ]
  },
  {
   "cell_type": "code",
   "execution_count": 74,
   "metadata": {},
   "outputs": [],
   "source": [
    "#?"
   ]
  },
  {
   "cell_type": "markdown",
   "metadata": {},
   "source": [
    "### The Pauli X gate"
   ]
  },
  {
   "cell_type": "markdown",
   "metadata": {},
   "source": [
    "$$X=\\begin{pmatrix}\n",
    "0 & 1 \\\\\n",
    "1 & 0\n",
    "\\end{pmatrix}$$\n",
    "\n",
    "$$\\left| 0 \\right\\rangle \\rightarrow \\left| 1 \\right\\rangle $$\n",
    "\n",
    "$$\\left| 1 \\right\\rangle \\rightarrow \\left| 0 \\right\\rangle $$"
   ]
  },
  {
   "cell_type": "code",
   "execution_count": 110,
   "metadata": {},
   "outputs": [
    {
     "name": "stdout",
     "output_type": "stream",
     "text": [
      "(0, 0): ───X───\n"
     ]
    }
   ],
   "source": [
    "from cirq.ops import X\n",
    "q0, q1= [cirq.GridQubit(i,0) for i in range(2)]\n",
    "circuit = cirq.Circuit()\n",
    "circuit.append(X(q0))\n",
    "print(circuit)"
   ]
  },
  {
   "cell_type": "markdown",
   "metadata": {},
   "source": [
    "A more general definition is given in the Cirq code with the $\\text{XPowGate(exponent=t)}=e^{i\\frac{\\pi t}{2}}\\begin{pmatrix}\n",
    "\\cos\\frac{\\pi t}{2} & -i\\sin\\frac{\\pi t}{2} \\\\\n",
    "-i\\sin\\frac{\\pi t}{2} & \\cos\\frac{\\pi t}{2}\n",
    "\\end{pmatrix}$\n",
    "where the X gate gate is just the special case for $t=1$"
   ]
  },
  {
   "cell_type": "markdown",
   "metadata": {},
   "source": [
    "### The Pauli Y gate "
   ]
  },
  {
   "cell_type": "markdown",
   "metadata": {},
   "source": [
    "$$Y=\\begin{pmatrix}\n",
    "0 & -i \\\\\n",
    "i & 0\n",
    "\\end{pmatrix}$$\n",
    "\n",
    "$$\\left| 0 \\right\\rangle \\rightarrow i\\left| 1 \\right\\rangle $$\n",
    "\n",
    "$$\\left| 1 \\right\\rangle \\rightarrow -i\\left| 0 \\right\\rangle $$"
   ]
  },
  {
   "cell_type": "code",
   "execution_count": 113,
   "metadata": {},
   "outputs": [
    {
     "name": "stdout",
     "output_type": "stream",
     "text": [
      "(0, 0): ───Y───\n"
     ]
    }
   ],
   "source": [
    "from cirq.ops import Y\n",
    "q0 ,= [cirq.GridQubit(i,0) for i in range(1)]\n",
    "circuit = cirq.Circuit()\n",
    "circuit.append(Y(q0))\n",
    "print(circuit)"
   ]
  },
  {
   "cell_type": "markdown",
   "metadata": {},
   "source": [
    "A more general definition is given in the Cirq code with the $\\text{YPowGate(exponent=t)}=e^{i\\frac{\\pi t}{2}}\\begin{pmatrix}\n",
    "\\cos\\frac{\\pi t}{2} & -\\sin\\frac{\\pi t}{2} \\\\\n",
    "\\sin\\frac{\\pi t}{2} & \\cos\\frac{\\pi t}{2}\n",
    "\\end{pmatrix}$\n",
    "where the Y gate is just the special case for $t=1$"
   ]
  },
  {
   "cell_type": "markdown",
   "metadata": {},
   "source": [
    "### The Pauli-Z $(R_{\\pi})$ gate "
   ]
  },
  {
   "cell_type": "markdown",
   "metadata": {},
   "source": [
    "$$Z=\\begin{pmatrix}\n",
    "1 & 0 \\\\\n",
    "0 & -1\n",
    "\\end{pmatrix}$$\n",
    "\n",
    "$$\\left| 0 \\right\\rangle \\rightarrow \\left| 0 \\right\\rangle $$\n",
    "\n",
    "$$\\left| 1 \\right\\rangle \\rightarrow -\\left| 1 \\right\\rangle $$"
   ]
  },
  {
   "cell_type": "code",
   "execution_count": 114,
   "metadata": {},
   "outputs": [
    {
     "name": "stdout",
     "output_type": "stream",
     "text": [
      "(0, 0): ───Z───\n"
     ]
    }
   ],
   "source": [
    "from cirq.ops import Z\n",
    "q0, q1= [cirq.GridQubit(i,0) for i in range(2)]\n",
    "circuit = cirq.Circuit()\n",
    "circuit.append(Z(q0))\n",
    "print(circuit)"
   ]
  },
  {
   "cell_type": "markdown",
   "metadata": {},
   "source": [
    "A more general definition is given in the Cirq code with the $\\text{ZPowGate(exponent=t)}=\\begin{pmatrix}\n",
    "1 & 0 \\\\\n",
    "0 & e^{i\\pi t}\n",
    "\\end{pmatrix}$\n",
    "where the Z gate is just the special case for $t=1$"
   ]
  },
  {
   "cell_type": "code",
   "execution_count": 116,
   "metadata": {},
   "outputs": [
    {
     "name": "stdout",
     "output_type": "stream",
     "text": [
      "(0, 0): ───Z^0.1───\n"
     ]
    }
   ],
   "source": [
    "from cirq.ops import ZPowGate\n",
    "q0, q1= [cirq.GridQubit(i,0) for i in range(2)]\n",
    "circuit = cirq.Circuit()\n",
    "circuit.append(ZPowGate(exponent=0.1)(q0))\n",
    "print(circuit)"
   ]
  },
  {
   "cell_type": "markdown",
   "metadata": {},
   "source": [
    "### 1.2 Two Qubit Unitary Gates"
   ]
  },
  {
   "cell_type": "markdown",
   "metadata": {},
   "source": [
    "### The Swap gate"
   ]
  },
  {
   "cell_type": "markdown",
   "metadata": {},
   "source": [
    " $$Swap=\\begin{pmatrix}\n",
    "1 & 0 & 0 & 0\\\\\n",
    "0 & 0 & 1 & 0\\\\\n",
    "0 & 1 & 0 & 0\\\\\n",
    "0 & 0 & 0 & 1\n",
    "\\end{pmatrix}$$\n",
    "\n",
    "$$\\left| 00 \\right\\rangle \\rightarrow \\left| 00 \\right\\rangle $$\n",
    "\n",
    "$$\\left| 01 \\right\\rangle \\rightarrow \\left| 10 \\right\\rangle $$\n",
    "\n",
    "$$\\left| 10 \\right\\rangle \\rightarrow \\left| 01 \\right\\rangle $$\n",
    "\n",
    "$$\\left| 11 \\right\\rangle \\rightarrow \\left| 11 \\right\\rangle $$"
   ]
  },
  {
   "cell_type": "code",
   "execution_count": 99,
   "metadata": {},
   "outputs": [
    {
     "name": "stdout",
     "output_type": "stream",
     "text": [
      "(0, 0): ───×───\n",
      "           │\n",
      "(1, 0): ───×───\n"
     ]
    }
   ],
   "source": [
    "from cirq.ops import SWAP\n",
    "q0, q1, q2 = [cirq.GridQubit(i,0) for i in range(3)]\n",
    "circuit = cirq.Circuit()\n",
    "circuit.append([SWAP(q0,q1),])\n",
    "print(circuit)"
   ]
  },
  {
   "cell_type": "markdown",
   "metadata": {},
   "source": [
    "The CZ gate $CZ=\\begin{pmatrix}\n",
    "1 & 0 & 0 & 0\\\\\n",
    "0 & 1 & 0 & 0\\\\\n",
    "0 & 0 & 1 & 0\\\\\n",
    "0 & 0 & 0 & e^{i\\phi}\n",
    "\\end{pmatrix}$ "
   ]
  },
  {
   "cell_type": "code",
   "execution_count": 80,
   "metadata": {},
   "outputs": [
    {
     "name": "stdout",
     "output_type": "stream",
     "text": [
      "CZ\n"
     ]
    }
   ],
   "source": [
    "cz_gate = cirq.CZ\n",
    "print(cz_gate)"
   ]
  },
  {
   "cell_type": "markdown",
   "metadata": {},
   "source": [
    "And a more general definition is given in the Cirq with the $\\text{CZPowGate(exponent=t)}=\\begin{pmatrix}\n",
    "1 & 0 & 0 & 0\\\\\n",
    "0 & 1 & 0 & 0 \\\\\n",
    "0 & 0 & 1 & 0 \\\\\n",
    "0 & 0 & 0 & e^{i\\pi t}\n",
    "\\end{pmatrix}$\n",
    "where the Y gate is just the special case for $t=1$"
   ]
  },
  {
   "cell_type": "code",
   "execution_count": 81,
   "metadata": {},
   "outputs": [
    {
     "name": "stdout",
     "output_type": "stream",
     "text": [
      "CZ\n"
     ]
    }
   ],
   "source": [
    "cz_gate = cirq.CZPowGate(exponent=1)\n",
    "print(cz_gate)"
   ]
  },
  {
   "cell_type": "code",
   "execution_count": 117,
   "metadata": {},
   "outputs": [
    {
     "name": "stdout",
     "output_type": "stream",
     "text": [
      "(0, 0): ───@───\n",
      "           │\n",
      "(1, 0): ───@───\n"
     ]
    }
   ],
   "source": [
    "from cirq.ops import CZPowGate\n",
    "q0, q1, q2 = [cirq.GridQubit(i,0) for i in range(3)]\n",
    "circuit = cirq.Circuit()\n",
    "circuit.append([CZPowGate(exponent=1)(q0,q1),])\n",
    "print(circuit)"
   ]
  },
  {
   "cell_type": "markdown",
   "metadata": {},
   "source": [
    "### Controlled cX gate (CNOT)\n"
   ]
  },
  {
   "cell_type": "markdown",
   "metadata": {},
   "source": [
    "$$\n",
    "CNOT=cX\n",
    "\\begin{pmatrix}\n",
    "1 & 0 & 0 & 0\\\\\n",
    "0 & 1 & 0 & 0\\\\\n",
    "0 & 0 & 0 & 1\\\\\n",
    "0 & 0 & 1 & 0\n",
    "\\end{pmatrix}\n",
    "$$\n",
    "\n",
    "$$\\left | 00 \\right\\rangle \\rightarrow \\left | 00 \\right\\rangle,\\quad\n",
    "\\left | 01 \\right\\rangle \\rightarrow \\left | 01 \\right\\rangle,\\quad\n",
    "\\left | 10 \\right\\rangle \\leftrightarrow \\left | 11 \\right\\rangle$$"
   ]
  },
  {
   "cell_type": "markdown",
   "metadata": {},
   "source": [
    "A more general definition is given in the Cirq code with the $\\text{CNotPowGate(exponent=t)}=\\begin{pmatrix}\n",
    "1 & 0 & 0 & 0\\\\\n",
    "0 & 1 & 0 & 0 \\\\\n",
    "0 & 0 & e^{i\\frac{\\pi t}{2}}\\cos\\frac{\\pi t}{2} & -ie^{i\\frac{\\pi t}{2}}\\sin\\frac{\\pi t}{2} \\\\\n",
    "0 & 0 & -ie^{i\\frac{\\pi t}{2}}\\sin\\frac{\\pi t}{2} & e^{i\\frac{\\pi t}{2}}\\cos\\frac{\\pi t}{2}\n",
    "\\end{pmatrix}$\n",
    "where the Y gate is just the special case for $t=1$"
   ]
  },
  {
   "cell_type": "code",
   "execution_count": 119,
   "metadata": {},
   "outputs": [
    {
     "name": "stdout",
     "output_type": "stream",
     "text": [
      "(0, 0): ───@────────\n",
      "           │\n",
      "(1, 0): ───X^0.25───\n"
     ]
    }
   ],
   "source": [
    "from cirq.ops import CNotPowGate\n",
    "q0, q1, q2 = [cirq.GridQubit(i,0) for i in range(3)]\n",
    "circuit = cirq.Circuit()\n",
    "circuit.append([CNotPowGate(exponent=0.25)(q0,q1),])\n",
    "print(circuit)"
   ]
  },
  {
   "cell_type": "markdown",
   "metadata": {},
   "source": [
    "## Building the quantum Circuit"
   ]
  },
  {
   "cell_type": "markdown",
   "metadata": {},
   "source": [
    "First we define a grid on which we will place all our gates. Lets say we define a $3\\times 3$ grid so we can add up to 9 gates to the first moment"
   ]
  },
  {
   "cell_type": "code",
   "execution_count": 83,
   "metadata": {},
   "outputs": [
    {
     "name": "stdout",
     "output_type": "stream",
     "text": [
      "(0, 0)\n",
      "(0, 1)\n",
      "(0, 2)\n",
      "(1, 0)\n",
      "(1, 1)\n",
      "(1, 2)\n",
      "(2, 0)\n",
      "(2, 1)\n",
      "(2, 2)\n"
     ]
    }
   ],
   "source": [
    "qubits = [cirq.GridQubit(x,y) for x in range(3) for y in range(3)]\n",
    "print(qubits[0])\n",
    "print(qubits[1])\n",
    "print(qubits[2])\n",
    "print(qubits[3])\n",
    "print(qubits[4])\n",
    "print(qubits[5])\n",
    "print(qubits[6])\n",
    "print(qubits[7])\n",
    "print(qubits[8])"
   ]
  },
  {
   "cell_type": "markdown",
   "metadata": {},
   "source": [
    "Next we need to add gates to our circuit. Say we want to add to the $(0,0)$ position a X gate:"
   ]
  },
  {
   "cell_type": "code",
   "execution_count": 84,
   "metadata": {},
   "outputs": [
    {
     "name": "stdout",
     "output_type": "stream",
     "text": [
      "X((0, 0))\n"
     ]
    }
   ],
   "source": [
    "x_gate = cirq.X\n",
    "x_op = x_gate(qubits[0])\n",
    "print(x_op)"
   ]
  },
  {
   "cell_type": "markdown",
   "metadata": {},
   "source": [
    "We call $\\underline{Momentum}$ the collection of operators (gates) of the circuit that act on the same time interval on some different qubits of the state"
   ]
  },
  {
   "cell_type": "markdown",
   "metadata": {},
   "source": [
    "Lets define a Moment composed of CZ gate (acting on the first two qubits) and a Pauli-X gate acting on the third:"
   ]
  },
  {
   "cell_type": "code",
   "execution_count": 85,
   "metadata": {},
   "outputs": [
    {
     "name": "stdout",
     "output_type": "stream",
     "text": [
      "X((0, 2)) and CZ((0, 0), (0, 1))\n"
     ]
    }
   ],
   "source": [
    "cz = cirq.CZ(qubits[0],qubits[1])\n",
    "x = cirq.X(qubits[2])\n",
    "moment = cirq.Moment([x,cz])\n",
    "print(moment)"
   ]
  },
  {
   "cell_type": "markdown",
   "metadata": {},
   "source": [
    "We call Circuits the complete collection of all moments. Say we want to add a second moment to the one above, comprized of another CZ gate that acts on the second and third qubit:"
   ]
  },
  {
   "cell_type": "code",
   "execution_count": 86,
   "metadata": {},
   "outputs": [
    {
     "name": "stdout",
     "output_type": "stream",
     "text": [
      "(0, 0): ───@───────\n",
      "           │\n",
      "(0, 1): ───@───@───\n",
      "               │\n",
      "(0, 2): ───X───@───\n"
     ]
    }
   ],
   "source": [
    "cz01 = cirq.CZ(qubits[0], qubits[1])\n",
    "x2 = cirq.X(qubits[2])\n",
    "cz12 = cirq.CZ(qubits[1], qubits[2])\n",
    "moment0 = cirq.Moment([cz01, x2])\n",
    "moment1 = cirq.Moment([cz12])\n",
    "circuit = cirq.Circuit((moment0, moment1))\n",
    "print(circuit)"
   ]
  },
  {
   "cell_type": "markdown",
   "metadata": {},
   "source": [
    "## A second way to construct a circuit:"
   ]
  },
  {
   "cell_type": "code",
   "execution_count": 138,
   "metadata": {},
   "outputs": [
    {
     "name": "stdout",
     "output_type": "stream",
     "text": [
      "(0, 0): ───@───────\n",
      "           │\n",
      "(1, 0): ───@───@───\n",
      "               │\n",
      "(2, 0): ───X───@───\n"
     ]
    }
   ],
   "source": [
    "from cirq.ops import CZ, X, I, H\n",
    "q0, q1, q2 = [cirq.GridQubit(i, 0) for i in range(3)]\n",
    "circuit = cirq.Circuit()\n",
    "circuit.append([CZ(q0, q1), X(q2)])\n",
    "circuit.append([CZ(q1,q2)])\n",
    "print(circuit)"
   ]
  },
  {
   "cell_type": "markdown",
   "metadata": {},
   "source": [
    "First we define a quantum circuit with gates that are parametrized by some variables $\\theta_1,\\cdots\\theta_k$"
   ]
  },
  {
   "cell_type": "markdown",
   "metadata": {},
   "source": [
    "This will create the ansatz state we need for the minimization problem later on"
   ]
  },
  {
   "cell_type": "markdown",
   "metadata": {},
   "source": [
    "# A Variational Quantum Algorithm with Cirq"
   ]
  },
  {
   "cell_type": "markdown",
   "metadata": {},
   "source": [
    "We consider the 1d Ising model Hamiltonian\n",
    "$$H=\\sum_{<i,j>}J_{i,j}s_{i}s_{j}+\\sum_{i}h_{i}s_{i}$$"
   ]
  },
  {
   "cell_type": "markdown",
   "metadata": {},
   "source": [
    "Given the set of $J_{i,j}$ and $h_i$ (where for each value of $i,j$ each of these take values of either $1$ or $-1$) we have to find the set of $s_{i}$ that minimizes $\\langle H\\rangle$. Of course since we talk about spin interactions it is also known that $J_{i,j}=J_{j,i}$ so the $J$ matrix is symmetric."
   ]
  },
  {
   "cell_type": "code",
   "execution_count": 88,
   "metadata": {},
   "outputs": [
    {
     "name": "stdout",
     "output_type": "stream",
     "text": [
      "[cirq.GridQubit(0, 0), cirq.GridQubit(1, 0), cirq.GridQubit(2, 0)]\n"
     ]
    }
   ],
   "source": [
    "import cirq\n",
    "# define the length of the grid.\n",
    "length = 3\n",
    "# define qubits on the grid.\n",
    "qubits = [cirq.GridQubit(i, 0) for i in range(length)]\n",
    "print(qubits);"
   ]
  },
  {
   "cell_type": "code",
   "execution_count": 89,
   "metadata": {},
   "outputs": [
    {
     "name": "stdout",
     "output_type": "stream",
     "text": [
      "(0, 0): ───H───\n",
      "\n",
      "(1, 0): ───X───\n",
      "\n",
      "(2, 0): ───H───\n"
     ]
    }
   ],
   "source": [
    "circuit = cirq.Circuit()\n",
    "circuit.append(cirq.H(q) for q in qubits if (q.row + q.col) % 2 == 0)\n",
    "circuit.append(cirq.X(q) for q in qubits if (q.row + q.col) % 2 == 1)\n",
    "print(circuit)"
   ]
  },
  {
   "cell_type": "markdown",
   "metadata": {},
   "source": [
    "If the length of the Ising chain is say 3 and we allow only 1st neightbour interaction (and also because we dont have self interactions contributing to the energy) then the J and h will have the form\n",
    "$$h=\n",
    "\\begin{pmatrix}\n",
    "h_1\\\\\n",
    "h_2\\\\\n",
    "h_3\n",
    "\\end{pmatrix}, \\quad \n",
    "J=\n",
    "\\begin{pmatrix}\n",
    "0 & J_{12} & 0\\\\\n",
    "J_{12} & 0 & J_{23}\\\\\n",
    "0 & J_{23} & 0\n",
    "\\end{pmatrix}\n",
    "$$"
   ]
  },
  {
   "cell_type": "markdown",
   "metadata": {},
   "source": [
    "If we also define periodic boundary conditions, then we will have:\n",
    "\n",
    "$$h=\n",
    "\\begin{pmatrix}\n",
    "h_1\\\\\n",
    "h_2\\\\\n",
    "h_3\n",
    "\\end{pmatrix}, \\quad \n",
    "J=\n",
    "\\begin{pmatrix}\n",
    "0 & J_{12} & J_{13}\\\\\n",
    "J_{12} & 0 & J_{23}\\\\\n",
    "J_{13} & J_{23} & 0\n",
    "\\end{pmatrix}\n",
    "$$"
   ]
  },
  {
   "cell_type": "markdown",
   "metadata": {},
   "source": [
    "We will leave this last case for a later study, since the  periodic b.c\n",
    "<font color='red'> will complicate things and the gates wont necessarily be planar (I am not sure if this true)</font>\n"
   ]
  },
  {
   "cell_type": "markdown",
   "metadata": {},
   "source": [
    "# Creating the Ansantz"
   ]
  },
  {
   "cell_type": "markdown",
   "metadata": {},
   "source": [
    "In order to define the initial ansantz we need to have the set of values $J_{ij}$ and $h_{i}$  of the Hamiltonian defined. To that end we will create a vector for the $h_{i}$ and a two dimensional array for the values of $J_{ij}$"
   ]
  },
  {
   "cell_type": "code",
   "execution_count": 46,
   "metadata": {},
   "outputs": [
    {
     "name": "stdout",
     "output_type": "stream",
     "text": [
      "3\n",
      "h: [1, -1, 1]\n",
      "J: [[ 0. -1.  0.]\n",
      " [-1.  0.  1.]\n",
      " [ 0.  1.  0.]]\n"
     ]
    }
   ],
   "source": [
    "import numpy as np\n",
    "import random\n",
    "h = []\n",
    "J = (3,3) \n",
    "J = np.zeros(J)\n",
    "def random_instance(length):\n",
    "    for i in range(length):\n",
    "        h.append(random.choice(range(-1,2,2)))\n",
    "        for j in range(i,length):\n",
    "            if j-i>1 or i==j:\n",
    "                J[i][j] = J[j][i]= 0\n",
    "            else:\n",
    "                J[i][j] = J[j][i] = random.choice(range(-1,2,2))\n",
    "    return(J)\n",
    "\n",
    "J = random_instance(3)\n",
    "l = len(J)\n",
    "print(l)\n",
    "print('h: {}'.format(h))\n",
    "print('J: {}'.format(J))"
   ]
  },
  {
   "cell_type": "markdown",
   "metadata": {},
   "source": [
    "We can now introduce the ansatz. What we will do is to\n",
    "1. Apply a XPowGate for the same parameter for all qubits"
   ]
  },
  {
   "cell_type": "code",
   "execution_count": 60,
   "metadata": {},
   "outputs": [
    {
     "name": "stdout",
     "output_type": "stream",
     "text": [
      "(0, 0): ───X───\n",
      "\n",
      "(1, 0): ───X───\n",
      "\n",
      "(2, 0): ───X───\n"
     ]
    }
   ],
   "source": [
    "import cirq\n",
    "def rot_x_layer(length, half_turns):\n",
    "    rot = cirq.XPowGate(exponent=half_turns)\n",
    "    for i in range(length):\n",
    "            yield rot(cirq.GridQubit(i,0))\n",
    "            \n",
    "circuit = cirq.Circuit()\n",
    "circuit.append(rot_x_layer(3, 1))\n",
    "print(circuit)            "
   ]
  },
  {
   "cell_type": "markdown",
   "metadata": {},
   "source": [
    "2. Apply a ZPowGate for the same parameter for all qubits where the field h is +1. Remember "
   ]
  },
  {
   "cell_type": "code",
   "execution_count": 61,
   "metadata": {},
   "outputs": [
    {
     "name": "stdout",
     "output_type": "stream",
     "text": [
      "(0, 0): ───X───Z───\n",
      "\n",
      "(1, 0): ───X───────\n",
      "\n",
      "(2, 0): ───X───Z───\n"
     ]
    }
   ],
   "source": [
    "def rot_z_layer(h, half_turns):\n",
    "    gate = cirq.ZPowGate(exponent=half_turns)\n",
    "    for i in range(len(h)):\n",
    "            if h[i] == 1:\n",
    "                yield gate(cirq.GridQubit(i, 0))\n",
    "                \n",
    "#h = random_instance(3)\n",
    "#circuit = cirq.Circuit()\n",
    "circuit.append(rot_z_layer(h, 1),\n",
    "        strategy = cirq.InsertStrategy.EARLIEST)\n",
    "print(circuit)\n"
   ]
  },
  {
   "cell_type": "markdown",
   "metadata": {},
   "source": [
    "Up to this point the gates applied were single qubit gates that operate on single qubits and dont entangle distinct qubits with each other. Now lets apply a two qubit gate\n",
    "3. Apply a CZPowGate for the same parameter for all qubits where the couplping field term J is +1. If the coupling J is -1 apply the Swap gate."
   ]
  },
  {
   "cell_type": "code",
   "execution_count": 133,
   "metadata": {},
   "outputs": [
    {
     "name": "stdout",
     "output_type": "stream",
     "text": [
      "(0, 0): ───X───Z───×───────×───────\n",
      "                   │       │\n",
      "(1, 0): ───X───────×───@───×───@───\n",
      "                       │       │\n",
      "(2, 0): ───X───Z───────@───────@───\n"
     ]
    }
   ],
   "source": [
    "def rot_11_layer(J, half_turns):\n",
    "    gate1 = cirq.CZPowGate(exponent=half_turns)    \n",
    "    gate2 = cirq.SWAP\n",
    "    for i in range(len(J)):\n",
    "        for j in range(i,len(J)):\n",
    "            if J[i,j] == +1:\n",
    "                yield gate1(cirq.GridQubit(i, 0),\n",
    "                       cirq.GridQubit(j, 0))\n",
    "            if J[i,j] == -1:\n",
    "                yield gate2(cirq.GridQubit(i, 0),\n",
    "                       cirq.GridQubit(j, 0))\n",
    "#            yield gate(cirq.GridQubit(i, 0),cirq.GridQubit(i + 1, 0))\n",
    "#            if J[i,j] == -1:\n",
    "#                yield cirq.SWAP(cirq.GridQubit(i, 0))  \n",
    "                \n",
    "circuit.append(rot_11_layer(J, 1),\n",
    "        strategy = cirq.InsertStrategy.EARLIEST)\n",
    "print(circuit)"
   ]
  },
  {
   "cell_type": "markdown",
   "metadata": {},
   "source": [
    "For better readability we will introduce all the gates in the circuit with on function"
   ]
  },
  {
   "cell_type": "code",
   "execution_count": 134,
   "metadata": {},
   "outputs": [
    {
     "name": "stdout",
     "output_type": "stream",
     "text": [
      "(0, 0): ───X───Z───×───────\n",
      "                   │\n",
      "(1, 0): ───X───────×───@───\n",
      "                       │\n",
      "(2, 0): ───X───Z───────@───\n"
     ]
    }
   ],
   "source": [
    "def one_step(h, J , x_half_turns, h_half_turns, j_half_turns):\n",
    "    length = len(h)\n",
    "    yield rot_x_layer(length, x_half_turns)\n",
    "    yield rot_z_layer(h, h_half_turns)\n",
    "    yield rot_11_layer(J, j_half_turns)\n",
    "    \n",
    "#h, J = random_instance(3)\n",
    "\n",
    "circuit = cirq.Circuit()\n",
    "circuit.append(one_step(h, J, 1, 1, 1),\n",
    "        strategy = cirq.InsertStrategy.EARLIEST)\n",
    "print(circuit)"
   ]
  },
  {
   "cell_type": "markdown",
   "metadata": {},
   "source": [
    "# Simulation"
   ]
  },
  {
   "cell_type": "markdown",
   "metadata": {},
   "source": [
    "Comming Soon ..."
   ]
  },
  {
   "cell_type": "code",
   "execution_count": null,
   "metadata": {},
   "outputs": [],
   "source": []
  }
 ],
 "metadata": {
  "kernelspec": {
   "display_name": "Python 3",
   "language": "python",
   "name": "python3"
  },
  "language_info": {
   "codemirror_mode": {
    "name": "ipython",
    "version": 3
   },
   "file_extension": ".py",
   "mimetype": "text/x-python",
   "name": "python",
   "nbconvert_exporter": "python",
   "pygments_lexer": "ipython3",
   "version": "3.7.4"
  }
 },
 "nbformat": 4,
 "nbformat_minor": 2
}
