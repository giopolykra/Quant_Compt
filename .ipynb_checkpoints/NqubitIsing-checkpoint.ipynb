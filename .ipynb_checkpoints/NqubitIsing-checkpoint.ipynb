{
 "cells": [
  {
   "cell_type": "markdown",
   "metadata": {},
   "source": [
    "# Attempts to Minimize the 1d Ising Hamiltonian with Qiskit"
   ]
  },
  {
   "cell_type": "markdown",
   "metadata": {},
   "source": [
    "## We correspond each spin of the N-chain 1d-Ising model with a qubit of a circuit  "
   ]
  },
  {
   "cell_type": "markdown",
   "metadata": {},
   "source": [
    "# $1^{st}$ Solution"
   ]
  },
  {
   "cell_type": "code",
   "execution_count": 8,
   "metadata": {},
   "outputs": [],
   "source": [
    "from matplotlib import pyplot as plt\n",
    "from qiskit.visualization import plot_histogram\n",
    "from matplotlib.patches import Rectangle\n",
    "import numpy as np\n",
    "from qiskit import *\n",
    "from itertools import product\n",
    "import random\n",
    "from IPython.display import Image"
   ]
  },
  {
   "cell_type": "code",
   "execution_count": 29,
   "metadata": {},
   "outputs": [
    {
     "name": "stdout",
     "output_type": "stream",
     "text": [
      "['000', '001', '010', '011', '100', '101', '110', '111']\n"
     ]
    }
   ],
   "source": [
    "#We will need this function when we try to see all the possible 2^N states of the N qubit system basis\n",
    "def qubit_list(Nqubit):\n",
    "    li = ['0', '1']\n",
    "    #for comb in product(li, repeat=3):\n",
    "    #print(''.join(comb))\n",
    "    combs = [''.join(comb) for comb in product(li, repeat = Nqubit)]\n",
    "    return combs\n",
    "print(qubit_list(3))"
   ]
  },
  {
   "cell_type": "code",
   "execution_count": 10,
   "metadata": {},
   "outputs": [],
   "source": [
    "#We will need this function when we try to ctrate a list for the counts including the states that where not observed\n",
    "def conv_qubitbook(counts):\n",
    "    N = len(str(list(counts.items())[0][0]))\n",
    "    #I did that so that I wont have to include another input to the function\n",
    "    qubitbook = counts\n",
    "    for i in qubit_list(N):\n",
    "        if i not in qubitbook.keys():\n",
    "            qubitbook[i] = 0\n",
    "    return qubitbook"
   ]
  },
  {
   "cell_type": "markdown",
   "metadata": {},
   "source": [
    "For simplicity we will define all the couplings to be 1. Also we will not consider periodic bc just yet"
   ]
  },
  {
   "cell_type": "code",
   "execution_count": 11,
   "metadata": {
    "scrolled": true
   },
   "outputs": [
    {
     "data": {
      "image/png": "[encoded data removed]",
      "text/plain": [
       "<IPython.core.display.Image object>"
      ]
     },
     "execution_count": 11,
     "metadata": {},
     "output_type": "execute_result"
    }
   ],
   "source": [
    "Image(\"ising.png\")"
   ]
  },
  {
   "cell_type": "markdown",
   "metadata": {},
   "source": [
    "$H = -\\sum^{N-1}_{i}J_{i}\\sigma_{i}\\sigma_{i+1}-\\sum^{N}_{i}h_{i}\\sigma_{i}$ where each spin can be in the $+1$ or $-1$ spin state and $J_{i}$ are the nearest-neighbour coupling strengths."
   ]
  },
  {
   "cell_type": "code",
   "execution_count": 12,
   "metadata": {},
   "outputs": [
    {
     "name": "stdout",
     "output_type": "stream",
     "text": [
      "h= [1, 1, 1] \n",
      "J= [1, 1]\n"
     ]
    }
   ],
   "source": [
    "def couplings(N):\n",
    "    h = []\n",
    "    J = [] \n",
    "    for i in range(N):\n",
    "        h.append(random.choice(range(1,2,2)))\n",
    "    for j in range(N-1):\n",
    "        J.append(random.choice(range(1,2,2)))\n",
    "    return h,J\n",
    "\n",
    "print(\"h=\",couplings(3)[0],\"\\nJ=\",couplings(3)[1])"
   ]
  },
  {
   "cell_type": "code",
   "execution_count": 13,
   "metadata": {},
   "outputs": [
    {
     "name": "stdout",
     "output_type": "stream",
     "text": [
      "[[0.         3.14159265 0.        ]\n",
      " [0.         3.14159265 0.        ]\n",
      " [0.         3.14159265 0.        ]\n",
      " [0.         3.14159265 0.        ]]\n"
     ]
    }
   ],
   "source": [
    "#this is just for verification. In the fillowing we will define all the angles to be random in the [0,2*pi]\n",
    "def rot_vec(N):\n",
    "    p = (N,3)\n",
    "    p = np.zeros(p)\n",
    "    for i in range(N):\n",
    "        p[i][0] = 0\n",
    "        p[i][1] = np.pi\n",
    "        p[i][2] = 0\n",
    "    return p\n",
    "print(rot_vec(4))"
   ]
  },
  {
   "cell_type": "code",
   "execution_count": 14,
   "metadata": {
    "scrolled": true
   },
   "outputs": [
    {
     "data": {
      "image/png": "[encoded data removed]",
      "text/plain": [
       "<Figure size 408.156x325.08 with 1 Axes>"
      ]
     },
     "execution_count": 14,
     "metadata": {},
     "output_type": "execute_result"
    }
   ],
   "source": [
    "#I decited that in order to perform expectation values it would be easier to take the output measurement \n",
    "#of each registed seperately\n",
    "def circuit(N,param,register):\n",
    "    qr = QuantumRegister(N)\n",
    "    cr = ClassicalRegister(1)\n",
    "    qc = QuantumCircuit(qr, cr)\n",
    "    for j in range(N):\n",
    "        qc.u3(param[j][0],param[j][1],param[j][2],qr[j])\n",
    "    qc.x(qr[0])\n",
    "    qc.x(qr[1])\n",
    "    #qc.x(qr[2])\n",
    "    qc.unitary\n",
    "    qc.measure(qr[register], cr[0])\n",
    "    #[qc.measure(qr[i], cr[0]) for i in range(N)]\n",
    "    return qc\n",
    "qc = circuit(4,rot_vec(4),0)\n",
    "qc.draw(output = 'mpl')"
   ]
  },
  {
   "cell_type": "markdown",
   "metadata": {},
   "source": [
    "We define a function that returns the expectation value of the PauliZ matrix. \n",
    "For the ith-register at the end of the circuit we can have a state of the form \n",
    "$$|\\psi>_{i}=\\alpha|0>+\\beta|1>$$\n",
    "The probability to measure $|0>$ or $|1>$ are\n",
    "$P_{0}=|<0|\\psi>|^2$ and $P_{1}=|<1|\\psi>|^2$.\n",
    "\n",
    "Now for the expectation value of the PauliZ matrix $\\begin{pmatrix}\n",
    "1 & 0\\\\\n",
    "0 & -1\n",
    "\\end{pmatrix}$ \n",
    "we see that \n",
    "$$\n",
    "\\begin{align}\n",
    "<\\psi|Z|\\psi>=&<\\psi|\\left(|0><0|-|1><1|\\right)|\\psi>\\\\\n",
    "=&<\\psi|0><0|\\psi>-<\\psi|1><1|\\psi>\\\\\n",
    "=&P_{0}-P_{1}\\\\\n",
    "=&\\frac{counts_{|0>}}{\\text{total counts}}-\\frac{counts_{|1>}}{\\text{total counts}}\n",
    "\\end{align}\n",
    "$$\n",
    "In the above we assume a normalized state\n",
    " "
   ]
  },
  {
   "cell_type": "markdown",
   "metadata": {},
   "source": [
    "We will simulate the circuit for each register seperatelly in order to distinguish the expextation value of the PauliZ matrix for each one. For example for the 1st register we will get:"
   ]
  },
  {
   "cell_type": "code",
   "execution_count": 15,
   "metadata": {
    "scrolled": true
   },
   "outputs": [
    {
     "data": {
      "image/png": "[encoded data removed]",
      "text/plain": [
       "<Figure size 504x360 with 1 Axes>"
      ]
     },
     "execution_count": 15,
     "metadata": {},
     "output_type": "execute_result"
    }
   ],
   "source": [
    "#The counts of a simulation when we only measure the outpun of the 1st register\n",
    "counts = execute(circuit(4,rot_vec(4),0),Aer.get_backend('qasm_simulator')).result().get_counts()\n",
    "plot_histogram(conv_qubitbook(counts))"
   ]
  },
  {
   "cell_type": "markdown",
   "metadata": {},
   "source": [
    "And for the 3rd:"
   ]
  },
  {
   "cell_type": "code",
   "execution_count": 16,
   "metadata": {},
   "outputs": [
    {
     "data": {
      "image/png": "[encoded data removed]",
      "text/plain": [
       "<Figure size 504x360 with 1 Axes>"
      ]
     },
     "execution_count": 16,
     "metadata": {},
     "output_type": "execute_result"
    }
   ],
   "source": [
    "counts = execute(circuit(4,rot_vec(4),2),Aer.get_backend('qasm_simulator')).result().get_counts()\n",
    "plot_histogram(conv_qubitbook(counts))"
   ]
  },
  {
   "cell_type": "code",
   "execution_count": 17,
   "metadata": {},
   "outputs": [],
   "source": [
    "def exp_val(N, param ,shots=1000):\n",
    "    expval = []\n",
    "    for j in range(N):\n",
    "        qc = circuit(N,param,j)\n",
    "        job = execute(qc,Aer.get_backend('qasm_simulator'),shots=1000)\n",
    "        result = job.result()\n",
    "        counts = result.get_counts(qc)\n",
    "        counts = conv_qubitbook(counts)\n",
    "        #print(\"counts:\",counts)\n",
    "        probs = sorted([(i, c/shots) for i, c in counts.items()])\n",
    "        #print(\"probs:\",probs)\n",
    "        P = np.float64(np.array(probs)[:, 1])\n",
    "        expval.append(P[0]-P[1])\n",
    "    return expval"
   ]
  },
  {
   "cell_type": "code",
   "execution_count": 18,
   "metadata": {},
   "outputs": [
    {
     "data": {
      "text/plain": [
       "[-1.0, -1.0, 1.0]"
      ]
     },
     "execution_count": 18,
     "metadata": {},
     "output_type": "execute_result"
    }
   ],
   "source": [
    "exp_val(3,rot_vec(3))"
   ]
  },
  {
   "cell_type": "code",
   "execution_count": 19,
   "metadata": {},
   "outputs": [
    {
     "name": "stdout",
     "output_type": "stream",
     "text": [
      "1.0\n"
     ]
    }
   ],
   "source": [
    "def cost(N,param):\n",
    "    # the circuit function returns a numpy array of Pauli-Z expectation values\n",
    "    spins = exp_val(N,param)\n",
    "    # the expectation value of Pauli-Z is +1 for spin up and -1 for spin down\n",
    "    h = couplings(N)[0]\n",
    "    J = couplings(N)[1]\n",
    "    energy=-h[N-1] * spins[N-1];\n",
    "    for i in range(N-1):\n",
    "        energy = energy -(J[i] * spins[i] * spins[i+1] + h[i] * spins[i])\n",
    "    return energy\n",
    "print(cost(3,rot_vec(3)))"
   ]
  },
  {
   "cell_type": "code",
   "execution_count": 20,
   "metadata": {},
   "outputs": [
    {
     "name": "stdout",
     "output_type": "stream",
     "text": [
      "Energy for [-1.0, -1.0, 1.0] spin configuration is: 1.0\n"
     ]
    }
   ],
   "source": [
    "print(\"Energy for\", exp_val(3,rot_vec(3)), \"spin configuration is:\", cost(3,rot_vec(3)))"
   ]
  },
  {
   "cell_type": "markdown",
   "metadata": {},
   "source": [
    "We will define our angle vectors to be randomly initialized"
   ]
  },
  {
   "cell_type": "code",
   "execution_count": 21,
   "metadata": {},
   "outputs": [
    {
     "name": "stdout",
     "output_type": "stream",
     "text": [
      "[[4.88065472 2.26739757 3.41023321]\n",
      " [1.67178801 0.42257534 4.05166343]\n",
      " [5.72026815 1.49098684 5.34450768]\n",
      " [3.92706754 1.14306066 3.42613909]]\n"
     ]
    }
   ],
   "source": [
    "def rand_rot_vec(N):\n",
    "    p = (N,3)\n",
    "    p = np.zeros(p)\n",
    "    for i in range(N):\n",
    "        p[i][0] = np.pi * np.random.uniform(0, 2)\n",
    "        p[i][1] = np.pi * np.random.uniform(0, 2)\n",
    "        p[i][2] = np.pi * np.random.uniform(0, 2)\n",
    "    return p\n",
    "print(rand_rot_vec(4))"
   ]
  },
  {
   "cell_type": "code",
   "execution_count": 22,
   "metadata": {
    "scrolled": true
   },
   "outputs": [
    {
     "name": "stdout",
     "output_type": "stream",
     "text": [
      "Randomly initialized angles of our 3 qubit circuit:\n",
      " [[3.23487204 4.40597611 3.51331814]\n",
      " [5.77029935 5.5166843  1.75383124]\n",
      " [4.89021448 1.88451252 2.38541024]]\n",
      "The corresponding cost:\n",
      " -3.807188\n"
     ]
    }
   ],
   "source": [
    "print(\"Randomly initialized angles of our 3 qubit circuit:\\n\",rand_rot_vec(3))\n",
    "print(\"The corresponding cost:\\n\",cost(3,rand_rot_vec(3)))"
   ]
  },
  {
   "cell_type": "code",
   "execution_count": 23,
   "metadata": {
    "scrolled": true
   },
   "outputs": [
    {
     "name": "stdout",
     "output_type": "stream",
     "text": [
      "counts: [{'1': 912, '0': 112}, {'1': 41, '0': 983}, {'1': 1021, '0': 3}]\n",
      "labels: ['register 1', 'register 2', 'register 3']\n"
     ]
    },
    {
     "data": {
      "image/png": "[encoded data removed]",
      "text/plain": [
       "<Figure size 504x360 with 1 Axes>"
      ]
     },
     "execution_count": 23,
     "metadata": {},
     "output_type": "execute_result"
    }
   ],
   "source": [
    "def counts_print(N):\n",
    "    counts_book = []\n",
    "    labels = []\n",
    "    for i in range(N):\n",
    "        counts = execute(circuit(3,rand_rot_vec(3),i),Aer.get_backend('qasm_simulator')).result().get_counts()\n",
    "        counts_book.append(counts)\n",
    "        labels.append(\"register %d\" % (i+1))\n",
    "    return counts_book,labels\n",
    "\n",
    "print(\"counts:\",counts_print(3)[0])\n",
    "print(\"labels:\",counts_print(3)[1])\n",
    "plot_histogram(counts_print(3)[0],legend = counts_print(3)[1])"
   ]
  },
  {
   "cell_type": "markdown",
   "metadata": {},
   "source": [
    "Now we need to apply the optimization"
   ]
  },
  {
   "cell_type": "markdown",
   "metadata": {},
   "source": [
    "# $2^{nd}$ Solution: Using the max_cut translation module to map our problem to the ising model (since our problem is the ising model we will transform it to the form of the max cut hamiltonian first)"
   ]
  },
  {
   "cell_type": "markdown",
   "metadata": {},
   "source": [
    "# Brute force approach"
   ]
  },
  {
   "cell_type": "markdown",
   "metadata": {},
   "source": [
    "## Problem with Aqua: It can be used for the optimization of the ising model but [without](https://github.com/Qiskit/qiskit-iqx-tutorials/blob/master/qiskit/advanced/aqua/optimization/max_cut_and_tsp.ipynb) the addition of an external magnetic field. So here we will deal here with the $$H = \\sum^{N-1}_{i}J_{i}\\sigma_{i}\\sigma_{i+1}$$"
   ]
  },
  {
   "cell_type": "code",
   "execution_count": 24,
   "metadata": {},
   "outputs": [],
   "source": [
    "import networkx as nx\n",
    "from qiskit.aqua.translators.ising import max_cut, tsp\n",
    "from qiskit.aqua.input import EnergyInput\n",
    "from qiskit.aqua.operator import Operator"
   ]
  },
  {
   "cell_type": "code",
   "execution_count": 81,
   "metadata": {},
   "outputs": [
    {
     "name": "stdout",
     "output_type": "stream",
     "text": [
      "h= [1. 1. 1. 1.] \n",
      "J= [[0. 1. 0. 0.]\n",
      " [1. 0. 1. 0.]\n",
      " [0. 1. 0. 1.]\n",
      " [0. 0. 1. 0.]] \n",
      "\n"
     ]
    }
   ],
   "source": [
    "# Creating the weight matrix\n",
    "\n",
    "def random_instance(N):\n",
    "    h = np.zeros(N)\n",
    "    J = np.zeros([N,N])\n",
    "    for i in range(N):\n",
    "        h[i] = random.choice(range(1,2,1))\n",
    "        for j in range(i,N):\n",
    "            # impose non-periodic bc\n",
    "            if j-i>1 or i==j:\n",
    "                J[i][j] = J[j][i]= 0\n",
    "            else:\n",
    "                J[i][j] = J[j][i] = random.choice(range(1,2,1))\n",
    "    return h,J\n",
    "\n",
    "print(\"h=\",random_instance(4)[0],\"\\nJ=\",random_instance(4)[1],\"\\n\") "
   ]
  },
  {
   "cell_type": "markdown",
   "metadata": {},
   "source": [
    "Try all possible 2𝑛 combinations. For 𝑛=4, as in this example, one deals with only 16 combinations, but for n = 1000, one has 1.071509e+30 combinations, which is impractical to deal with by using a brute force approach. "
   ]
  },
  {
   "cell_type": "code",
   "execution_count": 47,
   "metadata": {},
   "outputs": [
    {
     "name": "stdout",
     "output_type": "stream",
     "text": [
      "{0: docplex.mp.Var(type=B,name='x_0'), 1: docplex.mp.Var(type=B,name='x_1'), 2: docplex.mp.Var(type=B,name='x_2')}\n"
     ]
    }
   ],
   "source": [
    "a = [int(t) for t in reversed(list(bin(7)[2:].zfill(3)))]\n",
    "print(a)"
   ]
  },
  {
   "cell_type": "code",
   "execution_count": 28,
   "metadata": {},
   "outputs": [
    {
     "name": "stdout",
     "output_type": "stream",
     "text": [
      "case = [0, 0, 0, 0] cost = 0.0\n",
      "case = [1, 0, 0, 0] cost = 0.0\n",
      "case = [0, 1, 0, 0] cost = 0.0\n",
      "case = [1, 1, 0, 0] cost = 0.5\n",
      "case = [0, 0, 1, 0] cost = 0.0\n",
      "case = [1, 0, 1, 0] cost = 0.0\n",
      "case = [0, 1, 1, 0] cost = 0.5\n",
      "case = [1, 1, 1, 0] cost = 1.0\n",
      "case = [0, 0, 0, 1] cost = 0.0\n",
      "case = [1, 0, 0, 1] cost = 0.0\n",
      "case = [0, 1, 0, 1] cost = 0.0\n",
      "case = [1, 1, 0, 1] cost = 0.5\n",
      "case = [0, 0, 1, 1] cost = 0.5\n",
      "case = [1, 0, 1, 1] cost = 0.5\n",
      "case = [0, 1, 1, 1] cost = 1.0\n",
      "case = [1, 1, 1, 1] cost = 1.5\n",
      "\n",
      "Best solution = [1, 1, 1, 1] cost = 1.5\n"
     ]
    }
   ],
   "source": [
    "n=4\n",
    "#h = random_instance(n)[0]\n",
    "J = random_instance(n)[1]\n",
    "\n",
    "best_cost_brute = 0\n",
    "\n",
    "for b in range(2**n):\n",
    "    s = [int(t) for t in reversed(list(bin(b)[2:].zfill(n)))]\n",
    "    cost = 0\n",
    "    #cost = h[n-1]*s[n-1]\n",
    "    for k in range(n-1):   \n",
    "        cost = cost + J[k,k+1]*s[k]*s[k+1]\n",
    "    if best_cost_brute < cost:\n",
    "        best_cost_brute = cost\n",
    "        sbest_brute = s \n",
    "    ## The loop below is slower    \n",
    "    #for i in range(n):\n",
    "    #    for j in range(i,n): \n",
    "    #        if j-i==1:\n",
    "    #            cost = cost + J[i,j]*s[i]*s[j]\n",
    "    #        if i==j:\n",
    "    #            cost = cost + h[i]*s[i]\n",
    "    #        else:\n",
    "    #            cost = cost\n",
    "    #if best_cost_brute < cost:\n",
    "    #    best_cost_brute = cost\n",
    "    #    sbest_brute = s \n",
    "    print('case = ' + str(s)+ ' cost = ' + str(cost))\n",
    "print('\\nBest solution = ' + str(sbest_brute) + ' cost = ' + str(best_cost_brute))    "
   ]
  },
  {
   "cell_type": "markdown",
   "metadata": {},
   "source": [
    "##### Using [max_cut](https://qiskit-staging.mybluemix.net/documentation/autodoc/qiskit.aqua.translators.ising.max_cut.html?highlight=generate%20hamiltonian) for mapping to the Ising problem. There is no problem with doing that since the couplings in the case of the Max Cut problem and the Ising Model are the same"
   ]
  },
  {
   "cell_type": "code",
   "execution_count": 355,
   "metadata": {},
   "outputs": [
    {
     "name": "stdout",
     "output_type": "stream",
     "text": [
      "(<qiskit.aqua.operators.weighted_pauli_operator.WeightedPauliOperator object at 0x7fd17faa8790>, -0.75) \n",
      "\n",
      "Representation: paulis, qubits: 4, size: 3 \n",
      " -0.75\n"
     ]
    }
   ],
   "source": [
    "qubitOp, offset = max_cut.get_max_cut_qubitops(J)\n",
    "algo_input = EnergyInput(qubitOp)\n",
    "\n",
    "#The get_max_cut_qubitops(J) is used to Generate the Hamiltonian of the max_cut problem\n",
    "\n",
    "print(max_cut.get_max_cut_qubitops(J), \"\\n\")\n",
    "print(qubitOp, \"\\n\", offset)"
   ]
  },
  {
   "cell_type": "markdown",
   "metadata": {},
   "source": [
    "### Checking that the full Hamiltonian gives the right cost "
   ]
  },
  {
   "cell_type": "code",
   "execution_count": 67,
   "metadata": {},
   "outputs": [
    {
     "name": "stdout",
     "output_type": "stream",
     "text": [
      "result: {'eigvals': array([-4.25+0.j]), 'eigvecs': array([[0., 0., 0., 0., 0., 0., 0., 0., 0., 0., 0., 0., 0., 0., 0., 1.]]), 'energy': -4.25, 'wavefunction': array([[0., 0., 0., 0., 0., 0., 0., 0., 0., 0., 0., 0., 0., 0., 0., 1.]]), 'energies': array([-4.25])} \n",
      "\n",
      "energy: -4.25\n"
     ]
    },
    {
     "ename": "NameError",
     "evalue": "name 'offset' is not defined",
     "output_type": "error",
     "traceback": [
      "\u001b[0;31m---------------------------------------------------------------------------\u001b[0m",
      "\u001b[0;31mNameError\u001b[0m                                 Traceback (most recent call last)",
      "\u001b[0;32m<ipython-input-67-84449760e1bf>\u001b[0m in \u001b[0;36m<module>\u001b[0;34m\u001b[0m\n\u001b[1;32m     18\u001b[0m \u001b[0mx\u001b[0m \u001b[0;34m=\u001b[0m \u001b[0mdocplex\u001b[0m\u001b[0;34m.\u001b[0m\u001b[0msample_most_likely\u001b[0m\u001b[0;34m(\u001b[0m\u001b[0mresult\u001b[0m\u001b[0;34m[\u001b[0m\u001b[0;34m'eigvecs'\u001b[0m\u001b[0;34m]\u001b[0m\u001b[0;34m[\u001b[0m\u001b[0;36m0\u001b[0m\u001b[0;34m]\u001b[0m\u001b[0;34m)\u001b[0m\u001b[0;34m\u001b[0m\u001b[0;34m\u001b[0m\u001b[0m\n\u001b[1;32m     19\u001b[0m \u001b[0mprint\u001b[0m\u001b[0;34m(\u001b[0m\u001b[0;34m'energy:'\u001b[0m\u001b[0;34m,\u001b[0m \u001b[0mresult\u001b[0m\u001b[0;34m[\u001b[0m\u001b[0;34m'energy'\u001b[0m\u001b[0;34m]\u001b[0m\u001b[0;34m)\u001b[0m\u001b[0;34m\u001b[0m\u001b[0;34m\u001b[0m\u001b[0m\n\u001b[0;32m---> 20\u001b[0;31m \u001b[0mprint\u001b[0m\u001b[0;34m(\u001b[0m\u001b[0;34m'max-cut objective:'\u001b[0m\u001b[0;34m,\u001b[0m \u001b[0mresult\u001b[0m\u001b[0;34m[\u001b[0m\u001b[0;34m'energy'\u001b[0m\u001b[0;34m]\u001b[0m \u001b[0;34m+\u001b[0m \u001b[0moffset\u001b[0m\u001b[0;34m)\u001b[0m\u001b[0;34m\u001b[0m\u001b[0;34m\u001b[0m\u001b[0m\n\u001b[0m\u001b[1;32m     21\u001b[0m \u001b[0;31m#print('solution:', docplex.get_graph_solution(x))\u001b[0m\u001b[0;34m\u001b[0m\u001b[0;34m\u001b[0m\u001b[0;34m\u001b[0m\u001b[0m\n\u001b[1;32m     22\u001b[0m \u001b[0;31m#print('solution objective:', max_cut.max_cut_value(x, w))\u001b[0m\u001b[0;34m\u001b[0m\u001b[0;34m\u001b[0m\u001b[0;34m\u001b[0m\u001b[0m\n",
      "\u001b[0;31mNameError\u001b[0m: name 'offset' is not defined"
     ]
    }
   ],
   "source": [
    "#Making the Hamiltonian in its full form and getting the lowest eigenvalue and eigenvector\n",
    "from qiskit.aqua.algorithms import ExactEigensolver                                                                                 \n",
    "\n",
    "ee = ExactEigensolver(qubitOp_docplex, k=1)\n",
    "result = ee.run()\n",
    "print(\"result:\", result,\"\\n\")\n",
    "\"\"\"\n",
    "algorithm_cfg = {\n",
    "    'name': 'ExactEigensolver',\n",
    "}\n",
    "\n",
    "params = {\n",
    "    'problem': {'name': 'ising'},\n",
    "    'algorithm': algorithm_cfg\n",
    "}\n",
    "result = run_algorithm(params,algo_input)\n",
    "\"\"\"\n",
    "x = docplex.sample_most_likely(result['eigvecs'][0])\n",
    "print('energy:', result['energy'])\n",
    "print('max-cut objective:', result['energy'] + offset)\n",
    "#print('solution:', docplex.get_graph_solution(x))\n",
    "#print('solution objective:', max_cut.max_cut_value(x, w))\n",
    "\n",
    "#colors = ['r' if max_cut.get_graph_solution(x)[i] == 0 else 'b' for i in range(n)]\n",
    "#nx.draw_networkx(G, node_color=colors, node_size=600, alpha = .8, pos=pos)"
   ]
  },
  {
   "cell_type": "code",
   "execution_count": null,
   "metadata": {},
   "outputs": [],
   "source": []
  },
  {
   "cell_type": "code",
   "execution_count": 59,
   "metadata": {},
   "outputs": [
    {
     "name": "stdout",
     "output_type": "stream",
     "text": [
      "4\n"
     ]
    }
   ],
   "source": [
    "print(J.shape[0])"
   ]
  },
  {
   "cell_type": "markdown",
   "metadata": {},
   "source": [
    "# $3^{rd}$ Solution: Using the Docplex module [1](https://github.com/Qiskit/qiskit-aqua/issues/554) [2](https://quantum-computing.ibm.com/jupyter/tutorial/advanced/aqua/optimization/max_cut_and_tsp.ipynb) [3](https://qiskit-staging.mybluemix.net/documentation/autodoc/qiskit.aqua.translators.ising.docplex.html?highlight=generate%20hamiltonian). We insert the model by hand "
   ]
  },
  {
   "cell_type": "code",
   "execution_count": 204,
   "metadata": {
    "scrolled": true
   },
   "outputs": [
    {
     "name": "stdout",
     "output_type": "stream",
     "text": [
      "J: [[0. 1.]\n",
      " [1. 0.]] \n",
      "h: [1. 1.]\n",
      "H =  -4x_0*x_1+4x_0+4x_1-3\n",
      "model: <docplex.mp.model.Model object at 0x7f56cc329990>\n",
      "Binary variable x: {0: docplex.mp.Var(type=B,name='x_0'), 1: docplex.mp.Var(type=B,name='x_1')}\n",
      "Representation: paulis, qubits: 2, size: 3\n",
      "energy: 0.0\n",
      "QubitOps solution: [1, -1]\n"
     ]
    }
   ],
   "source": [
    "from docplex.mp.model import Model\n",
    "from qiskit.aqua.translators.ising import docplex\n",
    "from qiskit.aqua.algorithms import ExactEigensolver                                                                                 \n",
    "\n",
    "n=2\n",
    "# Create an instance of a model and variables.\n",
    "def ising_docplex(J,h,n):\n",
    "    mdl = Model(name='ising')\n",
    "    x = {i: mdl.binary_var(name='x_{0}'.format(i)) for i in range(n)}\n",
    "    \"\"\"\n",
    "    Since this variable takes binary values we have to perform a tranformation and replace \n",
    "    the spins of the ising model x[i] = (1-s[i])/2 or s[i]=1-2x[i]\n",
    "    \"\"\"\n",
    "    #print(x,'\\n')\n",
    "    # Object function\n",
    "    interactions = mdl.sum(-J[i,j]* (1-2*x[i]) * (1-2*x[j])/2 for i in range(n) for j in range(n))\n",
    "    external_field = mdl.sum(-h[i]*(1-2*x[i]) for i in range(n))\n",
    "    hamiltonian = interactions + external_field\n",
    "    mdl.minimize(hamiltonian)\n",
    "    return hamiltonian, mdl , x\n",
    "\n",
    "J = random_instance(n)[1]\n",
    "h = random_instance(n)[0]\n",
    "print(\"J:\",J,\"\\nh:\",h)\n",
    "print(\"H = \",ising_docplex(J,h,n)[0])\n",
    "print(\"model:\",ising_docplex(J,h,n)[1])\n",
    "print(\"Binary variable x:\",ising_docplex(J,h,n)[2])\n",
    "\n",
    "#Now lets find the minimal \n",
    "qubitOp_docplex, offset_docplex = docplex.get_qubitops(ising_docplex(J,h,n)[1])                                                                    \n",
    "\n",
    "print(qubitOp_docplex)\n",
    "print('energy:',offset_docplex)\n",
    "print('QubitOps solution:', [int(1-2*i) for i in ising_docplex(J,h,n)[2]])    "
   ]
  },
  {
   "cell_type": "markdown",
   "metadata": {},
   "source": [
    "##### Checking that the full Hamiltonian gives the right cost "
   ]
  },
  {
   "cell_type": "markdown",
   "metadata": {},
   "source": [
    "## Another similar way to do it:"
   ]
  },
  {
   "cell_type": "code",
   "execution_count": 208,
   "metadata": {},
   "outputs": [
    {
     "name": "stdout",
     "output_type": "stream",
     "text": [
      "J: [[0. 1.]\n",
      " [1. 0.]] \n",
      "h: [1. 1.]\n",
      "x: {0: docplex.mp.Var(type=B,name='x_0'), 1: docplex.mp.Var(type=B,name='x_1')} \n",
      "\n",
      "H = -4x_0*x_1+4x_0+4x_1-3\n",
      "Minimal energy: -3.0\n",
      "QubitOps objective: -3.0\n",
      "Minimal energy configuration (binary variable x): [0. 0.]\n",
      "Minimal energy configuration (spin s): [1, 1]\n"
     ]
    }
   ],
   "source": [
    "import numpy as np                                                                                                                      \n",
    "from docplex.mp.constants import ComparisonType                                                                                         \n",
    "from docplex.mp.model import Model                                                                                                                                                                             \n",
    "from qiskit.aqua.translators.ising import docplex as docplex_aqua  \n",
    "from qiskit.aqua.algorithms import ExactEigensolver     \n",
    "\n",
    "def solve_ising(B, C, n):                                                                                                               \n",
    "    \"\"\"                                                                                                                                 \n",
    "    Ising model: \\sum_{i,j ; j>i ; j-i=1} -B_ij s_i s_j - \\sum_i C_i s_i \n",
    "                 \\sum_{i,j ; j>i ; j-i=1} -B_ij (1-2x_i)*(1-2x_j) - \\sum_i C_i (1-2x_i)\n",
    "    \"\"\"                                                                                                                                 \n",
    "    mdl = Model(name = 'ising')                                                                                                                       \n",
    "    #n = B.shape[0]                        \n",
    "    x = {i: mdl.binary_var(name='x_{0}'.format(i)) for i in range(n)}\n",
    "    print(\"x:\",x,\"\\n\")\n",
    "    interactions = mdl.sum(-J[i,j]* (1-2*x[i]) * (1-2*x[j])/2 for i in range(n) for j in range(n))\n",
    "    # I endered a factor of 2 in order to correct the mapping to the Ising Model\n",
    "    external_field = mdl.sum(-h[i]*(1-2*x[i]) for i in range(n))\n",
    "    ising_func = interactions + external_field\n",
    "    # formulate a model                                                                                          \n",
    "    mdl.minimize(ising_func)\n",
    "    print(\"H =\",ising_func)\n",
    "\n",
    "    ## solve using CPLEX                                                                                                            \n",
    "    #solution = mdl.solve()                                                                                                              \n",
    "    #cplex_solution = solution.get_all_values()                                                                                          \n",
    "    #print('CPLEX solution: ', [int(1-2*i) for i in cplex_solution])                                                                     \n",
    "    \n",
    "    # solve using Docplex translator + ExactEigensolver \n",
    "    \n",
    "    #This is supposed to give us the operator for the Hamiltonian\n",
    "    qubitOp_docplex, offset_docplex = docplex_aqua.get_qubitops(mdl)                                                                    \n",
    "    #We give as input the matrix form of the hamiltonian in the Pauli matrix basis\n",
    "    #this is what aqua does for us when we input a hamiltonian\n",
    "    #and ExactEigensolver computes the eigenvalue\n",
    "    ee = ExactEigensolver(qubitOp_docplex, k=1)                                                                                         \n",
    "    result = ee.run()                                                                                                                                                                                                                                                           \n",
    "                                                                                                                                        \n",
    "    x = docplex_aqua.sample_most_likely(result['eigvecs'][0]) \n",
    "    print('Minimal energy:', result['energy'])            \n",
    "    #offset_docplex is just a constant shift for the obj function.\n",
    "    print('QubitOps objective:', result['energy'] + offset_docplex)  \n",
    "    print('Minimal energy configuration (binary variable x):',x)\n",
    "    print('Minimal energy configuration (spin s):', [int(1-2*i) for i in x])    \n",
    "                                                                                                                                        \n",
    "if __name__ == '__main__':        \n",
    "    n=2 # Number of nodes in the qubit chain                                                                                                                                                                                                                                                                                                                                            \n",
    "    J = random_instance(n)[1]\n",
    "    h = random_instance(n)[0]\n",
    "    print('J:',J,'\\nh:',h)\n",
    "    solve_ising(B, h, n)"
   ]
  },
  {
   "cell_type": "code",
   "execution_count": null,
   "metadata": {},
   "outputs": [],
   "source": []
  },
  {
   "cell_type": "markdown",
   "metadata": {},
   "source": [
    "## Optimization (inspired by: https://community.qiskit.org/textbook/ch-applications/vqe-molecules.html)"
   ]
  },
  {
   "cell_type": "markdown",
   "metadata": {},
   "source": [
    "1. We want to compute the gradient of the cost function with respect to the input parameters \n",
    "2. We want to perform a parameter update based on the current gradient and the learning rate.\n",
    "3. We want to set all the gradients back to zero. It’s in order to avoid the accumulation of gradients from multiple passes."
   ]
  },
  {
   "cell_type": "code",
   "execution_count": 247,
   "metadata": {},
   "outputs": [],
   "source": [
    "from qiskit.aqua.algorithms import VQE, ExactEigensolver\n",
    "import matplotlib.pyplot as plt\n",
    "%matplotlib inline\n",
    "import numpy as np\n",
    "from qiskit.chemistry.aqua_extensions.components.variational_forms import UCCSD\n",
    "from qiskit.aqua.components.variational_forms import RYRZ\n",
    "from qiskit.chemistry.aqua_extensions.components.initial_states import HartreeFock\n",
    "from qiskit.aqua.components.optimizers import COBYLA, SPSA, SLSQP\n",
    "from qiskit import IBMQ, BasicAer, Aer\n",
    "from qiskit.chemistry.drivers import PySCFDriver, UnitsType\n",
    "from qiskit.chemistry import FermionicOperator\n",
    "from qiskit import IBMQ\n",
    "from qiskit.providers.aer import noise\n",
    "from qiskit.aqua import QuantumInstance\n",
    "from qiskit.ignis.mitigation.measurement import CompleteMeasFitter"
   ]
  },
  {
   "cell_type": "code",
   "execution_count": null,
   "metadata": {},
   "outputs": [],
   "source": []
  },
  {
   "cell_type": "code",
   "execution_count": null,
   "metadata": {},
   "outputs": [],
   "source": []
  },
  {
   "cell_type": "code",
   "execution_count": null,
   "metadata": {},
   "outputs": [],
   "source": []
  },
  {
   "cell_type": "code",
   "execution_count": 248,
   "metadata": {},
   "outputs": [],
   "source": [
    "H = [[1,0,0],[0,-1,0],[0,0,1]]"
   ]
  },
  {
   "cell_type": "code",
   "execution_count": 251,
   "metadata": {},
   "outputs": [
    {
     "ename": "NameError",
     "evalue": "name 'qubitOp' is not defined",
     "output_type": "error",
     "traceback": [
      "\u001b[0;31m-----------------------------------------------------------------------\u001b[0m",
      "\u001b[0;31mNameError\u001b[0m                             Traceback (most recent call last)",
      "\u001b[0;32m<ipython-input-251-fdd4e66e67a9>\u001b[0m in \u001b[0;36m<module>\u001b[0;34m\u001b[0m\n\u001b[0;32m----> 1\u001b[0;31m \u001b[0mee\u001b[0m \u001b[0;34m=\u001b[0m \u001b[0mExactEigensolver\u001b[0m\u001b[0;34m(\u001b[0m\u001b[0mqubitOp\u001b[0m\u001b[0;34m,\u001b[0m \u001b[0mk\u001b[0m\u001b[0;34m=\u001b[0m\u001b[0;36m1\u001b[0m\u001b[0;34m)\u001b[0m\u001b[0;34m\u001b[0m\u001b[0;34m\u001b[0m\u001b[0m\n\u001b[0m\u001b[1;32m      2\u001b[0m \u001b[0mresult\u001b[0m \u001b[0;34m=\u001b[0m \u001b[0mee\u001b[0m\u001b[0;34m.\u001b[0m\u001b[0mrun\u001b[0m\u001b[0;34m(\u001b[0m\u001b[0;34m)\u001b[0m\u001b[0;34m\u001b[0m\u001b[0;34m\u001b[0m\u001b[0m\n",
      "\u001b[0;31mNameError\u001b[0m: name 'qubitOp' is not defined"
     ]
    }
   ],
   "source": [
    "ee = ExactEigensolver(qubitOp, k=1)\n",
    "result = ee.run()"
   ]
  },
  {
   "cell_type": "code",
   "execution_count": null,
   "metadata": {},
   "outputs": [],
   "source": []
  },
  {
   "cell_type": "code",
   "execution_count": null,
   "metadata": {},
   "outputs": [],
   "source": []
  },
  {
   "cell_type": "code",
   "execution_count": null,
   "metadata": {},
   "outputs": [],
   "source": [
    "backend = BasicAer.get_backend(\"statevector_simulator\")\n",
    "distances = np.arange(0.5, 4.0, 0.1)\n",
    "exact_energies = []\n",
    "vqe_energies = []\n",
    "optimizer = SLSQP(maxiter=5)\n",
    "for dist in distances:\n",
    "    qubitOp, num_particles, num_spin_orbitals, shift = get_qubit_op(dist)\n",
    "    result = ExactEigensolver(qubitOp).run()\n",
    "    exact_energies.append(result['energy'] + shift)\n",
    "    initial_state = HartreeFock(\n",
    "        qubitOp.num_qubits,\n",
    "        num_spin_orbitals,\n",
    "        num_particles,\n",
    "        'parity'\n",
    "    ) \n",
    "    var_form = UCCSD(\n",
    "        qubitOp.num_qubits,\n",
    "        depth=1,\n",
    "        num_orbitals=num_spin_orbitals,\n",
    "        num_particles=num_particles,\n",
    "        initial_state=initial_state,\n",
    "        qubit_mapping='parity'\n",
    "    )\n",
    "    vqe = VQE(qubitOp, var_form, optimizer, 'matrix')\n",
    "    results = vqe.run(backend)['energy'] + shift\n",
    "    vqe_energies.append(results)\n",
    "    print(\"Interatomic Distance:\", np.round(dist, 2), \"VQE Result:\", results, \"Exact Energy:\", exact_energies[-1])\n",
    "    \n",
    "print(\"All energies have been calculated\")\n"
   ]
  },
  {
   "cell_type": "markdown",
   "metadata": {},
   "source": [
    "## Optimization (I am using pytorch here)"
   ]
  },
  {
   "cell_type": "code",
   "execution_count": 204,
   "metadata": {},
   "outputs": [
    {
     "name": "stdout",
     "output_type": "stream",
     "text": [
      "<class 'torch.Tensor'>\n"
     ]
    }
   ],
   "source": [
    "import torch\n",
    "from torch.autograd import Variable\n",
    "torch.manual_seed(56)\n",
    "tensor = Variable((2*np.pi * torch.rand(3, dtype=torch.float64)), requires_grad=True)\n",
    "print(type(tensor))\n",
    "N = 3"
   ]
  },
  {
   "cell_type": "code",
   "execution_count": 245,
   "metadata": {},
   "outputs": [
    {
     "name": "stdout",
     "output_type": "stream",
     "text": [
      "[[tensor([0.6822, 0.8701, 1.1077], dtype=torch.float64, requires_grad=True)\n",
      "  tensor([4.1768, 3.0395, 1.0732], dtype=torch.float64, requires_grad=True)\n",
      "  tensor([3.5623, 3.2338, 1.2994], dtype=torch.float64, requires_grad=True)]\n",
      " [tensor([0.9483, 3.7918, 2.7175], dtype=torch.float64, requires_grad=True)\n",
      "  tensor([3.6786, 3.9411, 4.0143], dtype=torch.float64, requires_grad=True)\n",
      "  tensor([3.0227, 5.3149, 0.7846], dtype=torch.float64, requires_grad=True)]\n",
      " [tensor([3.0701, 0.3059, 2.1585], dtype=torch.float64, requires_grad=True)\n",
      "  tensor([1.4546, 1.7398, 2.6396], dtype=torch.float64, requires_grad=True)\n",
      "  tensor([6.2395, 5.5149, 3.8289], dtype=torch.float64, requires_grad=True)]\n",
      " [tensor([4.5424, 2.1578, 0.6993], dtype=torch.float64, requires_grad=True)\n",
      "  tensor([5.6865, 2.0339, 0.6923], dtype=torch.float64, requires_grad=True)\n",
      "  tensor([3.4823, 4.3758, 5.0130], dtype=torch.float64, requires_grad=True)]] \n",
      "\n",
      "[tensor([0.0709, 4.0100, 2.3749], dtype=torch.float64, requires_grad=True)\n",
      " tensor([5.9418, 6.1776, 3.3805], dtype=torch.float64, requires_grad=True)\n",
      " tensor([0.1161, 3.5228, 4.7239], dtype=torch.float64, requires_grad=True)] \n",
      "\n",
      "[3.69875484 5.12867186 3.5864104 ] \n",
      "\n"
     ]
    }
   ],
   "source": [
    "#Another way to do this is using a tensor for which \n",
    "#its easy to compute the derivative and do te optimization with pytorch\n",
    "def rand_rot_tens(N):\n",
    "    p = np.ndarray(shape=(N,3), dtype=torch.Tensor, order='F')\n",
    "    #p = np.zeros(p)\n",
    "    for i in range(N):\n",
    "        p[i][0] = Variable((2*np.pi * torch.rand(3, dtype=torch.float64)), requires_grad=True)\n",
    "        p[i][1] = Variable((2*np.pi * torch.rand(3, dtype=torch.float64)), requires_grad=True)\n",
    "        p[i][2] = Variable((2*np.pi * torch.rand(3, dtype=torch.float64)), requires_grad=True)\n",
    "    return p\n",
    "print(rand_rot_tens(4),\"\\n\",)\n",
    "print(rand_rot_tens(4)[0],\"\\n\")\n",
    "#Unfortunately we need to convert back to a numpy array if we want to input them into the cost function\n",
    "print(rand_rot_tens(4)[0][0].data.cpu().numpy(),\"\\n\")\n",
    "for i in range(N):\n",
    "    "
   ]
  },
  {
   "cell_type": "code",
   "execution_count": 222,
   "metadata": {
    "scrolled": true
   },
   "outputs": [],
   "source": [
    "#We need to transorm our vectors into tensors, because the optimization with torch works for tensors\n",
    "#I also have to convert the output of the cost function into a tensor\n",
    "def tensor_rot_vec_init(N):\n",
    "    array = []\n",
    "    for i in range(N):\n",
    "        #tensor = torch.tensor(rand_rot_vec(N)[i])\n",
    "        tensor = Variable((2*np.pi * torch.rand(3, dtype=torch.float64)), requires_grad=True)\n",
    "        array.append(tensor)\n",
    "    return array\n",
    "#print(type(tensor_rot_vec_init(3)))\n",
    "#print(tensor_rot_vec_init(3))\n",
    "#print(cost(N,tensor_rot_vec(N)))"
   ]
  },
  {
   "cell_type": "code",
   "execution_count": 192,
   "metadata": {},
   "outputs": [],
   "source": [
    "opt = torch.optim.SGD(tensor_rot_vec_init(N), lr=0.1)"
   ]
  },
  {
   "cell_type": "code",
   "execution_count": 193,
   "metadata": {},
   "outputs": [
    {
     "name": "stdout",
     "output_type": "stream",
     "text": [
      "tensor(-2.8202)\n"
     ]
    }
   ],
   "source": [
    "loss = torch.tensor(cost(N,rand_rot_vec(N)))\n",
    "print(loss)"
   ]
  },
  {
   "cell_type": "code",
   "execution_count": 194,
   "metadata": {},
   "outputs": [
    {
     "ename": "RuntimeError",
     "evalue": "element 0 of tensors does not require grad and does not have a grad_fn",
     "output_type": "error",
     "traceback": [
      "\u001b[0;31m-----------------------------------------------------------------------\u001b[0m",
      "\u001b[0;31mRuntimeError\u001b[0m                          Traceback (most recent call last)",
      "\u001b[0;32m<ipython-input-194-a5ba8cbbd5a7>\u001b[0m in \u001b[0;36m<module>\u001b[0;34m\u001b[0m\n\u001b[1;32m      5\u001b[0m     \u001b[0;32mreturn\u001b[0m \u001b[0mloss\u001b[0m\u001b[0;34m\u001b[0m\u001b[0;34m\u001b[0m\u001b[0m\n\u001b[1;32m      6\u001b[0m \u001b[0;31m#cost_init = cost(2,var_init)\u001b[0m\u001b[0;34m\u001b[0m\u001b[0;34m\u001b[0m\u001b[0;34m\u001b[0m\u001b[0m\n\u001b[0;32m----> 7\u001b[0;31m \u001b[0mprint\u001b[0m\u001b[0;34m(\u001b[0m\u001b[0mclosure\u001b[0m\u001b[0;34m(\u001b[0m\u001b[0mN\u001b[0m\u001b[0;34m)\u001b[0m\u001b[0;34m)\u001b[0m\u001b[0;34m\u001b[0m\u001b[0;34m\u001b[0m\u001b[0m\n\u001b[0m",
      "\u001b[0;32m<ipython-input-194-a5ba8cbbd5a7>\u001b[0m in \u001b[0;36mclosure\u001b[0;34m(N)\u001b[0m\n\u001b[1;32m      2\u001b[0m     \u001b[0mopt\u001b[0m\u001b[0;34m.\u001b[0m\u001b[0mzero_grad\u001b[0m\u001b[0;34m(\u001b[0m\u001b[0;34m)\u001b[0m\u001b[0;34m\u001b[0m\u001b[0;34m\u001b[0m\u001b[0m\n\u001b[1;32m      3\u001b[0m     \u001b[0mloss\u001b[0m \u001b[0;34m=\u001b[0m \u001b[0mtorch\u001b[0m\u001b[0;34m.\u001b[0m\u001b[0mtensor\u001b[0m\u001b[0;34m(\u001b[0m\u001b[0mcost\u001b[0m\u001b[0;34m(\u001b[0m\u001b[0mN\u001b[0m\u001b[0;34m,\u001b[0m\u001b[0mrand_rot_vec\u001b[0m\u001b[0;34m(\u001b[0m\u001b[0mN\u001b[0m\u001b[0;34m)\u001b[0m\u001b[0;34m)\u001b[0m\u001b[0;34m)\u001b[0m\u001b[0;34m\u001b[0m\u001b[0;34m\u001b[0m\u001b[0m\n\u001b[0;32m----> 4\u001b[0;31m     \u001b[0mloss\u001b[0m\u001b[0;34m.\u001b[0m\u001b[0mbackward\u001b[0m\u001b[0;34m(\u001b[0m\u001b[0;34m)\u001b[0m\u001b[0;34m\u001b[0m\u001b[0;34m\u001b[0m\u001b[0m\n\u001b[0m\u001b[1;32m      5\u001b[0m     \u001b[0;32mreturn\u001b[0m \u001b[0mloss\u001b[0m\u001b[0;34m\u001b[0m\u001b[0;34m\u001b[0m\u001b[0m\n\u001b[1;32m      6\u001b[0m \u001b[0;31m#cost_init = cost(2,var_init)\u001b[0m\u001b[0;34m\u001b[0m\u001b[0;34m\u001b[0m\u001b[0;34m\u001b[0m\u001b[0m\n",
      "\u001b[0;32m~/anaconda3/lib/python3.7/site-packages/torch/tensor.py\u001b[0m in \u001b[0;36mbackward\u001b[0;34m(self, gradient, retain_graph, create_graph)\u001b[0m\n\u001b[1;32m    164\u001b[0m                 \u001b[0mproducts\u001b[0m\u001b[0;34m.\u001b[0m \u001b[0mDefaults\u001b[0m \u001b[0mto\u001b[0m\u001b[0;31m \u001b[0m\u001b[0;31m`\u001b[0m\u001b[0;31m`\u001b[0m\u001b[0;32mFalse\u001b[0m\u001b[0;31m`\u001b[0m\u001b[0;31m`\u001b[0m\u001b[0;34m.\u001b[0m\u001b[0;34m\u001b[0m\u001b[0;34m\u001b[0m\u001b[0m\n\u001b[1;32m    165\u001b[0m         \"\"\"\n\u001b[0;32m--> 166\u001b[0;31m         \u001b[0mtorch\u001b[0m\u001b[0;34m.\u001b[0m\u001b[0mautograd\u001b[0m\u001b[0;34m.\u001b[0m\u001b[0mbackward\u001b[0m\u001b[0;34m(\u001b[0m\u001b[0mself\u001b[0m\u001b[0;34m,\u001b[0m \u001b[0mgradient\u001b[0m\u001b[0;34m,\u001b[0m \u001b[0mretain_graph\u001b[0m\u001b[0;34m,\u001b[0m \u001b[0mcreate_graph\u001b[0m\u001b[0;34m)\u001b[0m\u001b[0;34m\u001b[0m\u001b[0;34m\u001b[0m\u001b[0m\n\u001b[0m\u001b[1;32m    167\u001b[0m \u001b[0;34m\u001b[0m\u001b[0m\n\u001b[1;32m    168\u001b[0m     \u001b[0;32mdef\u001b[0m \u001b[0mregister_hook\u001b[0m\u001b[0;34m(\u001b[0m\u001b[0mself\u001b[0m\u001b[0;34m,\u001b[0m \u001b[0mhook\u001b[0m\u001b[0;34m)\u001b[0m\u001b[0;34m:\u001b[0m\u001b[0;34m\u001b[0m\u001b[0;34m\u001b[0m\u001b[0m\n",
      "\u001b[0;32m~/anaconda3/lib/python3.7/site-packages/torch/autograd/__init__.py\u001b[0m in \u001b[0;36mbackward\u001b[0;34m(tensors, grad_tensors, retain_graph, create_graph, grad_variables)\u001b[0m\n\u001b[1;32m     97\u001b[0m     Variable._execution_engine.run_backward(\n\u001b[1;32m     98\u001b[0m         \u001b[0mtensors\u001b[0m\u001b[0;34m,\u001b[0m \u001b[0mgrad_tensors\u001b[0m\u001b[0;34m,\u001b[0m \u001b[0mretain_graph\u001b[0m\u001b[0;34m,\u001b[0m \u001b[0mcreate_graph\u001b[0m\u001b[0;34m,\u001b[0m\u001b[0;34m\u001b[0m\u001b[0;34m\u001b[0m\u001b[0m\n\u001b[0;32m---> 99\u001b[0;31m         allow_unreachable=True)  # allow_unreachable flag\n\u001b[0m\u001b[1;32m    100\u001b[0m \u001b[0;34m\u001b[0m\u001b[0m\n\u001b[1;32m    101\u001b[0m \u001b[0;34m\u001b[0m\u001b[0m\n",
      "\u001b[0;31mRuntimeError\u001b[0m: element 0 of tensors does not require grad and does not have a grad_fn"
     ]
    }
   ],
   "source": [
    "def closure(N):\n",
    "    opt.zero_grad()\n",
    "    loss = torch.tensor(cost(N,rand_rot_vec(N)))\n",
    "    loss.backward()\n",
    "    return loss\n",
    "#cost_init = cost(2,var_init)\n",
    "print(closure(N))"
   ]
  },
  {
   "cell_type": "code",
   "execution_count": 132,
   "metadata": {},
   "outputs": [
    {
     "ename": "NameError",
     "evalue": "name 'opt' is not defined",
     "output_type": "error",
     "traceback": [
      "\u001b[0;31m-----------------------------------------------------------------------\u001b[0m",
      "\u001b[0;31mNameError\u001b[0m                             Traceback (most recent call last)",
      "\u001b[0;32m<ipython-input-132-1b6e8a040a95>\u001b[0m in \u001b[0;36m<module>\u001b[0;34m\u001b[0m\n\u001b[1;32m     13\u001b[0m \u001b[0;34m\u001b[0m\u001b[0m\n\u001b[1;32m     14\u001b[0m \u001b[0;32mfor\u001b[0m \u001b[0mi\u001b[0m \u001b[0;32min\u001b[0m \u001b[0mrange\u001b[0m\u001b[0;34m(\u001b[0m\u001b[0;36m100\u001b[0m\u001b[0;34m)\u001b[0m\u001b[0;34m:\u001b[0m\u001b[0;34m\u001b[0m\u001b[0;34m\u001b[0m\u001b[0m\n\u001b[0;32m---> 15\u001b[0;31m     \u001b[0mopt\u001b[0m\u001b[0;34m.\u001b[0m\u001b[0mstep\u001b[0m\u001b[0;34m(\u001b[0m\u001b[0mclosure\u001b[0m\u001b[0;34m)\u001b[0m\u001b[0;34m\u001b[0m\u001b[0;34m\u001b[0m\u001b[0m\n\u001b[0m\u001b[1;32m     16\u001b[0m     \u001b[0;32mif\u001b[0m \u001b[0;34m(\u001b[0m\u001b[0mi\u001b[0m \u001b[0;34m+\u001b[0m \u001b[0;36m1\u001b[0m\u001b[0;34m)\u001b[0m \u001b[0;34m%\u001b[0m \u001b[0;36m5\u001b[0m \u001b[0;34m==\u001b[0m \u001b[0;36m0\u001b[0m\u001b[0;34m:\u001b[0m\u001b[0;34m\u001b[0m\u001b[0;34m\u001b[0m\u001b[0m\n\u001b[1;32m     17\u001b[0m         \u001b[0mx\u001b[0m\u001b[0;34m.\u001b[0m\u001b[0mappend\u001b[0m\u001b[0;34m(\u001b[0m\u001b[0mi\u001b[0m\u001b[0;34m)\u001b[0m\u001b[0;34m\u001b[0m\u001b[0;34m\u001b[0m\u001b[0m\n",
      "\u001b[0;31mNameError\u001b[0m: name 'opt' is not defined"
     ]
    }
   ],
   "source": [
    "def closure():\n",
    "    opt.zero_grad()\n",
    "    loss = cost(p1, p2)\n",
    "    loss.backward()\n",
    "    return loss\n",
    "\n",
    "#var_pt = [var_init]\n",
    "#cost_pt = [cost_init]\n",
    "x = [0]\n",
    "\n",
    "for i in range(100):\n",
    "    opt.step(closure)\n",
    "    if (i + 1) % 5 == 0:\n",
    "        x.append(i)\n",
    "        p1n, p2n = opt.param_groups[0][\"params\"]\n",
    "        costn = cost(N, param_n)\n",
    "        var_pt.append([p1n, p2n])\n",
    "        cost_pt.append(costn)\n",
    "\n",
    "        # for clarity, the angles are printed as numpy arrays\n",
    "        print(\"Energy after step {:2d}: {: .7f} | Angles: {}\".format(i+1, costn, [p1n.detach().numpy(), p2n.detach().numpy()]),\"\\n\")\n"
   ]
  },
  {
   "cell_type": "code",
   "execution_count": null,
   "metadata": {},
   "outputs": [],
   "source": []
  },
  {
   "cell_type": "code",
   "execution_count": null,
   "metadata": {},
   "outputs": [],
   "source": []
  },
  {
   "cell_type": "code",
   "execution_count": null,
   "metadata": {},
   "outputs": [],
   "source": []
  },
  {
   "cell_type": "code",
   "execution_count": null,
   "metadata": {},
   "outputs": [],
   "source": []
  },
  {
   "cell_type": "code",
   "execution_count": null,
   "metadata": {},
   "outputs": [],
   "source": []
  },
  {
   "cell_type": "markdown",
   "metadata": {},
   "source": [
    "# Adding Noise to the Simulation"
   ]
  },
  {
   "cell_type": "code",
   "execution_count": null,
   "metadata": {},
   "outputs": [],
   "source": []
  }
 ],
 "metadata": {
  "kernelspec": {
   "display_name": "Python 3",
   "language": "python",
   "name": "python3"
  },
  "language_info": {
   "codemirror_mode": {
    "name": "ipython",
    "version": 3
   },
   "file_extension": ".py",
   "mimetype": "text/x-python",
   "name": "python",
   "nbconvert_exporter": "python",
   "pygments_lexer": "ipython3",
   "version": "3.7.4"
  }
 },
 "nbformat": 4,
 "nbformat_minor": 2
}
