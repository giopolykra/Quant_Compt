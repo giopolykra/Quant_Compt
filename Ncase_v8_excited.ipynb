{
 "cells": [
  {
   "cell_type": "markdown",
   "metadata": {},
   "source": [
    "# $$H=-\\underbrace{\\sum^{N-1}_{i}\\sum^{N}_{j>i} J_{ij}\\sigma^{z}_{i}\\sigma^{z}_{j}}_{H1}-\\underbrace{\\sum^{N}_{i}h_{i}\\sigma^{x}_{i}}_{H2}$$\n"
   ]
  },
  {
   "cell_type": "code",
   "execution_count": 131,
   "metadata": {},
   "outputs": [],
   "source": [
    "from matplotlib import pyplot as plt\n",
    "from qiskit.visualization import plot_histogram\n",
    "from matplotlib.patches import Rectangle\n",
    "import numpy as np\n",
    "import pandas as pd\n",
    "from qiskit import *\n",
    "from itertools import product\n",
    "import random\n",
    "from IPython.display import Image"
   ]
  },
  {
   "cell_type": "code",
   "execution_count": 132,
   "metadata": {},
   "outputs": [
    {
     "name": "stdout",
     "output_type": "stream",
     "text": [
      "h= [1, 1, 1, 1, 1, 1] \n",
      "J= [1, 1, 1, 1, 1, 1]\n"
     ]
    }
   ],
   "source": [
    "def couplings(N):\n",
    "    h , J = [], []\n",
    "    for i in range(N):\n",
    "        h.append(random.choice(range(1,2,2))*1)\n",
    "    for j in range(N):\n",
    "        J.append(random.choice(range(1,2,2)))\n",
    "    return h,J\n",
    "\n",
    "print(\"h=\",couplings(6)[0],\"\\nJ=\",couplings(6)[1])"
   ]
  },
  {
   "cell_type": "code",
   "execution_count": 133,
   "metadata": {},
   "outputs": [
    {
     "name": "stdout",
     "output_type": "stream",
     "text": [
      "array([2.02984002, 1.96812253, 1.03039274, 6.20073274])\n"
     ]
    }
   ],
   "source": [
    "#If we want translational symmetry to be respected we have to apply the same angles \n",
    "#for every qubit\n",
    "def param_tight(N,layers):\n",
    "    if N!=1:\n",
    "        a = 2*np.pi*np.random.rand(4*layers)\n",
    "    else:\n",
    "        a = 2*np.pi*np.random.rand(3*layers)        \n",
    "    return(a)\n",
    "print(repr(param_tight(2,1)))"
   ]
  },
  {
   "cell_type": "code",
   "execution_count": 134,
   "metadata": {},
   "outputs": [],
   "source": [
    "def conv_qubitbook(counts):\n",
    "    N = len(str(list(counts.items())[0][0]))\n",
    "    #I did that so that I wont have to include another input to the function\n",
    "    qubitbook = counts\n",
    "    for i in qubit_list(N):\n",
    "        if i not in qubitbook.keys():\n",
    "            qubitbook[i] = 0\n",
    "    return qubitbook"
   ]
  },
  {
   "cell_type": "code",
   "execution_count": 135,
   "metadata": {},
   "outputs": [
    {
     "name": "stdout",
     "output_type": "stream",
     "text": [
      "['000', '001', '010', '011', '100', '101', '110', '111']\n"
     ]
    }
   ],
   "source": [
    "def qubit_list(Nqubit):\n",
    "    li = ['0', '1']\n",
    "    combs = [''.join(comb) for comb in product(li, repeat = Nqubit)]\n",
    "    return combs\n",
    "print(qubit_list(3))"
   ]
  },
  {
   "cell_type": "markdown",
   "metadata": {},
   "source": [
    "### Hamiltonians "
   ]
  },
  {
   "cell_type": "code",
   "execution_count": 136,
   "metadata": {},
   "outputs": [],
   "source": [
    "import numpy as np\n",
    "\n",
    "h = 1\n",
    "J = 1\n",
    "I = [[1,0],[0,1]]\n",
    "Z = [[1,0],[0,-1]]\n",
    "X = [[0,1],[1,0]]\n",
    "H1d_PBC = np.negative(np.kron(h,X))\n",
    "H2d_PBC =(np.kron(J,np.kron(Z,Z))+\n",
    "            np.kron(J,np.kron(Z,Z))+\n",
    "            np.kron(h,np.kron(X,I))+\n",
    "            np.kron(h,np.kron(I,X)))\n",
    "H2d_PBC = np.negative(H2d_PBC)\n",
    "H3d_PBC =(np.kron(J,np.kron(np.kron(Z,Z),I))+\n",
    "            np.kron(J,np.kron(np.kron(I,Z),Z))+\n",
    "            np.kron(J,np.kron(np.kron(Z,I),Z))+\n",
    "            np.kron(h,np.kron(np.kron(X,I),I))+\n",
    "            np.kron(h,np.kron(np.kron(I,X),I))+\n",
    "            np.kron(h,np.kron(np.kron(I,I),X)))\n",
    "H3d_PBC = np.negative(H3d_PBC)\n",
    "H4d_PBC =(np.kron(J,np.kron(np.kron(np.kron(Z,Z),I),I))+\n",
    "         np.kron(J,np.kron(np.kron(np.kron(I,Z),Z),I))+\n",
    "         np.kron(J,np.kron(np.kron(np.kron(I,I),Z),Z))+\n",
    "         np.kron(J,np.kron(np.kron(np.kron(Z,I),I),Z))+\n",
    "         np.kron(h,np.kron(np.kron(np.kron(X,I),I),I))+\n",
    "         np.kron(h,np.kron(np.kron(np.kron(I,X),I),I))+\n",
    "         np.kron(h,np.kron(np.kron(np.kron(I,I),X),I))+\n",
    "         np.kron(h,np.kron(np.kron(np.kron(I,I),I),X)))\n",
    "H4d_PBC = np.negative(H4d_PBC)\n",
    "H5d_PBC =(np.kron(J,np.kron(np.kron(np.kron(np.kron(Z,Z),I),I),I))+\n",
    "            np.kron(J,np.kron(np.kron(np.kron(np.kron(I,Z),Z),I),I))+\n",
    "            np.kron(J,np.kron(np.kron(np.kron(np.kron(I,I),Z),Z),I))+\n",
    "            np.kron(J,np.kron(np.kron(np.kron(np.kron(I,I),I),Z),Z))+\n",
    "            np.kron(J,np.kron(np.kron(np.kron(np.kron(Z,I),I),I),Z))+\n",
    "            np.kron(h,np.kron(np.kron(np.kron(np.kron(X,I),I),I),I))+\n",
    "            np.kron(h,np.kron(np.kron(np.kron(np.kron(I,X),I),I),I))+\n",
    "            np.kron(h,np.kron(np.kron(np.kron(np.kron(I,I),X),I),I))+\n",
    "            np.kron(h,np.kron(np.kron(np.kron(np.kron(I,I),I),X),I))+\n",
    "            np.kron(h,np.kron(np.kron(np.kron(np.kron(I,I),I),I),X)))\n",
    "H5d_PBC = np.negative(H5d_PBC)\n",
    "H6d_PBC =(np.kron(J,np.kron(np.kron(np.kron(np.kron(np.kron(Z,Z),I),I),I),I))+\n",
    "             np.kron(J,np.kron(np.kron(np.kron(np.kron(np.kron(I,Z),Z),I),I),I))+\n",
    "             np.kron(J,np.kron(np.kron(np.kron(np.kron(np.kron(I,I),Z),Z),I),I))+\n",
    "             np.kron(J,np.kron(np.kron(np.kron(np.kron(np.kron(I,I),I),Z),Z),I))+\n",
    "             np.kron(J,np.kron(np.kron(np.kron(np.kron(np.kron(I,I),I),I),Z),Z))+\n",
    "             np.kron(J,np.kron(np.kron(np.kron(np.kron(np.kron(Z,I),I),I),I),Z))+\n",
    "             np.kron(h,np.kron(np.kron(np.kron(np.kron(np.kron(X,I),I),I),I),I))+\n",
    "             np.kron(h,np.kron(np.kron(np.kron(np.kron(np.kron(I,X),I),I),I),I))+\n",
    "             np.kron(h,np.kron(np.kron(np.kron(np.kron(np.kron(I,I),X),I),I),I))+\n",
    "             np.kron(h,np.kron(np.kron(np.kron(np.kron(np.kron(I,I),I),X),I),I))+\n",
    "             np.kron(h,np.kron(np.kron(np.kron(np.kron(np.kron(I,I),I),I),X),I))+\n",
    "             np.kron(h,np.kron(np.kron(np.kron(np.kron(np.kron(I,I),I),I),I),X)))\n",
    "H6d_PBC = np.negative(H6d_PBC)\n",
    "H7d_PBC =(   np.kron(J,np.kron(np.kron(np.kron(np.kron(np.kron(np.kron(Z,Z),I),I),I),I),I))+\n",
    "             np.kron(J,np.kron(np.kron(np.kron(np.kron(np.kron(np.kron(I,Z),Z),I),I),I),I))+\n",
    "             np.kron(J,np.kron(np.kron(np.kron(np.kron(np.kron(np.kron(I,I),Z),Z),I),I),I))+\n",
    "             np.kron(J,np.kron(np.kron(np.kron(np.kron(np.kron(np.kron(I,I),I),Z),Z),I),I))+\n",
    "             np.kron(J,np.kron(np.kron(np.kron(np.kron(np.kron(np.kron(I,I),I),I),Z),Z),I))+\n",
    "             np.kron(J,np.kron(np.kron(np.kron(np.kron(np.kron(np.kron(I,I),I),I),I),Z),Z))+\n",
    "             np.kron(J,np.kron(np.kron(np.kron(np.kron(np.kron(np.kron(Z,I),I),I),I),I),Z))+\n",
    "             np.kron(h,np.kron(np.kron(np.kron(np.kron(np.kron(np.kron(X,I),I),I),I),I),I))+\n",
    "             np.kron(h,np.kron(np.kron(np.kron(np.kron(np.kron(np.kron(I,X),I),I),I),I),I))+\n",
    "             np.kron(h,np.kron(np.kron(np.kron(np.kron(np.kron(np.kron(I,I),X),I),I),I),I))+\n",
    "             np.kron(h,np.kron(np.kron(np.kron(np.kron(np.kron(np.kron(I,I),I),X),I),I),I))+\n",
    "             np.kron(h,np.kron(np.kron(np.kron(np.kron(np.kron(np.kron(I,I),I),I),X),I),I))+\n",
    "             np.kron(h,np.kron(np.kron(np.kron(np.kron(np.kron(np.kron(I,I),I),I),I),X),I))+\n",
    "             np.kron(h,np.kron(np.kron(np.kron(np.kron(np.kron(np.kron(I,I),I),I),I),I),X)))\n",
    "H7d_PBC = np.negative(H7d_PBC)\n",
    "H8d_PBC =(\n",
    "             np.kron(J,np.kron(np.kron(np.kron(np.kron(np.kron(np.kron(np.kron(Z,Z),I),I),I),I),I),I))+\n",
    "             np.kron(J,np.kron(np.kron(np.kron(np.kron(np.kron(np.kron(np.kron(I,Z),Z),I),I),I),I),I))+\n",
    "             np.kron(J,np.kron(np.kron(np.kron(np.kron(np.kron(np.kron(np.kron(I,I),Z),Z),I),I),I),I))+\n",
    "             np.kron(J,np.kron(np.kron(np.kron(np.kron(np.kron(np.kron(np.kron(I,I),I),Z),Z),I),I),I))+\n",
    "             np.kron(J,np.kron(np.kron(np.kron(np.kron(np.kron(np.kron(np.kron(I,I),I),I),Z),Z),I),I))+\n",
    "             np.kron(J,np.kron(np.kron(np.kron(np.kron(np.kron(np.kron(np.kron(I,I),I),I),I),Z),Z),I))+\n",
    "             np.kron(J,np.kron(np.kron(np.kron(np.kron(np.kron(np.kron(np.kron(I,I),I),I),I),I),Z),Z))+\n",
    "             np.kron(J,np.kron(np.kron(np.kron(np.kron(np.kron(np.kron(np.kron(Z,I),I),I),I),I),I),Z))+\n",
    "             np.kron(h,np.kron(np.kron(np.kron(np.kron(np.kron(np.kron(np.kron(X,I),I),I),I),I),I),I))+\n",
    "             np.kron(h,np.kron(np.kron(np.kron(np.kron(np.kron(np.kron(np.kron(I,X),I),I),I),I),I),I))+\n",
    "             np.kron(h,np.kron(np.kron(np.kron(np.kron(np.kron(np.kron(np.kron(I,I),X),I),I),I),I),I))+\n",
    "             np.kron(h,np.kron(np.kron(np.kron(np.kron(np.kron(np.kron(np.kron(I,I),I),X),I),I),I),I))+\n",
    "             np.kron(h,np.kron(np.kron(np.kron(np.kron(np.kron(np.kron(np.kron(I,I),I),I),X),I),I),I))+\n",
    "             np.kron(h,np.kron(np.kron(np.kron(np.kron(np.kron(np.kron(np.kron(I,I),I),I),I),X),I),I))+\n",
    "             np.kron(h,np.kron(np.kron(np.kron(np.kron(np.kron(np.kron(np.kron(I,I),I),I),I),I),X),I))+\n",
    "             np.kron(h,np.kron(np.kron(np.kron(np.kron(np.kron(np.kron(np.kron(I,I),I),I),I),I),I),X)))\n",
    "H8d_PBC = np.negative(H8d_PBC)\n",
    "H9d_PBC =(\n",
    "            np.kron(J,np.kron(np.kron(np.kron(np.kron(np.kron(np.kron(np.kron(np.kron(Z,Z),I),I),I),I),I),I),I))+\n",
    "            np.kron(J,np.kron(np.kron(np.kron(np.kron(np.kron(np.kron(np.kron(np.kron(I,Z),Z),I),I),I),I),I),I))+\n",
    "            np.kron(J,np.kron(np.kron(np.kron(np.kron(np.kron(np.kron(np.kron(np.kron(I,I),Z),Z),I),I),I),I),I))+\n",
    "            np.kron(J,np.kron(np.kron(np.kron(np.kron(np.kron(np.kron(np.kron(np.kron(I,I),I),Z),Z),I),I),I),I))+\n",
    "            np.kron(J,np.kron(np.kron(np.kron(np.kron(np.kron(np.kron(np.kron(np.kron(I,I),I),I),Z),Z),I),I),I))+\n",
    "            np.kron(J,np.kron(np.kron(np.kron(np.kron(np.kron(np.kron(np.kron(np.kron(I,I),I),I),I),Z),Z),I),I))+\n",
    "            np.kron(J,np.kron(np.kron(np.kron(np.kron(np.kron(np.kron(np.kron(np.kron(I,I),I),I),I),I),Z),Z),I))+\n",
    "            np.kron(J,np.kron(np.kron(np.kron(np.kron(np.kron(np.kron(np.kron(np.kron(I,I),I),I),I),I),I),Z),Z))+\n",
    "            np.kron(J,np.kron(np.kron(np.kron(np.kron(np.kron(np.kron(np.kron(np.kron(Z,I),I),I),I),I),I),I),Z))+\n",
    "            np.kron(h,np.kron(np.kron(np.kron(np.kron(np.kron(np.kron(np.kron(np.kron(X,I),I),I),I),I),I),I),I))+\n",
    "            np.kron(h,np.kron(np.kron(np.kron(np.kron(np.kron(np.kron(np.kron(np.kron(I,X),I),I),I),I),I),I),I))+\n",
    "            np.kron(h,np.kron(np.kron(np.kron(np.kron(np.kron(np.kron(np.kron(np.kron(I,I),X),I),I),I),I),I),I))+\n",
    "            np.kron(h,np.kron(np.kron(np.kron(np.kron(np.kron(np.kron(np.kron(np.kron(I,I),I),X),I),I),I),I),I))+\n",
    "            np.kron(h,np.kron(np.kron(np.kron(np.kron(np.kron(np.kron(np.kron(np.kron(I,I),I),I),X),I),I),I),I))+\n",
    "            np.kron(h,np.kron(np.kron(np.kron(np.kron(np.kron(np.kron(np.kron(np.kron(I,I),I),I),I),X),I),I),I))+\n",
    "            np.kron(h,np.kron(np.kron(np.kron(np.kron(np.kron(np.kron(np.kron(np.kron(I,I),I),I),I),I),X),I),I))+\n",
    "            np.kron(h,np.kron(np.kron(np.kron(np.kron(np.kron(np.kron(np.kron(np.kron(I,I),I),I),I),I),I),X),I))+\n",
    "            np.kron(h,np.kron(np.kron(np.kron(np.kron(np.kron(np.kron(np.kron(np.kron(I,I),I),I),I),I),I),I),X)))\n",
    "H9d_PBC = np.negative(H9d_PBC)\n",
    "H10d_PBC =(\n",
    "        np.kron(J,np.kron(np.kron(np.kron(np.kron(np.kron(np.kron(np.kron(np.kron(np.kron(Z,Z),I),I),I),I),I),I),I),I))+\n",
    "        np.kron(J,np.kron(np.kron(np.kron(np.kron(np.kron(np.kron(np.kron(np.kron(np.kron(I,Z),Z),I),I),I),I),I),I),I))+\n",
    "        np.kron(J,np.kron(np.kron(np.kron(np.kron(np.kron(np.kron(np.kron(np.kron(np.kron(I,I),Z),Z),I),I),I),I),I),I))+\n",
    "        np.kron(J,np.kron(np.kron(np.kron(np.kron(np.kron(np.kron(np.kron(np.kron(np.kron(I,I),I),Z),Z),I),I),I),I),I))+\n",
    "        np.kron(J,np.kron(np.kron(np.kron(np.kron(np.kron(np.kron(np.kron(np.kron(np.kron(I,I),I),I),Z),Z),I),I),I),I))+\n",
    "        np.kron(J,np.kron(np.kron(np.kron(np.kron(np.kron(np.kron(np.kron(np.kron(np.kron(I,I),I),I),I),Z),Z),I),I),I))+\n",
    "        np.kron(J,np.kron(np.kron(np.kron(np.kron(np.kron(np.kron(np.kron(np.kron(np.kron(I,I),I),I),I),I),Z),Z),I),I))+\n",
    "        np.kron(J,np.kron(np.kron(np.kron(np.kron(np.kron(np.kron(np.kron(np.kron(np.kron(I,I),I),I),I),I),I),Z),Z),I))+\n",
    "        np.kron(J,np.kron(np.kron(np.kron(np.kron(np.kron(np.kron(np.kron(np.kron(np.kron(I,I),I),I),I),I),I),I),Z),Z))+\n",
    "        np.kron(J,np.kron(np.kron(np.kron(np.kron(np.kron(np.kron(np.kron(np.kron(np.kron(Z,I),I),I),I),I),I),I),I),Z))+\n",
    "        np.kron(h,np.kron(np.kron(np.kron(np.kron(np.kron(np.kron(np.kron(np.kron(np.kron(X,I),I),I),I),I),I),I),I),I))+\n",
    "        np.kron(h,np.kron(np.kron(np.kron(np.kron(np.kron(np.kron(np.kron(np.kron(np.kron(I,X),I),I),I),I),I),I),I),I))+\n",
    "        np.kron(h,np.kron(np.kron(np.kron(np.kron(np.kron(np.kron(np.kron(np.kron(np.kron(I,I),X),I),I),I),I),I),I),I))+\n",
    "        np.kron(h,np.kron(np.kron(np.kron(np.kron(np.kron(np.kron(np.kron(np.kron(np.kron(I,I),I),X),I),I),I),I),I),I))+\n",
    "        np.kron(h,np.kron(np.kron(np.kron(np.kron(np.kron(np.kron(np.kron(np.kron(np.kron(I,I),I),I),X),I),I),I),I),I))+\n",
    "        np.kron(h,np.kron(np.kron(np.kron(np.kron(np.kron(np.kron(np.kron(np.kron(np.kron(I,I),I),I),I),X),I),I),I),I))+\n",
    "        np.kron(h,np.kron(np.kron(np.kron(np.kron(np.kron(np.kron(np.kron(np.kron(np.kron(I,I),I),I),I),I),X),I),I),I))+\n",
    "        np.kron(h,np.kron(np.kron(np.kron(np.kron(np.kron(np.kron(np.kron(np.kron(np.kron(I,I),I),I),I),I),I),X),I),I))+\n",
    "        np.kron(h,np.kron(np.kron(np.kron(np.kron(np.kron(np.kron(np.kron(np.kron(np.kron(I,I),I),I),I),I),I),I),X),I))+\n",
    "        np.kron(h,np.kron(np.kron(np.kron(np.kron(np.kron(np.kron(np.kron(np.kron(np.kron(I,I),I),I),I),I),I),I),I),X)))\n",
    "H10d_PBC = np.negative(H10d_PBC)"
   ]
  },
  {
   "cell_type": "code",
   "execution_count": 137,
   "metadata": {
    "scrolled": true
   },
   "outputs": [
    {
     "name": "stdout",
     "output_type": "stream",
     "text": [
      "[[-3 -1 -1  0 -1  0  0  0]\n",
      " [-1  1  0 -1  0 -1  0  0]\n",
      " [-1  0  1 -1  0  0 -1  0]\n",
      " [ 0 -1 -1  1  0  0  0 -1]\n",
      " [-1  0  0  0  1 -1 -1  0]\n",
      " [ 0 -1  0  0 -1  1  0 -1]\n",
      " [ 0  0 -1  0 -1  0  1 -1]\n",
      " [ 0  0  0 -1  0 -1 -1 -3]] \n",
      " (8, 8)\n"
     ]
    }
   ],
   "source": [
    "print(H3d_PBC,\"\\n\",H3d_PBC.shape)"
   ]
  },
  {
   "cell_type": "markdown",
   "metadata": {},
   "source": [
    "#  <center> <font color ='#4d4dff' size=\"10\"> Test circuit inversion"
   ]
  },
  {
   "cell_type": "code",
   "execution_count": 138,
   "metadata": {},
   "outputs": [],
   "source": [
    "def circuit_RR_PBC(N,param0,param1,layers):\n",
    "    qr = QuantumRegister(N)\n",
    "    cr = ClassicalRegister(N)\n",
    "    qc = QuantumCircuit(qr, cr)\n",
    "    #param4\n",
    "#   Momentum eigenstate\n",
    "#     qc.x(qr[0])\n",
    "#     [qc.cx(qr[i],qr[i+1]) for i in range(N-1)]\n",
    "#     qc.barrier()\n",
    "    for l in range(layers):\n",
    "        if N!=1: \n",
    "            [qc.rx(param1[0+4*l],qr[i]) for i in range(N)]\n",
    "            [qc.ry(param1[1+4*l],qr[i]) for i in range(N)]\n",
    "            [qc.rz(param1[2+4*l],qr[i])for i in range(N)]\n",
    "            for i in range(N-1):\n",
    "                qc.rzz(param1[3+4*l],qr[i],qr[i+1])\n",
    "            qc.rzz(param1[3+4*l],qr[N-1],qr[0])\n",
    "        else:\n",
    "            [qc.rx(param1[0+3*l],qr[i]) for i in range(N)]\n",
    "            [qc.ry(param1[1+3*l],qr[i]) for i in range(N)]\n",
    "            [qc.rz(param1[2+3*l],qr[i])for i in range(N)]\n",
    "        qc.barrier()\n",
    "    for l in range(layers):\n",
    "        if N!=1: \n",
    "            qc.rzz(-param0[3+4*l],qr[N-1],qr[0])\n",
    "            [qc.rzz(-param0[3+4*l],qr[N-1-i],qr[N-2-i]) for i in range(N-1)]\n",
    "            qc.barrier()\n",
    "            [qc.rz(-param0[2+4*l],qr[i])for i in range(N)]\n",
    "            [qc.ry(-param0[1+4*l],qr[i]) for i in range(N)]\n",
    "            [qc.rx(-param0[0+4*l],qr[i]) for i in range(N)]\n",
    "        else:\n",
    "            [qc.rz(-param0[2+3*l],qr[i])for i in range(N)]\n",
    "            [qc.ry(-param0[1+3*l],qr[i]) for i in range(N)]\n",
    "            [qc.rx(-param0[0+3*l],qr[i]) for i in range(N)] \n",
    "        qc.barrier()\n",
    "    qc.unitary\n",
    "    [qc.measure(qr[i], cr[i]) for i in range(N)]\n",
    "    return qc"
   ]
  },
  {
   "cell_type": "code",
   "execution_count": 139,
   "metadata": {
    "scrolled": true
   },
   "outputs": [
    {
     "name": "stdout",
     "output_type": "stream",
     "text": [
      "param0=array([4.13676082, 2.24714607, 0.73676261, 5.56662906])\n",
      "param1=array([5.72343023, 2.35497448, 5.36498991, 0.90134213])\n"
     ]
    },
    {
     "data": {
      "image/png": "[encoded data removed]",
      "text/plain": [
       "<Figure size 1305.14x264.88 with 1 Axes>"
      ]
     },
     "execution_count": 139,
     "metadata": {},
     "output_type": "execute_result"
    }
   ],
   "source": [
    "N=3\n",
    "layers =1\n",
    "random.seed(999999)\n",
    "param1 = param_tight(N,layers)\n",
    "param0 = param_tight(N,layers)\n",
    "# param2 = [2.9, 6.09, 6.07,2.9, 6.09, 6.07, 2.9, 6.09, 6.07]\n",
    "qc0 = circuit_RR_PBC(N,param0,param1,layers)\n",
    "print(\"param0={}\".format(repr(param0)))\n",
    "print(\"param1={}\".format(repr(param1)))\n",
    "qc0.draw(output=\"mpl\")"
   ]
  },
  {
   "cell_type": "code",
   "execution_count": 140,
   "metadata": {},
   "outputs": [],
   "source": [
    "def compute_RR_term_PBC(N,NUM_SHOTS,param0,param1,layers):\n",
    "    a=[]\n",
    "    qc = circuit_RR_PBC(N,param0,param1,layers)\n",
    "    job = execute(qc,Aer.get_backend('qasm_simulator'),shots=NUM_SHOTS)\n",
    "    result = job.result()\n",
    "    counts = result.get_counts()\n",
    "    counts = conv_qubitbook(counts)\n",
    "    counts = dict(sorted(counts.items())) #sorts the dictionary of counts according to their key\n",
    "    [a.append([int(d) for d in str(list(counts)[i])]) for i in range(len(list(counts)))]\n",
    "    shots = sum(counts.values())\n",
    "    P = [(i, c/shots) for i, c in counts.items()]\n",
    "    return P[0][1]"
   ]
  },
  {
   "cell_type": "code",
   "execution_count": 141,
   "metadata": {},
   "outputs": [
    {
     "data": {
      "text/plain": [
       "0.0234"
      ]
     },
     "execution_count": 141,
     "metadata": {},
     "output_type": "execute_result"
    }
   ],
   "source": [
    "NUM_SHOTS = 10000\n",
    "N=2\n",
    "layers = 1\n",
    "random.seed(999999)\n",
    "param1 = param_tight(N,layers)\n",
    "param0 = param_tight(N,layers)\n",
    "J = couplings(N)[1]\n",
    "compute_RR_term_PBC(N,NUM_SHOTS,param0,param1,layers)"
   ]
  },
  {
   "cell_type": "code",
   "execution_count": 142,
   "metadata": {},
   "outputs": [
    {
     "name": "stdout",
     "output_type": "stream",
     "text": [
      "param0=array([4.28043883, 3.64854762, 0.74165687, 3.10251341])\n",
      "param1=array([1.86880476, 5.0866424 , 3.07006243, 0.54005076])\n"
     ]
    },
    {
     "data": {
      "image/png": "[encoded data removed]",
      "text/plain": [
       "<Figure size 1305.14x264.88 with 1 Axes>"
      ]
     },
     "execution_count": 142,
     "metadata": {},
     "output_type": "execute_result"
    }
   ],
   "source": [
    "N=3\n",
    "layers =1\n",
    "random.seed(999999)\n",
    "param1 = param_tight(N,layers)\n",
    "param0 = param_tight(N,layers)\n",
    "qc = circuit_RR_PBC(N,param0,param1,layers)\n",
    "print(\"param0={}\".format(repr(param0)))\n",
    "print(\"param1={}\".format(repr(param1)))\n",
    "qc.draw(output=\"mpl\")"
   ]
  },
  {
   "cell_type": "code",
   "execution_count": 143,
   "metadata": {},
   "outputs": [
    {
     "data": {
      "image/png": "[encoded data removed]",
      "text/plain": [
       "<Figure size 504x360 with 1 Axes>"
      ]
     },
     "execution_count": 143,
     "metadata": {},
     "output_type": "execute_result"
    }
   ],
   "source": [
    "counts = execute(qc,Aer.get_backend('qasm_simulator'),shots = 100).result().get_counts()\n",
    "# print(\"counts:\",counts)\n",
    "counts = conv_qubitbook(counts)\n",
    "counts = dict(sorted(counts.items()))\n",
    "# print(\"new_counts:\",counts)\n",
    "# print(\"qubit list:\",qubit_list(N))\n",
    "plot_histogram(conv_qubitbook(counts))"
   ]
  },
  {
   "cell_type": "markdown",
   "metadata": {},
   "source": [
    "#  <center> <font color ='#4d4dff' size=\"10\"> Respecting traslation Symmetry"
   ]
  },
  {
   "cell_type": "code",
   "execution_count": 144,
   "metadata": {},
   "outputs": [],
   "source": [
    "# For Periodic Boundary Conditions:\n",
    "def circuit_PBC(N,param,layers):\n",
    "    qr = QuantumRegister(N)\n",
    "    cr = ClassicalRegister(N)\n",
    "    qc = QuantumCircuit(qr, cr)\n",
    "    #param4\n",
    "#   Momentum eigenstate\n",
    "#     qc.x(qr[0])\n",
    "#     [qc.cx(qr[i],qr[i+1]) for i in range(N-1)]\n",
    "#     qc.barrier()\n",
    "    for l in range(layers):\n",
    "        if N!=1: \n",
    "            [qc.rx(param[0+4*l],qr[i]) for i in range(N)]\n",
    "            [qc.ry(param[1+4*l],qr[i]) for i in range(N)]\n",
    "            [qc.rz(param[2+4*l],qr[i])for i in range(N)]\n",
    "            for i in range(N-1):\n",
    "                qc.rzz(param[3+4*l],qr[i],qr[i+1])\n",
    "            qc.rzz(param[3+4*l],qr[N-1],qr[0])\n",
    "        else:\n",
    "            [qc.rx(param[0+3*l],qr[i]) for i in range(N)]\n",
    "            [qc.ry(param[1+3*l],qr[i]) for i in range(N)]\n",
    "            [qc.rz(param[2+3*l],qr[i])for i in range(N)]\n",
    "        qc.barrier()\n",
    "    qc.unitary\n",
    "    [qc.measure(qr[i], cr[i]) for i in range(N)]\n",
    "    return qc"
   ]
  },
  {
   "cell_type": "code",
   "execution_count": 145,
   "metadata": {},
   "outputs": [
    {
     "name": "stdout",
     "output_type": "stream",
     "text": [
      "param2=array([0.66588581, 2.17484984, 4.26620893, 5.34845824])\n"
     ]
    },
    {
     "data": {
      "image/png": "[encoded data removed]",
      "text/plain": [
       "<Figure size 823.536x264.88 with 1 Axes>"
      ]
     },
     "execution_count": 145,
     "metadata": {},
     "output_type": "execute_result"
    }
   ],
   "source": [
    "N=3\n",
    "layers =1\n",
    "param1 = param_tight(N,layers)\n",
    "# param2 = [2.9, 6.09, 6.07,2.9, 6.09, 6.07, 2.9, 6.09, 6.07]\n",
    "qc_PBC = circuit_PBC(N,param1,layers)\n",
    "print(\"param2={}\".format(repr(param1)))\n",
    "qc_PBC.draw(output=\"mpl\")"
   ]
  },
  {
   "cell_type": "code",
   "execution_count": 146,
   "metadata": {},
   "outputs": [
    {
     "name": "stdout",
     "output_type": "stream",
     "text": [
      "counts: {'101': 8, '110': 14, '111': 45, '010': 4, '011': 17, '100': 8, '001': 4}\n",
      "new_counts: {'000': 0, '001': 4, '010': 4, '011': 17, '100': 8, '101': 8, '110': 14, '111': 45}\n",
      "qubit list: ['000', '001', '010', '011', '100', '101', '110', '111']\n"
     ]
    },
    {
     "data": {
      "image/png": "[encoded data removed]",
      "text/plain": [
       "<Figure size 504x360 with 1 Axes>"
      ]
     },
     "execution_count": 146,
     "metadata": {},
     "output_type": "execute_result"
    }
   ],
   "source": [
    "counts = execute(qc_PBC,Aer.get_backend('qasm_simulator'),shots = 100).result().get_counts()\n",
    "print(\"counts:\",counts)\n",
    "counts = conv_qubitbook(counts)\n",
    "counts = dict(sorted(counts.items()))\n",
    "print(\"new_counts:\",counts)\n",
    "print(\"qubit list:\",qubit_list(N))\n",
    "plot_histogram(conv_qubitbook(counts))"
   ]
  },
  {
   "cell_type": "code",
   "execution_count": 147,
   "metadata": {},
   "outputs": [],
   "source": [
    "# For Periodic Boundary Conditions:\n",
    "def compute_H1_PBC(N,NUM_SHOTS,param,J,layers):\n",
    "    H1=0\n",
    "    a=[]\n",
    "    qc = circuit_PBC(N,param,layers)\n",
    "    job = execute(qc,Aer.get_backend('qasm_simulator'),shots=NUM_SHOTS)\n",
    "    result = job.result()\n",
    "    counts = result.get_counts()\n",
    "    counts = conv_qubitbook(counts) \n",
    "    #adds the non-measured states to the list to complete the set of possible 2**N configurations\n",
    "    counts = dict(sorted(counts.items())) #sorts the dictionary of counts according to their key\n",
    "    [a.append([int(d) for d in str(list(counts)[i])]) for i in range(len(list(counts)))]\n",
    "    #now for the periodic boundary condition:\n",
    "    a.append(a[0])\n",
    "    #print(\"len(a):\",len(a))\n",
    "    shots = sum(counts.values())\n",
    "    P1 = [(i, c/shots) for i, c in counts.items()]\n",
    "    #print(\"probs:\",P1)\n",
    "    for i in range(N): #runs over the N pairs of consecutive qubits (in the case of pbc)\n",
    "        for j in range(2**N): #runs over the set of 2**N states\n",
    "            if i==N-1:\n",
    "                if a[j][N-1]==a[j][0]:\n",
    "                    H1 += J[i]*P1[j][1]\n",
    "                if a[j][N-1]!=a[j][0]:\n",
    "                    H1 -= J[i]*P1[j][1]\n",
    "            else:\n",
    "                if a[j][i]==a[j][i+1]:\n",
    "                    H1 += J[i]*P1[j][1]\n",
    "                if a[j][i]!=a[j][i+1]:\n",
    "                    H1 -= J[i]*P1[j][1]\n",
    "#             print(\"state:'{}' (qubits:{} and {}) H1={}\".format(P[j][0],i,i+1,H1))\n",
    "    #print(\"H1 =\",H1)\n",
    "    return H1"
   ]
  },
  {
   "cell_type": "code",
   "execution_count": 148,
   "metadata": {},
   "outputs": [
    {
     "data": {
      "text/plain": [
       "0.9068"
      ]
     },
     "execution_count": 148,
     "metadata": {},
     "output_type": "execute_result"
    }
   ],
   "source": [
    "NUM_SHOTS = 10000\n",
    "N=2\n",
    "layers = 1\n",
    "param = param_tight(N,layers)\n",
    "J = couplings(N)[1]\n",
    "compute_H1_PBC(N,NUM_SHOTS,param,J,layers)"
   ]
  },
  {
   "cell_type": "code",
   "execution_count": 149,
   "metadata": {},
   "outputs": [],
   "source": [
    "# For Periodic Boundary Conditions:\n",
    "def circuit2_PBC(N,param,layers):\n",
    "    qr = QuantumRegister(N)\n",
    "    cr = ClassicalRegister(N)\n",
    "    qc = QuantumCircuit(qr, cr)\n",
    "    #param4\n",
    "#   Momentum eigenstate\n",
    "#     qc.x(qr[0])\n",
    "#     [qc.cx(qr[i],qr[i+1]) for i in range(N-1)]\n",
    "#     qc.barrier()\n",
    "    for l in range(layers):\n",
    "        if N!=1: \n",
    "            [qc.rx(param[0+4*l],qr[i]) for i in range(N)]\n",
    "            [qc.ry(param[1+4*l],qr[i]) for i in range(N)]\n",
    "            [qc.rz(param[2+4*l],qr[i])for i in range(N)]\n",
    "            for i in range(N-1):\n",
    "                qc.rzz(param[3+4*l],qr[i],qr[i+1])\n",
    "            qc.rzz(param[3+4*l],qr[N-1],qr[0])\n",
    "        else:\n",
    "            [qc.rx(param[0+3*l],qr[i]) for i in range(N)]\n",
    "            [qc.ry(param[1+3*l],qr[i]) for i in range(N)]\n",
    "            [qc.rz(param[2+3*l],qr[i])for i in range(N)]\n",
    "        qc.barrier()\n",
    "    qc.unitary\n",
    "    [qc.h(qr[i]) for i in range(N)]\n",
    "    qc.barrier()\n",
    "    [qc.measure(qr[i], cr[i]) for i in range(N)]\n",
    "    return qc"
   ]
  },
  {
   "cell_type": "code",
   "execution_count": 150,
   "metadata": {
    "scrolled": true
   },
   "outputs": [
    {
     "data": {
      "image/png": "[encoded data removed]",
      "text/plain": [
       "<Figure size 1726.54x565.88 with 1 Axes>"
      ]
     },
     "execution_count": 150,
     "metadata": {},
     "output_type": "execute_result"
    }
   ],
   "source": [
    "N=3\n",
    "layers=3\n",
    "param = param_tight(N,layers)\n",
    "qc2 = circuit2_PBC(N,param,layers)\n",
    "qc2.draw(output=\"mpl\")"
   ]
  },
  {
   "cell_type": "code",
   "execution_count": 151,
   "metadata": {},
   "outputs": [],
   "source": [
    "def compute_H2_PBC(N,NUM_SHOTS,param,h,layers):\n",
    "    a2 = []\n",
    "    H2 = 0\n",
    "    qc2 = circuit2_PBC(N,param,layers)\n",
    "    job2 = execute(qc2,Aer.get_backend('qasm_simulator'),shots=NUM_SHOTS)\n",
    "    result2 = job2.result()\n",
    "    counts2 = result2.get_counts()\n",
    "    counts2 = conv_qubitbook(counts2)\n",
    "    counts2 = dict(sorted(counts2.items())) #sorts the dictionary of counts according to their key\n",
    "    [a2.append([int(d) for d in str(list(counts2)[i])]) for i in range(len(list(counts2)))]\n",
    "    #print(\"counts after sorting:\",counts)\n",
    "    #split dictionary \"count\" keys into array elements\n",
    "    #To account for the case where a register gives only one qubit with probability 1 after all shots\n",
    "    shots2 = sum(counts2.values())\n",
    "    P2 = [(i, c/shots2) for i, c in counts2.items()]\n",
    "    #print(\"register[{}] a2={}\".format(register,a2))\n",
    "    #print(\"register[{}] P={}\".format(register,P2))\n",
    "    for i in range(N): #runs over the N qubits\n",
    "        for j in range(2**N): #runs over the set of 2**N states\n",
    "            if a2[j][i]==0:\n",
    "                H2 += h[i]*P2[j][1]\n",
    "            if a2[j][i]==1:\n",
    "                H2 -= h[i]*P2[j][1]\n",
    "    #print(\"H2 (i={},j={}):{}\".format(i,j,H2))\n",
    "    #print(\"H2 =\",H2)\n",
    "    return H2"
   ]
  },
  {
   "cell_type": "code",
   "execution_count": 152,
   "metadata": {
    "scrolled": true
   },
   "outputs": [
    {
     "data": {
      "text/plain": [
       "0.6077000000000001"
      ]
     },
     "execution_count": 152,
     "metadata": {},
     "output_type": "execute_result"
    }
   ],
   "source": [
    "NUM_SHOTS = 100000\n",
    "N=10\n",
    "layers = 2\n",
    "param = param_tight(N,layers)\n",
    "h = couplings(N)[0]\n",
    "compute_H2_PBC(N,NUM_SHOTS,param,h,layers)"
   ]
  },
  {
   "cell_type": "markdown",
   "metadata": {},
   "source": [
    "##  <center> <font color ='#4d4dff' size=\"10\"> Matrix computation"
   ]
  },
  {
   "cell_type": "code",
   "execution_count": 153,
   "metadata": {},
   "outputs": [],
   "source": [
    "def exp_value(param): \n",
    "    N = 2\n",
    "    layers = 1\n",
    "    qc0  = circuit_PBC(N,param,layers)\n",
    "    backend = Aer.get_backend('statevector_simulator')\n",
    "    job = execute(qc0, backend)\n",
    "    result = job.result()\n",
    "    psi = result.get_statevector(qc0, decimals=3)\n",
    "    energy = psi.transpose().conjugate().dot(H2d_PBC).dot(psi).real\n",
    "    return(energy)"
   ]
  },
  {
   "cell_type": "code",
   "execution_count": 154,
   "metadata": {},
   "outputs": [],
   "source": [
    "N = 2\n",
    "layers = 1\n",
    "param = param_tight(N,layers)"
   ]
  },
  {
   "cell_type": "code",
   "execution_count": 155,
   "metadata": {},
   "outputs": [
    {
     "data": {
      "text/plain": [
       "-3.0"
      ]
     },
     "execution_count": 155,
     "metadata": {},
     "output_type": "execute_result"
    }
   ],
   "source": [
    "from scipy.optimize import minimize\n",
    "from qiskit.aqua.components.optimizers import COBYLA, NELDER_MEAD, SLSQP, SPSA, ADAM, CG, L_BFGS_B,TNC\n",
    "res = minimize(exp_value, param, args=(), method='COBYLA', jac=None, hess=None, hessp=None, bounds=None, constraints=(), tol=None, callback=None, options=None)\n",
    "res.x\n",
    "exp_value(res.x)"
   ]
  },
  {
   "cell_type": "code",
   "execution_count": 156,
   "metadata": {},
   "outputs": [
    {
     "name": "stdout",
     "output_type": "stream",
     "text": [
      "\n",
      "Minimal Energy: [-3.000171]\n",
      "\n",
      "Parameters: ['array([3.5664182 , 5.45456623, 6.69381008, 2.19618316])']\n",
      "\n",
      "Minimal Energy: [-3.000171, 2.997756]\n",
      "\n",
      "Parameters: ['array([3.5664182 , 5.45456623, 6.69381008, 2.19618316])', 'array([4.81789761, 4.37716963, 5.6733067 , 2.29323966])']\n"
     ]
    }
   ],
   "source": [
    "# from qiskit.aqua.components.optimizers import COBYLA, NELDER_MEAD, SLSQP, SPSA, ADAM, CG, L_BFGS_B,TNC\n",
    "optimizers = [COBYLA,COBYLA]\n",
    "opt_energy = []\n",
    "error  = []\n",
    "opt_param = []\n",
    "# optimizer = COBYLA(maxiter=10000, tol=0.001)\n",
    "for i in range(len(optimizers)):\n",
    "#     optimizer = optimizers[i](max_trials=1000,  save_steps=1)\n",
    "    optimizer = optimizers[i](maxiter=10000, tol=0.001)\n",
    "    ret = optimizer.optimize(num_vars=len(param), objective_function=exp_value, initial_point=param)\n",
    "    opt_param.append(repr(ret[0]))\n",
    "    opt_energy.append(exp_value(ret[0]))\n",
    "# Obtain the output distribution using the final parameters\n",
    "    print(\"\\nMinimal Energy:\",opt_energy)\n",
    "    print(\"\\nParameters:\",opt_param)"
   ]
  },
  {
   "cell_type": "code",
   "execution_count": 157,
   "metadata": {},
   "outputs": [],
   "source": [
    "# param0 = [3.16593601, 0.5870495 , 3.19702625, 3.14733032]\n",
    "# param1 = [0.14249406, 0.49552168, 0.05262382, 6.41659017]\n",
    "# param2 = [ 2.7725361 ,  2.76782303,  2.34409267, -0.00460241]\n",
    "# b =  2.5*np.array(b_h1j1_10d_k3)\n",
    "# H1 = compute_H1_PBC(N,NUM_SHOTS,param,J,layers)\n",
    "# H2 = compute_H2_PBC(N,NUM_SHOTS,param,h,layers)\n",
    "# T1  = b[0]*compute_RR_term_PBC(N,NUM_SHOTS,param0,param,layers)\n",
    "# T2  = b[1]*compute_RR_term_PBC_noisy(N,NUM_SHOTS,param1,param,layers)\n",
    "# T3  = b[2]*compute_RR_term_PBC_noisy(N,NUM_SHOTS,param2,param,layers)"
   ]
  },
  {
   "cell_type": "code",
   "execution_count": 158,
   "metadata": {},
   "outputs": [],
   "source": [
    "import numpy as np\n",
    "from scipy.optimize import minimize\n",
    "from pyquil.paulis import PauliSum, PauliTerm\n",
    "H = PauliSum([PauliTerm.from_list([(\"X\", 2), (\"Z\", 1),(\"X\", 0)], coefficient=0.2),\n",
    "              PauliTerm.from_list([(\"X\", 2), (\"I\", 1),(\"X\", 0)], coefficient=0.9),\n",
    "              PauliTerm.from_list([(\"Z\", 2), (\"Z\", 1),(\"Z\", 0)], coefficient=0.3)])"
   ]
  },
  {
   "cell_type": "code",
   "execution_count": 159,
   "metadata": {},
   "outputs": [],
   "source": [
    "from pyquil.gates import RY, CNOT\n",
    "n_qubits, depth = 3, 3\n",
    "def ansatz(params):\n",
    "    p = Program()\n",
    "    for i in range(depth):\n",
    "        p += CNOT(2,0)\n",
    "        for j in range(n_qubits):\n",
    "            p += Program(RY(params[j], j))\n",
    "    return p"
   ]
  },
  {
   "cell_type": "code",
   "execution_count": 160,
   "metadata": {
    "scrolled": true
   },
   "outputs": [],
   "source": [
    "# 1\n",
    "import numpy as np\n",
    "nqubits = 2\n",
    "#パウリ演算子を準備する。\n",
    "pI = np.array([[1+0.0j,0+0.0j],[0+0.0j,1+0.0j]])\n",
    "pX = np.array([[0+0.0j,1+0.0j],[1+0.0j,0+0.0j]])\n",
    "pZ = np.array([[1+0.0j,0+0.0j],[0+0.0j,-1+0.0j]])\n",
    "pY = np.array([[0+0.0j,-1.0j],[0.0+1.0j,0.0+0.0j]])\n",
    "pHad = (pX+pZ)/np.sqrt(2)\n",
    "pP0 = (pI+pZ)/2\n",
    "pP1 = (pI-pZ)/2"
   ]
  },
  {
   "cell_type": "code",
   "execution_count": 219,
   "metadata": {},
   "outputs": [
    {
     "ename": "IndexError",
     "evalue": "list index out of range",
     "output_type": "error",
     "traceback": [
      "\u001b[0;31m---------------------------------------------------------------------------\u001b[0m",
      "\u001b[0;31mIndexError\u001b[0m                                Traceback (most recent call last)",
      "\u001b[0;32m<ipython-input-219-5e25259623f4>\u001b[0m in \u001b[0;36m<module>\u001b[0;34m\u001b[0m\n\u001b[1;32m      9\u001b[0m     \u001b[0;32mreturn\u001b[0m\u001b[0;34m(\u001b[0m\u001b[0mZ\u001b[0m\u001b[0;34m)\u001b[0m\u001b[0;34m\u001b[0m\u001b[0;34m\u001b[0m\u001b[0m\n\u001b[1;32m     10\u001b[0m \u001b[0;31m# Ide = np.eye(2**nqubits)\u001b[0m\u001b[0;34m\u001b[0m\u001b[0;34m\u001b[0m\u001b[0;34m\u001b[0m\u001b[0m\n\u001b[0;32m---> 11\u001b[0;31m \u001b[0mprint\u001b[0m\u001b[0;34m(\u001b[0m\u001b[0mH1\u001b[0m\u001b[0;34m(\u001b[0m\u001b[0;36m4\u001b[0m\u001b[0;34m)\u001b[0m\u001b[0;34m)\u001b[0m\u001b[0;34m\u001b[0m\u001b[0;34m\u001b[0m\u001b[0m\n\u001b[0m",
      "\u001b[0;32m<ipython-input-219-5e25259623f4>\u001b[0m in \u001b[0;36mH1\u001b[0;34m(nqubits)\u001b[0m\n\u001b[1;32m      4\u001b[0m         \u001b[0;32mfor\u001b[0m \u001b[0mj\u001b[0m \u001b[0;32min\u001b[0m \u001b[0mrange\u001b[0m\u001b[0;34m(\u001b[0m\u001b[0mnqubits\u001b[0m\u001b[0;34m-\u001b[0m\u001b[0;36m1\u001b[0m\u001b[0;34m)\u001b[0m\u001b[0;34m:\u001b[0m\u001b[0;34m\u001b[0m\u001b[0;34m\u001b[0m\u001b[0m\n\u001b[1;32m      5\u001b[0m             \u001b[0;32mif\u001b[0m\u001b[0;34m(\u001b[0m\u001b[0mi\u001b[0m \u001b[0;34m!=\u001b[0m \u001b[0mj\u001b[0m\u001b[0;34m)\u001b[0m\u001b[0;34m:\u001b[0m\u001b[0;34m\u001b[0m\u001b[0;34m\u001b[0m\u001b[0m\n\u001b[0;32m----> 6\u001b[0;31m                 \u001b[0mZ\u001b[0m\u001b[0;34m[\u001b[0m\u001b[0mi\u001b[0m\u001b[0;34m]\u001b[0m \u001b[0;34m=\u001b[0m \u001b[0mnp\u001b[0m\u001b[0;34m.\u001b[0m\u001b[0mkron\u001b[0m\u001b[0;34m(\u001b[0m\u001b[0mpI\u001b[0m\u001b[0;34m,\u001b[0m\u001b[0mZ\u001b[0m\u001b[0;34m[\u001b[0m\u001b[0mi\u001b[0m\u001b[0;34m]\u001b[0m\u001b[0;34m)\u001b[0m\u001b[0;34m\u001b[0m\u001b[0;34m\u001b[0m\u001b[0m\n\u001b[0m\u001b[1;32m      7\u001b[0m             \u001b[0;32melse\u001b[0m\u001b[0;34m:\u001b[0m\u001b[0;34m\u001b[0m\u001b[0;34m\u001b[0m\u001b[0m\n\u001b[1;32m      8\u001b[0m                 \u001b[0mZ\u001b[0m\u001b[0;34m[\u001b[0m\u001b[0mi\u001b[0m\u001b[0;34m]\u001b[0m \u001b[0;34m=\u001b[0m \u001b[0mnp\u001b[0m\u001b[0;34m.\u001b[0m\u001b[0mkron\u001b[0m\u001b[0;34m(\u001b[0m\u001b[0mnp\u001b[0m\u001b[0;34m.\u001b[0m\u001b[0mkron\u001b[0m\u001b[0;34m(\u001b[0m\u001b[0mpZ\u001b[0m\u001b[0;34m,\u001b[0m\u001b[0mpZ\u001b[0m\u001b[0;34m)\u001b[0m\u001b[0;34m,\u001b[0m\u001b[0mZ\u001b[0m\u001b[0;34m[\u001b[0m\u001b[0mi\u001b[0m\u001b[0;34m]\u001b[0m\u001b[0;34m)\u001b[0m\u001b[0;34m\u001b[0m\u001b[0;34m\u001b[0m\u001b[0m\n",
      "\u001b[0;31mIndexError\u001b[0m: list index out of range"
     ]
    }
   ],
   "source": [
    "Z=[1]*(nqubits)\n",
    "def H1(nqubits):\n",
    "    for i in range(nqubits-1):\n",
    "        for j in range(nqubits-1):\n",
    "            if(i != j):\n",
    "                Z[i] = np.kron(pI,Z[i])\n",
    "            else:\n",
    "                Z[i] = np.kron(np.kron(pZ,pZ),Z[i])\n",
    "    return(Z)\n",
    "# Ide = np.eye(2**nqubits)\n",
    "print(H1(4))"
   ]
  },
  {
   "cell_type": "code",
   "execution_count": 200,
   "metadata": {},
   "outputs": [],
   "source": [
    "# 2\n",
    "X=[1]*(nqubits)\n",
    "Y=[1]*(nqubits)\n",
    "Z=[1]*(nqubits)\n",
    "H=[1]*(nqubits)\n",
    "P0=[1]*(nqubits)\n",
    "P1=[1]*(nqubits)\n",
    "\n",
    "for i in range(nqubits):\n",
    "    for j in range(nqubits):\n",
    "        if(i != j):\n",
    "            X[i] = np.kron(pI,X[i])\n",
    "            Y[i] = np.kron(pI,Y[i])\n",
    "            Z[i] = np.kron(pI,Z[i])\n",
    "            H[i] = np.kron(pI,H[i])\n",
    "            P0[i] = np.kron(pI,P0[i])\n",
    "            P1[i] = np.kron(pI,P1[i])\n",
    "        else:\n",
    "            X[i] = np.kron(pX,X[i])\n",
    "            Y[i] = np.kron(pY,Y[i])\n",
    "            Z[i] = np.kron(pZ,Z[i])\n",
    "            H[i] = np.kron(pHad,H[i])\n",
    "            P0[i] = np.kron(pP0,P0[i])\n",
    "            P1[i] = np.kron(pP1,P1[i])\n",
    "Ide = np.eye(2**nqubits)"
   ]
  },
  {
   "cell_type": "code",
   "execution_count": 201,
   "metadata": {},
   "outputs": [
    {
     "name": "stdout",
     "output_type": "stream",
     "text": [
      "X= [array([[0.+0.j, 1.+0.j, 0.+0.j, 0.+0.j],\n",
      "       [1.+0.j, 0.+0.j, 0.+0.j, 0.+0.j],\n",
      "       [0.+0.j, 0.+0.j, 0.+0.j, 1.+0.j],\n",
      "       [0.+0.j, 0.+0.j, 1.+0.j, 0.+0.j]]), array([[0.+0.j, 0.+0.j, 1.+0.j, 0.+0.j],\n",
      "       [0.+0.j, 0.+0.j, 0.+0.j, 1.+0.j],\n",
      "       [1.+0.j, 0.+0.j, 0.+0.j, 0.+0.j],\n",
      "       [0.+0.j, 1.+0.j, 0.+0.j, 0.+0.j]])]\n",
      "Y= [array([[0.+0.j, 0.-1.j, 0.+0.j, 0.+0.j],\n",
      "       [0.+1.j, 0.+0.j, 0.+0.j, 0.+0.j],\n",
      "       [0.+0.j, 0.+0.j, 0.+0.j, 0.-1.j],\n",
      "       [0.+0.j, 0.+0.j, 0.+1.j, 0.+0.j]]), array([[0.+0.j, 0.+0.j, 0.-1.j, 0.-0.j],\n",
      "       [0.+0.j, 0.+0.j, 0.-0.j, 0.-1.j],\n",
      "       [0.+1.j, 0.+0.j, 0.+0.j, 0.+0.j],\n",
      "       [0.+0.j, 0.+1.j, 0.+0.j, 0.+0.j]])]\n",
      "Z= [array([[ 1.+0.j,  0.+0.j,  0.+0.j,  0.+0.j],\n",
      "       [ 0.+0.j, -1.+0.j,  0.+0.j, -0.+0.j],\n",
      "       [ 0.+0.j,  0.+0.j,  1.+0.j,  0.+0.j],\n",
      "       [ 0.+0.j, -0.+0.j,  0.+0.j, -1.+0.j]]), array([[ 1.+0.j,  0.+0.j,  0.+0.j,  0.+0.j],\n",
      "       [ 0.+0.j,  1.+0.j,  0.+0.j,  0.+0.j],\n",
      "       [ 0.+0.j,  0.+0.j, -1.+0.j, -0.+0.j],\n",
      "       [ 0.+0.j,  0.+0.j, -0.+0.j, -1.+0.j]])]\n",
      "H= [array([[ 0.70710678+0.j,  0.70710678+0.j,  0.        +0.j,\n",
      "         0.        +0.j],\n",
      "       [ 0.70710678+0.j, -0.70710678+0.j,  0.        +0.j,\n",
      "        -0.        +0.j],\n",
      "       [ 0.        +0.j,  0.        +0.j,  0.70710678+0.j,\n",
      "         0.70710678+0.j],\n",
      "       [ 0.        +0.j, -0.        +0.j,  0.70710678+0.j,\n",
      "        -0.70710678+0.j]]), array([[ 0.70710678+0.j,  0.        +0.j,  0.70710678+0.j,\n",
      "         0.        +0.j],\n",
      "       [ 0.        +0.j,  0.70710678+0.j,  0.        +0.j,\n",
      "         0.70710678+0.j],\n",
      "       [ 0.70710678+0.j,  0.        +0.j, -0.70710678+0.j,\n",
      "        -0.        +0.j],\n",
      "       [ 0.        +0.j,  0.70710678+0.j, -0.        +0.j,\n",
      "        -0.70710678+0.j]])]\n",
      "P0= [array([[1.+0.j, 0.+0.j, 0.+0.j, 0.+0.j],\n",
      "       [0.+0.j, 0.+0.j, 0.+0.j, 0.+0.j],\n",
      "       [0.+0.j, 0.+0.j, 1.+0.j, 0.+0.j],\n",
      "       [0.+0.j, 0.+0.j, 0.+0.j, 0.+0.j]]), array([[1.+0.j, 0.+0.j, 0.+0.j, 0.+0.j],\n",
      "       [0.+0.j, 1.+0.j, 0.+0.j, 0.+0.j],\n",
      "       [0.+0.j, 0.+0.j, 0.+0.j, 0.+0.j],\n",
      "       [0.+0.j, 0.+0.j, 0.+0.j, 0.+0.j]])]\n",
      "P1= [array([[0.+0.j, 0.+0.j, 0.+0.j, 0.+0.j],\n",
      "       [0.+0.j, 1.+0.j, 0.+0.j, 0.+0.j],\n",
      "       [0.+0.j, 0.+0.j, 0.+0.j, 0.+0.j],\n",
      "       [0.+0.j, 0.+0.j, 0.+0.j, 1.+0.j]]), array([[0.+0.j, 0.+0.j, 0.+0.j, 0.+0.j],\n",
      "       [0.+0.j, 0.+0.j, 0.+0.j, 0.+0.j],\n",
      "       [0.+0.j, 0.+0.j, 1.+0.j, 0.+0.j],\n",
      "       [0.+0.j, 0.+0.j, 0.+0.j, 1.+0.j]])]\n"
     ]
    }
   ],
   "source": [
    "print(\"X=\",X)\n",
    "print(\"Y=\",Y)\n",
    "print(\"Z=\",Z)\n",
    "print(\"H=\",H)\n",
    "print(\"P0=\",P0)\n",
    "print(\"P1=\",P1)"
   ]
  },
  {
   "cell_type": "code",
   "execution_count": 164,
   "metadata": {},
   "outputs": [
    {
     "name": "stdout",
     "output_type": "stream",
     "text": [
      "[[ 1.+0.j  0.+0.j  0.+0.j  0.+0.j]\n",
      " [ 0.+0.j -1.+0.j  0.+0.j  0.+0.j]\n",
      " [ 0.+0.j  0.+0.j  1.+0.j  0.+0.j]\n",
      " [ 0.+0.j  0.+0.j  0.+0.j -1.+0.j]]\n",
      "[[ 1.+0.j  0.+0.j  0.+0.j  0.+0.j]\n",
      " [ 0.+0.j  1.+0.j  0.+0.j  0.+0.j]\n",
      " [ 0.+0.j  0.+0.j  1.+0.j  0.+0.j]\n",
      " [ 0.+0.j  0.+0.j  0.+0.j -1.+0.j]]\n",
      "[[ 1.+0.j  0.+0.j  0.+0.j  0.+0.j]\n",
      " [ 0.+0.j  1.+0.j  0.+0.j  0.+0.j]\n",
      " [ 0.+0.j  0.+0.j  1.+0.j  0.+0.j]\n",
      " [ 0.+0.j  0.+0.j  0.+0.j -1.+0.j]]\n",
      "[[ 1.+0.j  0.+0.j  0.+0.j  0.+0.j]\n",
      " [ 0.+0.j  1.+0.j  0.+0.j  0.+0.j]\n",
      " [ 0.+0.j  0.+0.j -1.+0.j  0.+0.j]\n",
      " [ 0.+0.j  0.+0.j  0.+0.j -1.+0.j]]\n"
     ]
    }
   ],
   "source": [
    "print(P0[0]+np.dot(P1[0],Z[0]))\n",
    "print(P0[0]+np.dot(P1[0],Z[1]))\n",
    "print(P0[1]+np.dot(P1[1],Z[0]))\n",
    "print(P0[1]+np.dot(P1[1],Z[1]))"
   ]
  },
  {
   "cell_type": "code",
   "execution_count": 202,
   "metadata": {},
   "outputs": [
    {
     "name": "stdout",
     "output_type": "stream",
     "text": [
      "[[0.87758256+0.47942554j 0.        +0.j         0.        +0.j\n",
      "  0.        +0.j        ]\n",
      " [0.        +0.j         0.87758256-0.47942554j 0.        +0.j\n",
      "  0.        +0.j        ]\n",
      " [0.        +0.j         0.        +0.j         0.87758256-0.47942554j\n",
      "  0.        +0.j        ]\n",
      " [0.        +0.j         0.        +0.j         0.        +0.j\n",
      "  0.87758256+0.47942554j]]\n"
     ]
    }
   ],
   "source": [
    "ZZ = np.kron(pZ,pZ)\n",
    "ZZ = expm(ZZ*1j/2)\n",
    "print(ZZ)"
   ]
  },
  {
   "cell_type": "code",
   "execution_count": 204,
   "metadata": {},
   "outputs": [],
   "source": [
    "# 3備する。\n",
    "nqubits=2\n",
    "CZ = [[0 for i in range(nqubits)] for j in range(nqubits)]\n",
    "CX = [[0 for i in range(nqubits)] for j in range(nqubits)]\n",
    "ZZ = [[0 for i in range(nqubits)] for j in range(nqubits)]\n",
    "# print(CZ)\n",
    "# print(CX)\n",
    "for i in range(nqubits):\n",
    "    for j in range(nqubits):\n",
    "        CZ[i][j]= (P0[i]+np.dot(P1[i],Z[j]))\n",
    "        CX[i][j]= (P0[i]+np.dot(P1[i],X[j]))\n",
    "        ZZ[i][j]= expm((np.kron(pZ,pZ))*1.j/2)"
   ]
  },
  {
   "cell_type": "code",
   "execution_count": 205,
   "metadata": {},
   "outputs": [
    {
     "name": "stdout",
     "output_type": "stream",
     "text": [
      "CZ =  [[array([[ 1.+0.j,  0.+0.j,  0.+0.j,  0.+0.j],\n",
      "       [ 0.+0.j, -1.+0.j,  0.+0.j,  0.+0.j],\n",
      "       [ 0.+0.j,  0.+0.j,  1.+0.j,  0.+0.j],\n",
      "       [ 0.+0.j,  0.+0.j,  0.+0.j, -1.+0.j]]), array([[ 1.+0.j,  0.+0.j,  0.+0.j,  0.+0.j],\n",
      "       [ 0.+0.j,  1.+0.j,  0.+0.j,  0.+0.j],\n",
      "       [ 0.+0.j,  0.+0.j,  1.+0.j,  0.+0.j],\n",
      "       [ 0.+0.j,  0.+0.j,  0.+0.j, -1.+0.j]])], [array([[ 1.+0.j,  0.+0.j,  0.+0.j,  0.+0.j],\n",
      "       [ 0.+0.j,  1.+0.j,  0.+0.j,  0.+0.j],\n",
      "       [ 0.+0.j,  0.+0.j,  1.+0.j,  0.+0.j],\n",
      "       [ 0.+0.j,  0.+0.j,  0.+0.j, -1.+0.j]]), array([[ 1.+0.j,  0.+0.j,  0.+0.j,  0.+0.j],\n",
      "       [ 0.+0.j,  1.+0.j,  0.+0.j,  0.+0.j],\n",
      "       [ 0.+0.j,  0.+0.j, -1.+0.j,  0.+0.j],\n",
      "       [ 0.+0.j,  0.+0.j,  0.+0.j, -1.+0.j]])]]\n",
      "CX =  [[array([[1.+0.j, 0.+0.j, 0.+0.j, 0.+0.j],\n",
      "       [1.+0.j, 0.+0.j, 0.+0.j, 0.+0.j],\n",
      "       [0.+0.j, 0.+0.j, 1.+0.j, 0.+0.j],\n",
      "       [0.+0.j, 0.+0.j, 1.+0.j, 0.+0.j]]), array([[1.+0.j, 0.+0.j, 0.+0.j, 0.+0.j],\n",
      "       [0.+0.j, 0.+0.j, 0.+0.j, 1.+0.j],\n",
      "       [0.+0.j, 0.+0.j, 1.+0.j, 0.+0.j],\n",
      "       [0.+0.j, 1.+0.j, 0.+0.j, 0.+0.j]])], [array([[1.+0.j, 0.+0.j, 0.+0.j, 0.+0.j],\n",
      "       [0.+0.j, 1.+0.j, 0.+0.j, 0.+0.j],\n",
      "       [0.+0.j, 0.+0.j, 0.+0.j, 1.+0.j],\n",
      "       [0.+0.j, 0.+0.j, 1.+0.j, 0.+0.j]]), array([[1.+0.j, 0.+0.j, 0.+0.j, 0.+0.j],\n",
      "       [0.+0.j, 1.+0.j, 0.+0.j, 0.+0.j],\n",
      "       [1.+0.j, 0.+0.j, 0.+0.j, 0.+0.j],\n",
      "       [0.+0.j, 1.+0.j, 0.+0.j, 0.+0.j]])]]\n",
      "ZZ =  [[array([[0.87758256+0.47942554j, 0.        +0.j        ,\n",
      "        0.        +0.j        , 0.        +0.j        ],\n",
      "       [0.        +0.j        , 0.87758256-0.47942554j,\n",
      "        0.        +0.j        , 0.        +0.j        ],\n",
      "       [0.        +0.j        , 0.        +0.j        ,\n",
      "        0.87758256-0.47942554j, 0.        +0.j        ],\n",
      "       [0.        +0.j        , 0.        +0.j        ,\n",
      "        0.        +0.j        , 0.87758256+0.47942554j]]), array([[0.87758256+0.47942554j, 0.        +0.j        ,\n",
      "        0.        +0.j        , 0.        +0.j        ],\n",
      "       [0.        +0.j        , 0.87758256-0.47942554j,\n",
      "        0.        +0.j        , 0.        +0.j        ],\n",
      "       [0.        +0.j        , 0.        +0.j        ,\n",
      "        0.87758256-0.47942554j, 0.        +0.j        ],\n",
      "       [0.        +0.j        , 0.        +0.j        ,\n",
      "        0.        +0.j        , 0.87758256+0.47942554j]])], [array([[0.87758256+0.47942554j, 0.        +0.j        ,\n",
      "        0.        +0.j        , 0.        +0.j        ],\n",
      "       [0.        +0.j        , 0.87758256-0.47942554j,\n",
      "        0.        +0.j        , 0.        +0.j        ],\n",
      "       [0.        +0.j        , 0.        +0.j        ,\n",
      "        0.87758256-0.47942554j, 0.        +0.j        ],\n",
      "       [0.        +0.j        , 0.        +0.j        ,\n",
      "        0.        +0.j        , 0.87758256+0.47942554j]]), array([[0.87758256+0.47942554j, 0.        +0.j        ,\n",
      "        0.        +0.j        , 0.        +0.j        ],\n",
      "       [0.        +0.j        , 0.87758256-0.47942554j,\n",
      "        0.        +0.j        , 0.        +0.j        ],\n",
      "       [0.        +0.j        , 0.        +0.j        ,\n",
      "        0.87758256-0.47942554j, 0.        +0.j        ],\n",
      "       [0.        +0.j        , 0.        +0.j        ,\n",
      "        0.        +0.j        , 0.87758256+0.47942554j]])]]\n"
     ]
    }
   ],
   "source": [
    "print(\"CZ = \",CZ)\n",
    "print(\"CX = \",CX)\n",
    "print(\"ZZ = \",ZZ)"
   ]
  },
  {
   "cell_type": "code",
   "execution_count": 207,
   "metadata": {},
   "outputs": [],
   "source": [
    "#変4る。\n",
    "from scipy.linalg import expm\n",
    "def RX(target,angle):\n",
    "    return expm(-0.5*angle*1.j*X[target])\n",
    "def RY(target,angle):\n",
    "    return expm(-0.5*angle*1.j*Y[target])\n",
    "def RZ(target,angle):\n",
    "    return expm(-0.5*angle*1.j*Z[target])\n",
    "def ZZ(target,angle):\n",
    "    return expm((np.kron(pZ,pZ))*1.j*angle/2)[target]"
   ]
  },
  {
   "cell_type": "code",
   "execution_count": 220,
   "metadata": {},
   "outputs": [
    {
     "name": "stdout",
     "output_type": "stream",
     "text": [
      "[0.92387953+0.38268343j 0.        +0.j         0.        +0.j\n",
      " 0.        +0.j        ]\n"
     ]
    }
   ],
   "source": [
    "print(ZZ(0,np.pi/4))"
   ]
  },
  {
   "cell_type": "code",
   "execution_count": 38,
   "metadata": {},
   "outputs": [],
   "source": [
    "# 5\n",
    "def StateZeros(nqubits):\n",
    "    State = np.zeros(2**nqubits)\n",
    "    State[0]=1\n",
    "    return State"
   ]
  },
  {
   "cell_type": "code",
   "execution_count": 39,
   "metadata": {},
   "outputs": [],
   "source": [
    "# 6\n",
    "M = (-3.8505 * Ide  - 0.2288 * X[1] - 1.0466 * Z[1] - 0.2288 * X[0] +  0.2613 * np.dot(X[0],X[1]) + \\\n",
    "     0.2288 *np.dot(X[0],Z[1]) - 1.0466*Z[0] + 0.2288* np.dot(Z[0],X[1]) +  0.2356 * np.dot(Z[0],Z[1]))/2"
   ]
  },
  {
   "cell_type": "code",
   "execution_count": 187,
   "metadata": {},
   "outputs": [
    {
     "name": "stdout",
     "output_type": "stream",
     "text": [
      "[4.44596236 2.03664561 4.86870164 1.94533958]\n"
     ]
    }
   ],
   "source": [
    "print(param_tight(100,1))"
   ]
  },
  {
   "cell_type": "code",
   "execution_count": 231,
   "metadata": {},
   "outputs": [],
   "source": [
    "n_param = 6\n",
    "global tries\n",
    "tries=0\n",
    "global phi_save"
   ]
  },
  {
   "cell_type": "code",
   "execution_count": 232,
   "metadata": {},
   "outputs": [],
   "source": [
    "# 6.5\n",
    "def TwoQubitPQC(phi):\n",
    "    N = 2\n",
    "    tries +=1\n",
    "    phi_save.append(phi)\n",
    "    state = StateZeros(phi_save[i-1])\n",
    "    for i in range(N):\n",
    "        state = np.dot(RX(i,phi[0]),state)\n",
    "        state = np.dot(RY(i,phi[1]),state)\n",
    "        state = np.dot(RZ(i,phi[3]),state)\n",
    "    for i in range(N-1):\n",
    "        state = np.dot(ZZ[i][i+1],state)\n",
    "    state = np.dot(ZZ[N-1][0],state)\n",
    "    return state"
   ]
  },
  {
   "cell_type": "code",
   "execution_count": 228,
   "metadata": {},
   "outputs": [],
   "source": [
    "# 7\n",
    "n_param = 6\n",
    "def TwoQubitPQC(phi):\n",
    "    state = StateZeros(2)\n",
    "    state = np.dot(RX(0,phi[0]),state)\n",
    "    state = np.dot(RZ(0,phi[1]),state)\n",
    "    state = np.dot(RX(1,phi[2]),state)\n",
    "    state = np.dot(RZ(1,phi[3]),state)\n",
    "    state = np.dot(CX[1][0],state)\n",
    "    state = np.dot(RZ(1,phi[4]),state)\n",
    "    state = np.dot(RX(1,phi[5]),state)\n",
    "    return state"
   ]
  },
  {
   "cell_type": "code",
   "execution_count": 41,
   "metadata": {},
   "outputs": [],
   "source": [
    "# 8\n",
    "def ExpectVal(Operator,State):\n",
    "    BraState = np.conjugate(State.T) #列ベクトルを行ベクトルへ変換\n",
    "    tmp = np.dot(BraState,np.dot(Operator,State)) #行列を列ベクトルと行ベクトルではさむ\n",
    "    return np.real(tmp) #要素の実"
   ]
  },
  {
   "cell_type": "code",
   "execution_count": 124,
   "metadata": {},
   "outputs": [],
   "source": [
    "def cost(phi):\n",
    "    nqubits = 1\n",
    "    layers = 1\n",
    "#     qc = circuit_PBC(nqubits,phi,layers)\n",
    "#     backend = Aer.get_backend('statevector_simulator')\n",
    "#     job = execute(qc, backend)\n",
    "#     result = job.result()\n",
    "#     State = result.get_statevector(qc, decimals=3)\n",
    "    State = np.array([ 0.70710678,  0.70710678])\n",
    "    print(State)\n",
    "    Operator = H1d_PBC\n",
    "    return(ExpectVal(Operator,State))"
   ]
  },
  {
   "cell_type": "code",
   "execution_count": 125,
   "metadata": {},
   "outputs": [
    {
     "name": "stdout",
     "output_type": "stream",
     "text": [
      "[0.70710678 0.70710678]\n",
      "-0.9999999966439369\n"
     ]
    }
   ],
   "source": [
    "phi = param_tight(1,1)\n",
    "print(cost(phi))"
   ]
  },
  {
   "cell_type": "code",
   "execution_count": 230,
   "metadata": {},
   "outputs": [
    {
     "ename": "ValueError",
     "evalue": "shapes (16,16) and (4,) not aligned: 16 (dim 1) != 4 (dim 0)",
     "output_type": "error",
     "traceback": [
      "\u001b[0;31m---------------------------------------------------------------------------\u001b[0m",
      "\u001b[0;31mValueError\u001b[0m                                Traceback (most recent call last)",
      "\u001b[0;32m<ipython-input-230-9b532b65a1ff>\u001b[0m in \u001b[0;36m<module>\u001b[0;34m\u001b[0m\n\u001b[1;32m     10\u001b[0m     \u001b[0mcost_val\u001b[0m\u001b[0;34m.\u001b[0m\u001b[0mappend\u001b[0m\u001b[0;34m(\u001b[0m\u001b[0mcost\u001b[0m\u001b[0;34m(\u001b[0m\u001b[0mphi\u001b[0m\u001b[0;34m)\u001b[0m\u001b[0;34m)\u001b[0m\u001b[0;34m\u001b[0m\u001b[0;34m\u001b[0m\u001b[0m\n\u001b[1;32m     11\u001b[0m \u001b[0;34m\u001b[0m\u001b[0m\n\u001b[0;32m---> 12\u001b[0;31m \u001b[0mcallback\u001b[0m\u001b[0;34m(\u001b[0m\u001b[0minit\u001b[0m\u001b[0;34m)\u001b[0m\u001b[0;34m\u001b[0m\u001b[0;34m\u001b[0m\u001b[0m\n\u001b[0m\u001b[1;32m     13\u001b[0m \u001b[0mres\u001b[0m \u001b[0;34m=\u001b[0m \u001b[0mscipy\u001b[0m\u001b[0;34m.\u001b[0m\u001b[0moptimize\u001b[0m\u001b[0;34m.\u001b[0m\u001b[0mminimize\u001b[0m\u001b[0;34m(\u001b[0m\u001b[0mcost\u001b[0m\u001b[0;34m,\u001b[0m \u001b[0minit\u001b[0m\u001b[0;34m,\u001b[0m\u001b[0mmethod\u001b[0m\u001b[0;34m=\u001b[0m\u001b[0;34m'Powell'\u001b[0m\u001b[0;34m,\u001b[0m\u001b[0mcallback\u001b[0m\u001b[0;34m=\u001b[0m\u001b[0mcallback\u001b[0m\u001b[0;34m)\u001b[0m\u001b[0;34m\u001b[0m\u001b[0;34m\u001b[0m\u001b[0m\n\u001b[1;32m     14\u001b[0m \u001b[0mplt\u001b[0m\u001b[0;34m.\u001b[0m\u001b[0mplot\u001b[0m\u001b[0;34m(\u001b[0m\u001b[0mcost_val\u001b[0m\u001b[0;34m)\u001b[0m\u001b[0;34m\u001b[0m\u001b[0;34m\u001b[0m\u001b[0m\n",
      "\u001b[0;32m<ipython-input-230-9b532b65a1ff>\u001b[0m in \u001b[0;36mcallback\u001b[0;34m(phi)\u001b[0m\n\u001b[1;32m      8\u001b[0m \u001b[0;32mdef\u001b[0m \u001b[0mcallback\u001b[0m\u001b[0;34m(\u001b[0m\u001b[0mphi\u001b[0m\u001b[0;34m)\u001b[0m\u001b[0;34m:\u001b[0m\u001b[0;34m\u001b[0m\u001b[0;34m\u001b[0m\u001b[0m\n\u001b[1;32m      9\u001b[0m     \u001b[0;32mglobal\u001b[0m \u001b[0mcost_val\u001b[0m\u001b[0;34m\u001b[0m\u001b[0;34m\u001b[0m\u001b[0m\n\u001b[0;32m---> 10\u001b[0;31m     \u001b[0mcost_val\u001b[0m\u001b[0;34m.\u001b[0m\u001b[0mappend\u001b[0m\u001b[0;34m(\u001b[0m\u001b[0mcost\u001b[0m\u001b[0;34m(\u001b[0m\u001b[0mphi\u001b[0m\u001b[0;34m)\u001b[0m\u001b[0;34m)\u001b[0m\u001b[0;34m\u001b[0m\u001b[0;34m\u001b[0m\u001b[0m\n\u001b[0m\u001b[1;32m     11\u001b[0m \u001b[0;34m\u001b[0m\u001b[0m\n\u001b[1;32m     12\u001b[0m \u001b[0mcallback\u001b[0m\u001b[0;34m(\u001b[0m\u001b[0minit\u001b[0m\u001b[0;34m)\u001b[0m\u001b[0;34m\u001b[0m\u001b[0;34m\u001b[0m\u001b[0m\n",
      "\u001b[0;32m<ipython-input-229-ac058e98e9c2>\u001b[0m in \u001b[0;36mcost\u001b[0;34m(phi)\u001b[0m\n\u001b[1;32m      4\u001b[0m \u001b[0;34m\u001b[0m\u001b[0m\n\u001b[1;32m      5\u001b[0m \u001b[0;32mdef\u001b[0m \u001b[0mcost\u001b[0m\u001b[0;34m(\u001b[0m\u001b[0mphi\u001b[0m\u001b[0;34m)\u001b[0m\u001b[0;34m:\u001b[0m\u001b[0;34m\u001b[0m\u001b[0;34m\u001b[0m\u001b[0m\n\u001b[0;32m----> 6\u001b[0;31m     \u001b[0;32mreturn\u001b[0m \u001b[0mExpectVal\u001b[0m\u001b[0;34m(\u001b[0m\u001b[0mM\u001b[0m\u001b[0;34m,\u001b[0m \u001b[0mTwoQubitPQC\u001b[0m\u001b[0;34m(\u001b[0m\u001b[0mphi\u001b[0m\u001b[0;34m)\u001b[0m\u001b[0;34m)\u001b[0m\u001b[0;34m\u001b[0m\u001b[0;34m\u001b[0m\u001b[0m\n\u001b[0m\u001b[1;32m      7\u001b[0m \u001b[0;34m\u001b[0m\u001b[0m\n\u001b[1;32m      8\u001b[0m \u001b[0mcost_val\u001b[0m \u001b[0;34m=\u001b[0m \u001b[0;34m[\u001b[0m\u001b[0;34m]\u001b[0m \u001b[0;31m#コスト関数の変化を保存するための関数\u001b[0m\u001b[0;34m\u001b[0m\u001b[0;34m\u001b[0m\u001b[0m\n",
      "\u001b[0;32m<ipython-input-228-a573164bff50>\u001b[0m in \u001b[0;36mTwoQubitPQC\u001b[0;34m(phi)\u001b[0m\n\u001b[1;32m      4\u001b[0m     \u001b[0mstate\u001b[0m \u001b[0;34m=\u001b[0m \u001b[0mStateZeros\u001b[0m\u001b[0;34m(\u001b[0m\u001b[0;36m2\u001b[0m\u001b[0;34m)\u001b[0m\u001b[0;34m\u001b[0m\u001b[0;34m\u001b[0m\u001b[0m\n\u001b[1;32m      5\u001b[0m     \u001b[0mstate\u001b[0m \u001b[0;34m=\u001b[0m \u001b[0mnp\u001b[0m\u001b[0;34m.\u001b[0m\u001b[0mdot\u001b[0m\u001b[0;34m(\u001b[0m\u001b[0mRX\u001b[0m\u001b[0;34m(\u001b[0m\u001b[0;36m0\u001b[0m\u001b[0;34m,\u001b[0m\u001b[0mphi\u001b[0m\u001b[0;34m[\u001b[0m\u001b[0;36m0\u001b[0m\u001b[0;34m]\u001b[0m\u001b[0;34m)\u001b[0m\u001b[0;34m,\u001b[0m\u001b[0mstate\u001b[0m\u001b[0;34m)\u001b[0m\u001b[0;34m\u001b[0m\u001b[0;34m\u001b[0m\u001b[0m\n\u001b[0;32m----> 6\u001b[0;31m     \u001b[0mstate\u001b[0m \u001b[0;34m=\u001b[0m \u001b[0mnp\u001b[0m\u001b[0;34m.\u001b[0m\u001b[0mdot\u001b[0m\u001b[0;34m(\u001b[0m\u001b[0mRZ\u001b[0m\u001b[0;34m(\u001b[0m\u001b[0;36m0\u001b[0m\u001b[0;34m,\u001b[0m\u001b[0mphi\u001b[0m\u001b[0;34m[\u001b[0m\u001b[0;36m1\u001b[0m\u001b[0;34m]\u001b[0m\u001b[0;34m)\u001b[0m\u001b[0;34m,\u001b[0m\u001b[0mstate\u001b[0m\u001b[0;34m)\u001b[0m\u001b[0;34m\u001b[0m\u001b[0;34m\u001b[0m\u001b[0m\n\u001b[0m\u001b[1;32m      7\u001b[0m     \u001b[0mstate\u001b[0m \u001b[0;34m=\u001b[0m \u001b[0mnp\u001b[0m\u001b[0;34m.\u001b[0m\u001b[0mdot\u001b[0m\u001b[0;34m(\u001b[0m\u001b[0mRX\u001b[0m\u001b[0;34m(\u001b[0m\u001b[0;36m1\u001b[0m\u001b[0;34m,\u001b[0m\u001b[0mphi\u001b[0m\u001b[0;34m[\u001b[0m\u001b[0;36m2\u001b[0m\u001b[0;34m]\u001b[0m\u001b[0;34m)\u001b[0m\u001b[0;34m,\u001b[0m\u001b[0mstate\u001b[0m\u001b[0;34m)\u001b[0m\u001b[0;34m\u001b[0m\u001b[0;34m\u001b[0m\u001b[0m\n\u001b[1;32m      8\u001b[0m     \u001b[0mstate\u001b[0m \u001b[0;34m=\u001b[0m \u001b[0mnp\u001b[0m\u001b[0;34m.\u001b[0m\u001b[0mdot\u001b[0m\u001b[0;34m(\u001b[0m\u001b[0mRZ\u001b[0m\u001b[0;34m(\u001b[0m\u001b[0;36m1\u001b[0m\u001b[0;34m,\u001b[0m\u001b[0mphi\u001b[0m\u001b[0;34m[\u001b[0m\u001b[0;36m3\u001b[0m\u001b[0;34m]\u001b[0m\u001b[0;34m)\u001b[0m\u001b[0;34m,\u001b[0m\u001b[0mstate\u001b[0m\u001b[0;34m)\u001b[0m\u001b[0;34m\u001b[0m\u001b[0;34m\u001b[0m\u001b[0m\n",
      "\u001b[0;32m<__array_function__ internals>\u001b[0m in \u001b[0;36mdot\u001b[0;34m(*args, **kwargs)\u001b[0m\n",
      "\u001b[0;31mValueError\u001b[0m: shapes (16,16) and (4,) not aligned: 16 (dim 1) != 4 (dim 0)"
     ]
    }
   ],
   "source": [
    "from scipy.optimize import minimize\n",
    "nqubits = 1\n",
    "layers = 1\n",
    "phi = param_tight(nqubits,layers)\n",
    "init = param_tight(nqubits,layers)\n",
    "cost_val = [] #コスト関数の変化を保存するための関数\n",
    "#この関数がiteration ごとに呼ばれる。\n",
    "def callback(phi):\n",
    "    global cost_val\n",
    "    cost_val.append(cost(phi))\n",
    "    \n",
    "callback(init)\n",
    "res = scipy.optimize.minimize(cost, init,method='Powell',callback=callback)\n",
    "plt.plot(cost_val)\n",
    "plt.xlabel(\"iteration\")\n",
    "plt.ylabel(\"energy expectation value\")\n",
    "plt.show()"
   ]
  },
  {
   "cell_type": "code",
   "execution_count": 229,
   "metadata": {
    "scrolled": true
   },
   "outputs": [
    {
     "ename": "ValueError",
     "evalue": "shapes (16,16) and (4,) not aligned: 16 (dim 1) != 4 (dim 0)",
     "output_type": "error",
     "traceback": [
      "\u001b[0;31m---------------------------------------------------------------------------\u001b[0m",
      "\u001b[0;31mValueError\u001b[0m                                Traceback (most recent call last)",
      "\u001b[0;32m<ipython-input-229-ac058e98e9c2>\u001b[0m in \u001b[0;36m<module>\u001b[0;34m\u001b[0m\n\u001b[1;32m     14\u001b[0m \u001b[0;34m\u001b[0m\u001b[0m\n\u001b[1;32m     15\u001b[0m \u001b[0minit\u001b[0m \u001b[0;34m=\u001b[0m \u001b[0mnp\u001b[0m\u001b[0;34m.\u001b[0m\u001b[0mrandom\u001b[0m\u001b[0;34m.\u001b[0m\u001b[0mrand\u001b[0m\u001b[0;34m(\u001b[0m\u001b[0mn_param\u001b[0m\u001b[0;34m)\u001b[0m\u001b[0;34m\u001b[0m\u001b[0;34m\u001b[0m\u001b[0m\n\u001b[0;32m---> 16\u001b[0;31m \u001b[0mcallback\u001b[0m\u001b[0;34m(\u001b[0m\u001b[0minit\u001b[0m\u001b[0;34m)\u001b[0m\u001b[0;34m\u001b[0m\u001b[0;34m\u001b[0m\u001b[0m\n\u001b[0m\u001b[1;32m     17\u001b[0m res = scipy.optimize.minimize(cost, init,\n\u001b[1;32m     18\u001b[0m                               \u001b[0mmethod\u001b[0m\u001b[0;34m=\u001b[0m\u001b[0;34m'Powell'\u001b[0m\u001b[0;34m,\u001b[0m\u001b[0;34m\u001b[0m\u001b[0;34m\u001b[0m\u001b[0m\n",
      "\u001b[0;32m<ipython-input-229-ac058e98e9c2>\u001b[0m in \u001b[0;36mcallback\u001b[0;34m(phi)\u001b[0m\n\u001b[1;32m     11\u001b[0m \u001b[0;32mdef\u001b[0m \u001b[0mcallback\u001b[0m\u001b[0;34m(\u001b[0m\u001b[0mphi\u001b[0m\u001b[0;34m)\u001b[0m\u001b[0;34m:\u001b[0m\u001b[0;34m\u001b[0m\u001b[0;34m\u001b[0m\u001b[0m\n\u001b[1;32m     12\u001b[0m     \u001b[0;32mglobal\u001b[0m \u001b[0mcost_val\u001b[0m\u001b[0;34m\u001b[0m\u001b[0;34m\u001b[0m\u001b[0m\n\u001b[0;32m---> 13\u001b[0;31m     \u001b[0mcost_val\u001b[0m\u001b[0;34m.\u001b[0m\u001b[0mappend\u001b[0m\u001b[0;34m(\u001b[0m\u001b[0mcost\u001b[0m\u001b[0;34m(\u001b[0m\u001b[0mphi\u001b[0m\u001b[0;34m)\u001b[0m\u001b[0;34m)\u001b[0m\u001b[0;34m\u001b[0m\u001b[0;34m\u001b[0m\u001b[0m\n\u001b[0m\u001b[1;32m     14\u001b[0m \u001b[0;34m\u001b[0m\u001b[0m\n\u001b[1;32m     15\u001b[0m \u001b[0minit\u001b[0m \u001b[0;34m=\u001b[0m \u001b[0mnp\u001b[0m\u001b[0;34m.\u001b[0m\u001b[0mrandom\u001b[0m\u001b[0;34m.\u001b[0m\u001b[0mrand\u001b[0m\u001b[0;34m(\u001b[0m\u001b[0mn_param\u001b[0m\u001b[0;34m)\u001b[0m\u001b[0;34m\u001b[0m\u001b[0;34m\u001b[0m\u001b[0m\n",
      "\u001b[0;32m<ipython-input-229-ac058e98e9c2>\u001b[0m in \u001b[0;36mcost\u001b[0;34m(phi)\u001b[0m\n\u001b[1;32m      4\u001b[0m \u001b[0;34m\u001b[0m\u001b[0m\n\u001b[1;32m      5\u001b[0m \u001b[0;32mdef\u001b[0m \u001b[0mcost\u001b[0m\u001b[0;34m(\u001b[0m\u001b[0mphi\u001b[0m\u001b[0;34m)\u001b[0m\u001b[0;34m:\u001b[0m\u001b[0;34m\u001b[0m\u001b[0;34m\u001b[0m\u001b[0m\n\u001b[0;32m----> 6\u001b[0;31m     \u001b[0;32mreturn\u001b[0m \u001b[0mExpectVal\u001b[0m\u001b[0;34m(\u001b[0m\u001b[0mM\u001b[0m\u001b[0;34m,\u001b[0m \u001b[0mTwoQubitPQC\u001b[0m\u001b[0;34m(\u001b[0m\u001b[0mphi\u001b[0m\u001b[0;34m)\u001b[0m\u001b[0;34m)\u001b[0m\u001b[0;34m\u001b[0m\u001b[0;34m\u001b[0m\u001b[0m\n\u001b[0m\u001b[1;32m      7\u001b[0m \u001b[0;34m\u001b[0m\u001b[0m\n\u001b[1;32m      8\u001b[0m \u001b[0mcost_val\u001b[0m \u001b[0;34m=\u001b[0m \u001b[0;34m[\u001b[0m\u001b[0;34m]\u001b[0m \u001b[0;31m#コスト関数の変化を保存するための関数\u001b[0m\u001b[0;34m\u001b[0m\u001b[0;34m\u001b[0m\u001b[0m\n",
      "\u001b[0;32m<ipython-input-228-a573164bff50>\u001b[0m in \u001b[0;36mTwoQubitPQC\u001b[0;34m(phi)\u001b[0m\n\u001b[1;32m      4\u001b[0m     \u001b[0mstate\u001b[0m \u001b[0;34m=\u001b[0m \u001b[0mStateZeros\u001b[0m\u001b[0;34m(\u001b[0m\u001b[0;36m2\u001b[0m\u001b[0;34m)\u001b[0m\u001b[0;34m\u001b[0m\u001b[0;34m\u001b[0m\u001b[0m\n\u001b[1;32m      5\u001b[0m     \u001b[0mstate\u001b[0m \u001b[0;34m=\u001b[0m \u001b[0mnp\u001b[0m\u001b[0;34m.\u001b[0m\u001b[0mdot\u001b[0m\u001b[0;34m(\u001b[0m\u001b[0mRX\u001b[0m\u001b[0;34m(\u001b[0m\u001b[0;36m0\u001b[0m\u001b[0;34m,\u001b[0m\u001b[0mphi\u001b[0m\u001b[0;34m[\u001b[0m\u001b[0;36m0\u001b[0m\u001b[0;34m]\u001b[0m\u001b[0;34m)\u001b[0m\u001b[0;34m,\u001b[0m\u001b[0mstate\u001b[0m\u001b[0;34m)\u001b[0m\u001b[0;34m\u001b[0m\u001b[0;34m\u001b[0m\u001b[0m\n\u001b[0;32m----> 6\u001b[0;31m     \u001b[0mstate\u001b[0m \u001b[0;34m=\u001b[0m \u001b[0mnp\u001b[0m\u001b[0;34m.\u001b[0m\u001b[0mdot\u001b[0m\u001b[0;34m(\u001b[0m\u001b[0mRZ\u001b[0m\u001b[0;34m(\u001b[0m\u001b[0;36m0\u001b[0m\u001b[0;34m,\u001b[0m\u001b[0mphi\u001b[0m\u001b[0;34m[\u001b[0m\u001b[0;36m1\u001b[0m\u001b[0;34m]\u001b[0m\u001b[0;34m)\u001b[0m\u001b[0;34m,\u001b[0m\u001b[0mstate\u001b[0m\u001b[0;34m)\u001b[0m\u001b[0;34m\u001b[0m\u001b[0;34m\u001b[0m\u001b[0m\n\u001b[0m\u001b[1;32m      7\u001b[0m     \u001b[0mstate\u001b[0m \u001b[0;34m=\u001b[0m \u001b[0mnp\u001b[0m\u001b[0;34m.\u001b[0m\u001b[0mdot\u001b[0m\u001b[0;34m(\u001b[0m\u001b[0mRX\u001b[0m\u001b[0;34m(\u001b[0m\u001b[0;36m1\u001b[0m\u001b[0;34m,\u001b[0m\u001b[0mphi\u001b[0m\u001b[0;34m[\u001b[0m\u001b[0;36m2\u001b[0m\u001b[0;34m]\u001b[0m\u001b[0;34m)\u001b[0m\u001b[0;34m,\u001b[0m\u001b[0mstate\u001b[0m\u001b[0;34m)\u001b[0m\u001b[0;34m\u001b[0m\u001b[0;34m\u001b[0m\u001b[0m\n\u001b[1;32m      8\u001b[0m     \u001b[0mstate\u001b[0m \u001b[0;34m=\u001b[0m \u001b[0mnp\u001b[0m\u001b[0;34m.\u001b[0m\u001b[0mdot\u001b[0m\u001b[0;34m(\u001b[0m\u001b[0mRZ\u001b[0m\u001b[0;34m(\u001b[0m\u001b[0;36m1\u001b[0m\u001b[0;34m,\u001b[0m\u001b[0mphi\u001b[0m\u001b[0;34m[\u001b[0m\u001b[0;36m3\u001b[0m\u001b[0;34m]\u001b[0m\u001b[0;34m)\u001b[0m\u001b[0;34m,\u001b[0m\u001b[0mstate\u001b[0m\u001b[0;34m)\u001b[0m\u001b[0;34m\u001b[0m\u001b[0;34m\u001b[0m\u001b[0m\n",
      "\u001b[0;32m<__array_function__ internals>\u001b[0m in \u001b[0;36mdot\u001b[0;34m(*args, **kwargs)\u001b[0m\n",
      "\u001b[0;31mValueError\u001b[0m: shapes (16,16) and (4,) not aligned: 16 (dim 1) != 4 (dim 0)"
     ]
    }
   ],
   "source": [
    "# 9\n",
    "import scipy.optimize\n",
    "import matplotlib.pyplot as plt\n",
    "\n",
    "def cost(phi):\n",
    "    return ExpectVal(M, TwoQubitPQC(phi))\n",
    "\n",
    "cost_val = [] #コスト関数の変化を保存するための関数\n",
    "\n",
    "#この関数がiteration ごとに呼ばれる。\n",
    "def callback(phi):\n",
    "    global cost_val\n",
    "    cost_val.append(cost(phi))\n",
    "\n",
    "init = np.random.rand(n_param)\n",
    "callback(init)\n",
    "res = scipy.optimize.minimize(cost, init,\n",
    "                              method='Powell',\n",
    "                              callback=callback)\n",
    "plt.plot(cost_val)\n",
    "plt.xlabel(\"iteration\")\n",
    "plt.ylabel(\"energy expectation value\")\n",
    "plt.show()"
   ]
  },
  {
   "cell_type": "code",
   "execution_count": 43,
   "metadata": {},
   "outputs": [
    {
     "name": "stdout",
     "output_type": "stream",
     "text": [
      "-2.8626207640766816\n",
      "-2.862397979051546\n"
     ]
    }
   ],
   "source": [
    "# 10\n",
    "import scipy.linalg\n",
    "l, P = scipy.linalg.eigh(M)\n",
    "print(l[0]) #最小固有値\n",
    "print(cost(res.x)) #VQEの結果"
   ]
  },
  {
   "cell_type": "code",
   "execution_count": 44,
   "metadata": {},
   "outputs": [],
   "source": [
    "# 11\n",
    "def cost(phi):\n",
    "    return ExpectVal(M,TwoQubitPQC(phi))+np.random.normal(0,0.01)\n",
    "\n",
    "def callback(phi):\n",
    "    global cost_val\n",
    "    cost_val.append(cost(phi))"
   ]
  },
  {
   "cell_type": "code",
   "execution_count": 45,
   "metadata": {},
   "outputs": [
    {
     "data": {
      "image/png": "[encoded data removed]",
      "text/plain": [
       "<Figure size 432x288 with 1 Axes>"
      ]
     },
     "metadata": {
      "needs_background": "light"
     },
     "output_type": "display_data"
    },
    {
     "name": "stdout",
     "output_type": "stream",
     "text": [
      "-2.838029651736126\n"
     ]
    }
   ],
   "source": [
    "# 12\n",
    "cost_val=[] # コスト関数の履歴\n",
    "init = np.random.rand(6)\n",
    "callback(init)\n",
    "res = scipy.optimize.minimize(cost, init,\n",
    "                              method='Powell',\n",
    "                              callback=callback)\n",
    "plt.plot(cost_val)\n",
    "plt.xlabel(\"iteration\")\n",
    "plt.ylabel(\"energy expectation value\")\n",
    "plt.show()\n",
    "print(cost(res.x))"
   ]
  },
  {
   "cell_type": "markdown",
   "metadata": {},
   "source": [
    "## <center> <font color ='#4d4d33' size=\"7\"> Theoretical Values for Energy"
   ]
  },
  {
   "cell_type": "code",
   "execution_count": 46,
   "metadata": {},
   "outputs": [],
   "source": [
    "E_h1j1_1d_th = {'0':-1,'1':1}\n",
    "E_h0j1_1d_th = {'0':0,'1':0}\n",
    "E_h1j0_1d_th = {'0':-1,'1':1}\n",
    "E_h1j05_1d_th = {'0':-1,'1':1}\n",
    "E_h05j1_1d_th = {'0':-0.5,'1':0.5}\n",
    "E_h2j1_1d_th = {'0':-2,'1':2}\n",
    "E_h10j1_1d_th = {'0':-10,'1':10}\n",
    "E_h20j1_1d_th = {'0':-20,'1':20}\n",
    "\n",
    "E_h1j1_2d_th = {'0':-2.82842712,'1':-2,'2':2,'3':2.82842712}\n",
    "E_h0j1_2d_th = {'0':-2,'1':-2,'2':2,'3':2}\n",
    "E_h1j0_2d_th = {'0':-2,'1':0,'2':6.59737022e-17,'3':2}\n",
    "E_h1j05_2d_th = {'0':-2.23606798,'1':-1,'2':1,'3':2.23606798}\n",
    "E_h05j1_2d_th = {'0':-2.23606798,'1':-2,'2':2,'3':2.23606798}\n",
    "E_h2j1_2d_th = {'0':-4.47213595,'1':-2,'2':2,'3':4.47213595}\n",
    "E_h10j1_2d_th = {'0':-20.09975124,'1':-2,'2':2,'3':20.09975124}\n",
    "E_h20j1_2d_th = {'0':-40.04996879,'1':-2,'2':2,'3':40.04996879}\n",
    "\n",
    "\n",
    "E_h1j1_3d_th = {'0':-4,'1':-3.46410162,'2':2.20309881e-16,'3':2.22044605e-16,'4':3.15936513e-16,'5':2,'6':2,'7':3.46410162}\n",
    "E_h0j1_3d_th = {'0':-3,'1':-3,'2':1,'3':1,'4':1,'5':1,'6':1,'7':1}\n",
    "E_h1j0_3d_th = {'0':-3,'1':-1,'2':1,'3':1,'4':1,'5':1,'6':1,'7':1}\n",
    "E_h1j05_3d_th = {'0':-3.23205081,'1':-2.14575131,'2':-0.5,'3':-0.5,'4':0.23205081,'5':1,'6':1.5,'7':3.14575131}\n",
    "E_h05j1_3d_th = {'0':-3.23205081,'1':-3.14575131,'2':0.23205081,'3':0.5,'4':0.5,'5':1.5,'6':1.5,'7':2.14575131}\n",
    "E_h2j1_3d_th = {'0':-6.46410162,'1': -4.29150262,'2':-1,'3':-1}\n",
    "E_h10j1_3d_th = {'0':-30.07878403,'1':-12.07130751,'2':-9,'3':-9}\n",
    "E_h20j1_3d_th = {'0':-60.03844259,'1':-22.03656906,'2':-19,'3':-19}\n",
    "\n",
    "E_h1j1_4d_th = {'0':-5.22625186e+00,'1':-4.82842712e+00,'2':-2.16478440e+00,'3':-2.00000000e+00,\n",
    "'4':-2.00000000e+00,'5':-8.28427125e-01,'6':-4.84058081e-16,'7':-2.45281653e-16,\n",
    " '8':1.39709350e-16,'9':3.02403834e-16,'10':8.28427125e-01,'11':2.00000000e+00,\n",
    "  '12':2.00000000e+00, '13':2.16478440e+00,'14':4.82842712e+00,'15':5.22625186e+00}\n",
    "E_h0j1_4d_th = {'0':-4,'1':-4,'2':0,'3':0,'4':0,'5':0,'6':0,'7':0,\n",
    " '8':0,'9':0,'10':0,'11':0,'12':0, '13':0,'14':4,'15':4}\n",
    "E_h1j0_4d_th = {'0':-4,'1':-2,'2':-2,'3':-2,'4':-2,'5':-7.06946175e-17,'6':-7.06946175e-17,'7':9.53934480e-17,\n",
    " '8':1.06812741e-16,'9':1.90819582e-16,'10':3.08182225e-16,'11':2,'12':2, '13':2,'14':2,'15':4}\n",
    "E_h1j05_4d_th = {'0':-4.27155841,'1':-3.23606798,'2':-2,'3':-2,'4':-1.32430689,'5':-1.23606798,'6':-3.62737996e-16,'7':-9.52421601e-17,\n",
    " '8':-9.52421601e-17,'9':-5.69657760e-17,'10':1.23606798,'11':1.32430689,'12':2, '13':2,'14':3.23606798,'15':4.27155841}\n",
    "E_h05j1_4d_th = {'0':-4.27155841,'1':-4.23606798,'2':-1.32430689 ,'3':-1,'4':-1,'5':-2.36067977e-01,'6':-1.09193728e-17,'7':-1.09193728e-17,\n",
    " '8':6.28832596e-17,'9':6.28832596e-17,'10':2.36067977e-01,'11':1,'12':1, '13':1.32430689e+00,'14':4.23606798,'15':4.27155841}\n",
    "E_h2j1_4d_th = {'0':-8.54311682,'1': -6.47213595,'2':-4,'3':-4}\n",
    "E_h10j1_4d_th = {'0':-40.1003741,'1':-22.0997512,'2':-20,'3':-20}\n",
    "E_h20j1_4d_th = {'0':-80.0500468,'1':-42.0499688,'2':-40,'3':-40}\n",
    "\n",
    "\n",
    "E_h1j1_5d_th = {'0':-6.47213595,'1':-6.15536707,'2':-4,'3':-3.80422607,'4':-3.80422607,'5':-2.35114101,'6':-2.35114101,'7':-2,\n",
    " '8':-2,'9':-2,'10':-2,'11':-1.45308506,'12':-1.23606798, '13':-1.23606798,'14':-7.51037906e-16,'15':-4.17945709e-16}\n",
    "E_h0j1_5d_th = {'0':-5,'1':-5,'2':-1,'3':-1}\n",
    "E_h1j0_5d_th = {'0':-5,'1':-3,'2':-3,'3':-3}\n",
    "E_h1j05_5d_th = {'0':-5.32534307,'1':-4.30994062,'2':-3.36985504,'3':-3.36985504}\n",
    "E_h05j1_5d_th = {'0':-5.32534307,'1':-5.30994062,'2':-2.66908101,'3':-2.36985504}\n",
    "E_h2j1_5d_th = {'0':-10.65068613,'1': -8.61988123,'2':-6.73971009,'3':-6.73971009}\n",
    "E_h10j1_5d_th = {'0':-50.12510556,'1':-32.12505108,'2':-30.64997366,'3':-30.64997366}\n",
    "E_h20j1_5d_th = {'0':-100.06251148,'1':-62.06250806,'2':-60.63463365,'3':-60.63463365}\n",
    "\n",
    "E_h1j1_6d_th = {'0':-7.72740661,'1':-7.46410162,'2':-5.65685425,'3':-5.46410162}\n",
    "E_h0j1_6d_th = {'0':-6,'1':-6,'2':-2,'3':-2}\n",
    "E_h1j0_6d_th = {'0':-6,'1':-4,'2':-4,'3':-4}\n",
    "E_h1j05_6d_th = {'0':-6.38469456,'1':-5.37780212,'2':-4.64575131,'3':-4.64575131}\n",
    "E_h05j1_6d_th = {'0':-6.38469456,'1':-6.37780212,'2':-3.90606721,'3':-3.64575131}\n",
    "E_h2j1_6d_th = {'0':-12.76938913,'1': -10.75560424,'2':-9.29150262,'3':-9.29150262}\n",
    "E_h10j1_6d_th = {'0':-60.1500964,'1':-42.1500915,'2':-41.0713075,'3':-41.0713075}\n",
    "E_h20j1_6d_th = {'0':-120.075012,'1':-82.0750116,'2':-81.0365691,'3':-81.0365691}\n",
    "\n",
    "E_h1j1_7d_th = {'0':-8.98791841,'1':-8.76257254,'2':-7.20775094,'3':-7.02703758}\n",
    "E_h0j1_7d_th = {'0':-7,'1':-7,'2':-3,'3':-3}\n",
    "E_h1j0_7d_th = {'0':-7,'1':-5,'2':-5,'3':-5}\n",
    "E_h1j05_7d_th = {'0':-7.44637965,'1':-6.44323376,'2':-5.86018582,'3':-5.86018582}\n",
    "E_h05j1_7d_th = {'0':-7.44637965,'1':-7.44323376,'2':-5.08322538,'3':-4.86018582}\n",
    "E_h2j1_7d_th = {'0':-14.8927593,'1': -12.8864675,'2':-11.7203716,'3':-11.7203716}\n",
    "E_h10j1_7d_th = {'0':-70.17510987,'1':-52.17510942,'2':-51.35701133,'3':-51.35701133}\n",
    "E_h20j1_7d_th = {'0':-140.08751368,'1':-102.08751368,'2':-101.30295964,'3':-101.30295964}\n",
    "\n",
    "E_h1j1_8d_th = {'0':-10.2516618,'1':-10.0546790,'2':-8.69093921,'3':-8.52394525}\n",
    "E_h0j1_8d_th = {'0':-8,'1':-8,'2':-4,'3':-4}\n",
    "E_h1j0_8d_th = {'0':-8,'1':-6,'2':-6,'3':-6}\n",
    "E_h1j05_8d_th = {'0':-8.50908224,'1':-7.50762639,'2':-7.03400063,'3':-7.03400063}\n",
    "E_h05j1_8d_th = {'0':-8.50908224,'1':-8.50762639,'2':-6.22480391,'3':-6.03400063}\n",
    "E_h2j1_8d_th = {'0':-21.27120882,'1':-19.27056737,'2': -18.61430531,'3':-18.614305313126557}\n",
    "E_h10j1_8d_th = {'0':-80.2001253,'1':-62.2001253,'2':-61.5606120,'3':-61.5606120}\n",
    "E_h20j1_8d_th = {'0':-160.100016,'1':-122.100016,'2':-121.488322,'3':-121.488322}\n",
    "\n",
    "E_h1j1_9d_th = {'0':-11.5175410,'1':-11.3425636,'2':-10.1283555,'3':-9.97448307}\n",
    "E_h0j1_9d_th = {'0':-9,'1':-9,'2':-5,'3':-5}\n",
    "E_h1j0_9d_th = {'0':-9,'1':-7,'2':-7,'3':-7}\n",
    "E_h1j05_9d_th = {'0':-9.57223979,'1':-8.57155914,'2':-8.18022085,'3':-8.18022085}\n",
    "E_h05j1_9d_th = {'0':-9.57223979,'1':-9.57155914,'2':-7.34403018,'3':-7.18022085}\n",
    "E_h2j1_9d_th = {'0':-19.1444796,'1':-17.1431183,'2': -16.3604417,'3':-16.3604417}\n",
    "E_h10j1_9d_th = {'0':-90.22514098,'1':-72.22514098,'2':-71.71253866,'3':-71.71253865890341}\n",
    "E_h20j1_9d_th = {'0':-180.11251759,'1':-142.11251759,'2':-139.71717493150734,'3':-139.07594853174825}\n",
    "\n",
    "E_h1j1_10d_th = {'0':-12.78490644,'1':-12.62750303,'2':-11.53343072,'3':-11.391435051850298}\n",
    "E_h0j1_10d_th = {'0':-10,'1':-10,'2':-6,'3':-6}\n",
    "E_h1j0_10d_th = {'0':-10,'1':-8,'2':-8,'3':-8.000000000000064}\n",
    "E_h1j05_10d_th = {'0':-10.63560441,'1':-9.63528368,'2':-9.30715266,'3':-9.30715265656318}\n",
    "E_h05j1_10d_th = {'0':-10.63560441,'1':-10.63528368,'2':-8.44857543,'3':-8.307152656563227}\n",
    "E_h2j1_10d_th = {'0':-21.27120882,'1':-21.27120882,'2': -19.27056737,'3':19.270567365334685}\n",
    "E_h10j1_10d_th = {'0':-100.25015664,'1':-82.25015664,'2':-81.83063872,'3':-81.83063872075803}\n",
    "E_h20j1_10d_th = {'0':-200.12501954,'1':-162.12501954,'2':-161.72505495,'3':-161.7250549484299}\n"
   ]
  },
  {
   "cell_type": "code",
   "execution_count": 47,
   "metadata": {},
   "outputs": [],
   "source": [
    "b_h1j1_2d_k1  =  [E_h1j1_2d_th['1']-E_h1j1_2d_th['0']]\n",
    "b_h1j1_2d_k2  =  [E_h1j1_2d_th['2']-E_h1j1_2d_th['0'],E_h1j1_2d_th['2']-E_h1j1_2d_th['1']]\n",
    "b_h1j1_2d_k3  =  [E_h1j1_2d_th['3']-E_h1j1_2d_th['0'],E_h1j1_2d_th['3']-E_h1j1_2d_th['1'],E_h1j1_2d_th['3']-E_h1j1_2d_th['2']]"
   ]
  },
  {
   "cell_type": "code",
   "execution_count": 48,
   "metadata": {},
   "outputs": [],
   "source": [
    "b_h1j0_2d_k1  =  [E_h1j0_2d_th['1']-E_h1j0_2d_th['0']]\n",
    "b_h1j0_2d_k2  =  [E_h1j0_2d_th['2']-E_h1j0_2d_th['0'],E_h1j0_2d_th['2']-E_h1j0_2d_th['1']]\n",
    "b_h1j0_2d_k3  =  [E_h1j0_2d_th['3']-E_h1j0_2d_th['0'],E_h1j0_2d_th['3']-E_h1j0_2d_th['1'],E_h1j0_2d_th['3']-E_h1j0_2d_th['2']]"
   ]
  },
  {
   "cell_type": "code",
   "execution_count": 49,
   "metadata": {},
   "outputs": [],
   "source": [
    "b_h1j05_2d_k1  =  [E_h1j05_2d_th['1']-E_h1j05_2d_th['0']]\n",
    "b_h1j05_2d_k2  =  [E_h1j05_2d_th['2']-E_h1j05_2d_th['0'],E_h1j05_2d_th['2']-E_h1j05_2d_th['1']]\n",
    "b_h1j05_2d_k3  =  [E_h1j05_2d_th['3']-E_h1j05_2d_th['0'],E_h1j05_2d_th['3']-E_h1j05_2d_th['1'],E_h1j05_2d_th['3']-E_h1j05_2d_th['2']]"
   ]
  },
  {
   "cell_type": "code",
   "execution_count": 50,
   "metadata": {},
   "outputs": [],
   "source": [
    "b_h05j1_2d_k1  =  [E_h05j1_2d_th['1']-E_h05j1_2d_th['0']]\n",
    "b_h05j1_2d_k2  =  [E_h05j1_2d_th['2']-E_h05j1_2d_th['0'],E_h05j1_2d_th['2']-E_h05j1_2d_th['1']]\n",
    "b_h05j1_2d_k3  =  [E_h05j1_2d_th['3']-E_h05j1_2d_th['0'],E_h05j1_2d_th['3']-E_h05j1_2d_th['1'],E_h05j1_2d_th['3']-E_h05j1_2d_th['2']]"
   ]
  },
  {
   "cell_type": "code",
   "execution_count": 51,
   "metadata": {},
   "outputs": [],
   "source": [
    "b_h2j1_2d_k1  =  [E_h2j1_2d_th['1']-E_h2j1_2d_th['0']]\n",
    "b_h2j1_2d_k2  =  [E_h2j1_2d_th['2']-E_h2j1_2d_th['0'],E_h2j1_2d_th['2']-E_h2j1_2d_th['1']]\n",
    "b_h2j1_2d_k3  =  [E_h2j1_2d_th['3']-E_h2j1_2d_th['0'],E_h2j1_2d_th['3']-E_h2j1_2d_th['1'],E_h2j1_2d_th['3']-E_h2j1_2d_th['2']]"
   ]
  },
  {
   "cell_type": "code",
   "execution_count": 52,
   "metadata": {},
   "outputs": [],
   "source": [
    "b_h2j1_3d_k1  =  [E_h2j1_3d_th['1']-E_h2j1_3d_th['0']]\n",
    "b_h2j1_3d_k2  =  [E_h2j1_3d_th['2']-E_h2j1_3d_th['0'],E_h2j1_3d_th['2']-E_h2j1_3d_th['1']]\n",
    "b_h2j1_3d_k3  =  [E_h2j1_3d_th['3']-E_h2j1_3d_th['0'],E_h2j1_3d_th['3']-E_h2j1_3d_th['1'],E_h2j1_3d_th['3']-E_h2j1_3d_th['2']]"
   ]
  },
  {
   "cell_type": "code",
   "execution_count": 53,
   "metadata": {},
   "outputs": [],
   "source": [
    "b_h1j1_3d_k1  =  [E_h1j1_3d_th['1']-E_h1j1_3d_th['0']]\n",
    "b_h1j1_3d_k2  =  [E_h1j1_3d_th['2']-E_h1j1_3d_th['0'],E_h1j1_3d_th['2']-E_h1j1_3d_th['1']]\n",
    "b_h1j1_3d_k3  =  [E_h1j1_3d_th['3']-E_h1j1_3d_th['0'],E_h1j1_3d_th['3']-E_h1j1_3d_th['1'],E_h1j1_3d_th['3']-E_h1j1_3d_th['2']]"
   ]
  },
  {
   "cell_type": "code",
   "execution_count": 54,
   "metadata": {},
   "outputs": [],
   "source": [
    "b_h1j1_4d_k1  =  [E_h1j1_4d_th['1']-E_h1j1_4d_th['0']]\n",
    "b_h1j1_4d_k2  =  [E_h1j1_4d_th['2']-E_h1j1_4d_th['0'],E_h1j1_4d_th['2']-E_h1j1_4d_th['1']]\n",
    "b_h1j1_4d_k3  =  [E_h1j1_4d_th['3']-E_h1j1_4d_th['0'],E_h1j1_4d_th['3']-E_h1j1_4d_th['1'],E_h1j1_4d_th['3']-E_h1j1_4d_th['2']]"
   ]
  },
  {
   "cell_type": "code",
   "execution_count": 55,
   "metadata": {},
   "outputs": [],
   "source": [
    "b_h2j1_4d_k1  =  [E_h2j1_4d_th['1']-E_h2j1_4d_th['0']]\n",
    "b_h2j1_4d_k2  =  [E_h2j1_4d_th['2']-E_h2j1_4d_th['0'],E_h2j1_4d_th['2']-E_h2j1_4d_th['1']]\n",
    "b_h2j1_4d_k3  =  [E_h2j1_4d_th['3']-E_h2j1_4d_th['0'],E_h2j1_4d_th['3']-E_h2j1_4d_th['1'],E_h2j1_4d_th['3']-E_h2j1_4d_th['2']]"
   ]
  },
  {
   "cell_type": "code",
   "execution_count": 56,
   "metadata": {},
   "outputs": [],
   "source": [
    "b_h1j1_5d_k1  =  [E_h1j1_5d_th['1']-E_h1j1_5d_th['0']]\n",
    "b_h1j1_5d_k2  =  [E_h1j1_5d_th['2']-E_h1j1_5d_th['0'],E_h1j1_5d_th['2']-E_h1j1_5d_th['1']]\n",
    "b_h1j1_5d_k3  =  [E_h1j1_5d_th['3']-E_h1j1_5d_th['0'],E_h1j1_5d_th['3']-E_h1j1_5d_th['1'],E_h1j1_5d_th['3']-E_h1j1_5d_th['2']]"
   ]
  },
  {
   "cell_type": "code",
   "execution_count": 57,
   "metadata": {},
   "outputs": [],
   "source": [
    "b_h2j1_5d_k1  =  [E_h2j1_5d_th['1']-E_h2j1_5d_th['0']]\n",
    "b_h2j1_5d_k2  =  [E_h2j1_5d_th['2']-E_h2j1_5d_th['0'],E_h2j1_5d_th['2']-E_h2j1_5d_th['1']]\n",
    "b_h2j1_5d_k3  =  [E_h2j1_5d_th['3']-E_h2j1_5d_th['0'],E_h2j1_5d_th['3']-E_h2j1_5d_th['1'],E_h2j1_5d_th['3']-E_h2j1_5d_th['2']]"
   ]
  },
  {
   "cell_type": "code",
   "execution_count": 58,
   "metadata": {},
   "outputs": [],
   "source": [
    "b_h1j1_6d_k1  =  [E_h1j1_6d_th['1']-E_h1j1_6d_th['0']]\n",
    "b_h1j1_6d_k2  =  [E_h1j1_6d_th['2']-E_h1j1_6d_th['0'],E_h1j1_6d_th['2']-E_h1j1_6d_th['1']]\n",
    "b_h1j1_6d_k3  =  [E_h1j1_6d_th['3']-E_h1j1_6d_th['0'],E_h1j1_6d_th['3']-E_h1j1_6d_th['1'],E_h1j1_6d_th['3']-E_h1j1_6d_th['2']]"
   ]
  },
  {
   "cell_type": "code",
   "execution_count": 59,
   "metadata": {},
   "outputs": [],
   "source": [
    "b_h1j1_8d_k1  =  [E_h1j1_8d_th['1']-E_h1j1_8d_th['0']]\n",
    "b_h1j1_8d_k2  =  [E_h1j1_8d_th['2']-E_h1j1_8d_th['0'],E_h1j1_8d_th['2']-E_h1j1_8d_th['1']]\n",
    "b_h1j1_8d_k3  =  [E_h1j1_8d_th['3']-E_h1j1_8d_th['0'],E_h1j1_8d_th['3']-E_h1j1_8d_th['1'],E_h1j1_8d_th['3']-E_h1j1_8d_th['2']]"
   ]
  },
  {
   "cell_type": "code",
   "execution_count": 60,
   "metadata": {},
   "outputs": [],
   "source": [
    "b_h1j1_10d_k1  =  [E_h1j1_10d_th['1']-E_h1j1_10d_th['0']]\n",
    "b_h1j1_10d_k2  =  [E_h1j1_10d_th['2']-E_h1j1_10d_th['0'],E_h1j1_10d_th['2']-E_h1j1_10d_th['1']]\n",
    "b_h1j1_10d_k3  =  [E_h1j1_10d_th['3']-E_h1j1_10d_th['0'],E_h1j1_10d_th['3']-E_h1j1_10d_th['1'],E_h1j1_10d_th['3']-E_h1j1_10d_th['2']]"
   ]
  },
  {
   "cell_type": "markdown",
   "metadata": {},
   "source": [
    "## <center> <font color ='#4d4d33' size=\"7\"> Noisy Case"
   ]
  },
  {
   "cell_type": "code",
   "execution_count": 61,
   "metadata": {},
   "outputs": [],
   "source": [
    "from qiskit.providers.aer.noise import NoiseModel\n",
    "from qiskit.providers.aer.noise.errors import pauli_error, depolarizing_error\n",
    "# a simple noise model, which randomly flips each bit in an output with probability 𝑝.\n",
    "def get_noise(p):\n",
    "    error_meas = pauli_error([('X',p), ('I', 1 - p)])\n",
    "    noise_model = NoiseModel()\n",
    "    noise_model.add_all_qubit_quantum_error(error_meas, \"measure\") # measurement error is applied to measurements\n",
    "    return noise_model"
   ]
  },
  {
   "cell_type": "markdown",
   "metadata": {},
   "source": [
    "# Lets try it:"
   ]
  },
  {
   "cell_type": "code",
   "execution_count": 62,
   "metadata": {},
   "outputs": [
    {
     "name": "stdout",
     "output_type": "stream",
     "text": [
      "          ┌─┐   \n",
      "q69_0: |0>┤M├───\n",
      "          └╥┘┌─┐\n",
      "q69_1: |0>─╫─┤M├\n",
      "           ║ └╥┘\n",
      " c69_0: 0 ═╩══╬═\n",
      "              ║ \n",
      " c69_1: 0 ════╩═\n",
      "                \n",
      "shorted_mitigated_counts:{'00': 10000, '01': 0, '10': 0, '11': 0}\n",
      "shorted_noisy_counts:{'00': 9038, '01': 451, '10': 490, '11': 21}\n"
     ]
    },
    {
     "data": {
      "image/png": "[encoded data removed]",
      "text/plain": [
       "<Figure size 504x360 with 1 Axes>"
      ]
     },
     "execution_count": 62,
     "metadata": {},
     "output_type": "execute_result"
    }
   ],
   "source": [
    "def simple_circuit(N):\n",
    "    qr = QuantumRegister(N)\n",
    "    cr = ClassicalRegister(N)\n",
    "    qc = QuantumCircuit(qr, cr)\n",
    "    [qc.measure(qr[i], cr[i]) for i in range(N)]\n",
    "    return qc\n",
    "N=2\n",
    "qc = simple_circuit(N)\n",
    "print(qc)\n",
    "noise_model = get_noise(0.05)\n",
    "from qiskit.ignis.mitigation.measurement import (complete_meas_cal,CompleteMeasFitter)\n",
    "mitigated_counts = execute(qc,Aer.get_backend('qasm_simulator'),shots = 10000).result().get_counts()\n",
    "noisy_counts = execute(qc,Aer.get_backend('qasm_simulator'),shots = 10000, noise_model=noise_model).result().get_counts()\n",
    "mitigated_counts = conv_qubitbook(mitigated_counts)\n",
    "mitigated_counts = dict(sorted(mitigated_counts.items()))\n",
    "noisy_counts = conv_qubitbook(noisy_counts)\n",
    "noisy_counts = dict(sorted(noisy_counts.items()))\n",
    "print(\"shorted_mitigated_counts:{}\\nshorted_noisy_counts:{}\".format(mitigated_counts,noisy_counts))\n",
    "plot_histogram([noisy_counts, mitigated_counts], legend=['noisy', 'mitigated'])"
   ]
  },
  {
   "cell_type": "markdown",
   "metadata": {},
   "source": [
    "# And for the circuit of interest:"
   ]
  },
  {
   "cell_type": "code",
   "execution_count": 63,
   "metadata": {
    "scrolled": true
   },
   "outputs": [
    {
     "name": "stdout",
     "output_type": "stream",
     "text": [
      "          ┌─────────┐┌──────────┐┌──────────┐                       ░ ┌─┐   \n",
      "q70_0: |0>┤ Rx(2.9) ├┤ Ry(6.09) ├┤ Rz(6.07) ├─■──────────■──────────░─┤M├───\n",
      "          ├─────────┤├──────────┤├──────────┤ │zz(pi/3)  │zz(pi/3)  ░ └╥┘┌─┐\n",
      "q70_1: |0>┤ Rx(2.9) ├┤ Ry(6.09) ├┤ Rz(6.07) ├─■──────────■──────────░──╫─┤M├\n",
      "          └─────────┘└──────────┘└──────────┘                       ░  ║ └╥┘\n",
      " c70_0: 0 ═════════════════════════════════════════════════════════════╩══╬═\n",
      "                                                                          ║ \n",
      " c70_1: 0 ════════════════════════════════════════════════════════════════╩═\n",
      "                                                                            \n",
      "shorted_mitigated_counts:{'00': 6, '01': 256, '10': 254, '11': 9484}\n",
      "shorted_noisy_counts:{'00': 57, '01': 660, '10': 661, '11': 8622}\n"
     ]
    },
    {
     "data": {
      "image/png": "[encoded data removed]",
      "text/plain": [
       "<Figure size 504x360 with 1 Axes>"
      ]
     },
     "execution_count": 63,
     "metadata": {},
     "output_type": "execute_result"
    }
   ],
   "source": [
    "def trial_circuit(N,param,layers):\n",
    "    qr = QuantumRegister(N)\n",
    "    cr = ClassicalRegister(N)\n",
    "    qc = QuantumCircuit(qr, cr)\n",
    "    #   Momentum eigenstate\n",
    "    # qc.x(qr[0])\n",
    "    # [qc.cx(qr[i],qr[i+1]) for i in range(N-1)]\n",
    "    #qc.barrier()\n",
    "    for l in range(layers):\n",
    "        for i in range(N):\n",
    "            qc.rx(param[3*i+3*N*l],qr[i])\n",
    "            qc.ry(param[3*i+3*N*l+1],qr[i])\n",
    "            qc.rz(param[3*i+3*N*l+2],qr[i])    \n",
    "        [qc.rzz(np.pi/3,qr[i],qr[i+1]) for i in range(N-1)]\n",
    "        if N!=1:\n",
    "            qc.rzz(np.pi/3,qr[N-1],qr[0])\n",
    "        qc.barrier()\n",
    "        [qc.measure(qr[i], cr[i]) for i in range(N)]\n",
    "    return qc\n",
    "\n",
    "# qc.barrier()\n",
    "#qc.x(qr[1])\n",
    "#qc.x(qr[2])\n",
    "#qc.unitary\n",
    "\n",
    "N=2\n",
    "layers = 1\n",
    "# param = param_trial_new(N,layers)\n",
    "param = [2.9, 6.09, 6.07,2.9, 6.09, 6.07, 2.9, 6.09, 6.07]\n",
    "qc = trial_circuit(N,param,layers)\n",
    "print(qc)\n",
    "\n",
    "from qiskit.ignis.mitigation.measurement import (complete_meas_cal,CompleteMeasFitter)\n",
    "\n",
    "mitigated_counts = execute(qc,Aer.get_backend('qasm_simulator'),shots = 10000).result().get_counts()\n",
    "noisy_counts = execute(qc,Aer.get_backend('qasm_simulator'),shots = 10000, noise_model=noise_model).result().get_counts()\n",
    "mitigated_counts = conv_qubitbook(mitigated_counts)\n",
    "mitigated_counts = dict(sorted(mitigated_counts.items()))\n",
    "noisy_counts = conv_qubitbook(noisy_counts)\n",
    "noisy_counts = dict(sorted(noisy_counts.items()))\n",
    "print(\"shorted_mitigated_counts:{}\\nshorted_noisy_counts:{}\".format(mitigated_counts,noisy_counts))\n",
    "plot_histogram([noisy_counts, mitigated_counts], legend=['noisy', 'mitigated'])"
   ]
  },
  {
   "cell_type": "code",
   "execution_count": 64,
   "metadata": {},
   "outputs": [],
   "source": [
    "# For Periodic Boundary Conditions:\n",
    "def compute_H1_PBC_noisy(N,NUM_SHOTS,param,J,layers):\n",
    "    H1=0\n",
    "    a=[]\n",
    "    qc = circuit_PBC(N,param,layers)\n",
    "    job_noisy = execute(qc,Aer.get_backend('qasm_simulator'),shots=NUM_SHOTS, noise_model=noise_model)\n",
    "    noisy_results = job_noisy.result()\n",
    "    noisy_counts = noisy_results.get_counts()\n",
    "    noisy_counts = conv_qubitbook(noisy_counts) \n",
    "    #adds the non-measured states to the list to complete the set of possible 2**N configurations\n",
    "    noisy_counts = dict(sorted(noisy_counts.items())) #sorts the dictionary of counts according to their key\n",
    "    [a.append([int(d) for d in str(list(noisy_counts)[i])]) for i in range(len(list(noisy_counts)))]\n",
    "    #now for the periodic boundary condition:\n",
    "    a.append(a[0])\n",
    "    #print(\"len(a):\",len(a))\n",
    "    shots = sum(noisy_counts.values())\n",
    "    P1 = [(i, c/shots) for i, c in noisy_counts.items()]\n",
    "    #print(\"probs:\",P1)\n",
    "    for i in range(N): #runs over the N pairs of consecutive qubits (in the case of pbc)\n",
    "        for j in range(2**N): #runs over the set of 2**N states\n",
    "            if i==N-1:\n",
    "                if a[j][N-1]==a[j][0]:\n",
    "                    H1 += J[i]*P1[j][1]\n",
    "                if a[j][N-1]!=a[j][0]:\n",
    "                    H1 -= J[i]*P1[j][1]\n",
    "            else:\n",
    "                if a[j][i]==a[j][i+1]:\n",
    "                    H1 += J[i]*P1[j][1]\n",
    "                if a[j][i]!=a[j][i+1]:\n",
    "                    H1 -= J[i]*P1[j][1]\n",
    "#             print(\"state:'{}' (qubits:{} and {}) H1={}\".format(P[j][0],i,i+1,H1))\n",
    "    #print(\"H1 =\",H1)\n",
    "    return H1"
   ]
  },
  {
   "cell_type": "code",
   "execution_count": 65,
   "metadata": {},
   "outputs": [],
   "source": [
    "def compute_H2_PBC_noisy(N,NUM_SHOTS,param,h,layers):\n",
    "    a2 = []\n",
    "    H2 = 0\n",
    "    qc2 = circuit2_PBC(N,param,layers)\n",
    "    \n",
    "    job2 = execute(qc2,Aer.get_backend('qasm_simulator'),shots=NUM_SHOTS,noise_model=noise_model)\n",
    "    result2 = job2.result()\n",
    "    counts2 = result2.get_counts()\n",
    "    counts2 = conv_qubitbook(counts2)\n",
    "    counts2 = dict(sorted(counts2.items())) #sorts the dictionary of counts according to their key\n",
    "    [a2.append([int(d) for d in str(list(counts2)[i])]) for i in range(len(list(counts2)))]\n",
    "    #print(\"counts after sorting:\",counts)\n",
    "    #split dictionary \"count\" keys into array elements\n",
    "    #To account for the case where a register gives only one qubit with probability 1 after all shots\n",
    "    shots2 = sum(counts2.values())\n",
    "    P2 = [(i, c/shots2) for i, c in counts2.items()]\n",
    "    #print(\"register[{}] a2={}\".format(register,a2))\n",
    "    #print(\"register[{}] P={}\".format(register,P2))\n",
    "    for i in range(N): #runs over the N qubits\n",
    "        for j in range(2**N): #runs over the set of 2**N states\n",
    "            if a2[j][i]==0:\n",
    "                H2 += h[i]*P2[j][1]\n",
    "            if a2[j][i]==1:\n",
    "                H2 -= h[i]*P2[j][1]\n",
    "    #print(\"H2 (i={},j={}):{}\".format(i,j,H2))\n",
    "    #print(\"H2 =\",H2)\n",
    "    return H2"
   ]
  },
  {
   "cell_type": "code",
   "execution_count": 66,
   "metadata": {},
   "outputs": [],
   "source": [
    "def compute_RR_term_PBC_noisy(N,NUM_SHOTS,param0,param1,layers):\n",
    "    a=[]\n",
    "    qc = circuit_RR_PBC(N,param0,param1,layers)\n",
    "    job = execute(qc2,Aer.get_backend('qasm_simulator'),shots=NUM_SHOTS,noise_model=noise_model)\n",
    "    result = job.result()\n",
    "    counts = result.get_counts()\n",
    "    counts = conv_qubitbook(counts)\n",
    "    counts = dict(sorted(counts.items())) #sorts the dictionary of counts according to their key\n",
    "    [a.append([int(d) for d in str(list(counts)[i])]) for i in range(len(list(counts)))]\n",
    "    shots = sum(counts.values())\n",
    "    P = [(i, c/shots) for i, c in counts.items()]\n",
    "    return P[0][1]"
   ]
  },
  {
   "cell_type": "markdown",
   "metadata": {},
   "source": [
    "#  <center> <font color ='#4d4d33' size=\"7\"> Lets combine these, to compute the expectation value $<\\psi|H|\\psi>$"
   ]
  },
  {
   "cell_type": "code",
   "execution_count": 67,
   "metadata": {},
   "outputs": [],
   "source": [
    "noise_model = get_noise(0.05)"
   ]
  },
  {
   "cell_type": "code",
   "execution_count": 68,
   "metadata": {},
   "outputs": [],
   "source": [
    "def expval_ising_PBC(param):\n",
    "    NUM_SHOTS = 10000\n",
    "    energy = 0\n",
    "    H1 = 0\n",
    "    H2 = 0\n",
    "    N  = 10\n",
    "    layers = 1\n",
    "    h  = couplings(N)[0]\n",
    "    J  = couplings(N)[1]\n",
    "    H1 = compute_H1_PBC(N,NUM_SHOTS,param,J,layers)\n",
    "    H2 = compute_H2_PBC(N,NUM_SHOTS,param,h,layers)\n",
    "    energy = -H1-H2\n",
    "    print(\"H  = -H1-H2 = \",energy)\n",
    "    return energy"
   ]
  },
  {
   "cell_type": "code",
   "execution_count": 69,
   "metadata": {},
   "outputs": [],
   "source": [
    "def expval_ising_excited_PBC(param):\n",
    "    NUM_SHOTS = 10000\n",
    "    energy = 0\n",
    "    H1 = 0\n",
    "    H2 = 0\n",
    "    extra_term = 0\n",
    "    N  = 10\n",
    "    layers = 1\n",
    "    h  = couplings(N)[0]\n",
    "    J  = couplings(N)[1]\n",
    "    param0 = [3.16593601, 0.5870495 , 3.19702625, 3.14733032]\n",
    "    param1 = [0.14249406, 0.49552168, 0.05262382, 6.41659017]\n",
    "    param2 = [ 2.7725361 ,  2.76782303,  2.34409267, -0.00460241]\n",
    "    b =  2.5*np.array(b_h1j1_10d_k3)\n",
    "    H1 = compute_H1_PBC(N,NUM_SHOTS,param,J,layers)\n",
    "    H2 = compute_H2_PBC(N,NUM_SHOTS,param,h,layers)\n",
    "    T1  = b[0]*compute_RR_term_PBC(N,NUM_SHOTS,param0,param,layers)\n",
    "    T2  = b[1]*compute_RR_term_PBC_noisy(N,NUM_SHOTS,param1,param,layers)\n",
    "    T3  = b[2]*compute_RR_term_PBC_noisy(N,NUM_SHOTS,param2,param,layers)\n",
    "    energy = -H1-H2+T1+T2+T3\n",
    "    print(\"H  = -H1-H2+T1= \",energy)\n",
    "    return energy"
   ]
  },
  {
   "cell_type": "code",
   "execution_count": 70,
   "metadata": {},
   "outputs": [
    {
     "name": "stdout",
     "output_type": "stream",
     "text": [
      "param=[1.13252139 4.38748916 0.3105454  0.02631475]\n"
     ]
    }
   ],
   "source": [
    "N=10    # Number of qubits\n",
    "layers=1 # Depth of circuit in layers\n",
    "random.seed()\n",
    "param = param_tight(N,layers)\n",
    "# param = [6.19935611e+00, 5.76897791e+00, 3.29442118e+00, 3.39636612e-03]\n",
    "print(\"param={}\".format(param))"
   ]
  },
  {
   "cell_type": "code",
   "execution_count": 71,
   "metadata": {
    "scrolled": true
   },
   "outputs": [
    {
     "name": "stdout",
     "output_type": "stream",
     "text": [
      "H  = -H1-H2 =  0.853999999999995\n",
      "H  = -H1-H2 =  1.055800000000013\n",
      "H  = -H1-H2 =  -0.6283999999999974\n",
      "H  = -H1-H2 =  2.0520000000000014\n",
      "H  = -H1-H2 =  -10.582199999999998\n",
      "ret[0]:array([ 9.47813581, 12.73310358,  8.65615982,  8.37192917])\n",
      "\n",
      "H  = -H1-H2 =  -10.564399999999997\n",
      "Minimal Energy: -10.564399999999997\n",
      "CPU times: user 1.34 s, sys: 0 ns, total: 1.34 s\n",
      "Wall time: 1.33 s\n"
     ]
    }
   ],
   "source": [
    "%%time\n",
    "from qiskit import Aer, execute\n",
    "#Backend represent either a simulator or a real quantum computer\n",
    "backend = Aer.get_backend(\"qasm_simulator\") #runs the quantum circuit\n",
    "from qiskit.aqua.components.optimizers import COBYLA, NELDER_MEAD, SLSQP, SPSA, ADAM, CG, L_BFGS_B,TNC\n",
    "# optimizer = COBYLA(maxiter=10000, tol=0.001)\n",
    "# optimizer = NELDER_MEAD(maxiter=1000, tol=0.0001)\n",
    "# optimizer = SLSQP(maxiter=1000, tol=0.001)\n",
    "optimizer = SPSA(max_trials=1,  save_steps=1)\n",
    "# optimizer = ADAM(maxiter=1000,tol=1e-06, lr=0.001)\n",
    "# optimizer = CG(maxiter=1000)\n",
    "# optimizer = L_BFGS_B(maxfun=1000, maxiter=1000)\n",
    "# optimizer = TNC(maxiter=1000)\n",
    "ret = optimizer.optimize(num_vars=len(param), objective_function=expval_ising_PBC, initial_point=param)\n",
    "#the definition: optimize(num_vars, objective_function, gradient_function=None, variable_bounds=None, initial_point=None)\n",
    "print(\"ret[0]:{}\\n\".format(repr(ret[0])))\n",
    "# Obtain the output distribution using the final parameters\n",
    "print(\"Minimal Energy:\",expval_ising_PBC(ret[0]))\n",
    "# param0 = repr(ret[0])\n",
    "# param1 = param_tight(N,layers)\n",
    "# ret1 = optimizer.optimize(num_vars = len(param0),)"
   ]
  },
  {
   "cell_type": "code",
   "execution_count": 185,
   "metadata": {
    "scrolled": true
   },
   "outputs": [],
   "source": [
    "\n",
    "param0_h1j0_2d_zero_PBC = [ 2.86318104e+00,  4.71642697e+00,  2.80657294e-01, -1.43996226e-04]\n",
    "#excited state choose b =  1.02*b_h1j0_2d_k1[0]\n",
    "param1_h1j0_2d_zero_PBC = [0.06677361, 3.99599371, 5.20641368, 1.18342836]\n",
    "param2_h1j0_2d_zero_PBC = [-0.2977879 , -2.34200468, -0.92849226,  0.96891335]\n",
    "SPSA_E1_h1j0_2d_zero_PBC = [-2/2,0.01900400000000002/2,0.011223999999999967/2,1.9944000000000002/2]\n",
    "\n",
    "param0_h1j05_2d_zero_PBC = [4.82807158, 3.75663047, 1.49903548, 4.71327985]\n",
    "#excited state choose b =  1.05*b_h1j0_2d_k1[0]\n",
    "param1_h1j05_2d_zero_PBC = [6.67405759, 6.4825141 , 2.53691141, 2.4705703 ]\n",
    "#excited state choose b =  2*b_h1j1_2d_k2[0]\n",
    "SPSA_E1_h1j05_2d_zero_PBC = [-2.0144/2,-0.8756035573100002/2,0.639530935512/2]\n",
    "\n",
    "#---------------------------------------------------------------------------------\n",
    "\n",
    "param0_h1j1_2d_zero_PBC = [3.12084037, 3.67284077, 6.29921481, 0.01534387]\n",
    "#excited state choose b =  100*b_h1j1_2d_k1[0]\n",
    "param1_h1j1_2d_zero_PBC = [5.44895469, 2.57547367, 6.74659986, 3.9134064 ] \n",
    "#excited state choose b = 10*b_h1j1_2d_k2[0] # b =  15*b_h1j1_2d_k2[0]  # b =  50*b_h1j1_2d_k2[0] \n",
    "param2_h1j1_2d_zero_PBC = [0.91191516, 4.06894838, 2.15298334, 4.70944444] # [3.41674793, 5.13551011, 6.01431208, 1.56757815] # [1.99068279, 5.76606664, 1.38358669, 1.57075722] \n",
    "#excited state choose b = 10*b_h1j1_2d_k3[0]\n",
    "SPSA_E1_h1j1_2d_zero_PBC = [-2.4868/2,-1.3457561351999998/2,2.3699290035200002/2,3.3380519460800007/2]# 5.6241770516 #  10.896797315680002# \n",
    "\n",
    "param0_h1j1_3d_zero_PBC = [0.25991499, 2.70011363, 6.83689095, 3.14700451]\n",
    "#excited state choose b =  100*b_h1j1_3d_k1[0]\n",
    "param1_h1j1_3d_zero_PBC = [-0.14188515,  5.96887753,  2.38025004,  0.56219048]\n",
    "#excited state choose b =  10*b_h1j1_3d_k2[0]\n",
    "param2_h1j1_3d_zero_PBC = [3.72605584, 4.86082997, 5.56604115, 4.64442416]\n",
    "#excited state choose b =  10*b_h1j1_3d_k3[0]\n",
    "param3_h1j1_3d_zero_PBC = [4.62620693, 6.57332997, 4.55493627, 4.63979639]\n",
    "SPSA_E1_h1j1_3d_zero_PBC = [-3.7405999999999997/3,-3.4911894697999992/3,0.37211273932/3,0.5685082873399998/3]\n",
    "\n",
    "param0_h1j1_4d_zero_PBC = [ 3.16059684,  3.67164727, -0.04664188,  6.29177055]\n",
    "#excited state choose b =  100*b_h1j1_4d_k1[0]\n",
    "param1_h1j1_4d_zero_PBC = [3.45689455, 0.17095631, 6.23342115, 7.32208424]\n",
    "#excited state choose b =  2*b_h1j1_4d_k1[0]\n",
    "param2_h1j1_4d_zero_PBC = [1.54979676, 3.34734211, 8.25687517, 7.03725764]\n",
    "param3_h1j1_4d_zero_PBC = [0.49427814, 4.81010242, 2.05107808, 2.3416132 ]\n",
    "SPSA_E1_h1j1_4d_zero_PBC = [-5.0085999999999995/4,-4.703557288000001/4, -0.4450368554080004/4,0.11944599689600083/4]\n",
    "\n",
    "param0_h1j1_6d_zero_PBC = [5.87423573, 2.8068435 , 5.35324966, 6.2783681 ]\n",
    "#excited state choose b =  100*b_h1j1_6k_k1[0]\n",
    "param1_h1j1_6d_zero_PBC = [2.69946471, 3.30565688, 6.58426409, 3.63939956]\n",
    "#excited state choose b =  100*b_h1j1_6d_k2[0]\n",
    "param2_h1j1_6d_zero_PBC = [2.21123978, 2.21481456, 2.87637153, 5.5651538 ]\n",
    "# param3_h1j1_6d_zero_PBC = \n",
    "SPSA_E1_h1j1_6d_zero_PBC = [-7.465799999999997/6,-7.3910944763999975/6, 0.0074112306000001585/6,0.28612266280000065/6]\n",
    "\n",
    "param0_h1j1_8d_zero_PBC = [0.49430382, 3.30407035, 1.79699333, 3.10631074]\n",
    "#excited state choose b =  1000*b_h1j1_8d_k1[0]\n",
    "param1_h1j1_8d_zero_PBC = [ 6.05535923, -0.47543523,  3.61369112,  6.27813742]\n",
    "#excited state choose b =  10*b_h1j1_8d_k2[0]\n",
    "param2_h1j1_8d_zero_PBC = [1.57846359, 1.61562793, 1.78664846, 6.25988376]\n",
    "param3_h1j1_8d_zero_PBC = [4.27297846, 0.40149162, 4.23437136, 1.1583973 ]\n",
    "SPSA_E1_h1j1_8d_zero_PBC = [-7.503600000000002/8,-9.995800000000001/8,-5.145988158960004/8,-0.3737505319999992/8]\n",
    "\n",
    "param0_h1j1_10d_zero_PBC = [6.19935611e+00, 5.76897791e+00, 3.29442118e+00, 3.39636612e-03]\n",
    "#excited state choose b =  100*b_h1j1_8d_k1[0]\n",
    "param1_h1j1_10d_zero_PBC = [ 0.45863779, -2.88871338,  2.02616112, -0.00845631]\n",
    "#excited state choose b =  10*b_h1j1_8d_k1[0]\n",
    "param2_h1j1_10d_zero_PBC = [2.20323746, 1.54285324, 2.21154837, 6.26905303]\n",
    "param3_h1j1_10d_zero_PBC = [4.67704863, 1.0518099 , 4.91706635, 6.31054595]\n",
    "SPSA_E1_h1j1_10d_zero_PBC = [-12.477800000000006/10,-12.438200000000009/10,-8.697301427009997/10,-7.1770732251100515/10]\n"
   ]
  },
  {
   "cell_type": "code",
   "execution_count": 67,
   "metadata": {},
   "outputs": [],
   "source": [
    "\n",
    "param0_h1j1_2d_zero_PBC_noisy005 = [2.90379702, 0.55011953, 5.82865443, 1.55056009]\n",
    "#excited state choose b =  10*b_h1j1_4d_k1[0]\n",
    "param1_h1j1_2d_zero_PBC_noisy005 = [5.75910859, 3.20044886, 4.65605141, 3.16364798]\n",
    "#excited state choose b =  3*b_h1j1_4d_k2[0]\n",
    "param2_h1j1_2d_zero_PBC_noisy005 = [3.51181412, 0.41456848, 0.73926446, 4.70211027]\n",
    "#excited state choose b =  3*b_h1j1_4d_k3[0]\n",
    "param3_h1j1_2d_zero_PBC_noisy005 = [0.24618881, 2.66627399, 3.49244168, 1.53147343]\n",
    "SPSA_E1_h1j1_2d_zero_PBC_noisy005 = [-2.1260000000000003/2,-1.5590235306399993/2,3.7338264877119998/2,5.457367508880001/2]\n",
    "\n",
    "param0_h1j1_3d_zero_PBC_noisy005 = [ 5.86401002,  3.3939521 ,  3.32558492, -0.45318801]\n",
    "#excited state choose b =  100*b_h1j1_3d_k1[0]\n",
    "param1_h1j1_3d_zero_PBC_noisy005 = [-0.50491231,  2.99536078, -1.39568349,  6.24546053]\n",
    "#excited state choose b =  2,5*b_h1j1_3d_k2[0]\n",
    "param2_h1j1_3d_zero_PBC_noisy005 = [ 5.8566956 , -0.30630467,  4.06167638,  3.18450813]\n",
    "#excited state choose b =  2,5*b_h1j1_3d_k3[0]\n",
    "param3_h1j1_3d_zero_PBC_noisy005 = [3.01700103, 0.50421446, 2.8078342 , 3.097065  ]\n",
    "SPSA_E1_h1j1_3d_zero_PBC_noisy005 = [-3.1306000000000003/3,-3.3428431700819994/3,0.5663731682450006/3,0.6460218795849997/3]\n",
    "\n",
    "param0_h1j1_4d_zero_PBC_noisy005 = [3.52106241, 2.66393148, 3.83748607, 3.15069587]\n",
    "#excited state choose b =  10*b_h1j1_4d_k1[0]\n",
    "param1_h1j1_4d_zero_PBC_noisy005 = [2.64427585, 2.98044998, 1.82441609, 3.15453355]\n",
    "#excited state choose b =  10*b_h1j1_4d_k1[0]\n",
    "param2_h1j1_4d_zero_PBC_noisy005 = [2.61666484, 3.10755364, 1.64956903, 6.2727925 ]\n",
    "param3_h1j1_4d_zero_PBC_noisy005 = [-0.35858026,  3.53341019,  3.66559324,  2.99677361]\n",
    "SPSA_E1_h1j1_4d_zero_PBC_noisy005 = [-4.2414000000000005/4,-4.06882932504/4,-1.7556424047950019/4,-1.3252123747249995/4]\n",
    "\n",
    "param0_h1j1_6d_zero_PBC_noisy005 = [ 3.61996238,  3.48111905, -0.99898914,  3.16044962]\n",
    "#excited state choose b =  10*b_h1j1_6d_k1[0]\n",
    "param1_h1j1_6d_zero_PBC_noisy005 = [2.67867203, 6.36393931, 2.38932533, 3.4919268 ]\n",
    "#excited state choose b =  2.5*b_h1j1_6d_k2[0]\n",
    "param2_h1j1_6d_zero_PBC_noisy005 = [ 3.40156156,  5.82068617, -0.57010712, -0.01398148]\n",
    "param3_h1j1_6d_zero_PBC_noisy005 = [6.77720141, 3.32420442, 1.87532304, 3.11993766]\n",
    "SPSA_E1_h1j1_6d_zero_PBC_noisy005 = [-6.327200000000002/6,-6.789304962920001/6,-5.305198084817498/6,-4.948401260497498/6]\n",
    "\n",
    "param0_h1j1_8d_zero_PBC_noisy005 = [-0.34754023,  3.61790367,  3.77155952, -0.01538117]\n",
    "#excited state choose b =  10*b_h1j1_8d_k1[0] #b =  100*b_h1j1_8d_k1[0]\n",
    "param1_h1j1_8d_zero_PBC_noisy005 = [2.62891713, 0.12316639, 1.74342209, 3.12061187]#[-0.52102551,  3.25373983,  4.56639863,  3.18956338]\n",
    "#excited state choose b =  2.5*b_h1j1_8d_k2[0]\n",
    "param2_h1j1_8d_zero_PBC_noisy005 = [0.17924234, 0.48972938, 6.53489879, 0.06630828]\n",
    "#excited state choose b =  2.5*b_h1j1_8d_k3[0]\n",
    "param3_h1j1_8d_zero_PBC_noisy005 = [3.61264646, 2.92479289, 4.59325371, 6.1257044 ]\n",
    "SPSA_E1_h1j1_8d_zero_PBC_noisy005 = [-8.501399999999986/8,-9.50015076399999/8,-8.264730591584991/8,-8.014846231782503/8]#2:-5.371764543999985\n",
    "\n",
    "\n",
    "param0_h1j1_10d_zero_PBC_noisy005 = [3.16593601, 0.5870495 , 3.19702625, 3.14733032]\n",
    "#excited state choose b =  10*b_h1j1_10d_k1[0]\n",
    "param1_h1j1_10d_zero_PBC_noisy005 = [0.14249406, 0.49552168, 0.05262382, 6.41659017]\n",
    "#excited state choose b =  2.5*b_h1j1_10d_k2[0]\n",
    "param2_h1j1_10d_zero_PBC_noisy005 = [ 2.7725361 ,  2.76782303,  2.34409267, -0.00460241]\n",
    "#excited state choose b =  2.5*b_h1j1_10d_k3[0]\n",
    "param3_h1j1_10d_zero_PBC_noisy005 = [-0.50570681,  6.11008395, -1.85656161,  6.27613617]\n",
    "SPSA_E1_h1j1_10d_zero_PBC_noisy005 = [-10.63519999999997/10,-12.536199999999997/10,-10.710880376742471/10,-10.322271198514084/10]"
   ]
  },
  {
   "cell_type": "markdown",
   "metadata": {},
   "source": [
    "#  <center> <font color ='#4d4d33' size=\"7\"> Plots"
   ]
  },
  {
   "cell_type": "code",
   "execution_count": 120,
   "metadata": {},
   "outputs": [
    {
     "name": "stdout",
     "output_type": "stream",
     "text": [
      "[-5.22625186, -4.82842712, -2.1647844, -2.0] [-1.30656296 -1.20710678 -0.5411961  -0.5       ]\n"
     ]
    }
   ],
   "source": [
    "y_h1j1_4d_zero_th = [E_h1j1_4d_th['0'],E_h1j1_4d_th['1'],E_h1j1_4d_th['2'],E_h1j1_4d_th['3']]\n",
    "print(y_h1j1_4d_zero_th,np.array(y_h1j1_4d_zero_th)/4)"
   ]
  },
  {
   "cell_type": "code",
   "execution_count": 82,
   "metadata": {},
   "outputs": [
    {
     "data": {
      "image/png": "[encoded data removed]",
      "text/plain": [
       "<Figure size 1440x720 with 4 Axes>"
      ]
     },
     "metadata": {
      "needs_background": "light"
     },
     "output_type": "display_data"
    }
   ],
   "source": [
    "from matplotlib.ticker import MaxNLocator\n",
    "import matplotlib.pyplot\n",
    "\n",
    "fig, axs = plt.subplots(nrows=2,ncols=2, figsize=(20, 10))\n",
    "plt.subplots_adjust(hspace=0.5, wspace=0.35)\n",
    "fig.suptitle('SPSA PERIODIC BC\\nZERO State\\nEnergy/N vs excited state',fontsize=20)\n",
    "state = np.linspace(0,3,4)\n",
    "axs[0,0].title.set_text(\"h=1 J=1\")\n",
    "axs[0,0].title.set_size(20)\n",
    "y_h1j1_2d_zero = pd.Series(np.array(SPSA_E1_h1j1_2d_zero_PBC))\n",
    "y_h1j1_2d_zero_th = [E_h1j1_2d_th['0'],E_h1j1_2d_th['1'],E_h1j1_2d_th['2'],E_h1j1_2d_th['3']]\n",
    "y_h1j1_3d_zero = pd.Series(np.array(SPSA_E1_h1j1_3d_zero_PBC))\n",
    "y_h1j1_3d_zero_th = [E_h1j1_3d_th['0'],E_h1j1_3d_th['1'],E_h1j1_3d_th['2'],E_h1j1_3d_th['3']]\n",
    "y_h1j1_4d_zero = pd.Series(np.array(SPSA_E1_h1j1_4d_zero_PBC))\n",
    "y_h1j1_4d_zero_th = [E_h1j1_4d_th['0'],E_h1j1_4d_th['1'],E_h1j1_4d_th['2'],E_h1j1_4d_th['3']]\n",
    "y_h1j1_6d_zero = pd.Series(np.array(SPSA_E1_h1j1_6d_zero_PBC))\n",
    "y_h1j1_6d_zero_th = [E_h1j1_6d_th['0'],E_h1j1_6d_th['1'],E_h1j1_6d_th['2'],E_h1j1_6d_th['3']]\n",
    "y_h1j1_8d_zero = pd.Series(np.array(SPSA_E1_h1j1_8d_zero_PBC))\n",
    "y_h1j1_8d_zero_th = [E_h1j1_8d_th['0'],E_h1j1_8d_th['1'],E_h1j1_8d_th['2'],E_h1j1_8d_th['3']]\n",
    "y_h1j1_10d_zero = pd.Series(np.array(SPSA_E1_h1j1_10d_zero_PBC))\n",
    "y_h1j1_10d_zero_th = [E_h1j1_10d_th['0'],E_h1j1_10d_th['1'],E_h1j1_10d_th['2'],E_h1j1_10d_th['3']]\n",
    "\n",
    "axs[0,0].plot( state,y_h1j1_2d_zero,  linestyle='-', marker='o',color ='#80ff00' ,label = 'N=2')\n",
    "axs[0,0].plot(  state,np.array(y_h1j1_2d_zero_th)/2, linestyle='--', marker='*',color ='#80ff00' ,label = 'N=2 theory')\n",
    "axs[0,0].plot( state,y_h1j1_3d_zero,  linestyle='-', marker='o',color ='#ff6600' ,label = 'N=3')\n",
    "axs[0,0].plot(  state,np.array(y_h1j1_3d_zero_th)/3, linestyle='--', marker='*',color ='#ff6600' ,label = 'N=3 theory')\n",
    "axs[0,0].plot( state,y_h1j1_4d_zero,  linestyle='-', marker='o',color ='#b30000' ,label = 'N=4')\n",
    "axs[0,0].plot(  state,np.array(y_h1j1_4d_zero_th)/4, linestyle='--', marker='*',color ='#b30000' ,label = 'N=4 theory')\n",
    "axs[0,0].plot( state,y_h1j1_6d_zero,  linestyle='-', marker='o',color ='#fff600' ,label = 'N=6')\n",
    "axs[0,0].plot(  state,np.array(y_h1j1_6d_zero_th)/6, linestyle='--', marker='*',color ='#fff600' ,label = 'N=6 theory')\n",
    "axs[0,0].plot( state,y_h1j1_8d_zero,  linestyle='-', marker='o',color ='#0099ff' ,label = 'N=8')\n",
    "axs[0,0].plot(  state,np.array(y_h1j1_8d_zero_th)/8, linestyle='--', marker='*',color ='#0099ff' ,label = 'N=8 theory')\n",
    "axs[0,0].plot( state,y_h1j1_10d_zero,  linestyle='-', marker='o',color ='#006600' ,label = 'N=10')\n",
    "axs[0,0].plot(  state,np.array(y_h1j1_10d_zero_th)/10, linestyle='--', marker='*',color ='#006600' ,label = 'N=10 theory')\n",
    "\n",
    "# axs[0,0].plot( y_h1j1_n12_const, depth, linestyle='-', marker='*',color ='#80ff00',label = '12 qubits const')\n",
    "# axs[0,0].plot( y_h1j1_n12_tigh, depth, linestyle='-', marker='*',color ='#ff6600',label = '4 qubits tight')\n",
    "# axs[0,0].plot( y_h1j1_n4_const, depth, linestyle='-', marker='>',color ='#fff600',label = '4 qubits const')\n",
    "\n",
    "axs[0,0].legend(shadow=False,framealpha=0.3, ncol=3,fancybox=True)\n",
    "axs[0,0].grid()\n",
    "\n",
    "axs[0,1].title.set_text(\"h=1 J=1 5% Noise\")\n",
    "axs[0,1].title.set_size(20)\n",
    "y_h1j1_2d_zero_noisy005 = pd.Series(np.array(SPSA_E1_h1j1_2d_zero_PBC_noisy005))\n",
    "y_h1j1_3d_zero_noisy005 = pd.Series(np.array(SPSA_E1_h1j1_3d_zero_PBC_noisy005))\n",
    "y_h1j1_4d_zero_noisy005 = pd.Series(np.array(SPSA_E1_h1j1_4d_zero_PBC_noisy005))\n",
    "y_h1j1_6d_zero_noisy005 = pd.Series(np.array(SPSA_E1_h1j1_6d_zero_PBC_noisy005))\n",
    "y_h1j1_8d_zero_noisy005 = pd.Series(np.array(SPSA_E1_h1j1_8d_zero_PBC_noisy005))\n",
    "y_h1j1_10d_zero_noisy005 = pd.Series(np.array(SPSA_E1_h1j1_10d_zero_PBC_noisy005))\n",
    "\n",
    "\n",
    "axs[0,1].plot( state,y_h1j1_2d_zero_noisy005,  linestyle='-', marker='o',color ='#80ff00' ,label = 'N=2')\n",
    "axs[0,1].plot(  state,np.array(y_h1j1_2d_zero_th)/2, linestyle='--', marker='*',color ='#80ff00' ,label = 'N=2 theory')\n",
    "axs[0,1].plot( state,y_h1j1_3d_zero_noisy005,  linestyle='-', marker='o',color ='#ff6600' ,label = 'N=3')\n",
    "axs[0,1].plot(  state,np.array(y_h1j1_3d_zero_th)/3, linestyle='--', marker='*',color ='#ff6600' ,label = 'N=3 theory')\n",
    "axs[0,1].plot( state,y_h1j1_4d_zero_noisy005,  linestyle='-', marker='o',color ='#b30000' ,label = 'N=4')\n",
    "axs[0,1].plot(  state,np.array(y_h1j1_4d_zero_th)/4, linestyle='--', marker='*',color ='#b30000' ,label = 'N=4 theory')\n",
    "axs[0,1].plot( state,y_h1j1_6d_zero_noisy005,  linestyle='-', marker='o',color ='#fff600' ,label = 'N=6')\n",
    "axs[0,1].plot(  state,np.array(y_h1j1_6d_zero_th)/6, linestyle='--', marker='*',color ='#fff600' ,label = 'N=6 theory')\n",
    "axs[0,1].plot( state,y_h1j1_8d_zero_noisy005,  linestyle='-', marker='o',color ='#0099ff' ,label = 'N=8')\n",
    "axs[0,1].plot(  state,np.array(y_h1j1_8d_zero_th)/8, linestyle='--', marker='*',color ='#0099ff' ,label = 'N=8 theory')\n",
    "axs[0,1].plot( state,y_h1j1_10d_zero_noisy005,  linestyle='-', marker='o',color ='#006600' ,label = 'N=10')\n",
    "axs[0,1].plot(  state,np.array(y_h1j1_10d_zero_th)/10, linestyle='--', marker='*',color ='#006600' ,label = 'N=10 theory')\n",
    "axs[0,1].legend(shadow=False,framealpha=0.3, ncol=3,fancybox=True)\n",
    "axs[0,1].grid()\n",
    "\n",
    "axs[1,0].title.set_text(\"h=1 J=1 N=2 closer look\")\n",
    "axs[1,0].title.set_size(20)\n",
    "axs[1,0].plot( state,y_h1j1_2d_zero,  linestyle='--', marker='o',color ='#003300' ,label = 'N=2')\n",
    "axs[1,0].plot( state,y_h1j1_2d_zero_noisy005,  linestyle='-.', marker='<',color ='#003300' ,label = 'N=2 noise 5%')\n",
    "axs[1,0].plot(  state,np.array(y_h1j1_2d_zero_th)/2, linestyle=':', marker='*',color ='#003300' ,label = 'N=2 theory')\n",
    "axs[1,0].legend(shadow=False,framealpha=0.3, ncol=3,fancybox=True)\n",
    "axs[1,0].grid()\n",
    "\n",
    "axs[1,1].title.set_text(\"h=1 J=1 N=4 closer look\")\n",
    "axs[1,1].title.set_size(20)\n",
    "axs[1,1].plot( state,y_h1j1_4d_zero,  linestyle='--', marker='o',color ='#800000' ,label = 'N=4')\n",
    "axs[1,1].plot( state,y_h1j1_4d_zero_noisy005,  linestyle='-.', marker='<',color ='#800000' ,label = 'N=4 noise 5%')\n",
    "axs[1,1].plot(  state,np.array(y_h1j1_4d_zero_th)/4, linestyle=':', marker='*',color ='#800000' ,label = 'N=4 theory')\n",
    "axs[1,1].legend(shadow=False,framealpha=0.3, ncol=3,fancybox=True)\n",
    "axs[1,1].grid()\n",
    "\n",
    "for ax in axs.flat:\n",
    "    ax.xaxis.set_major_locator(MaxNLocator(integer=True))\n",
    "    ax.set(xlabel='Excited State', ylabel='Energy/N')\n",
    "    ax.yaxis.label.set_size(15)\n",
    "    ax.xaxis.label.set_size(15)\n",
    "    ax.yaxis.set_major_locator(MaxNLocator(integer=True))"
   ]
  },
  {
   "cell_type": "code",
   "execution_count": 21,
   "metadata": {},
   "outputs": [
    {
     "name": "stdout",
     "output_type": "stream",
     "text": [
      "<class 'str'>\n",
      "array(dict_values([-2.82842712, -2, 2, 2.82842712]), dtype=object)\n"
     ]
    }
   ],
   "source": [
    "import numpy as np\n",
    "E_h1j1_2d_th = {'0':-2.82842712,'1':-2,'2':2,'3':2.82842712}\n",
    "the_values = np.array(E_h1j1_2d_th.values())\n",
    "print(type(repr(the_values)))\n",
    "print(repr(the_values))"
   ]
  },
  {
   "cell_type": "code",
   "execution_count": null,
   "metadata": {},
   "outputs": [],
   "source": []
  }
 ],
 "metadata": {
  "kernelspec": {
   "display_name": "Python 3",
   "language": "python",
   "name": "python3"
  },
  "language_info": {
   "codemirror_mode": {
    "name": "ipython",
    "version": 3
   },
   "file_extension": ".py",
   "mimetype": "text/x-python",
   "name": "python",
   "nbconvert_exporter": "python",
   "pygments_lexer": "ipython3",
   "version": "3.8.1"
  }
 },
 "nbformat": 4,
 "nbformat_minor": 2
}
